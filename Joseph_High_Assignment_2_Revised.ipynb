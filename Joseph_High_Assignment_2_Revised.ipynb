{
 "cells": [
  {
   "cell_type": "markdown",
   "metadata": {},
   "source": [
    "# Assignment 2\n",
    "##### Joseph High\n",
    "##### UNI: jph2185"
   ]
  },
  {
   "cell_type": "code",
   "execution_count": 1,
   "metadata": {},
   "outputs": [],
   "source": [
    "import requests\n",
    "import json"
   ]
  },
  {
   "cell_type": "code",
   "execution_count": 2,
   "metadata": {},
   "outputs": [],
   "source": [
    "#My api_key\n",
    "with open(\"./places_api_key.txt\",'r') as f:\n",
    "    api_key = f.read().strip()"
   ]
  },
  {
   "cell_type": "code",
   "execution_count": 5,
   "metadata": {},
   "outputs": [],
   "source": [
    "def get_businesses(query,api_key,min_rating=0.0,max_results=30):\n",
    "        response_data = '' #string to store JSON data\n",
    "        url='https://maps.googleapis.com/maps/api/place/textsearch/json?query=%s&key=%s' % (query,api_key)\n",
    "\n",
    "        try:\n",
    "            response = requests.get(url)\n",
    "            if not response.status_code == 200:\n",
    "                print(\"HTTP error\",response.status_code)\n",
    "            else:\n",
    "                try:\n",
    "                    response_data = response.json()\n",
    "                except:\n",
    "                    print(\"Response not in valid JSON format\")\n",
    "        except:\n",
    "            print(\"Something went wrong with requests.get\")\n",
    "\n",
    "        ## If applicable, obtaining data on next page(s) (pagination)\n",
    "        while len(response_data['results']) <= max_results:\n",
    "            if max_results > 20 and response_data['next_page_token']:\n",
    "                new_resp_data = ''\n",
    "                next_page_token = response_data['next_page_token']\n",
    "                new_url=\"https://maps.googleapis.com/maps/api/place/textsearch/json?pagetoken=%s&key=%s\" % (next_page_token,api_key)\n",
    "\n",
    "                ## Pausing script to give time for next page:\n",
    "                response = requests.get(new_url)\n",
    "                while response.json().get('status') != 'OK':\n",
    "                    from time import sleep\n",
    "                    from random import random\n",
    "                    sleep(random())\n",
    "                    response = requests.get(new_url)\n",
    "                    new_resp_data = response.json()\n",
    "\n",
    "                response_data['results'].extend(new_resp_data['results'])  #augment results with new results on next page\n",
    "            else:\n",
    "                break\n",
    "        \n",
    "        businesses=[]  #define empty list to store restaurants that fit the input parameters\n",
    "        ## Only display restaurants with ratings above the min_rating argument\n",
    "        for biz in response_data['results']:\n",
    "            if biz['rating'] >= min_rating:\n",
    "                try: \n",
    "                    biz['price_level']\n",
    "                except:\n",
    "                    biz['price_level'] = None\n",
    "                businesses.append((biz['name'],biz['formatted_address'],biz['opening_hours'],biz['price_level'],biz['rating']))\n",
    "        \n",
    "        restaurants=[]  #using new list to ensure the correct number of restaurants are returned\n",
    "        if len(businesses) > max_results:\n",
    "            restaurants = businesses[:max_results]\n",
    "        else:\n",
    "            restaurants = businesses\n",
    "        return restaurants"
   ]
  },
  {
   "cell_type": "code",
   "execution_count": 6,
   "metadata": {},
   "outputs": [
    {
     "ename": "TypeError",
     "evalue": "string indices must be integers",
     "output_type": "error",
     "traceback": [
      "\u001b[0;31m---------------------------------------------------------------------------\u001b[0m",
      "\u001b[0;31mTypeError\u001b[0m                                 Traceback (most recent call last)",
      "\u001b[0;32m<ipython-input-6-19139c17345c>\u001b[0m in \u001b[0;36m<module>\u001b[0;34m\u001b[0m\n\u001b[0;32m----> 1\u001b[0;31m \u001b[0mget_businesses\u001b[0m\u001b[0;34m(\u001b[0m\u001b[0;34m'restaurants near Columbia University'\u001b[0m\u001b[0;34m,\u001b[0m \u001b[0mapi_key\u001b[0m\u001b[0;34m,\u001b[0m \u001b[0mmin_rating\u001b[0m\u001b[0;34m=\u001b[0m\u001b[0;36m3.5\u001b[0m\u001b[0;34m,\u001b[0m \u001b[0mmax_results\u001b[0m\u001b[0;34m=\u001b[0m\u001b[0;36m60\u001b[0m\u001b[0;34m)\u001b[0m\u001b[0;34m\u001b[0m\u001b[0;34m\u001b[0m\u001b[0m\n\u001b[0m",
      "\u001b[0;32m<ipython-input-5-f100c2aa81dc>\u001b[0m in \u001b[0;36mget_businesses\u001b[0;34m(query, api_key, min_rating, max_results)\u001b[0m\n\u001b[1;32m     31\u001b[0m                     \u001b[0mnew_resp_data\u001b[0m \u001b[0;34m=\u001b[0m \u001b[0mresponse\u001b[0m\u001b[0;34m.\u001b[0m\u001b[0mjson\u001b[0m\u001b[0;34m(\u001b[0m\u001b[0;34m)\u001b[0m\u001b[0;34m\u001b[0m\u001b[0;34m\u001b[0m\u001b[0m\n\u001b[1;32m     32\u001b[0m \u001b[0;34m\u001b[0m\u001b[0m\n\u001b[0;32m---> 33\u001b[0;31m                 \u001b[0mresponse_data\u001b[0m\u001b[0;34m[\u001b[0m\u001b[0;34m'results'\u001b[0m\u001b[0;34m]\u001b[0m\u001b[0;34m.\u001b[0m\u001b[0mextend\u001b[0m\u001b[0;34m(\u001b[0m\u001b[0mnew_resp_data\u001b[0m\u001b[0;34m[\u001b[0m\u001b[0;34m'results'\u001b[0m\u001b[0;34m]\u001b[0m\u001b[0;34m)\u001b[0m  \u001b[0;31m#augment results with new results on next page\u001b[0m\u001b[0;34m\u001b[0m\u001b[0;34m\u001b[0m\u001b[0m\n\u001b[0m\u001b[1;32m     34\u001b[0m             \u001b[0;32melse\u001b[0m\u001b[0;34m:\u001b[0m\u001b[0;34m\u001b[0m\u001b[0;34m\u001b[0m\u001b[0m\n\u001b[1;32m     35\u001b[0m                 \u001b[0;32mbreak\u001b[0m\u001b[0;34m\u001b[0m\u001b[0;34m\u001b[0m\u001b[0m\n",
      "\u001b[0;31mTypeError\u001b[0m: string indices must be integers"
     ]
    }
   ],
   "source": [
    "get_businesses('restaurants near Columbia University', api_key, min_rating=3.5, max_results=60)"
   ]
  },
  {
   "cell_type": "code",
   "execution_count": null,
   "metadata": {},
   "outputs": [],
   "source": [
    "len(get_businesses('restaurants near Columbia University', api_key, min_rating=3.5, max_results=60))"
   ]
  },
  {
   "cell_type": "code",
   "execution_count": null,
   "metadata": {},
   "outputs": [],
   "source": []
  }
 ],
 "metadata": {
  "kernelspec": {
   "display_name": "Python 3",
   "language": "python",
   "name": "python3"
  },
  "language_info": {
   "codemirror_mode": {
    "name": "ipython",
    "version": 3
   },
   "file_extension": ".py",
   "mimetype": "text/x-python",
   "name": "python",
   "nbconvert_exporter": "python",
   "pygments_lexer": "ipython3",
   "version": "3.8.8"
  }
 },
 "nbformat": 4,
 "nbformat_minor": 4
}
