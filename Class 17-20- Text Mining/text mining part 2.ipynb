{
 "cells": [
  {
   "cell_type": "markdown",
   "metadata": {},
   "source": [
    "<h1>Text Summarization, Document Similarity, Topic Analysis</h1>"
   ]
  },
  {
   "cell_type": "code",
   "execution_count": 1,
   "metadata": {},
   "outputs": [],
   "source": [
    "import warnings\n",
    "warnings.filterwarnings('ignore')"
   ]
  },
  {
   "cell_type": "markdown",
   "metadata": {},
   "source": [
    "<h2>Prepare restaurant corpus</h2>"
   ]
  },
  {
   "cell_type": "code",
   "execution_count": 2,
   "metadata": {},
   "outputs": [],
   "source": [
    "import nltk\n",
    "from nltk.corpus import PlaintextCorpusReader\n",
    "community_root = \"/home/uday/Documents/Columbia_University/DataAnalytics-Fall2019/Week 6: text mining/data/community\"\n",
    "le_monde_root = \"/home/uday/Documents/Columbia_University/DataAnalytics-Fall2019/Week 6: text mining/data/le_monde\"\n",
    "community_files = \"community.*\"\n",
    "le_monde_files = \"le_monde.*\"\n",
    "shakeshack_root = \"/home/uday/Documents/Columbia_University/DataAnalytics-Fall2019/Week 6: text mining/data/shakeshack\"\n",
    "shakeshack_files = \"shakeshack.*\"\n",
    "fiveguys_root = \"/home/uday/Documents/Columbia_University/DataAnalytics-Fall2019/Week 6: text mining/data/fiveguys\"\n",
    "fiveguys_files = \"fiveguys.*\"\n",
    "community_data = PlaintextCorpusReader(community_root,community_files)\n",
    "le_monde_data = PlaintextCorpusReader(le_monde_root,le_monde_files)\n",
    "shakeshack_data = PlaintextCorpusReader(shakeshack_root,shakeshack_files)\n",
    "fiveguys_data = PlaintextCorpusReader(fiveguys_root,fiveguys_files)\n",
    "restaurant_data = [('community',community_data.raw()),('le monde',le_monde_data.raw())\n",
    "                  ,('shakeshack',shakeshack_data.raw()), ('fiveguys',fiveguys_data.raw())]"
   ]
  },
  {
   "cell_type": "markdown",
   "metadata": {},
   "source": [
    "<h2>Import nltk corpora</h2>"
   ]
  },
  {
   "cell_type": "code",
   "execution_count": 3,
   "metadata": {},
   "outputs": [
    {
     "name": "stdout",
     "output_type": "stream",
     "text": [
      "*** Introductory Examples for the NLTK Book ***\n",
      "Loading text1, ..., text9 and sent1, ..., sent9\n",
      "Type the name of the text or sentence to view it.\n",
      "Type: 'texts()' or 'sents()' to list the materials.\n",
      "text1: Moby Dick by Herman Melville 1851\n",
      "text2: Sense and Sensibility by Jane Austen 1811\n",
      "text3: The Book of Genesis\n",
      "text4: Inaugural Address Corpus\n",
      "text5: Chat Corpus\n",
      "text6: Monty Python and the Holy Grail\n",
      "text7: Wall Street Journal\n",
      "text8: Personals Corpus\n",
      "text9: The Man Who Was Thursday by G . K . Chesterton 1908\n"
     ]
    }
   ],
   "source": [
    "from nltk.book import *"
   ]
  },
  {
   "cell_type": "markdown",
   "metadata": {},
   "source": [
    "<h2>Load the inaugural address corpus</h2>"
   ]
  },
  {
   "cell_type": "code",
   "execution_count": 4,
   "metadata": {},
   "outputs": [],
   "source": [
    "all_addresses = list()\n",
    "for file in inaugural.fileids():\n",
    "    all_addresses.append((file,inaugural.raw(file)))\n"
   ]
  },
  {
   "cell_type": "markdown",
   "metadata": {},
   "source": [
    "<h2>Text summarization</h2>\n",
    "<li>Text summarization is useful because you can generate a short summary of a large piece of text automatically\n",
    "<li>Then, these summaries can serve as an input into a topic analyzer to figure out what the main topic of the text is\n",
    "<li>Text summarization typically selects \"important\" sentences and reports these sentences as a summary"
   ]
  },
  {
   "cell_type": "markdown",
   "metadata": {},
   "source": [
    "A naive form of summarization is to identify the most frequent words in a piece of text and use the occurrence of these words in sentences to rate the importance of a sentence. "
   ]
  },
  {
   "cell_type": "markdown",
   "metadata": {},
   "source": [
    "<h4>First the imports</h4>"
   ]
  },
  {
   "cell_type": "code",
   "execution_count": 5,
   "metadata": {},
   "outputs": [],
   "source": [
    "from nltk.tokenize import word_tokenize\n",
    "from nltk.tokenize import sent_tokenize\n",
    "from nltk.probability import FreqDist\n",
    "from nltk.corpus import stopwords\n",
    "from collections import OrderedDict\n",
    "import pprint"
   ]
  },
  {
   "cell_type": "markdown",
   "metadata": {},
   "source": [
    "<h4>Then prep the text. Get did of end of line chars</h4>"
   ]
  },
  {
   "cell_type": "code",
   "execution_count": 6,
   "metadata": {},
   "outputs": [],
   "source": [
    "text = community_data.raw()\n",
    "striptext = text.replace('\\n\\n', ' ')\n",
    "striptext = striptext.replace('\\n', ' ')"
   ]
  },
  {
   "cell_type": "markdown",
   "metadata": {},
   "source": [
    "<h4>Construct a list of words after getting rid of unimportant ones and numbers</h4>"
   ]
  },
  {
   "cell_type": "code",
   "execution_count": 7,
   "metadata": {},
   "outputs": [],
   "source": [
    "words = word_tokenize(striptext)\n",
    "lowercase_words = [word.lower() for word in words\n",
    "                  if word not in stopwords.words() and word.isalpha()]\n"
   ]
  },
  {
   "cell_type": "markdown",
   "metadata": {},
   "source": [
    "<h4>Construct word frequencies and choose the most common n (20)</h4>"
   ]
  },
  {
   "cell_type": "code",
   "execution_count": 8,
   "metadata": {},
   "outputs": [
    {
     "name": "stdout",
     "output_type": "stream",
     "text": [
      "[   ('i', 73),\n",
      "    ('the', 46),\n",
      "    ('food', 20),\n",
      "    ('brunch', 20),\n",
      "    ('good', 19),\n",
      "    ('place', 15),\n",
      "    ('nice', 13),\n",
      "    ('ordered', 13),\n",
      "    ('pancakes', 13),\n",
      "    ('fresh', 13),\n",
      "    ('came', 13),\n",
      "    ('my', 12),\n",
      "    ('coffee', 12),\n",
      "    ('delicious', 12),\n",
      "    ('we', 10),\n",
      "    ('community', 10),\n",
      "    ('eggs', 10),\n",
      "    ('friend', 10),\n",
      "    ('one', 10),\n",
      "    ('get', 9)]\n"
     ]
    }
   ],
   "source": [
    "word_frequencies = FreqDist(lowercase_words)\n",
    "most_frequent_words = FreqDist(lowercase_words).most_common(20)\n",
    "pp = pprint.PrettyPrinter(indent=4)\n",
    "pp.pprint(most_frequent_words)"
   ]
  },
  {
   "cell_type": "markdown",
   "metadata": {},
   "source": [
    "<h4>Initializations</h4>\n",
    "<li>candidate_sentences is a dictionary with the original sentence as the key, and its lowercase version as the value\n",
    "<li>summary_sentences is a list containing the sentences that will be included in the summary\n",
    "<li>candidate_sentence_counts is a dictionary with the original sentence as the key, and the sum of the frequencies of each word in the sentence as the value\n"
   ]
  },
  {
   "cell_type": "code",
   "execution_count": 9,
   "metadata": {},
   "outputs": [],
   "source": [
    "summary_sentences = []\n",
    "candidate_sentences = {}\n",
    "candidate_sentence_counts = {}"
   ]
  },
  {
   "cell_type": "code",
   "execution_count": 10,
   "metadata": {},
   "outputs": [
    {
     "data": {
      "text/plain": [
       "{'\"I have a degree from Columbia, and now I have to get one from America.\"': '\"i have a degree from columbia, and now i have to get one from america.\"',\n",
       " '- Jeff Winger, Community.': '- jeff winger, community.',\n",
       " '- The truffle egg dish: had sausage, potatoes, some leafy greens, sautéed mushrooms, and poached egg on top.': '- the truffle egg dish: had sausage, potatoes, some leafy greens, sautéed mushrooms, and poached egg on top.',\n",
       " '- Troy Barnes Man I love that show.': '- troy barnes man i love that show.',\n",
       " '-7 grains waffle: had vanilla cream, raspberry, cherry, and toasted nuts.': '-7 grains waffle: had vanilla cream, raspberry, cherry, and toasted nuts.',\n",
       " '15 minuets wait for the wait staff, 45 minuets before we got the wrong dish!': '15 minuets wait for the wait staff, 45 minuets before we got the wrong dish!',\n",
       " '2 HOURS AND NO FOOD!': '2 hours and no food!',\n",
       " \"A man came over to the table and filled our waters but didn't introduce himself as our waiter so I wasn't sure if he was the busboy or the waiter; regardless, he took our drink order.\": \"a man came over to the table and filled our waters but didn't introduce himself as our waiter so i wasn't sure if he was the busboy or the waiter; regardless, he took our drink order.\",\n",
       " 'All and all a solid meal, the burger was a wee bit dry, but cooked to my specifications (medium rare).': 'all and all a solid meal, the burger was a wee bit dry, but cooked to my specifications (medium rare).',\n",
       " 'All in all, a pleasant experience with nice service and nice company.': 'all in all, a pleasant experience with nice service and nice company.',\n",
       " 'All the food was amazing.': 'all the food was amazing.',\n",
       " 'Also GREAT FOR GLUTEN FREE!': 'also great for gluten free!',\n",
       " \"Also super close to Colombia's main campus, great place to walk around and digest.\": \"also super close to colombia's main campus, great place to walk around and digest.\",\n",
       " \"Although we thought the veggie burger could've used another flavor component.\": \"although we thought the veggie burger could've used another flavor component.\",\n",
       " 'Although you really have to spring ti get in, since there are very big lines to eat.': 'although you really have to spring ti get in, since there are very big lines to eat.',\n",
       " 'And the carrot hash browns were yummy too!': 'and the carrot hash browns were yummy too!',\n",
       " 'As per her request, they put less goat cheese.': 'as per her request, they put less goat cheese.',\n",
       " \"Awesome bar alongside, but we didn't patronize it.\": \"awesome bar alongside, but we didn't patronize it.\",\n",
       " \"Bill came up to be around 50, which isn't exactly cheap considering how small the portions are- but justifiable still due to the taste.\": \"bill came up to be around 50, which isn't exactly cheap considering how small the portions are- but justifiable still due to the taste.\",\n",
       " 'Bottomless coffee was standard.': 'bottomless coffee was standard.',\n",
       " 'Came here for brunch with my wife after she found the good review, and it did not disappoint!': 'came here for brunch with my wife after she found the good review, and it did not disappoint!',\n",
       " 'Came on Sunday near 1pm and it was VERY busy, ended up waiting an hour and a half (1 hour more than we were told) however, the food was ah-mazing.': 'came on sunday near 1pm and it was very busy, ended up waiting an hour and a half (1 hour more than we were told) however, the food was ah-mazing.',\n",
       " \"Cheaper brunch cocktails than most places (only $10....but yes, it is nyc where most are $14+) if I have one recommendation, it's the POTATO PANCAKES!!!\": \"cheaper brunch cocktails than most places (only $10....but yes, it is nyc where most are $14+) if i have one recommendation, it's the potato pancakes!!!\",\n",
       " \"Community Food & Juice is literally a few blocks away, so it's perfect for students.\": \"community food & juice is literally a few blocks away, so it's perfect for students.\",\n",
       " 'Community is a brunch place next to Columbia.': 'community is a brunch place next to columbia.',\n",
       " 'Community is definitely one of my favorite, non-boozy brunch spots in the UWS/Morningside!': 'community is definitely one of my favorite, non-boozy brunch spots in the uws/morningside!',\n",
       " 'Despite the 3.5 stars I was pleasantly surprised at the food here.': 'despite the 3.5 stars i was pleasantly surprised at the food here.',\n",
       " 'Details of the food, including the presentation of each dish.': 'details of the food, including the presentation of each dish.',\n",
       " 'Dinner looked pretty...and that was all.': 'dinner looked pretty...and that was all.',\n",
       " 'Dinner on Tuesday, usually a quiet affair, but given that Community is one of few good spots on Broadway for a good sit down, even at 6:30 p.m. it was bumping.': 'dinner on tuesday, usually a quiet affair, but given that community is one of few good spots on broadway for a good sit down, even at 6:30 p.m. it was bumping.',\n",
       " 'Disclaimer: I like diner food but it is almost always to greasy which I hate, but this place has very fresh and carefully prepared food.': 'disclaimer: i like diner food but it is almost always to greasy which i hate, but this place has very fresh and carefully prepared food.',\n",
       " 'Down to the last drop - it was smooth, nutty, and not bitter even cold.': 'down to the last drop - it was smooth, nutty, and not bitter even cold.',\n",
       " 'During the whole time, not one waiter came over to encourage us to pay our bill and leave.': 'during the whole time, not one waiter came over to encourage us to pay our bill and leave.',\n",
       " 'Even though it was packed service was very good.': 'even though it was packed service was very good.',\n",
       " 'Even though they were super busy, they were able to seat us right away, and our food came in a timely manner.': 'even though they were super busy, they were able to seat us right away, and our food came in a timely manner.',\n",
       " 'Everyone is super friendly and accommodating vegetarian requests!': 'everyone is super friendly and accommodating vegetarian requests!',\n",
       " 'Everything looks and sounds good and this place smells like heaven.': 'everything looks and sounds good and this place smells like heaven.',\n",
       " 'Everything was awesome.': 'everything was awesome.',\n",
       " 'Excellent menu!': 'excellent menu!',\n",
       " 'Flor de Cana aged white rum, fresh lime juice, shiso-mint simple syrup, yuzu splash, muddled mint, and crushed ice made up the drink that Jeff Winger would have called a \"kid\\'s drink\".': 'flor de cana aged white rum, fresh lime juice, shiso-mint simple syrup, yuzu splash, muddled mint, and crushed ice made up the drink that jeff winger would have called a \"kid\\'s drink\".',\n",
       " 'Had the spinach been softer, this would have been more enjoyable to eat.': 'had the spinach been softer, this would have been more enjoyable to eat.',\n",
       " 'Having seen the title of this place, I did expect somewhere a little cosier, trendier, more rustic and more inviting.': 'having seen the title of this place, i did expect somewhere a little cosier, trendier, more rustic and more inviting.',\n",
       " 'He had the pancakes and said they were the best he had in the city.': 'he had the pancakes and said they were the best he had in the city.',\n",
       " 'He loved it!': 'he loved it!',\n",
       " 'His eggs were sunny side up, and perfectly runny.': 'his eggs were sunny side up, and perfectly runny.',\n",
       " 'However, the spinach although cooked well, kind of took away from the dish.': 'however, the spinach although cooked well, kind of took away from the dish.',\n",
       " 'I accidentally left my headphones, called to ask if it was found, and fetched them the day later.': 'i accidentally left my headphones, called to ask if it was found, and fetched them the day later.',\n",
       " 'I also got a shiso mojito which sounds fancy--and it better be for the $11 I paid for it.': 'i also got a shiso mojito which sounds fancy--and it better be for the $11 i paid for it.',\n",
       " 'I also tried my first ever bloody mary, and it was really good.': 'i also tried my first ever bloody mary, and it was really good.',\n",
       " 'I am gluten/dairy intolerant and they were able to fully accommodate me.': 'i am gluten/dairy intolerant and they were able to fully accommodate me.',\n",
       " 'I ate here Monday night for a working dinner with a coworker.': 'i ate here monday night for a working dinner with a coworker.',\n",
       " 'I came here on a Saturday morning with one of my friends without a reservation around 10:30 am and luckily we were seated outside right away.': 'i came here on a saturday morning with one of my friends without a reservation around 10:30 am and luckily we were seated outside right away.',\n",
       " 'I came here one day to meet up with my cousin who studies at Columbia.': 'i came here one day to meet up with my cousin who studies at columbia.',\n",
       " 'I came here with a friend - we were seated promptly and service was attentive.': 'i came here with a friend - we were seated promptly and service was attentive.',\n",
       " 'I came here with my friend who also is a huge fan of the show \"Community\", which used to be aired on NBC then got cancelled and then re-birthed on Yahoo!': 'i came here with my friend who also is a huge fan of the show \"community\", which used to be aired on nbc then got cancelled and then re-birthed on yahoo!',\n",
       " \"I don't know what I was expecting.\": \"i don't know what i was expecting.\",\n",
       " \"I don't normally drink coffee, but I would have had a whole cup of it had I not ordered the hot chocolate, which was also delicious.\": \"i don't normally drink coffee, but i would have had a whole cup of it had i not ordered the hot chocolate, which was also delicious.\",\n",
       " 'I gave this place four stars instead of five because of the consistency of the spinach in the eggs benedict florentine.': 'i gave this place four stars instead of five because of the consistency of the spinach in the eggs benedict florentine.',\n",
       " 'I had the special of 2 fried eggs, vegetable ragout, bacon and truffle vinaigrette and it was Delish.': 'i had the special of 2 fried eggs, vegetable ragout, bacon and truffle vinaigrette and it was delish.',\n",
       " \"I immediately saw its reason for name, beyond the owner's fandom of the show of the same name: the tablet setup are nearly all communal long tables.\": \"i immediately saw its reason for name, beyond the owner's fandom of the show of the same name: the tablet setup are nearly all communal long tables.\",\n",
       " 'I ordered a mimosa, which was pretty good, and my friend ordered a coffee which was served in a huge mug.': 'i ordered a mimosa, which was pretty good, and my friend ordered a coffee which was served in a huge mug.',\n",
       " 'I ordered the Country Breakfast and the eggs were delicious and fluffy, the biscuit was moist and flavorful, the carrot hash browns were warm and comforting, and the ham was sweet and juicy.': 'i ordered the country breakfast and the eggs were delicious and fluffy, the biscuit was moist and flavorful, the carrot hash browns were warm and comforting, and the ham was sweet and juicy.',\n",
       " \"I ordered the beef burger which was very juicy, perfectly lean, well sauced, cooked as desired (medium-well, for those who wonder), and paired with a dill pickle, a handmade cole slaw that lacked mayo (which is good as mayo's pure trans-fat), and a spindle of fries.\": \"i ordered the beef burger which was very juicy, perfectly lean, well sauced, cooked as desired (medium-well, for those who wonder), and paired with a dill pickle, a handmade cole slaw that lacked mayo (which is good as mayo's pure trans-fat), and a spindle of fries.\",\n",
       " 'I ordered the eggs benedict florentine.': 'i ordered the eggs benedict florentine.',\n",
       " \"I really like how it wasn't hard and overly sweet- especially how the toasted nuts added a level of crunchiness to the heaviness of the cream.\": \"i really like how it wasn't hard and overly sweet- especially how the toasted nuts added a level of crunchiness to the heaviness of the cream.\",\n",
       " 'I really like the hanging lights from the ceiling which is quite cute.': 'i really like the hanging lights from the ceiling which is quite cute.',\n",
       " 'I recommend you seek them out.': 'i recommend you seek them out.',\n",
       " 'I started with a raspberry iced tea & ordered the community custom egg white omelette with sautéed spinach & mushrooms and a side of smoked salmon.': 'i started with a raspberry iced tea & ordered the community custom egg white omelette with sautéed spinach & mushrooms and a side of smoked salmon.',\n",
       " 'I thought it was delicious!': 'i thought it was delicious!',\n",
       " 'I used some of the chive cream cheese on the toast that came with the eggs - highly recommend asking for some on the side!': 'i used some of the chive cream cheese on the toast that came with the eggs - highly recommend asking for some on the side!',\n",
       " 'I wanted to order everything off the menu, but settled on the juevos rancheros with side of carrot hash browns, and biscuit.': 'i wanted to order everything off the menu, but settled on the juevos rancheros with side of carrot hash browns, and biscuit.',\n",
       " 'I was not a big fan of the sausage that was served with it and would much more have preferred bacon but overall it was good.': 'i was not a big fan of the sausage that was served with it and would much more have preferred bacon but overall it was good.',\n",
       " 'I went with my mom and my brother.': 'i went with my mom and my brother.',\n",
       " 'I wish I had ordered that instead.': 'i wish i had ordered that instead.',\n",
       " 'I wish I took a picture, but I dug right in due to brunch hunger and slow service.': 'i wish i took a picture, but i dug right in due to brunch hunger and slow service.',\n",
       " \"I work at CU, and may be one of the few people that's never been to Community before.\": \"i work at cu, and may be one of the few people that's never been to community before.\",\n",
       " \"I wouldn't go back at these prices and with these crowds.\": \"i wouldn't go back at these prices and with these crowds.\",\n",
       " \"I'd be interested to check out their lunch, which alas is usually a crush of CU staff and students, but there's always summer break ...\": \"i'd be interested to check out their lunch, which alas is usually a crush of cu staff and students, but there's always summer break ...\",\n",
       " \"I'd come back again, but be sure to have a snack before if you are feeling at all hungry like me.\": \"i'd come back again, but be sure to have a snack before if you are feeling at all hungry like me.\",\n",
       " \"I'd rather have paid half price for half the portion.\": \"i'd rather have paid half price for half the portion.\",\n",
       " \"I've come here several times with a friend for brunch and once for dinner -- we've both really enjoyed a lot of the breakfast foods available; my favorite is the brioche French toast with blackberry and lemon curd & she loves heir waffles.\": \"i've come here several times with a friend for brunch and once for dinner -- we've both really enjoyed a lot of the breakfast foods available; my favorite is the brioche french toast with blackberry and lemon curd & she loves heir waffles.\",\n",
       " 'If you come between 8-9am they have a pancake deal (blueberry or chocolate and a coffee or OJ for $12, not bad considering the area and average prices.': 'if you come between 8-9am they have a pancake deal (blueberry or chocolate and a coffee or oj for $12, not bad considering the area and average prices.',\n",
       " 'In fact, the \"syrup\"--not even sure what it is (apple?)': 'in fact, the \"syrup\"--not even sure what it is (apple?)',\n",
       " 'Initially, we went for brunch in the early afternoon, but ended up staying for appetizers and split a bottle of wine.': 'initially, we went for brunch in the early afternoon, but ended up staying for appetizers and split a bottle of wine.',\n",
       " 'Instead, they filled our coffees and water.': 'instead, they filled our coffees and water.',\n",
       " 'It was delicious.': 'it was delicious.',\n",
       " 'It was difficult to cut along with everything else, and pulling the spinach out from under the uncut part made parts of the egg fall off the biscuit.': 'it was difficult to cut along with everything else, and pulling the spinach out from under the uncut part made parts of the egg fall off the biscuit.',\n",
       " 'It was flavorful and not overly salty.': 'it was flavorful and not overly salty.',\n",
       " \"It was pretty strong but the shiso-mint did come through, so it was worth it (I'm rationalizing the price right now).\": \"it was pretty strong but the shiso-mint did come through, so it was worth it (i'm rationalizing the price right now).\",\n",
       " \"It's not every day I get to go to New York, take some subways to meet a friend, eat some good food, get a tour of a top university, and walk away with my wallet much lighter.\": \"it's not every day i get to go to new york, take some subways to meet a friend, eat some good food, get a tour of a top university, and walk away with my wallet much lighter.\",\n",
       " \"Let's be honest, sometimes a man just wants some sweet sweet avocado in the cool winter months.\": \"let's be honest, sometimes a man just wants some sweet sweet avocado in the cool winter months.\",\n",
       " 'Morningside feels more like a college town with older residential building and quieter streets.': 'morningside feels more like a college town with older residential building and quieter streets.',\n",
       " \"Much better than my experience at Stephanie's at Newbury in Boston or even many of the brunch places I've been in LA.\": \"much better than my experience at stephanie's at newbury in boston or even many of the brunch places i've been in la.\",\n",
       " 'My brother had the Huevos Rancheros.': 'my brother had the huevos rancheros.',\n",
       " 'My chocolate pancakes were pretty darn good and pretty darn rich.': 'my chocolate pancakes were pretty darn good and pretty darn rich.',\n",
       " 'My coworker got the salmon sandwich, same review applies.': 'my coworker got the salmon sandwich, same review applies.',\n",
       " 'My friend and I had a very good time.': 'my friend and i had a very good time.',\n",
       " 'My friend got the house smoked salmon plate.': 'my friend got the house smoked salmon plate.',\n",
       " 'My friend n me went there early to enjoy pancake with fresh juice n on site coffee.': 'my friend n me went there early to enjoy pancake with fresh juice n on site coffee.',\n",
       " 'My friend, however, is actually pursuing a REAL degree from Columbia University--not Colombia the country, unlike our hateable yet lovable ex-lawyer who attended Greendale Community College.': 'my friend, however, is actually pursuing a real degree from columbia university--not colombia the country, unlike our hateable yet lovable ex-lawyer who attended greendale community college.',\n",
       " 'My mother ordered the frittata, which was also very good.': 'my mother ordered the frittata, which was also very good.',\n",
       " 'My new favorite brunch spot.': 'my new favorite brunch spot.',\n",
       " 'My wife and I went here for breakfast.': 'my wife and i went here for breakfast.',\n",
       " 'My wife got the blueberry pancakes.': 'my wife got the blueberry pancakes.',\n",
       " 'Nice experience there.': 'nice experience there.',\n",
       " 'Nice little draft selection, I went for the Fire Island Beer Co. Lighthouse - nice and crisp and not hoppy - a rare breed in NYC.': 'nice little draft selection, i went for the fire island beer co. lighthouse - nice and crisp and not hoppy - a rare breed in nyc.',\n",
       " 'Nice little tip, they have a deal between 5 pm and 7 pm on weekdays - beef burger and beer for $16.': 'nice little tip, they have a deal between 5 pm and 7 pm on weekdays - beef burger and beer for $16.',\n",
       " 'Nom nommmm.': 'nom nommmm.',\n",
       " 'Not overly sweet and definitely enjoyed the seeds within the preserve.': 'not overly sweet and definitely enjoyed the seeds within the preserve.',\n",
       " 'Now I know this is NY and costs here are higher--but $43!': 'now i know this is ny and costs here are higher--but $43!',\n",
       " \"On a nice New York morning, we had brunch and got to talk about everything from racist experiences to the TV show we can't quite get over.\": \"on a nice new york morning, we had brunch and got to talk about everything from racist experiences to the tv show we can't quite get over.\",\n",
       " 'On that note, \"It said market price.': 'on that note, \"it said market price.',\n",
       " 'Only a 20 minute bus ride from 79th, very easy to get to.': 'only a 20 minute bus ride from 79th, very easy to get to.',\n",
       " \"Otherwise, I'd have given this place five stars.\": \"otherwise, i'd have given this place five stars.\",\n",
       " 'Otherwise, it tasted delicious.': 'otherwise, it tasted delicious.',\n",
       " \"Our waiter Sam D. was the perfect level of attentive, there for a question and to fill our water glasses, I don't think my ever dipped below half-filled.\": \"our waiter sam d. was the perfect level of attentive, there for a question and to fill our water glasses, i don't think my ever dipped below half-filled.\",\n",
       " 'Overall, great brunch & highly recommend for a lovely brunch!': 'overall, great brunch & highly recommend for a lovely brunch!',\n",
       " 'Overpriced small portions that were essentially inedible.': 'overpriced small portions that were essentially inedible.',\n",
       " 'Overpriced, oversized, oversweet... Oh wait, this is America.': 'overpriced, oversized, oversweet... oh wait, this is america.',\n",
       " 'P.s.': 'p.s.',\n",
       " 'Pancakes were fluffy and they used real, non-frozen blueberries which I loved!': 'pancakes were fluffy and they used real, non-frozen blueberries which i loved!',\n",
       " \"Pancakes were fluffy and very filling)  Their lattes sometimes taste a bit burnt and not mixed properly -- don't waste your money.\": \"pancakes were fluffy and very filling)  their lattes sometimes taste a bit burnt and not mixed properly -- don't waste your money.\",\n",
       " \"Pricing was around $15 per person, which was reasonable for the quality and amount of food, especially considering it's New York.\": \"pricing was around $15 per person, which was reasonable for the quality and amount of food, especially considering it's new york.\",\n",
       " 'SO GOOD, My bf and I split them.': 'so good, my bf and i split them.',\n",
       " 'Screen.': 'screen.',\n",
       " 'Seated around 10 mins on a cozy Sat morning, not too bad.': 'seated around 10 mins on a cozy sat morning, not too bad.',\n",
       " 'Service is great - our water was also filled, our coffee was replenished at appropriate times.': 'service is great - our water was also filled, our coffee was replenished at appropriate times.',\n",
       " \"She chose this place because of the name--I mean come on, can't get more fitting than that--and because of its proximity to Columbia's campus.\": \"she chose this place because of the name--i mean come on, can't get more fitting than that--and because of its proximity to columbia's campus.\",\n",
       " 'Sigh, oh how I miss the golden age of that glorious, glorious show.': 'sigh, oh how i miss the golden age of that glorious, glorious show.',\n",
       " 'Solid breakfast place in Morningside Heights.': 'solid breakfast place in morningside heights.',\n",
       " 'Speaking of coffee - their black drip coffee from a roaster in Brooklyn is delicious!': 'speaking of coffee - their black drip coffee from a roaster in brooklyn is delicious!',\n",
       " 'Still delicious, but sad when you see your non-GF friend with a full size sandwich.': 'still delicious, but sad when you see your non-gf friend with a full size sandwich.',\n",
       " 'Such a cute neighborhood spot and perfect for a pre-park brunch.': 'such a cute neighborhood spot and perfect for a pre-park brunch.',\n",
       " 'Sunday Brunch July 13th 2014.': 'sunday brunch july 13th 2014.',\n",
       " 'Tasted slightly more chewy than the usual waffle with flour, and on top there was marinated peach slices and cream.': 'tasted slightly more chewy than the usual waffle with flour, and on top there was marinated peach slices and cream.',\n",
       " 'Thanks to the kind service as well,i will remember this restaurant as a Columbian.': 'thanks to the kind service as well,i will remember this restaurant as a columbian.',\n",
       " 'Thanks, all!': 'thanks, all!',\n",
       " \"That's right, Yahoo!\": \"that's right, yahoo!\",\n",
       " 'The 7 grain waffle with the fresh berries, butterscotch sauce (maple glaze?)': 'the 7 grain waffle with the fresh berries, butterscotch sauce (maple glaze?)',\n",
       " 'The accompanying sauces and jams were so memorable and delicious!': 'the accompanying sauces and jams were so memorable and delicious!',\n",
       " 'The attention to the details of the flavors in the food is impeccable.': 'the attention to the details of the flavors in the food is impeccable.',\n",
       " 'The bathrooms were also clean!': 'the bathrooms were also clean!',\n",
       " 'The beans were seasoned perfectly, as was the rest of the tomato sauce, The tortilla was fresh and soft, and it came with delicious guacamole and sour cream.': 'the beans were seasoned perfectly, as was the rest of the tomato sauce, the tortilla was fresh and soft, and it came with delicious guacamole and sour cream.',\n",
       " 'The beat salad and rice bowl were delicious.': 'the beat salad and rice bowl were delicious.',\n",
       " 'The biscuit sandwich was healthy-ish as they utilized whole wheat flour.': 'the biscuit sandwich was healthy-ish as they utilized whole wheat flour.',\n",
       " 'The biscuit under it was cooked to perfection.': 'the biscuit under it was cooked to perfection.',\n",
       " 'The decor was beautiful and the lighting was warm - a great place for a brunch date.': 'the decor was beautiful and the lighting was warm - a great place for a brunch date.',\n",
       " 'The eggs were perfect: solid on the outside, runny on the inside.': 'the eggs were perfect: solid on the outside, runny on the inside.',\n",
       " 'The flavors blended very well together.': 'the flavors blended very well together.',\n",
       " 'The food here is quite good, and I have no complaints in that area.': 'the food here is quite good, and i have no complaints in that area.',\n",
       " 'The food is awesome!': 'the food is awesome!',\n",
       " 'The food was very fresh, and the chefs knew exactly what they were doing.': 'the food was very fresh, and the chefs knew exactly what they were doing.',\n",
       " 'The food, service & ambiance was exactly what we were looking for.': 'the food, service & ambiance was exactly what we were looking for.',\n",
       " 'The food?': 'the food?',\n",
       " 'The frittata itself was soft and fluffy without being undercooked.': 'the frittata itself was soft and fluffy without being undercooked.',\n",
       " 'The ground leveled glass windows allow you to see the views outside- it is a nice change from the busy pedestrians and giant high rise buildings view of the typical New York street cues in Midtown.': 'the ground leveled glass windows allow you to see the views outside- it is a nice change from the busy pedestrians and giant high rise buildings view of the typical new york street cues in midtown.',\n",
       " 'The hash browns were not the least bit greasy; the pancakes were delicious, and I really enjoyed the juevos (w/ chorizo).': 'the hash browns were not the least bit greasy; the pancakes were delicious, and i really enjoyed the juevos (w/ chorizo).',\n",
       " 'The hollandaise sauce was perfect: smooth and mildly tart.': 'the hollandaise sauce was perfect: smooth and mildly tart.',\n",
       " 'The hot chocolate was made with real cocoa powder and milk.': 'the hot chocolate was made with real cocoa powder and milk.',\n",
       " 'The interior was a little canteenish and there were only a couple of juices on the menu.': 'the interior was a little canteenish and there were only a couple of juices on the menu.',\n",
       " 'The interior was normal, nothing fancy, but we enjoyed window seats and a tiny desk instead of the long family style tables at the center of the restaurant which gives limited privacy.': 'the interior was normal, nothing fancy, but we enjoyed window seats and a tiny desk instead of the long family style tables at the center of the restaurant which gives limited privacy.',\n",
       " 'The mushrooms were perfectly cooked.': 'the mushrooms were perfectly cooked.',\n",
       " 'The omelette was thin (I would ask for eggs more well done next time) and was jam packed with veggies.': 'the omelette was thin (i would ask for eggs more well done next time) and was jam packed with veggies.',\n",
       " 'The only thing I guess I can \"complain\" is that the dishes were small.': 'the only thing i guess i can \"complain\" is that the dishes were small.',\n",
       " 'The pancakes were $13 and the coffee was $4, so the initial bill was $34.': 'the pancakes were $13 and the coffee was $4, so the initial bill was $34.',\n",
       " 'The pancakes with banana and walnut were okay.': 'the pancakes with banana and walnut were okay.',\n",
       " 'The place was packed.': 'the place was packed.',\n",
       " 'The portobello mushrooms were cut into small enough pieces to fit in one bite, but were soft enough to cut further if they were too big for you.': 'the portobello mushrooms were cut into small enough pieces to fit in one bite, but were soft enough to cut further if they were too big for you.',\n",
       " 'The raspberry preserve was so fresh!': 'the raspberry preserve was so fresh!',\n",
       " 'The reason for only two stars is the cost of that food--OMG are they overpriced.': 'the reason for only two stars is the cost of that food--omg are they overpriced.',\n",
       " 'The restaurant is within walking distance of Columbia, and I would recommend for a nice brunch in the area!': 'the restaurant is within walking distance of columbia, and i would recommend for a nice brunch in the area!',\n",
       " 'The salmon was so fresh and delicious.': 'the salmon was so fresh and delicious.',\n",
       " 'The sauce that came with it was definitely different than the waffle glaze, so it was so tasty to discover the flavors within the glaze.': 'the sauce that came with it was definitely different than the waffle glaze, so it was so tasty to discover the flavors within the glaze.',\n",
       " 'The sausage was not fatty at all and the meat patty - although a little smaller when compared to the biscuit (meat:bread ratio) was small, it went was so tasty with the tomato jam, as well as the perfectly cooked eggs!': 'the sausage was not fatty at all and the meat patty - although a little smaller when compared to the biscuit (meat:bread ratio) was small, it went was so tasty with the tomato jam, as well as the perfectly cooked eggs!',\n",
       " 'The server was very friendly and sensitive to my dietary restrictions.': 'the server was very friendly and sensitive to my dietary restrictions.',\n",
       " 'The seven grain waffles, blueberry pancakes with a side of turkey chorizo.': 'the seven grain waffles, blueberry pancakes with a side of turkey chorizo.',\n",
       " 'The staff did not make us feel guilty at all, but welcomed us to stay until their dinner hour started.': 'the staff did not make us feel guilty at all, but welcomed us to stay until their dinner hour started.',\n",
       " \"The staff were so helpful, kind, and soft-spoken about recovering and returning it that I'm duly humbled.\": \"the staff were so helpful, kind, and soft-spoken about recovering and returning it that i'm duly humbled.\",\n",
       " 'The tax was $3, and I left a tip of $6--resulting in a final total of $43 for a breakfast of flapjacks and coffee.': 'the tax was $3, and i left a tip of $6--resulting in a final total of $43 for a breakfast of flapjacks and coffee.',\n",
       " 'The veggies were perfect and fresh!': 'the veggies were perfect and fresh!',\n",
       " 'The waitress serving our table was polite and courteous considering how many customers she was dealing with.': 'the waitress serving our table was polite and courteous considering how many customers she was dealing with.',\n",
       " 'Their coffee is from Brooklyn Roasting Company.': 'their coffee is from brooklyn roasting company.',\n",
       " 'Their maple butter sauce light, sweet and adds a nice taste as opposed to heavier syrups.': 'their maple butter sauce light, sweet and adds a nice taste as opposed to heavier syrups.',\n",
       " 'There are a lot of nice places in the city where you can get a very good breakfast for 1/3rd to 1/2 less than Community.': 'there are a lot of nice places in the city where you can get a very good breakfast for 1/3rd to 1/2 less than community.',\n",
       " 'There was a raspberry sauce beautifully spread on the plate that added a nice tartness to the whole bite.': 'there was a raspberry sauce beautifully spread on the plate that added a nice tartness to the whole bite.',\n",
       " \"There're rather few non-shared tables which is fine as not only is NYC filled with such setup but there's a liveliness in the Columbia area vibe which prefers this setup.\": \"there're rather few non-shared tables which is fine as not only is nyc filled with such setup but there's a liveliness in the columbia area vibe which prefers this setup.\",\n",
       " \"There's a shortage of such nice sit-down restaurants in the Columbia area so this place is not only capitalizing on its presence but doing so with great style and flare.\": \"there's a shortage of such nice sit-down restaurants in the columbia area so this place is not only capitalizing on its presence but doing so with great style and flare.\",\n",
       " 'They could have done without the maple butter and walnuts and would have been better with maple syrup.': 'they could have done without the maple butter and walnuts and would have been better with maple syrup.',\n",
       " \"They were mostly made of potato with hints of carrots, so it wasn't too carroty.\": \"they were mostly made of potato with hints of carrots, so it wasn't too carroty.\",\n",
       " 'They where gracious enough not to charge for the momosasas.': 'they where gracious enough not to charge for the momosasas.',\n",
       " 'This is such a good brunch spot!': 'this is such a good brunch spot!',\n",
       " 'This place is fantastic.': 'this place is fantastic.',\n",
       " 'This place is great for Brunch.': 'this place is great for brunch.',\n",
       " 'This place is really good for breakfast and has great pancakes, sausages, eggs.': 'this place is really good for breakfast and has great pancakes, sausages, eggs.',\n",
       " 'To be honest I  could not tasted the truffle at all, besides the garlic and the pepper and the salt; however with this mix it can hardly go wrong.': 'to be honest i  could not tasted the truffle at all, besides the garlic and the pepper and the salt; however with this mix it can hardly go wrong.',\n",
       " 'To note - any revisions/additions to your order is $2.': 'to note - any revisions/additions to your order is $2.',\n",
       " 'Traveled up here from the upper east side to get away from the usual brunch places.': 'traveled up here from the upper east side to get away from the usual brunch places.',\n",
       " 'Ugh!': 'ugh!',\n",
       " 'Unfortunately, the GF bread is an upcharge for a sandwich half the size of the normal sandwich.': 'unfortunately, the gf bread is an upcharge for a sandwich half the size of the normal sandwich.',\n",
       " 'Vast amounts of seating and an open kitchen where tons of food is prepared live makes for a fun environ.': 'vast amounts of seating and an open kitchen where tons of food is prepared live makes for a fun environ.',\n",
       " 'Veggie sandwich on gluten free bread here.': 'veggie sandwich on gluten free bread here.',\n",
       " 'Very fresh, clean, and NOT oily, which is my usually qualm.': 'very fresh, clean, and not oily, which is my usually qualm.',\n",
       " 'We also shared & loved the fruit salad.': 'we also shared & loved the fruit salad.',\n",
       " 'We both then ordered the breakfast biscuit.': 'we both then ordered the breakfast biscuit.',\n",
       " 'We did have to wait to be seated (which is a good sign even though no one really wants to)...': 'we did have to wait to be seated (which is a good sign even though no one really wants to)...',\n",
       " 'We each ordered blueberry pancakes and a cup of coffee--no fresh fruit, no juice, no bacon.': 'we each ordered blueberry pancakes and a cup of coffee--no fresh fruit, no juice, no bacon.',\n",
       " 'We had ordered three things the beet salad, the rice bowl and the veggie burger.': 'we had ordered three things the beet salad, the rice bowl and the veggie burger.',\n",
       " \"We had to wait 30 minuets for a seat OK Sunday brunch it's popular.\": \"we had to wait 30 minuets for a seat ok sunday brunch it's popular.\",\n",
       " 'We ordered the morning specials : 7 grains waffle and truffle egg dish.': 'we ordered the morning specials : 7 grains waffle and truffle egg dish.',\n",
       " 'We sat at an adorable table on the outdoor patio and our waiter (sadly forgot his name) was awesome.': 'we sat at an adorable table on the outdoor patio and our waiter (sadly forgot his name) was awesome.',\n",
       " 'We stopped in for lunch.': 'we stopped in for lunch.',\n",
       " 'We were pleasantly surprised by how big it was and the fruit was all very fresh.': 'we were pleasantly surprised by how big it was and the fruit was all very fresh.',\n",
       " 'What market are you shopping at!?!?!\"': 'what market are you shopping at!?!?!\"',\n",
       " 'Who knew turkey chorizo existed!!!': 'who knew turkey chorizo existed!!!',\n",
       " 'Will be exploring more items on the menu.': 'will be exploring more items on the menu.',\n",
       " 'Will definitely be back!': 'will definitely be back!',\n",
       " 'Will go back!': 'will go back!',\n",
       " 'Your whole party has to be there to be sat!': 'your whole party has to be there to be sat!',\n",
       " 'another 30 minuets still no food we left.': 'another 30 minuets still no food we left.',\n",
       " 'was kind of overkill because the pancakes and chocolate were far sweet enough.': 'was kind of overkill because the pancakes and chocolate were far sweet enough.',\n",
       " 'with FRESH whipped cream was THE BEST dish there.': 'with fresh whipped cream was the best dish there.'}"
      ]
     },
     "execution_count": 10,
     "metadata": {},
     "output_type": "execute_result"
    }
   ],
   "source": [
    "sentences = sent_tokenize(striptext)\n",
    "for sentence in sentences:\n",
    "    candidate_sentences[sentence] = sentence.lower()\n",
    "candidate_sentences"
   ]
  },
  {
   "cell_type": "code",
   "execution_count": 11,
   "metadata": {},
   "outputs": [],
   "source": [
    "for upper, lower in candidate_sentences.items():\n",
    "    count = 0\n",
    "    for freq_word, frequency_score in most_frequent_words:\n",
    "        if freq_word in lower:\n",
    "            count += frequency_score\n",
    "            candidate_sentence_counts[upper] = count"
   ]
  },
  {
   "cell_type": "markdown",
   "metadata": {},
   "source": [
    "<h4>sort the sentences by candidate_sentence_count</h4>\n",
    "<li>And pick the top ranked sentences</li>"
   ]
  },
  {
   "cell_type": "code",
   "execution_count": 12,
   "metadata": {},
   "outputs": [
    {
     "data": {
      "text/plain": [
       "{'\"I have a degree from Columbia, and now I have to get one from America.\"': 92,\n",
       " '- Jeff Winger, Community.': 83,\n",
       " '- The truffle egg dish: had sausage, potatoes, some leafy greens, sautéed mushrooms, and poached egg on top.': 119,\n",
       " '- Troy Barnes Man I love that show.': 73,\n",
       " '-7 grains waffle: had vanilla cream, raspberry, cherry, and toasted nuts.': 73,\n",
       " '15 minuets wait for the wait staff, 45 minuets before we got the wrong dish!': 129,\n",
       " '2 HOURS AND NO FOOD!': 20,\n",
       " \"A man came over to the table and filled our waters but didn't introduce himself as our waiter so I wasn't sure if he was the busboy or the waiter; regardless, he took our drink order.\": 132,\n",
       " 'All and all a solid meal, the burger was a wee bit dry, but cooked to my specifications (medium rare).': 141,\n",
       " 'All in all, a pleasant experience with nice service and nice company.': 86,\n",
       " 'All the food was amazing.': 139,\n",
       " \"Also super close to Colombia's main campus, great place to walk around and digest.\": 88,\n",
       " \"Although we thought the veggie burger could've used another flavor component.\": 139,\n",
       " 'Although you really have to spring ti get in, since there are very big lines to eat.': 128,\n",
       " 'And the carrot hash browns were yummy too!': 68,\n",
       " 'As per her request, they put less goat cheese.': 46,\n",
       " \"Awesome bar alongside, but we didn't patronize it.\": 83,\n",
       " \"Bill came up to be around 50, which isn't exactly cheap considering how small the portions are- but justifiable still due to the taste.\": 132,\n",
       " 'Bottomless coffee was standard.': 12,\n",
       " 'Came here for brunch with my wife after she found the good review, and it did not disappoint!': 183,\n",
       " 'Came on Sunday near 1pm and it was VERY busy, ended up waiting an hour and a half (1 hour more than we were told) however, the food was ah-mazing.': 162,\n",
       " \"Cheaper brunch cocktails than most places (only $10....but yes, it is nyc where most are $14+) if I have one recommendation, it's the POTATO PANCAKES!!!\": 177,\n",
       " \"Community Food & Juice is literally a few blocks away, so it's perfect for students.\": 103,\n",
       " 'Community is a brunch place next to Columbia.': 118,\n",
       " 'Community is definitely one of my favorite, non-boozy brunch spots in the UWS/Morningside!': 171,\n",
       " 'Despite the 3.5 stars I was pleasantly surprised at the food here.': 139,\n",
       " 'Details of the food, including the presentation of each dish.': 139,\n",
       " 'Dinner looked pretty...and that was all.': 73,\n",
       " 'Dinner on Tuesday, usually a quiet affair, but given that Community is one of few good spots on Broadway for a good sit down, even at 6:30 p.m. it was bumping.': 112,\n",
       " 'Disclaimer: I like diner food but it is almost always to greasy which I hate, but this place has very fresh and carefully prepared food.': 121,\n",
       " 'Down to the last drop - it was smooth, nutty, and not bitter even cold.': 119,\n",
       " 'During the whole time, not one waiter came over to encourage us to pay our bill and leave.': 142,\n",
       " 'Even though it was packed service was very good.': 92,\n",
       " 'Even though they were super busy, they were able to seat us right away, and our food came in a timely manner.': 162,\n",
       " 'Everyone is super friendly and accommodating vegetarian requests!': 102,\n",
       " 'Everything looks and sounds good and this place smells like heaven.': 107,\n",
       " 'Everything was awesome.': 83,\n",
       " 'Flor de Cana aged white rum, fresh lime juice, shiso-mint simple syrup, yuzu splash, muddled mint, and crushed ice made up the drink that Jeff Winger would have called a \"kid\\'s drink\".': 132,\n",
       " 'Had the spinach been softer, this would have been more enjoyable to eat.': 119,\n",
       " 'Having seen the title of this place, I did expect somewhere a little cosier, trendier, more rustic and more inviting.': 134,\n",
       " 'He had the pancakes and said they were the best he had in the city.': 142,\n",
       " 'He loved it!': 73,\n",
       " 'His eggs were sunny side up, and perfectly runny.': 93,\n",
       " 'However, the spinach although cooked well, kind of took away from the dish.': 129,\n",
       " 'I accidentally left my headphones, called to ask if it was found, and fetched them the day later.': 141,\n",
       " 'I also got a shiso mojito which sounds fancy--and it better be for the $11 I paid for it.': 119,\n",
       " 'I also tried my first ever bloody mary, and it was really good.': 104,\n",
       " 'I am gluten/dairy intolerant and they were able to fully accommodate me.': 129,\n",
       " 'I ate here Monday night for a working dinner with a coworker.': 73,\n",
       " 'I came here on a Saturday morning with one of my friends without a reservation around 10:30 am and luckily we were seated outside right away.': 128,\n",
       " 'I came here one day to meet up with my cousin who studies at Columbia.': 108,\n",
       " 'I came here with a friend - we were seated promptly and service was attentive.': 106,\n",
       " 'I came here with my friend who also is a huge fan of the show \"Community\", which used to be aired on NBC then got cancelled and then re-birthed on Yahoo!': 164,\n",
       " \"I don't know what I was expecting.\": 73,\n",
       " \"I don't normally drink coffee, but I would have had a whole cup of it had I not ordered the hot chocolate, which was also delicious.\": 156,\n",
       " 'I gave this place four stars instead of five because of the consistency of the spinach in the eggs benedict florentine.': 144,\n",
       " 'I had the special of 2 fried eggs, vegetable ragout, bacon and truffle vinaigrette and it was Delish.': 138,\n",
       " \"I immediately saw its reason for name, beyond the owner's fandom of the show of the same name: the tablet setup are nearly all communal long tables.\": 119,\n",
       " 'I ordered a mimosa, which was pretty good, and my friend ordered a coffee which was served in a huge mug.': 139,\n",
       " 'I ordered the Country Breakfast and the eggs were delicious and fluffy, the biscuit was moist and flavorful, the carrot hash browns were warm and comforting, and the ham was sweet and juicy.': 164,\n",
       " \"I ordered the beef burger which was very juicy, perfectly lean, well sauced, cooked as desired (medium-well, for those who wonder), and paired with a dill pickle, a handmade cole slaw that lacked mayo (which is good as mayo's pure trans-fat), and a spindle of fries.\": 161,\n",
       " 'I ordered the eggs benedict florentine.': 142,\n",
       " \"I really like how it wasn't hard and overly sweet- especially how the toasted nuts added a level of crunchiness to the heaviness of the cream.\": 129,\n",
       " 'I really like the hanging lights from the ceiling which is quite cute.': 119,\n",
       " 'I recommend you seek them out.': 119,\n",
       " 'I started with a raspberry iced tea & ordered the community custom egg white omelette with sautéed spinach & mushrooms and a side of smoked salmon.': 142,\n",
       " 'I thought it was delicious!': 85,\n",
       " 'I used some of the chive cream cheese on the toast that came with the eggs - highly recommend asking for some on the side!': 142,\n",
       " 'I wanted to order everything off the menu, but settled on the juevos rancheros with side of carrot hash browns, and biscuit.': 119,\n",
       " 'I was not a big fan of the sausage that was served with it and would much more have preferred bacon but overall it was good.': 138,\n",
       " 'I went with my mom and my brother.': 141,\n",
       " 'I wish I had ordered that instead.': 86,\n",
       " 'I wish I took a picture, but I dug right in due to brunch hunger and slow service.': 93,\n",
       " \"I work at CU, and may be one of the few people that's never been to Community before.\": 139,\n",
       " \"I wouldn't go back at these prices and with these crowds.\": 119,\n",
       " \"I'd be interested to check out their lunch, which alas is usually a crush of CU staff and students, but there's always summer break ...\": 119,\n",
       " \"I'd come back again, but be sure to have a snack before if you are feeling at all hungry like me.\": 73,\n",
       " \"I'd rather have paid half price for half the portion.\": 119,\n",
       " \"I've come here several times with a friend for brunch and once for dinner -- we've both really enjoyed a lot of the breakfast foods available; my favorite is the brioche French toast with blackberry and lemon curd & she loves heir waffles.\": 191,\n",
       " 'If you come between 8-9am they have a pancake deal (blueberry or chocolate and a coffee or OJ for $12, not bad considering the area and average prices.': 141,\n",
       " 'In fact, the \"syrup\"--not even sure what it is (apple?)': 119,\n",
       " 'Initially, we went for brunch in the early afternoon, but ended up staying for appetizers and split a bottle of wine.': 149,\n",
       " 'Instead, they filled our coffees and water.': 131,\n",
       " 'It was delicious.': 85,\n",
       " 'It was difficult to cut along with everything else, and pulling the spinach out from under the uncut part made parts of the egg fall off the biscuit.': 119,\n",
       " 'It was flavorful and not overly salty.': 73,\n",
       " \"It was pretty strong but the shiso-mint did come through, so it was worth it (I'm rationalizing the price right now).\": 119,\n",
       " \"It's not every day I get to go to New York, take some subways to meet a friend, eat some good food, get a tour of a top university, and walk away with my wallet much lighter.\": 143,\n",
       " \"Let's be honest, sometimes a man just wants some sweet sweet avocado in the cool winter months.\": 139,\n",
       " 'Morningside feels more like a college town with older residential building and quieter streets.': 73,\n",
       " \"Much better than my experience at Stephanie's at Newbury in Boston or even many of the brunch places I've been in LA.\": 166,\n",
       " 'My brother had the Huevos Rancheros.': 58,\n",
       " 'My chocolate pancakes were pretty darn good and pretty darn rich.': 127,\n",
       " 'My coworker got the salmon sandwich, same review applies.': 131,\n",
       " 'My friend and I had a very good time.': 114,\n",
       " 'My friend got the house smoked salmon plate.': 141,\n",
       " 'My friend n me went there early to enjoy pancake with fresh juice n on site coffee.': 176,\n",
       " 'My friend, however, is actually pursuing a REAL degree from Columbia University--not Colombia the country, unlike our hateable yet lovable ex-lawyer who attended Greendale Community College.': 161,\n",
       " 'My mother ordered the frittata, which was also very good.': 163,\n",
       " 'My new favorite brunch spot.': 105,\n",
       " 'My wife and I went here for breakfast.': 95,\n",
       " 'My wife got the blueberry pancakes.': 144,\n",
       " 'Nice experience there.': 132,\n",
       " 'Nice little draft selection, I went for the Fire Island Beer Co. Lighthouse - nice and crisp and not hoppy - a rare breed in NYC.': 142,\n",
       " 'Nice little tip, they have a deal between 5 pm and 7 pm on weekdays - beef burger and beer for $16.': 142,\n",
       " 'Not overly sweet and definitely enjoyed the seeds within the preserve.': 129,\n",
       " 'Now I know this is NY and costs here are higher--but $43!': 73,\n",
       " \"On a nice New York morning, we had brunch and got to talk about everything from racist experiences to the TV show we can't quite get over.\": 171,\n",
       " 'On that note, \"It said market price.': 73,\n",
       " 'Only a 20 minute bus ride from 79th, very easy to get to.': 82,\n",
       " \"Otherwise, I'd have given this place five stars.\": 134,\n",
       " 'Otherwise, it tasted delicious.': 131,\n",
       " \"Our waiter Sam D. was the perfect level of attentive, there for a question and to fill our water glasses, I don't think my ever dipped below half-filled.\": 131,\n",
       " 'Overall, great brunch & highly recommend for a lovely brunch!': 93,\n",
       " 'Overpriced small portions that were essentially inedible.': 83,\n",
       " 'Overpriced, oversized, oversweet... Oh wait, this is America.': 83,\n",
       " 'Pancakes were fluffy and they used real, non-frozen blueberries which I loved!': 142,\n",
       " \"Pancakes were fluffy and very filling)  Their lattes sometimes taste a bit burnt and not mixed properly -- don't waste your money.\": 152,\n",
       " \"Pricing was around $15 per person, which was reasonable for the quality and amount of food, especially considering it's New York.\": 139,\n",
       " 'SO GOOD, My bf and I split them.': 150,\n",
       " 'Seated around 10 mins on a cozy Sat morning, not too bad.': 73,\n",
       " 'Service is great - our water was also filled, our coffee was replenished at appropriate times.': 85,\n",
       " \"She chose this place because of the name--I mean come on, can't get more fitting than that--and because of its proximity to Columbia's campus.\": 143,\n",
       " 'Sigh, oh how I miss the golden age of that glorious, glorious show.': 119,\n",
       " 'Solid breakfast place in Morningside Heights.': 88,\n",
       " 'Speaking of coffee - their black drip coffee from a roaster in Brooklyn is delicious!': 143,\n",
       " 'Still delicious, but sad when you see your non-GF friend with a full size sandwich.': 95,\n",
       " 'Such a cute neighborhood spot and perfect for a pre-park brunch.': 93,\n",
       " 'Sunday Brunch July 13th 2014.': 20,\n",
       " 'Tasted slightly more chewy than the usual waffle with flour, and on top there was marinated peach slices and cream.': 119,\n",
       " 'Thanks to the kind service as well,i will remember this restaurant as a Columbian.': 129,\n",
       " \"That's right, Yahoo!\": 73,\n",
       " 'The 7 grain waffle with the fresh berries, butterscotch sauce (maple glaze?)': 132,\n",
       " 'The accompanying sauces and jams were so memorable and delicious!': 141,\n",
       " 'The attention to the details of the flavors in the food is impeccable.': 139,\n",
       " 'The bathrooms were also clean!': 56,\n",
       " 'The beans were seasoned perfectly, as was the rest of the tomato sauce, The tortilla was fresh and soft, and it came with delicious guacamole and sour cream.': 177,\n",
       " 'The beat salad and rice bowl were delicious.': 141,\n",
       " 'The biscuit sandwich was healthy-ish as they utilized whole wheat flour.': 119,\n",
       " 'The biscuit under it was cooked to perfection.': 119,\n",
       " 'The decor was beautiful and the lighting was warm - a great place for a brunch date.': 154,\n",
       " 'The eggs were perfect: solid on the outside, runny on the inside.': 139,\n",
       " 'The flavors blended very well together.': 65,\n",
       " 'The food here is quite good, and I have no complaints in that area.': 158,\n",
       " 'The food is awesome!': 149,\n",
       " 'The food was very fresh, and the chefs knew exactly what they were doing.': 162,\n",
       " 'The food, service & ambiance was exactly what we were looking for.': 149,\n",
       " 'The food?': 66,\n",
       " 'The frittata itself was soft and fluffy without being undercooked.': 119,\n",
       " 'The ground leveled glass windows allow you to see the views outside- it is a nice change from the busy pedestrians and giant high rise buildings view of the typical New York street cues in Midtown.': 132,\n",
       " 'The hash browns were not the least bit greasy; the pancakes were delicious, and I really enjoyed the juevos (w/ chorizo).': 154,\n",
       " 'The hollandaise sauce was perfect: smooth and mildly tart.': 119,\n",
       " 'The hot chocolate was made with real cocoa powder and milk.': 119,\n",
       " 'The interior was a little canteenish and there were only a couple of juices on the menu.': 129,\n",
       " 'The interior was normal, nothing fancy, but we enjoyed window seats and a tiny desk instead of the long family style tables at the center of the restaurant which gives limited privacy.': 129,\n",
       " 'The mushrooms were perfectly cooked.': 56,\n",
       " 'The omelette was thin (I would ask for eggs more well done next time) and was jam packed with veggies.': 149,\n",
       " 'The only thing I guess I can \"complain\" is that the dishes were small.': 129,\n",
       " 'The pancakes were $13 and the coffee was $4, so the initial bill was $34.': 154,\n",
       " 'The pancakes with banana and walnut were okay.': 142,\n",
       " 'The place was packed.': 61,\n",
       " 'The portobello mushrooms were cut into small enough pieces to fit in one bite, but were soft enough to cut further if they were too big for you.': 139,\n",
       " 'The raspberry preserve was so fresh!': 59,\n",
       " 'The reason for only two stars is the cost of that food--OMG are they overpriced.': 139,\n",
       " 'The restaurant is within walking distance of Columbia, and I would recommend for a nice brunch in the area!': 152,\n",
       " 'The salmon was so fresh and delicious.': 144,\n",
       " 'The sauce that came with it was definitely different than the waffle glaze, so it was so tasty to discover the flavors within the glaze.': 132,\n",
       " 'The sausage was not fatty at all and the meat patty - although a little smaller when compared to the biscuit (meat:bread ratio) was small, it went was so tasty with the tomato jam, as well as the perfectly cooked eggs!': 139,\n",
       " 'The server was very friendly and sensitive to my dietary restrictions.': 141,\n",
       " 'The seven grain waffles, blueberry pancakes with a side of turkey chorizo.': 132,\n",
       " 'The staff did not make us feel guilty at all, but welcomed us to stay until their dinner hour started.': 129,\n",
       " \"The staff were so helpful, kind, and soft-spoken about recovering and returning it that I'm duly humbled.\": 129,\n",
       " 'The tax was $3, and I left a tip of $6--resulting in a final total of $43 for a breakfast of flapjacks and coffee.': 131,\n",
       " 'The veggies were perfect and fresh!': 142,\n",
       " 'The waitress serving our table was polite and courteous considering how many customers she was dealing with.': 119,\n",
       " 'Their coffee is from Brooklyn Roasting Company.': 131,\n",
       " 'Their maple butter sauce light, sweet and adds a nice taste as opposed to heavier syrups.': 142,\n",
       " 'There are a lot of nice places in the city where you can get a very good breakfast for 1/3rd to 1/2 less than Community.': 185,\n",
       " 'There was a raspberry sauce beautifully spread on the plate that added a nice tartness to the whole bite.': 132,\n",
       " \"There're rather few non-shared tables which is fine as not only is NYC filled with such setup but there's a liveliness in the Columbia area vibe which prefers this setup.\": 119,\n",
       " \"There's a shortage of such nice sit-down restaurants in the Columbia area so this place is not only capitalizing on its presence but doing so with great style and flare.\": 147,\n",
       " 'They could have done without the maple butter and walnuts and would have been better with maple syrup.': 129,\n",
       " \"They were mostly made of potato with hints of carrots, so it wasn't too carroty.\": 129,\n",
       " 'They where gracious enough not to charge for the momosasas.': 119,\n",
       " 'This is such a good brunch spot!': 112,\n",
       " 'This place is fantastic.': 88,\n",
       " 'This place is great for Brunch.': 108,\n",
       " 'This place is really good for breakfast and has great pancakes, sausages, eggs.': 130,\n",
       " 'To be honest I  could not tasted the truffle at all, besides the garlic and the pepper and the salt; however with this mix it can hardly go wrong.': 139,\n",
       " 'To note - any revisions/additions to your order is $2.': 73,\n",
       " 'Traveled up here from the upper east side to get away from the usual brunch places.': 163,\n",
       " 'Unfortunately, the GF bread is an upcharge for a sandwich half the size of the normal sandwich.': 119,\n",
       " 'Vast amounts of seating and an open kitchen where tons of food is prepared live makes for a fun environ.': 93,\n",
       " 'Veggie sandwich on gluten free bread here.': 73,\n",
       " 'Very fresh, clean, and NOT oily, which is my usually qualm.': 98,\n",
       " 'We also shared & loved the fruit salad.': 129,\n",
       " 'We both then ordered the breakfast biscuit.': 142,\n",
       " 'We did have to wait to be seated (which is a good sign even though no one really wants to)...': 112,\n",
       " 'We each ordered blueberry pancakes and a cup of coffee--no fresh fruit, no juice, no bacon.': 134,\n",
       " 'We had ordered three things the beet salad, the rice bowl and the veggie burger.': 142,\n",
       " \"We had to wait 30 minuets for a seat OK Sunday brunch it's popular.\": 103,\n",
       " 'We ordered the morning specials : 7 grains waffle and truffle egg dish.': 142,\n",
       " 'We sat at an adorable table on the outdoor patio and our waiter (sadly forgot his name) was awesome.': 129,\n",
       " 'We stopped in for lunch.': 83,\n",
       " 'We were pleasantly surprised by how big it was and the fruit was all very fresh.': 142,\n",
       " 'What market are you shopping at!?!?!\"': 73,\n",
       " 'Who knew turkey chorizo existed!!!': 73,\n",
       " 'Will be exploring more items on the menu.': 119,\n",
       " 'Will definitely be back!': 73,\n",
       " 'Will go back!': 73,\n",
       " 'Your whole party has to be there to be sat!': 46,\n",
       " 'another 30 minuets still no food we left.': 149,\n",
       " 'was kind of overkill because the pancakes and chocolate were far sweet enough.': 142,\n",
       " 'with FRESH whipped cream was THE BEST dish there.': 132}"
      ]
     },
     "execution_count": 12,
     "metadata": {},
     "output_type": "execute_result"
    }
   ],
   "source": [
    "candidate_sentence_counts"
   ]
  },
  {
   "cell_type": "code",
   "execution_count": 13,
   "metadata": {},
   "outputs": [
    {
     "name": "stdout",
     "output_type": "stream",
     "text": [
      "OrderedDict([   (   \"I've come here several times with a friend for brunch and \"\n",
      "                    \"once for dinner -- we've both really enjoyed a lot of the \"\n",
      "                    'breakfast foods available; my favorite is the brioche '\n",
      "                    'French toast with blackberry and lemon curd & she loves '\n",
      "                    'heir waffles.',\n",
      "                    191),\n",
      "                (   'There are a lot of nice places in the city where you can '\n",
      "                    'get a very good breakfast for 1/3rd to 1/2 less than '\n",
      "                    'Community.',\n",
      "                    185),\n",
      "                (   'Came here for brunch with my wife after she found the '\n",
      "                    'good review, and it did not disappoint!',\n",
      "                    183),\n",
      "                (   'The beans were seasoned perfectly, as was the rest of the '\n",
      "                    'tomato sauce, The tortilla was fresh and soft, and it '\n",
      "                    'came with delicious guacamole and sour cream.',\n",
      "                    177)])\n"
     ]
    }
   ],
   "source": [
    "sorted_sentences = OrderedDict(sorted(\n",
    "                    candidate_sentence_counts.items(),\n",
    "                    key = lambda x: x[1],\n",
    "                    reverse = True)[:4])\n",
    "pp.pprint(sorted_sentences)"
   ]
  },
  {
   "cell_type": "code",
   "execution_count": 58,
   "metadata": {},
   "outputs": [
    {
     "data": {
      "text/plain": [
       "\"I've come here several times with a friend for brunch and once for dinner -- we've both really enjoyed a lot of the breakfast foods available; my favorite is the brioche French toast with blackberry and lemon curd & she loves heir waffles.\\nThere are a lot of nice places in the city where you can get a very good breakfast for 1/3rd to 1/2 less than Community.\\nCame here for brunch with my wife after she found the good review, and it did not disappoint!\\nThe beans were seasoned perfectly, as was the rest of the tomato sauce, The tortilla was fresh and soft, and it came with delicious guacamole and sour cream.\""
      ]
     },
     "execution_count": 58,
     "metadata": {},
     "output_type": "execute_result"
    }
   ],
   "source": [
    "'\\n'.join(sorted_sentences)"
   ]
  },
  {
   "cell_type": "markdown",
   "metadata": {},
   "source": [
    "<h4>Packaging all this into a function</h4>\n"
   ]
  },
  {
   "cell_type": "code",
   "execution_count": 14,
   "metadata": {},
   "outputs": [],
   "source": [
    "def build_naive_summary(text):\n",
    "    from nltk.tokenize import word_tokenize\n",
    "    from nltk.tokenize import sent_tokenize\n",
    "    from nltk.probability import FreqDist\n",
    "    from nltk.corpus import stopwords\n",
    "    from collections import OrderedDict\n",
    "    summary_sentences = []\n",
    "    candidate_sentences = {}\n",
    "    candidate_sentence_counts = {}\n",
    "    striptext = text.replace('\\n\\n', ' ')\n",
    "    striptext = striptext.replace('\\n', ' ')\n",
    "    words = word_tokenize(striptext)\n",
    "    lowercase_words = [word.lower() for word in words\n",
    "                      if word not in stopwords.words() and word.isalpha()]\n",
    "    word_frequencies = FreqDist(lowercase_words)\n",
    "    most_frequent_words = FreqDist(lowercase_words).most_common(20)\n",
    "    sentences = sent_tokenize(striptext)\n",
    "    for sentence in sentences:\n",
    "        candidate_sentences[sentence] = sentence.lower()\n",
    "    for long, short in candidate_sentences.items():\n",
    "        count = 0\n",
    "        for freq_word, frequency_score in most_frequent_words:\n",
    "            if freq_word in short:\n",
    "                count += frequency_score\n",
    "                candidate_sentence_counts[long] = count   \n",
    "    sorted_sentences = OrderedDict(sorted(\n",
    "                        candidate_sentence_counts.items(),\n",
    "                        key = lambda x: x[1],\n",
    "                        reverse = True)[:4])\n",
    "    return sorted_sentences   "
   ]
  },
  {
   "cell_type": "code",
   "execution_count": 15,
   "metadata": {},
   "outputs": [
    {
     "name": "stdout",
     "output_type": "stream",
     "text": [
      "I've come here several times with a friend for brunch and once for dinner -- we've both really enjoyed a lot of the breakfast foods available; my favorite is the brioche French toast with blackberry and lemon curd & she loves heir waffles.\n",
      "There are a lot of nice places in the city where you can get a very good breakfast for 1/3rd to 1/2 less than Community.\n",
      "Came here for brunch with my wife after she found the good review, and it did not disappoint!\n",
      "The beans were seasoned perfectly, as was the rest of the tomato sauce, The tortilla was fresh and soft, and it came with delicious guacamole and sour cream.\n"
     ]
    }
   ],
   "source": [
    "summary = '\\n'.join(build_naive_summary(community_data.raw()))\n",
    "print(summary)"
   ]
  },
  {
   "cell_type": "code",
   "execution_count": null,
   "metadata": {},
   "outputs": [],
   "source": []
  },
  {
   "cell_type": "code",
   "execution_count": 16,
   "metadata": {},
   "outputs": [
    {
     "name": "stdout",
     "output_type": "stream",
     "text": [
      "i would recommend going for brunch over any other meal, as everything i've ordered for brunch has been quite good the shakshuka is great, and you can't anything else like it in the area.\n",
      "I would love to try them out for dinner, as I said, the service was great and we were checked on regularly.\n",
      "I would give them a better review because the food was good but the waiting really was long.\n",
      "The food was really good and they are known for their brunch menu.\n"
     ]
    }
   ],
   "source": [
    "summary = '\\n'.join(build_naive_summary(le_monde_data.raw()))\n",
    "print(summary)"
   ]
  },
  {
   "cell_type": "markdown",
   "metadata": {},
   "source": [
    "<h4>We can summarize George Washington's first inaugural speech<h4>"
   ]
  },
  {
   "cell_type": "code",
   "execution_count": 60,
   "metadata": {},
   "outputs": [
    {
     "name": "stdout",
     "output_type": "stream",
     "text": [
      "('I dwell on this prospect with every satisfaction which an ardent love for my '\n",
      " 'country can inspire, since there is no truth more thoroughly established '\n",
      " 'than that there exists in the economy and course of nature an indissoluble '\n",
      " 'union between virtue and happiness; between duty and advantage; between the '\n",
      " 'genuine maxims of an honest and magnanimous policy and the solid rewards of '\n",
      " 'public prosperity and felicity; since we ought to be no less persuaded that '\n",
      " 'the propitious smiles of Heaven can never be expected on a nation that '\n",
      " 'disregards the eternal rules of order and right which Heaven itself has '\n",
      " 'ordained; and since the preservation of the sacred fire of liberty and the '\n",
      " 'destiny of the republican model of government are justly considered, '\n",
      " 'perhaps, as deeply, as finally, staked on the experiment entrusted to the '\n",
      " 'hands of the American people.\\n'\n",
      " 'Such being the impressions under which I have, in obedience to the public '\n",
      " 'summons, repaired to the present station, it would be peculiarly improper to '\n",
      " 'omit in this first official act my fervent supplications to that Almighty '\n",
      " 'Being who rules over the universe, who presides in the councils of nations, '\n",
      " 'and whose providential aids can supply every human defect, that His '\n",
      " 'benediction may consecrate to the liberties and happiness of the people of '\n",
      " 'the United States a Government instituted by themselves for these essential '\n",
      " 'purposes, and may enable every instrument employed in its administration to '\n",
      " 'execute with success the functions allotted to his charge.\\n'\n",
      " 'Instead of undertaking particular recommendations on this subject, in which '\n",
      " 'I could be guided by no lights derived from official opportunities, I shall '\n",
      " 'again give way to my entire confidence in your discernment and pursuit of '\n",
      " 'the public good; for I assure myself that whilst you carefully avoid every '\n",
      " 'alteration which might endanger the benefits of an united and effective '\n",
      " 'government, or which ought to await the future lessons of experience, a '\n",
      " 'reverence for the characteristic rights of freemen and a regard for the '\n",
      " 'public harmony will sufficiently influence your deliberations on the '\n",
      " 'question how far the former can be impregnably fortified or the latter be '\n",
      " 'safely and advantageously promoted.\\n'\n",
      " 'Having thus imparted to you my sentiments as they have been awakened by the '\n",
      " 'occasion which brings us together, I shall take my present leave; but not '\n",
      " 'without resorting once more to the benign Parent of the Human Race in humble '\n",
      " 'supplication that, since He has been pleased to favor the American people '\n",
      " 'with opportunities for deliberating in perfect tranquillity, and '\n",
      " 'dispositions for deciding with unparalleled unanimity on a form of '\n",
      " 'government for the security of their union and the advancement of their '\n",
      " 'happiness, so His divine blessing may be equally conspicuous in the enlarged '\n",
      " 'views, the temperate consultations, and the wise measures on which the '\n",
      " 'success of this Government must depend.')\n"
     ]
    }
   ],
   "source": [
    "pp.pprint('\\n'.join(build_naive_summary(inaugural.raw('1789-Washington.txt'))))\n"
   ]
  },
  {
   "cell_type": "markdown",
   "metadata": {},
   "source": [
    "<h2>gensim: another text summarizer</h2>\n",
    "<li>Gensim uses a network with sentences as nodes and 'lexical similarity' as weights on the arcs between nodes<p>\n"
   ]
  },
  {
   "cell_type": "code",
   "execution_count": 18,
   "metadata": {},
   "outputs": [
    {
     "name": "stdout",
     "output_type": "stream",
     "text": [
      "Requirement already satisfied: gensim in /home/uday/anaconda3/lib/python3.6/site-packages (3.6.0)\n",
      "Requirement already satisfied: numpy>=1.11.3 in /home/uday/.local/lib/python3.6/site-packages (from gensim) (1.17.2)\n",
      "Requirement already satisfied: smart-open>=1.2.1 in /home/uday/anaconda3/lib/python3.6/site-packages (from gensim) (1.7.1)\n",
      "Requirement already satisfied: scipy>=0.18.1 in /home/uday/anaconda3/lib/python3.6/site-packages (from gensim) (1.0.0)\n",
      "Requirement already satisfied: six>=1.5.0 in /home/uday/anaconda3/lib/python3.6/site-packages (from gensim) (1.11.0)\n",
      "Requirement already satisfied: boto>=2.32 in /home/uday/anaconda3/lib/python3.6/site-packages (from smart-open>=1.2.1->gensim) (2.48.0)\n",
      "Requirement already satisfied: bz2file in /home/uday/anaconda3/lib/python3.6/site-packages (from smart-open>=1.2.1->gensim) (0.98)\n",
      "Requirement already satisfied: requests in /home/uday/.local/lib/python3.6/site-packages (from smart-open>=1.2.1->gensim) (2.22.0)\n",
      "Requirement already satisfied: boto3 in /home/uday/anaconda3/lib/python3.6/site-packages (from smart-open>=1.2.1->gensim) (1.9.30)\n",
      "Requirement already satisfied: chardet<3.1.0,>=3.0.2 in /home/uday/anaconda3/lib/python3.6/site-packages (from requests->smart-open>=1.2.1->gensim) (3.0.4)\n",
      "Requirement already satisfied: urllib3!=1.25.0,!=1.25.1,<1.26,>=1.21.1 in /home/uday/anaconda3/lib/python3.6/site-packages (from requests->smart-open>=1.2.1->gensim) (1.22)\n",
      "Requirement already satisfied: idna<2.9,>=2.5 in /home/uday/anaconda3/lib/python3.6/site-packages (from requests->smart-open>=1.2.1->gensim) (2.6)\n",
      "Requirement already satisfied: certifi>=2017.4.17 in /home/uday/anaconda3/lib/python3.6/site-packages (from requests->smart-open>=1.2.1->gensim) (2018.1.18)\n",
      "Requirement already satisfied: jmespath<1.0.0,>=0.7.1 in /home/uday/anaconda3/lib/python3.6/site-packages (from boto3->smart-open>=1.2.1->gensim) (0.9.3)\n",
      "Requirement already satisfied: botocore<1.13.0,>=1.12.30 in /home/uday/anaconda3/lib/python3.6/site-packages (from boto3->smart-open>=1.2.1->gensim) (1.12.30)\n",
      "Requirement already satisfied: s3transfer<0.2.0,>=0.1.10 in /home/uday/anaconda3/lib/python3.6/site-packages (from boto3->smart-open>=1.2.1->gensim) (0.1.13)\n",
      "Requirement already satisfied: python-dateutil<3.0.0,>=2.1; python_version >= \"2.7\" in /home/uday/anaconda3/lib/python3.6/site-packages (from botocore<1.13.0,>=1.12.30->boto3->smart-open>=1.2.1->gensim) (2.6.1)\n",
      "Requirement already satisfied: docutils>=0.10 in /home/uday/anaconda3/lib/python3.6/site-packages (from botocore<1.13.0,>=1.12.30->boto3->smart-open>=1.2.1->gensim) (0.14)\n",
      "\u001b[33mWARNING: You are using pip version 19.2.3, however version 19.3 is available.\n",
      "You should consider upgrading via the 'pip install --upgrade pip' command.\u001b[0m\n"
     ]
    }
   ],
   "source": [
    "!pip install gensim"
   ]
  },
  {
   "cell_type": "code",
   "execution_count": 19,
   "metadata": {},
   "outputs": [],
   "source": [
    "from wordcloud import WordCloud, STOPWORDS\n",
    "import nltk\n",
    "from nltk.corpus import PlaintextCorpusReader\n",
    "from nltk import sent_tokenize,word_tokenize \n",
    "from nltk.book import *\n",
    "import gensim.summarization"
   ]
  },
  {
   "cell_type": "code",
   "execution_count": 20,
   "metadata": {},
   "outputs": [
    {
     "data": {
      "text/plain": [
       "nltk.corpus.reader.plaintext.PlaintextCorpusReader"
      ]
     },
     "execution_count": 20,
     "metadata": {},
     "output_type": "execute_result"
    }
   ],
   "source": [
    "type(community_data)"
   ]
  },
  {
   "cell_type": "markdown",
   "metadata": {},
   "source": [
    "<h4>Initialize variables and clean data</h4>"
   ]
  },
  {
   "cell_type": "code",
   "execution_count": 62,
   "metadata": {},
   "outputs": [],
   "source": [
    "text = community_data.raw()\n",
    "summary_sentences = []\n",
    "candidate_sentences = {}\n",
    "candidate_sentence_counts = {}\n",
    "striptext = text.replace('\\n\\n', ' ')\n",
    "striptext = striptext.replace('\\n', ' ')"
   ]
  },
  {
   "cell_type": "code",
   "execution_count": 64,
   "metadata": {},
   "outputs": [
    {
     "name": "stdout",
     "output_type": "stream",
     "text": [
      "We each ordered blueberry pancakes and a cup of coffee--no fresh fruit, no juice, no bacon.\n",
      "I started with a raspberry iced tea & ordered the community custom egg white omelette with sautéed spinach & mushrooms and a side of smoked salmon.\n",
      "I've come here several times with a friend for brunch and once for dinner -- we've both really enjoyed a lot of the breakfast foods available; my favorite is the brioche French toast with blackberry and lemon curd & she loves heir waffles.\n",
      "This place is really good for breakfast and has great pancakes, sausages, eggs.\n"
     ]
    }
   ],
   "source": [
    "summary = gensim.summarization.summarize(striptext, word_count=100) \n",
    "print(summary)"
   ]
  },
  {
   "cell_type": "code",
   "execution_count": 23,
   "metadata": {},
   "outputs": [
    {
     "name": "stdout",
     "output_type": "stream",
     "text": [
      "I've come here several times with a friend for brunch and once for dinner -- we've both really enjoyed a lot of the breakfast foods available; my favorite is the brioche French toast with blackberry and lemon curd & she loves heir waffles.\n",
      "There are a lot of nice places in the city where you can get a very good breakfast for 1/3rd to 1/2 less than Community.\n",
      "Came here for brunch with my wife after she found the good review, and it did not disappoint!\n",
      "The beans were seasoned perfectly, as was the rest of the tomato sauce, The tortilla was fresh and soft, and it came with delicious guacamole and sour cream.\n"
     ]
    }
   ],
   "source": [
    "summary = '\\n'.join(build_naive_summary(community_data.raw()))\n",
    "print(summary)"
   ]
  },
  {
   "cell_type": "code",
   "execution_count": 24,
   "metadata": {},
   "outputs": [
    {
     "name": "stdout",
     "output_type": "stream",
     "text": [
      "brunch\n",
      "nice\n",
      "food\n",
      "foods\n",
      "egg\n",
      "eggs\n",
      "good\n",
      "sauced\n",
      "sauce\n",
      "sauces\n",
      "fresh\n",
      "communal\n",
      "community\n",
      "pancakes\n",
      "pancake\n",
      "little\n"
     ]
    }
   ],
   "source": [
    "print(gensim.summarization.keywords(striptext,words=10))"
   ]
  },
  {
   "cell_type": "markdown",
   "metadata": {},
   "source": [
    "<h3>Comparing Trump's inaugural speech using the two methods</h3>"
   ]
  },
  {
   "cell_type": "code",
   "execution_count": 25,
   "metadata": {},
   "outputs": [
    {
     "name": "stdout",
     "output_type": "stream",
     "text": [
      "Chief Justice Roberts, President Carter, President Clinton, President Bush, President Obama, fellow Americans, and people of the world, thank you.\n",
      "We the citizens of America are now joined in a great national effort to rebuild our country and restore its promise for all of our people.\n",
      "Americans want great schools for their children, safe neighborhoods for their families, and good jobs for themselves.\n",
      "At the bedrock of our politics will be a total allegiance to the United States of America, and through our loyalty to our country, we will rediscover our loyalty to each other.\n",
      "In America, we understand that a nation is only living as long as it is striving.\n"
     ]
    }
   ],
   "source": [
    "text = inaugural.raw('2017-Trump.txt')\n",
    "summary_sentences = []\n",
    "candidate_sentences = {}\n",
    "candidate_sentence_counts = {}\n",
    "striptext = text.replace('\\n\\n', ' ')\n",
    "striptext = striptext.replace('\\n', ' ')\n",
    "summary = gensim.summarization.summarize(striptext, word_count=100) \n",
    "print(summary)\n",
    "#print(gensim.summarization.keywords(striptext,words=10))"
   ]
  },
  {
   "cell_type": "code",
   "execution_count": 26,
   "metadata": {},
   "outputs": [
    {
     "name": "stdout",
     "output_type": "stream",
     "text": [
      "We the citizens of America are now joined in a great national effort to rebuild our country and restore its promise for all of our people.\n",
      "We will get our people off of welfare and back to work, rebuilding our country with American hands and American labor.\n",
      "One by one, the factories shuddered and left our shores, with not even a thought about the millions and millions of American workers that were left behind.\n",
      "We all enjoy the same glorious freedoms, and we all salute the same, great American flag.\n"
     ]
    }
   ],
   "source": [
    "summary = '\\n'.join(build_naive_summary(inaugural.raw('2017-Trump.txt')))\n",
    "print(summary)"
   ]
  },
  {
   "cell_type": "markdown",
   "metadata": {},
   "source": [
    "<h1>Topic modeling</h1>\n",
    "<li>The goal of topic modeling is to identify the major concepts underlying a piece of text\n",
    "<li>Topic modeling uses \"Unsupervised Learning\". No a-priori knowledge is necessary\n",
    "<li>Though, without a-priori knowledge, your results are unlikely to be good!"
   ]
  },
  {
   "cell_type": "markdown",
   "metadata": {},
   "source": [
    "<h3>LDA: Latent Dirichlet Allocation Model</h3>\n",
    "<li>Identifies potential topics using pruning techniques like 'upward closure'\n",
    "<li>Computes conditional probabilities for topic word sets\n",
    "<li>Identifies the most likely topics\n",
    "<li>Does this over multiple passes probabilistically picking topics in each pass\n",
    "<li>Good intuitive explanation: http://blog.echen.me/2011/08/22/introduction-to-latent-dirichlet-allocation/"
   ]
  },
  {
   "cell_type": "markdown",
   "metadata": {},
   "source": [
    "<h2>LDA: Latent Dirichlet Allocation</h2>\n",
    "<li>A technique for topic modeling\n",
    "<li>Basic assumptions:\n",
    "<ol>\n",
    "<li>Every document will be associated with a set of topics \n",
    "<li>The topics will be distributed across a probability distribution\n",
    "<li>Each topic will be represented in the document by a set of words\n",
    "<li>The words associated with the topic will be distributed across a probability distribution\n",
    "</ol>\n",
    "<li>Given these assumptions, LDA scans the document and tries to deduce the topic and word distributions"
   ]
  },
  {
   "cell_type": "markdown",
   "metadata": {},
   "source": [
    "<h3>Example</h3>\n",
    "<li>We'll look at the political news stories on slate.com\n",
    "<li>See what topics they cover\n"
   ]
  },
  {
   "cell_type": "markdown",
   "metadata": {},
   "source": [
    "<li>Generate a list of story links\n",
    "<li>Get the stories and store in a document set"
   ]
  },
  {
   "cell_type": "code",
   "execution_count": 95,
   "metadata": {},
   "outputs": [
    {
     "name": "stdout",
     "output_type": "stream",
     "text": [
      "41\n"
     ]
    },
    {
     "name": "stderr",
     "output_type": "stream",
     "text": [
      "/home/uday/anaconda3/lib/python3.6/site-packages/bs4/builder/_lxml.py:250: DeprecationWarning: inspect.getargspec() is deprecated, use inspect.signature() or inspect.getfullargspec()\n",
      "  self.parser.feed(markup)\n"
     ]
    }
   ],
   "source": [
    "import requests\n",
    "from bs4 import BeautifulSoup\n",
    "url=\"https://www.slate.com\"\n",
    "page = requests.get(url)\n",
    "bs_page = BeautifulSoup(page.content,'lxml')\n",
    "all_links = bs_page.find_all('a')\n",
    "categories = ['news_and_politics','news-and-politics']\n",
    "followable_links = list()\n",
    "for link in all_links:\n",
    "    href = link.get('href')\n",
    "    if href:\n",
    "        for cat in categories:\n",
    "            if cat in href:\n",
    "                followable_links.append(href)\n",
    "print(len(followable_links))"
   ]
  },
  {
   "cell_type": "code",
   "execution_count": 28,
   "metadata": {},
   "outputs": [],
   "source": [
    "# followable_links"
   ]
  },
  {
   "cell_type": "code",
   "execution_count": 96,
   "metadata": {},
   "outputs": [
    {
     "name": "stderr",
     "output_type": "stream",
     "text": [
      "/home/uday/anaconda3/lib/python3.6/site-packages/bs4/builder/_lxml.py:250: DeprecationWarning: inspect.getargspec() is deprecated, use inspect.signature() or inspect.getfullargspec()\n",
      "  self.parser.feed(markup)\n",
      "/home/uday/anaconda3/lib/python3.6/site-packages/bs4/builder/_lxml.py:250: DeprecationWarning: inspect.getargspec() is deprecated, use inspect.signature() or inspect.getfullargspec()\n",
      "  self.parser.feed(markup)\n",
      "/home/uday/anaconda3/lib/python3.6/site-packages/bs4/builder/_lxml.py:250: DeprecationWarning: inspect.getargspec() is deprecated, use inspect.signature() or inspect.getfullargspec()\n",
      "  self.parser.feed(markup)\n",
      "/home/uday/anaconda3/lib/python3.6/site-packages/bs4/builder/_lxml.py:250: DeprecationWarning: inspect.getargspec() is deprecated, use inspect.signature() or inspect.getfullargspec()\n",
      "  self.parser.feed(markup)\n",
      "/home/uday/anaconda3/lib/python3.6/site-packages/bs4/builder/_lxml.py:250: DeprecationWarning: inspect.getargspec() is deprecated, use inspect.signature() or inspect.getfullargspec()\n",
      "  self.parser.feed(markup)\n",
      "/home/uday/anaconda3/lib/python3.6/site-packages/bs4/builder/_lxml.py:250: DeprecationWarning: inspect.getargspec() is deprecated, use inspect.signature() or inspect.getfullargspec()\n",
      "  self.parser.feed(markup)\n",
      "/home/uday/anaconda3/lib/python3.6/site-packages/bs4/builder/_lxml.py:250: DeprecationWarning: inspect.getargspec() is deprecated, use inspect.signature() or inspect.getfullargspec()\n",
      "  self.parser.feed(markup)\n",
      "/home/uday/anaconda3/lib/python3.6/site-packages/bs4/builder/_lxml.py:250: DeprecationWarning: inspect.getargspec() is deprecated, use inspect.signature() or inspect.getfullargspec()\n",
      "  self.parser.feed(markup)\n",
      "/home/uday/anaconda3/lib/python3.6/site-packages/bs4/builder/_lxml.py:250: DeprecationWarning: inspect.getargspec() is deprecated, use inspect.signature() or inspect.getfullargspec()\n",
      "  self.parser.feed(markup)\n",
      "/home/uday/anaconda3/lib/python3.6/site-packages/bs4/builder/_lxml.py:250: DeprecationWarning: inspect.getargspec() is deprecated, use inspect.signature() or inspect.getfullargspec()\n",
      "  self.parser.feed(markup)\n",
      "/home/uday/anaconda3/lib/python3.6/site-packages/bs4/builder/_lxml.py:250: DeprecationWarning: inspect.getargspec() is deprecated, use inspect.signature() or inspect.getfullargspec()\n",
      "  self.parser.feed(markup)\n",
      "/home/uday/anaconda3/lib/python3.6/site-packages/bs4/builder/_lxml.py:250: DeprecationWarning: inspect.getargspec() is deprecated, use inspect.signature() or inspect.getfullargspec()\n",
      "  self.parser.feed(markup)\n",
      "/home/uday/anaconda3/lib/python3.6/site-packages/bs4/builder/_lxml.py:250: DeprecationWarning: inspect.getargspec() is deprecated, use inspect.signature() or inspect.getfullargspec()\n",
      "  self.parser.feed(markup)\n",
      "/home/uday/anaconda3/lib/python3.6/site-packages/bs4/builder/_lxml.py:250: DeprecationWarning: inspect.getargspec() is deprecated, use inspect.signature() or inspect.getfullargspec()\n",
      "  self.parser.feed(markup)\n",
      "/home/uday/anaconda3/lib/python3.6/site-packages/bs4/builder/_lxml.py:250: DeprecationWarning: inspect.getargspec() is deprecated, use inspect.signature() or inspect.getfullargspec()\n",
      "  self.parser.feed(markup)\n",
      "/home/uday/anaconda3/lib/python3.6/site-packages/bs4/builder/_lxml.py:250: DeprecationWarning: inspect.getargspec() is deprecated, use inspect.signature() or inspect.getfullargspec()\n",
      "  self.parser.feed(markup)\n",
      "/home/uday/anaconda3/lib/python3.6/site-packages/bs4/builder/_lxml.py:250: DeprecationWarning: inspect.getargspec() is deprecated, use inspect.signature() or inspect.getfullargspec()\n",
      "  self.parser.feed(markup)\n",
      "/home/uday/anaconda3/lib/python3.6/site-packages/bs4/builder/_lxml.py:250: DeprecationWarning: inspect.getargspec() is deprecated, use inspect.signature() or inspect.getfullargspec()\n",
      "  self.parser.feed(markup)\n",
      "/home/uday/anaconda3/lib/python3.6/site-packages/bs4/builder/_lxml.py:250: DeprecationWarning: inspect.getargspec() is deprecated, use inspect.signature() or inspect.getfullargspec()\n",
      "  self.parser.feed(markup)\n",
      "/home/uday/anaconda3/lib/python3.6/site-packages/bs4/builder/_lxml.py:250: DeprecationWarning: inspect.getargspec() is deprecated, use inspect.signature() or inspect.getfullargspec()\n",
      "  self.parser.feed(markup)\n",
      "/home/uday/anaconda3/lib/python3.6/site-packages/bs4/builder/_lxml.py:250: DeprecationWarning: inspect.getargspec() is deprecated, use inspect.signature() or inspect.getfullargspec()\n",
      "  self.parser.feed(markup)\n",
      "/home/uday/anaconda3/lib/python3.6/site-packages/bs4/builder/_lxml.py:250: DeprecationWarning: inspect.getargspec() is deprecated, use inspect.signature() or inspect.getfullargspec()\n",
      "  self.parser.feed(markup)\n",
      "/home/uday/anaconda3/lib/python3.6/site-packages/bs4/builder/_lxml.py:250: DeprecationWarning: inspect.getargspec() is deprecated, use inspect.signature() or inspect.getfullargspec()\n",
      "  self.parser.feed(markup)\n",
      "/home/uday/anaconda3/lib/python3.6/site-packages/bs4/builder/_lxml.py:250: DeprecationWarning: inspect.getargspec() is deprecated, use inspect.signature() or inspect.getfullargspec()\n",
      "  self.parser.feed(markup)\n",
      "/home/uday/anaconda3/lib/python3.6/site-packages/bs4/builder/_lxml.py:250: DeprecationWarning: inspect.getargspec() is deprecated, use inspect.signature() or inspect.getfullargspec()\n",
      "  self.parser.feed(markup)\n",
      "/home/uday/anaconda3/lib/python3.6/site-packages/bs4/builder/_lxml.py:250: DeprecationWarning: inspect.getargspec() is deprecated, use inspect.signature() or inspect.getfullargspec()\n",
      "  self.parser.feed(markup)\n",
      "/home/uday/anaconda3/lib/python3.6/site-packages/bs4/builder/_lxml.py:250: DeprecationWarning: inspect.getargspec() is deprecated, use inspect.signature() or inspect.getfullargspec()\n",
      "  self.parser.feed(markup)\n",
      "/home/uday/anaconda3/lib/python3.6/site-packages/bs4/builder/_lxml.py:250: DeprecationWarning: inspect.getargspec() is deprecated, use inspect.signature() or inspect.getfullargspec()\n",
      "  self.parser.feed(markup)\n",
      "/home/uday/anaconda3/lib/python3.6/site-packages/bs4/builder/_lxml.py:250: DeprecationWarning: inspect.getargspec() is deprecated, use inspect.signature() or inspect.getfullargspec()\n",
      "  self.parser.feed(markup)\n",
      "/home/uday/anaconda3/lib/python3.6/site-packages/bs4/builder/_lxml.py:250: DeprecationWarning: inspect.getargspec() is deprecated, use inspect.signature() or inspect.getfullargspec()\n",
      "  self.parser.feed(markup)\n",
      "/home/uday/anaconda3/lib/python3.6/site-packages/bs4/builder/_lxml.py:250: DeprecationWarning: inspect.getargspec() is deprecated, use inspect.signature() or inspect.getfullargspec()\n",
      "  self.parser.feed(markup)\n",
      "/home/uday/anaconda3/lib/python3.6/site-packages/bs4/builder/_lxml.py:250: DeprecationWarning: inspect.getargspec() is deprecated, use inspect.signature() or inspect.getfullargspec()\n",
      "  self.parser.feed(markup)\n",
      "/home/uday/anaconda3/lib/python3.6/site-packages/bs4/builder/_lxml.py:250: DeprecationWarning: inspect.getargspec() is deprecated, use inspect.signature() or inspect.getfullargspec()\n",
      "  self.parser.feed(markup)\n"
     ]
    }
   ],
   "source": [
    "story_list = list()\n",
    "count=0\n",
    "for link in followable_links:\n",
    "    try:\n",
    "        page=BeautifulSoup(requests.get(link).content,'lxml')\n",
    "        text=page.find('body').find('section',class_='article__body').get_text().strip()\n",
    "        story_list.append(text)\n",
    "        count+=1\n",
    "    except:\n",
    "        continue\n",
    "# print(count)       \n",
    "        "
   ]
  },
  {
   "cell_type": "markdown",
   "metadata": {},
   "source": [
    "<h2>imports for LDA</h2>"
   ]
  },
  {
   "cell_type": "code",
   "execution_count": 30,
   "metadata": {},
   "outputs": [],
   "source": [
    "from gensim import corpora\n",
    "from gensim.models.ldamodel import LdaModel\n",
    "from gensim.parsing.preprocessing import STOPWORDS\n",
    "import pprint"
   ]
  },
  {
   "cell_type": "markdown",
   "metadata": {},
   "source": [
    "<h4>Prepare the text</h4>"
   ]
  },
  {
   "cell_type": "markdown",
   "metadata": {},
   "source": [
    "<h4>prepare the text</h4>\n",
    "<li>Clean it (remove numbers, end of line characters, common words)\n",
    "<li>Sentence tokenize it\n",
    "<li>Convert each sentence into a list of words\n"
   ]
  },
  {
   "cell_type": "code",
   "execution_count": 97,
   "metadata": {},
   "outputs": [],
   "source": [
    "for i in range(len(story_list)):\n",
    "    story = story_list[i]\n",
    "    sents = sent_tokenize(story)\n",
    "    for j in range(len(sents)):\n",
    "        sent = sents[j]\n",
    "        sent = sent.strip().replace('\\n','')\n",
    "        sents[j] = sent\n",
    "    story_list[i] = '. '.join(sents)\n",
    "# story_list[0]"
   ]
  },
  {
   "cell_type": "code",
   "execution_count": 119,
   "metadata": {},
   "outputs": [],
   "source": [
    "# story_list"
   ]
  },
  {
   "cell_type": "markdown",
   "metadata": {},
   "source": [
    "<li>Each document is converted into a list of words"
   ]
  },
  {
   "cell_type": "code",
   "execution_count": 100,
   "metadata": {},
   "outputs": [],
   "source": [
    "\n",
    "texts = [[word for word in story.lower().split()\n",
    "        if word not in STOPWORDS and word.isalnum() and not word.lower() == 'slate']\n",
    "        for story in story_list]\n",
    "\n"
   ]
  },
  {
   "cell_type": "code",
   "execution_count": 117,
   "metadata": {},
   "outputs": [],
   "source": [
    "# texts"
   ]
  },
  {
   "cell_type": "markdown",
   "metadata": {},
   "source": [
    "<h4>Create a (word,frequency) dictionary for each word in the text</h4>\n",
    "<li>dictionary: key = word, value = integer (a unique number attached to each word). corpora.Dictionary generates this.\n",
    "<li>corpus: A list of (word index, frequency) pairs for each text. doc2bow generates this"
   ]
  },
  {
   "cell_type": "code",
   "execution_count": 103,
   "metadata": {},
   "outputs": [],
   "source": [
    "dictionary = corpora.Dictionary(texts) #(word_id,word) pairs\n",
    "corpus = [dictionary.doc2bow(text) for text in texts] #(word_id,freq) pairs by sentence\n",
    "#print(dictionary.token2id)\n",
    "#print(dictionary.keys())\n",
    "#print(corpus[3])\n",
    "#print(texts[3])\n",
    "#print(dictionary[37])\n",
    "#dictionary[4]\n"
   ]
  },
  {
   "cell_type": "code",
   "execution_count": 104,
   "metadata": {},
   "outputs": [],
   "source": [
    "# for k,v in dictionary.items():\n",
    "#     print (k,v)"
   ]
  },
  {
   "cell_type": "markdown",
   "metadata": {},
   "source": [
    "<h2>Do the LDA</h2>"
   ]
  },
  {
   "cell_type": "markdown",
   "metadata": {},
   "source": [
    "<h4>Parameters:</h4>\n",
    "<li>Number of topics: The number of topics you want generated. \n",
    "<li>Passes: The LDA model makes through the document. More passes, slower analysis\n",
    "<ol>\n",
    "<li>LDA first randomly assigns words and word weights to each topic\n",
    "<li>In each pass, it refines the weights\n",
    "<li>In short, you want the number of passes to be wherever the gain (improved weights) is minimal"
   ]
  },
  {
   "cell_type": "code",
   "execution_count": 35,
   "metadata": {},
   "outputs": [],
   "source": [
    "#Set parameters\n",
    "num_topics = 5 #The number of topics that should be generated\n",
    "passes = 10"
   ]
  },
  {
   "cell_type": "code",
   "execution_count": 105,
   "metadata": {},
   "outputs": [
    {
     "name": "stderr",
     "output_type": "stream",
     "text": [
      "/home/uday/anaconda3/lib/python3.6/site-packages/gensim/models/ldamodel.py:1077: DeprecationWarning: Calling np.sum(generator) is deprecated, and in the future will give a different result. Use np.sum(np.fromiter(generator)) or the python sum builtin instead.\n",
      "  score += np.sum(cnt * logsumexp(Elogthetad + Elogbeta[:, int(id)]) for id, cnt in doc)\n",
      "/home/uday/anaconda3/lib/python3.6/site-packages/gensim/models/ldamodel.py:1077: DeprecationWarning: Calling np.sum(generator) is deprecated, and in the future will give a different result. Use np.sum(np.fromiter(generator)) or the python sum builtin instead.\n",
      "  score += np.sum(cnt * logsumexp(Elogthetad + Elogbeta[:, int(id)]) for id, cnt in doc)\n",
      "/home/uday/anaconda3/lib/python3.6/site-packages/gensim/models/ldamodel.py:1077: DeprecationWarning: Calling np.sum(generator) is deprecated, and in the future will give a different result. Use np.sum(np.fromiter(generator)) or the python sum builtin instead.\n",
      "  score += np.sum(cnt * logsumexp(Elogthetad + Elogbeta[:, int(id)]) for id, cnt in doc)\n",
      "/home/uday/anaconda3/lib/python3.6/site-packages/gensim/models/ldamodel.py:1077: DeprecationWarning: Calling np.sum(generator) is deprecated, and in the future will give a different result. Use np.sum(np.fromiter(generator)) or the python sum builtin instead.\n",
      "  score += np.sum(cnt * logsumexp(Elogthetad + Elogbeta[:, int(id)]) for id, cnt in doc)\n",
      "/home/uday/anaconda3/lib/python3.6/site-packages/gensim/models/ldamodel.py:1077: DeprecationWarning: Calling np.sum(generator) is deprecated, and in the future will give a different result. Use np.sum(np.fromiter(generator)) or the python sum builtin instead.\n",
      "  score += np.sum(cnt * logsumexp(Elogthetad + Elogbeta[:, int(id)]) for id, cnt in doc)\n",
      "/home/uday/anaconda3/lib/python3.6/site-packages/gensim/models/ldamodel.py:1077: DeprecationWarning: Calling np.sum(generator) is deprecated, and in the future will give a different result. Use np.sum(np.fromiter(generator)) or the python sum builtin instead.\n",
      "  score += np.sum(cnt * logsumexp(Elogthetad + Elogbeta[:, int(id)]) for id, cnt in doc)\n",
      "/home/uday/anaconda3/lib/python3.6/site-packages/gensim/models/ldamodel.py:1077: DeprecationWarning: Calling np.sum(generator) is deprecated, and in the future will give a different result. Use np.sum(np.fromiter(generator)) or the python sum builtin instead.\n",
      "  score += np.sum(cnt * logsumexp(Elogthetad + Elogbeta[:, int(id)]) for id, cnt in doc)\n",
      "/home/uday/anaconda3/lib/python3.6/site-packages/gensim/models/ldamodel.py:1077: DeprecationWarning: Calling np.sum(generator) is deprecated, and in the future will give a different result. Use np.sum(np.fromiter(generator)) or the python sum builtin instead.\n",
      "  score += np.sum(cnt * logsumexp(Elogthetad + Elogbeta[:, int(id)]) for id, cnt in doc)\n",
      "/home/uday/anaconda3/lib/python3.6/site-packages/gensim/models/ldamodel.py:1077: DeprecationWarning: Calling np.sum(generator) is deprecated, and in the future will give a different result. Use np.sum(np.fromiter(generator)) or the python sum builtin instead.\n",
      "  score += np.sum(cnt * logsumexp(Elogthetad + Elogbeta[:, int(id)]) for id, cnt in doc)\n",
      "/home/uday/anaconda3/lib/python3.6/site-packages/gensim/models/ldamodel.py:1077: DeprecationWarning: Calling np.sum(generator) is deprecated, and in the future will give a different result. Use np.sum(np.fromiter(generator)) or the python sum builtin instead.\n",
      "  score += np.sum(cnt * logsumexp(Elogthetad + Elogbeta[:, int(id)]) for id, cnt in doc)\n",
      "/home/uday/anaconda3/lib/python3.6/site-packages/gensim/models/ldamodel.py:1077: DeprecationWarning: Calling np.sum(generator) is deprecated, and in the future will give a different result. Use np.sum(np.fromiter(generator)) or the python sum builtin instead.\n",
      "  score += np.sum(cnt * logsumexp(Elogthetad + Elogbeta[:, int(id)]) for id, cnt in doc)\n",
      "/home/uday/anaconda3/lib/python3.6/site-packages/gensim/models/ldamodel.py:1077: DeprecationWarning: Calling np.sum(generator) is deprecated, and in the future will give a different result. Use np.sum(np.fromiter(generator)) or the python sum builtin instead.\n",
      "  score += np.sum(cnt * logsumexp(Elogthetad + Elogbeta[:, int(id)]) for id, cnt in doc)\n",
      "/home/uday/anaconda3/lib/python3.6/site-packages/gensim/models/ldamodel.py:1077: DeprecationWarning: Calling np.sum(generator) is deprecated, and in the future will give a different result. Use np.sum(np.fromiter(generator)) or the python sum builtin instead.\n",
      "  score += np.sum(cnt * logsumexp(Elogthetad + Elogbeta[:, int(id)]) for id, cnt in doc)\n",
      "/home/uday/anaconda3/lib/python3.6/site-packages/gensim/models/ldamodel.py:1077: DeprecationWarning: Calling np.sum(generator) is deprecated, and in the future will give a different result. Use np.sum(np.fromiter(generator)) or the python sum builtin instead.\n",
      "  score += np.sum(cnt * logsumexp(Elogthetad + Elogbeta[:, int(id)]) for id, cnt in doc)\n",
      "/home/uday/anaconda3/lib/python3.6/site-packages/gensim/models/ldamodel.py:1077: DeprecationWarning: Calling np.sum(generator) is deprecated, and in the future will give a different result. Use np.sum(np.fromiter(generator)) or the python sum builtin instead.\n",
      "  score += np.sum(cnt * logsumexp(Elogthetad + Elogbeta[:, int(id)]) for id, cnt in doc)\n",
      "/home/uday/anaconda3/lib/python3.6/site-packages/gensim/models/ldamodel.py:1077: DeprecationWarning: Calling np.sum(generator) is deprecated, and in the future will give a different result. Use np.sum(np.fromiter(generator)) or the python sum builtin instead.\n",
      "  score += np.sum(cnt * logsumexp(Elogthetad + Elogbeta[:, int(id)]) for id, cnt in doc)\n",
      "/home/uday/anaconda3/lib/python3.6/site-packages/gensim/models/ldamodel.py:1077: DeprecationWarning: Calling np.sum(generator) is deprecated, and in the future will give a different result. Use np.sum(np.fromiter(generator)) or the python sum builtin instead.\n",
      "  score += np.sum(cnt * logsumexp(Elogthetad + Elogbeta[:, int(id)]) for id, cnt in doc)\n",
      "/home/uday/anaconda3/lib/python3.6/site-packages/gensim/models/ldamodel.py:1077: DeprecationWarning: Calling np.sum(generator) is deprecated, and in the future will give a different result. Use np.sum(np.fromiter(generator)) or the python sum builtin instead.\n",
      "  score += np.sum(cnt * logsumexp(Elogthetad + Elogbeta[:, int(id)]) for id, cnt in doc)\n",
      "/home/uday/anaconda3/lib/python3.6/site-packages/gensim/models/ldamodel.py:1077: DeprecationWarning: Calling np.sum(generator) is deprecated, and in the future will give a different result. Use np.sum(np.fromiter(generator)) or the python sum builtin instead.\n",
      "  score += np.sum(cnt * logsumexp(Elogthetad + Elogbeta[:, int(id)]) for id, cnt in doc)\n",
      "/home/uday/anaconda3/lib/python3.6/site-packages/gensim/models/ldamodel.py:1077: DeprecationWarning: Calling np.sum(generator) is deprecated, and in the future will give a different result. Use np.sum(np.fromiter(generator)) or the python sum builtin instead.\n",
      "  score += np.sum(cnt * logsumexp(Elogthetad + Elogbeta[:, int(id)]) for id, cnt in doc)\n",
      "/home/uday/anaconda3/lib/python3.6/site-packages/gensim/models/ldamodel.py:1077: DeprecationWarning: Calling np.sum(generator) is deprecated, and in the future will give a different result. Use np.sum(np.fromiter(generator)) or the python sum builtin instead.\n",
      "  score += np.sum(cnt * logsumexp(Elogthetad + Elogbeta[:, int(id)]) for id, cnt in doc)\n",
      "/home/uday/anaconda3/lib/python3.6/site-packages/gensim/models/ldamodel.py:1077: DeprecationWarning: Calling np.sum(generator) is deprecated, and in the future will give a different result. Use np.sum(np.fromiter(generator)) or the python sum builtin instead.\n",
      "  score += np.sum(cnt * logsumexp(Elogthetad + Elogbeta[:, int(id)]) for id, cnt in doc)\n",
      "/home/uday/anaconda3/lib/python3.6/site-packages/gensim/models/ldamodel.py:1077: DeprecationWarning: Calling np.sum(generator) is deprecated, and in the future will give a different result. Use np.sum(np.fromiter(generator)) or the python sum builtin instead.\n",
      "  score += np.sum(cnt * logsumexp(Elogthetad + Elogbeta[:, int(id)]) for id, cnt in doc)\n",
      "/home/uday/anaconda3/lib/python3.6/site-packages/gensim/models/ldamodel.py:1077: DeprecationWarning: Calling np.sum(generator) is deprecated, and in the future will give a different result. Use np.sum(np.fromiter(generator)) or the python sum builtin instead.\n",
      "  score += np.sum(cnt * logsumexp(Elogthetad + Elogbeta[:, int(id)]) for id, cnt in doc)\n",
      "/home/uday/anaconda3/lib/python3.6/site-packages/gensim/models/ldamodel.py:1077: DeprecationWarning: Calling np.sum(generator) is deprecated, and in the future will give a different result. Use np.sum(np.fromiter(generator)) or the python sum builtin instead.\n",
      "  score += np.sum(cnt * logsumexp(Elogthetad + Elogbeta[:, int(id)]) for id, cnt in doc)\n",
      "/home/uday/anaconda3/lib/python3.6/site-packages/gensim/models/ldamodel.py:1077: DeprecationWarning: Calling np.sum(generator) is deprecated, and in the future will give a different result. Use np.sum(np.fromiter(generator)) or the python sum builtin instead.\n",
      "  score += np.sum(cnt * logsumexp(Elogthetad + Elogbeta[:, int(id)]) for id, cnt in doc)\n",
      "/home/uday/anaconda3/lib/python3.6/site-packages/gensim/models/ldamodel.py:1077: DeprecationWarning: Calling np.sum(generator) is deprecated, and in the future will give a different result. Use np.sum(np.fromiter(generator)) or the python sum builtin instead.\n",
      "  score += np.sum(cnt * logsumexp(Elogthetad + Elogbeta[:, int(id)]) for id, cnt in doc)\n",
      "/home/uday/anaconda3/lib/python3.6/site-packages/gensim/models/ldamodel.py:1077: DeprecationWarning: Calling np.sum(generator) is deprecated, and in the future will give a different result. Use np.sum(np.fromiter(generator)) or the python sum builtin instead.\n",
      "  score += np.sum(cnt * logsumexp(Elogthetad + Elogbeta[:, int(id)]) for id, cnt in doc)\n",
      "/home/uday/anaconda3/lib/python3.6/site-packages/gensim/models/ldamodel.py:1077: DeprecationWarning: Calling np.sum(generator) is deprecated, and in the future will give a different result. Use np.sum(np.fromiter(generator)) or the python sum builtin instead.\n",
      "  score += np.sum(cnt * logsumexp(Elogthetad + Elogbeta[:, int(id)]) for id, cnt in doc)\n",
      "/home/uday/anaconda3/lib/python3.6/site-packages/gensim/models/ldamodel.py:1077: DeprecationWarning: Calling np.sum(generator) is deprecated, and in the future will give a different result. Use np.sum(np.fromiter(generator)) or the python sum builtin instead.\n",
      "  score += np.sum(cnt * logsumexp(Elogthetad + Elogbeta[:, int(id)]) for id, cnt in doc)\n",
      "/home/uday/anaconda3/lib/python3.6/site-packages/gensim/models/ldamodel.py:1077: DeprecationWarning: Calling np.sum(generator) is deprecated, and in the future will give a different result. Use np.sum(np.fromiter(generator)) or the python sum builtin instead.\n",
      "  score += np.sum(cnt * logsumexp(Elogthetad + Elogbeta[:, int(id)]) for id, cnt in doc)\n",
      "/home/uday/anaconda3/lib/python3.6/site-packages/gensim/models/ldamodel.py:1077: DeprecationWarning: Calling np.sum(generator) is deprecated, and in the future will give a different result. Use np.sum(np.fromiter(generator)) or the python sum builtin instead.\n",
      "  score += np.sum(cnt * logsumexp(Elogthetad + Elogbeta[:, int(id)]) for id, cnt in doc)\n",
      "/home/uday/anaconda3/lib/python3.6/site-packages/gensim/models/ldamodel.py:1077: DeprecationWarning: Calling np.sum(generator) is deprecated, and in the future will give a different result. Use np.sum(np.fromiter(generator)) or the python sum builtin instead.\n",
      "  score += np.sum(cnt * logsumexp(Elogthetad + Elogbeta[:, int(id)]) for id, cnt in doc)\n",
      "/home/uday/anaconda3/lib/python3.6/site-packages/gensim/models/ldamodel.py:1077: DeprecationWarning: Calling np.sum(generator) is deprecated, and in the future will give a different result. Use np.sum(np.fromiter(generator)) or the python sum builtin instead.\n",
      "  score += np.sum(cnt * logsumexp(Elogthetad + Elogbeta[:, int(id)]) for id, cnt in doc)\n",
      "/home/uday/anaconda3/lib/python3.6/site-packages/gensim/models/ldamodel.py:1077: DeprecationWarning: Calling np.sum(generator) is deprecated, and in the future will give a different result. Use np.sum(np.fromiter(generator)) or the python sum builtin instead.\n",
      "  score += np.sum(cnt * logsumexp(Elogthetad + Elogbeta[:, int(id)]) for id, cnt in doc)\n",
      "/home/uday/anaconda3/lib/python3.6/site-packages/gensim/models/ldamodel.py:1077: DeprecationWarning: Calling np.sum(generator) is deprecated, and in the future will give a different result. Use np.sum(np.fromiter(generator)) or the python sum builtin instead.\n",
      "  score += np.sum(cnt * logsumexp(Elogthetad + Elogbeta[:, int(id)]) for id, cnt in doc)\n",
      "/home/uday/anaconda3/lib/python3.6/site-packages/gensim/models/ldamodel.py:1077: DeprecationWarning: Calling np.sum(generator) is deprecated, and in the future will give a different result. Use np.sum(np.fromiter(generator)) or the python sum builtin instead.\n",
      "  score += np.sum(cnt * logsumexp(Elogthetad + Elogbeta[:, int(id)]) for id, cnt in doc)\n",
      "/home/uday/anaconda3/lib/python3.6/site-packages/gensim/models/ldamodel.py:1077: DeprecationWarning: Calling np.sum(generator) is deprecated, and in the future will give a different result. Use np.sum(np.fromiter(generator)) or the python sum builtin instead.\n",
      "  score += np.sum(cnt * logsumexp(Elogthetad + Elogbeta[:, int(id)]) for id, cnt in doc)\n",
      "/home/uday/anaconda3/lib/python3.6/site-packages/gensim/models/ldamodel.py:1077: DeprecationWarning: Calling np.sum(generator) is deprecated, and in the future will give a different result. Use np.sum(np.fromiter(generator)) or the python sum builtin instead.\n",
      "  score += np.sum(cnt * logsumexp(Elogthetad + Elogbeta[:, int(id)]) for id, cnt in doc)\n",
      "/home/uday/anaconda3/lib/python3.6/site-packages/gensim/models/ldamodel.py:1077: DeprecationWarning: Calling np.sum(generator) is deprecated, and in the future will give a different result. Use np.sum(np.fromiter(generator)) or the python sum builtin instead.\n",
      "  score += np.sum(cnt * logsumexp(Elogthetad + Elogbeta[:, int(id)]) for id, cnt in doc)\n",
      "/home/uday/anaconda3/lib/python3.6/site-packages/gensim/models/ldamodel.py:1077: DeprecationWarning: Calling np.sum(generator) is deprecated, and in the future will give a different result. Use np.sum(np.fromiter(generator)) or the python sum builtin instead.\n",
      "  score += np.sum(cnt * logsumexp(Elogthetad + Elogbeta[:, int(id)]) for id, cnt in doc)\n",
      "/home/uday/anaconda3/lib/python3.6/site-packages/gensim/models/ldamodel.py:1077: DeprecationWarning: Calling np.sum(generator) is deprecated, and in the future will give a different result. Use np.sum(np.fromiter(generator)) or the python sum builtin instead.\n",
      "  score += np.sum(cnt * logsumexp(Elogthetad + Elogbeta[:, int(id)]) for id, cnt in doc)\n",
      "/home/uday/anaconda3/lib/python3.6/site-packages/gensim/models/ldamodel.py:1077: DeprecationWarning: Calling np.sum(generator) is deprecated, and in the future will give a different result. Use np.sum(np.fromiter(generator)) or the python sum builtin instead.\n",
      "  score += np.sum(cnt * logsumexp(Elogthetad + Elogbeta[:, int(id)]) for id, cnt in doc)\n",
      "/home/uday/anaconda3/lib/python3.6/site-packages/gensim/models/ldamodel.py:1077: DeprecationWarning: Calling np.sum(generator) is deprecated, and in the future will give a different result. Use np.sum(np.fromiter(generator)) or the python sum builtin instead.\n",
      "  score += np.sum(cnt * logsumexp(Elogthetad + Elogbeta[:, int(id)]) for id, cnt in doc)\n",
      "/home/uday/anaconda3/lib/python3.6/site-packages/gensim/models/ldamodel.py:1077: DeprecationWarning: Calling np.sum(generator) is deprecated, and in the future will give a different result. Use np.sum(np.fromiter(generator)) or the python sum builtin instead.\n",
      "  score += np.sum(cnt * logsumexp(Elogthetad + Elogbeta[:, int(id)]) for id, cnt in doc)\n",
      "/home/uday/anaconda3/lib/python3.6/site-packages/gensim/models/ldamodel.py:1077: DeprecationWarning: Calling np.sum(generator) is deprecated, and in the future will give a different result. Use np.sum(np.fromiter(generator)) or the python sum builtin instead.\n",
      "  score += np.sum(cnt * logsumexp(Elogthetad + Elogbeta[:, int(id)]) for id, cnt in doc)\n",
      "/home/uday/anaconda3/lib/python3.6/site-packages/gensim/models/ldamodel.py:1077: DeprecationWarning: Calling np.sum(generator) is deprecated, and in the future will give a different result. Use np.sum(np.fromiter(generator)) or the python sum builtin instead.\n",
      "  score += np.sum(cnt * logsumexp(Elogthetad + Elogbeta[:, int(id)]) for id, cnt in doc)\n",
      "/home/uday/anaconda3/lib/python3.6/site-packages/gensim/models/ldamodel.py:1077: DeprecationWarning: Calling np.sum(generator) is deprecated, and in the future will give a different result. Use np.sum(np.fromiter(generator)) or the python sum builtin instead.\n",
      "  score += np.sum(cnt * logsumexp(Elogthetad + Elogbeta[:, int(id)]) for id, cnt in doc)\n",
      "/home/uday/anaconda3/lib/python3.6/site-packages/gensim/models/ldamodel.py:1077: DeprecationWarning: Calling np.sum(generator) is deprecated, and in the future will give a different result. Use np.sum(np.fromiter(generator)) or the python sum builtin instead.\n",
      "  score += np.sum(cnt * logsumexp(Elogthetad + Elogbeta[:, int(id)]) for id, cnt in doc)\n",
      "/home/uday/anaconda3/lib/python3.6/site-packages/gensim/models/ldamodel.py:1077: DeprecationWarning: Calling np.sum(generator) is deprecated, and in the future will give a different result. Use np.sum(np.fromiter(generator)) or the python sum builtin instead.\n",
      "  score += np.sum(cnt * logsumexp(Elogthetad + Elogbeta[:, int(id)]) for id, cnt in doc)\n",
      "/home/uday/anaconda3/lib/python3.6/site-packages/gensim/models/ldamodel.py:1077: DeprecationWarning: Calling np.sum(generator) is deprecated, and in the future will give a different result. Use np.sum(np.fromiter(generator)) or the python sum builtin instead.\n",
      "  score += np.sum(cnt * logsumexp(Elogthetad + Elogbeta[:, int(id)]) for id, cnt in doc)\n",
      "/home/uday/anaconda3/lib/python3.6/site-packages/gensim/models/ldamodel.py:1077: DeprecationWarning: Calling np.sum(generator) is deprecated, and in the future will give a different result. Use np.sum(np.fromiter(generator)) or the python sum builtin instead.\n",
      "  score += np.sum(cnt * logsumexp(Elogthetad + Elogbeta[:, int(id)]) for id, cnt in doc)\n",
      "/home/uday/anaconda3/lib/python3.6/site-packages/gensim/models/ldamodel.py:1077: DeprecationWarning: Calling np.sum(generator) is deprecated, and in the future will give a different result. Use np.sum(np.fromiter(generator)) or the python sum builtin instead.\n",
      "  score += np.sum(cnt * logsumexp(Elogthetad + Elogbeta[:, int(id)]) for id, cnt in doc)\n",
      "/home/uday/anaconda3/lib/python3.6/site-packages/gensim/models/ldamodel.py:1077: DeprecationWarning: Calling np.sum(generator) is deprecated, and in the future will give a different result. Use np.sum(np.fromiter(generator)) or the python sum builtin instead.\n",
      "  score += np.sum(cnt * logsumexp(Elogthetad + Elogbeta[:, int(id)]) for id, cnt in doc)\n",
      "/home/uday/anaconda3/lib/python3.6/site-packages/gensim/models/ldamodel.py:1077: DeprecationWarning: Calling np.sum(generator) is deprecated, and in the future will give a different result. Use np.sum(np.fromiter(generator)) or the python sum builtin instead.\n",
      "  score += np.sum(cnt * logsumexp(Elogthetad + Elogbeta[:, int(id)]) for id, cnt in doc)\n",
      "/home/uday/anaconda3/lib/python3.6/site-packages/gensim/models/ldamodel.py:1077: DeprecationWarning: Calling np.sum(generator) is deprecated, and in the future will give a different result. Use np.sum(np.fromiter(generator)) or the python sum builtin instead.\n",
      "  score += np.sum(cnt * logsumexp(Elogthetad + Elogbeta[:, int(id)]) for id, cnt in doc)\n",
      "/home/uday/anaconda3/lib/python3.6/site-packages/gensim/models/ldamodel.py:1077: DeprecationWarning: Calling np.sum(generator) is deprecated, and in the future will give a different result. Use np.sum(np.fromiter(generator)) or the python sum builtin instead.\n",
      "  score += np.sum(cnt * logsumexp(Elogthetad + Elogbeta[:, int(id)]) for id, cnt in doc)\n",
      "/home/uday/anaconda3/lib/python3.6/site-packages/gensim/models/ldamodel.py:1077: DeprecationWarning: Calling np.sum(generator) is deprecated, and in the future will give a different result. Use np.sum(np.fromiter(generator)) or the python sum builtin instead.\n",
      "  score += np.sum(cnt * logsumexp(Elogthetad + Elogbeta[:, int(id)]) for id, cnt in doc)\n",
      "/home/uday/anaconda3/lib/python3.6/site-packages/gensim/models/ldamodel.py:1077: DeprecationWarning: Calling np.sum(generator) is deprecated, and in the future will give a different result. Use np.sum(np.fromiter(generator)) or the python sum builtin instead.\n",
      "  score += np.sum(cnt * logsumexp(Elogthetad + Elogbeta[:, int(id)]) for id, cnt in doc)\n",
      "/home/uday/anaconda3/lib/python3.6/site-packages/gensim/models/ldamodel.py:1077: DeprecationWarning: Calling np.sum(generator) is deprecated, and in the future will give a different result. Use np.sum(np.fromiter(generator)) or the python sum builtin instead.\n",
      "  score += np.sum(cnt * logsumexp(Elogthetad + Elogbeta[:, int(id)]) for id, cnt in doc)\n",
      "/home/uday/anaconda3/lib/python3.6/site-packages/gensim/models/ldamodel.py:1077: DeprecationWarning: Calling np.sum(generator) is deprecated, and in the future will give a different result. Use np.sum(np.fromiter(generator)) or the python sum builtin instead.\n",
      "  score += np.sum(cnt * logsumexp(Elogthetad + Elogbeta[:, int(id)]) for id, cnt in doc)\n",
      "/home/uday/anaconda3/lib/python3.6/site-packages/gensim/models/ldamodel.py:1077: DeprecationWarning: Calling np.sum(generator) is deprecated, and in the future will give a different result. Use np.sum(np.fromiter(generator)) or the python sum builtin instead.\n",
      "  score += np.sum(cnt * logsumexp(Elogthetad + Elogbeta[:, int(id)]) for id, cnt in doc)\n",
      "/home/uday/anaconda3/lib/python3.6/site-packages/gensim/models/ldamodel.py:1077: DeprecationWarning: Calling np.sum(generator) is deprecated, and in the future will give a different result. Use np.sum(np.fromiter(generator)) or the python sum builtin instead.\n",
      "  score += np.sum(cnt * logsumexp(Elogthetad + Elogbeta[:, int(id)]) for id, cnt in doc)\n",
      "/home/uday/anaconda3/lib/python3.6/site-packages/gensim/models/ldamodel.py:1077: DeprecationWarning: Calling np.sum(generator) is deprecated, and in the future will give a different result. Use np.sum(np.fromiter(generator)) or the python sum builtin instead.\n",
      "  score += np.sum(cnt * logsumexp(Elogthetad + Elogbeta[:, int(id)]) for id, cnt in doc)\n",
      "/home/uday/anaconda3/lib/python3.6/site-packages/gensim/models/ldamodel.py:1077: DeprecationWarning: Calling np.sum(generator) is deprecated, and in the future will give a different result. Use np.sum(np.fromiter(generator)) or the python sum builtin instead.\n",
      "  score += np.sum(cnt * logsumexp(Elogthetad + Elogbeta[:, int(id)]) for id, cnt in doc)\n",
      "/home/uday/anaconda3/lib/python3.6/site-packages/gensim/models/ldamodel.py:1077: DeprecationWarning: Calling np.sum(generator) is deprecated, and in the future will give a different result. Use np.sum(np.fromiter(generator)) or the python sum builtin instead.\n",
      "  score += np.sum(cnt * logsumexp(Elogthetad + Elogbeta[:, int(id)]) for id, cnt in doc)\n",
      "/home/uday/anaconda3/lib/python3.6/site-packages/gensim/models/ldamodel.py:1077: DeprecationWarning: Calling np.sum(generator) is deprecated, and in the future will give a different result. Use np.sum(np.fromiter(generator)) or the python sum builtin instead.\n",
      "  score += np.sum(cnt * logsumexp(Elogthetad + Elogbeta[:, int(id)]) for id, cnt in doc)\n",
      "/home/uday/anaconda3/lib/python3.6/site-packages/gensim/models/ldamodel.py:1077: DeprecationWarning: Calling np.sum(generator) is deprecated, and in the future will give a different result. Use np.sum(np.fromiter(generator)) or the python sum builtin instead.\n",
      "  score += np.sum(cnt * logsumexp(Elogthetad + Elogbeta[:, int(id)]) for id, cnt in doc)\n",
      "/home/uday/anaconda3/lib/python3.6/site-packages/gensim/models/ldamodel.py:1077: DeprecationWarning: Calling np.sum(generator) is deprecated, and in the future will give a different result. Use np.sum(np.fromiter(generator)) or the python sum builtin instead.\n",
      "  score += np.sum(cnt * logsumexp(Elogthetad + Elogbeta[:, int(id)]) for id, cnt in doc)\n",
      "/home/uday/anaconda3/lib/python3.6/site-packages/gensim/models/ldamodel.py:1077: DeprecationWarning: Calling np.sum(generator) is deprecated, and in the future will give a different result. Use np.sum(np.fromiter(generator)) or the python sum builtin instead.\n",
      "  score += np.sum(cnt * logsumexp(Elogthetad + Elogbeta[:, int(id)]) for id, cnt in doc)\n",
      "/home/uday/anaconda3/lib/python3.6/site-packages/gensim/models/ldamodel.py:1077: DeprecationWarning: Calling np.sum(generator) is deprecated, and in the future will give a different result. Use np.sum(np.fromiter(generator)) or the python sum builtin instead.\n",
      "  score += np.sum(cnt * logsumexp(Elogthetad + Elogbeta[:, int(id)]) for id, cnt in doc)\n",
      "/home/uday/anaconda3/lib/python3.6/site-packages/gensim/models/ldamodel.py:1077: DeprecationWarning: Calling np.sum(generator) is deprecated, and in the future will give a different result. Use np.sum(np.fromiter(generator)) or the python sum builtin instead.\n",
      "  score += np.sum(cnt * logsumexp(Elogthetad + Elogbeta[:, int(id)]) for id, cnt in doc)\n",
      "/home/uday/anaconda3/lib/python3.6/site-packages/gensim/models/ldamodel.py:1077: DeprecationWarning: Calling np.sum(generator) is deprecated, and in the future will give a different result. Use np.sum(np.fromiter(generator)) or the python sum builtin instead.\n",
      "  score += np.sum(cnt * logsumexp(Elogthetad + Elogbeta[:, int(id)]) for id, cnt in doc)\n",
      "/home/uday/anaconda3/lib/python3.6/site-packages/gensim/models/ldamodel.py:1077: DeprecationWarning: Calling np.sum(generator) is deprecated, and in the future will give a different result. Use np.sum(np.fromiter(generator)) or the python sum builtin instead.\n",
      "  score += np.sum(cnt * logsumexp(Elogthetad + Elogbeta[:, int(id)]) for id, cnt in doc)\n",
      "/home/uday/anaconda3/lib/python3.6/site-packages/gensim/models/ldamodel.py:1077: DeprecationWarning: Calling np.sum(generator) is deprecated, and in the future will give a different result. Use np.sum(np.fromiter(generator)) or the python sum builtin instead.\n",
      "  score += np.sum(cnt * logsumexp(Elogthetad + Elogbeta[:, int(id)]) for id, cnt in doc)\n",
      "/home/uday/anaconda3/lib/python3.6/site-packages/gensim/models/ldamodel.py:1077: DeprecationWarning: Calling np.sum(generator) is deprecated, and in the future will give a different result. Use np.sum(np.fromiter(generator)) or the python sum builtin instead.\n",
      "  score += np.sum(cnt * logsumexp(Elogthetad + Elogbeta[:, int(id)]) for id, cnt in doc)\n",
      "/home/uday/anaconda3/lib/python3.6/site-packages/gensim/models/ldamodel.py:1077: DeprecationWarning: Calling np.sum(generator) is deprecated, and in the future will give a different result. Use np.sum(np.fromiter(generator)) or the python sum builtin instead.\n",
      "  score += np.sum(cnt * logsumexp(Elogthetad + Elogbeta[:, int(id)]) for id, cnt in doc)\n",
      "/home/uday/anaconda3/lib/python3.6/site-packages/gensim/models/ldamodel.py:1077: DeprecationWarning: Calling np.sum(generator) is deprecated, and in the future will give a different result. Use np.sum(np.fromiter(generator)) or the python sum builtin instead.\n",
      "  score += np.sum(cnt * logsumexp(Elogthetad + Elogbeta[:, int(id)]) for id, cnt in doc)\n",
      "/home/uday/anaconda3/lib/python3.6/site-packages/gensim/models/ldamodel.py:1077: DeprecationWarning: Calling np.sum(generator) is deprecated, and in the future will give a different result. Use np.sum(np.fromiter(generator)) or the python sum builtin instead.\n",
      "  score += np.sum(cnt * logsumexp(Elogthetad + Elogbeta[:, int(id)]) for id, cnt in doc)\n"
     ]
    },
    {
     "name": "stderr",
     "output_type": "stream",
     "text": [
      "/home/uday/anaconda3/lib/python3.6/site-packages/gensim/models/ldamodel.py:1077: DeprecationWarning: Calling np.sum(generator) is deprecated, and in the future will give a different result. Use np.sum(np.fromiter(generator)) or the python sum builtin instead.\n",
      "  score += np.sum(cnt * logsumexp(Elogthetad + Elogbeta[:, int(id)]) for id, cnt in doc)\n",
      "/home/uday/anaconda3/lib/python3.6/site-packages/gensim/models/ldamodel.py:1077: DeprecationWarning: Calling np.sum(generator) is deprecated, and in the future will give a different result. Use np.sum(np.fromiter(generator)) or the python sum builtin instead.\n",
      "  score += np.sum(cnt * logsumexp(Elogthetad + Elogbeta[:, int(id)]) for id, cnt in doc)\n",
      "/home/uday/anaconda3/lib/python3.6/site-packages/gensim/models/ldamodel.py:1077: DeprecationWarning: Calling np.sum(generator) is deprecated, and in the future will give a different result. Use np.sum(np.fromiter(generator)) or the python sum builtin instead.\n",
      "  score += np.sum(cnt * logsumexp(Elogthetad + Elogbeta[:, int(id)]) for id, cnt in doc)\n",
      "/home/uday/anaconda3/lib/python3.6/site-packages/gensim/models/ldamodel.py:1077: DeprecationWarning: Calling np.sum(generator) is deprecated, and in the future will give a different result. Use np.sum(np.fromiter(generator)) or the python sum builtin instead.\n",
      "  score += np.sum(cnt * logsumexp(Elogthetad + Elogbeta[:, int(id)]) for id, cnt in doc)\n",
      "/home/uday/anaconda3/lib/python3.6/site-packages/gensim/models/ldamodel.py:1077: DeprecationWarning: Calling np.sum(generator) is deprecated, and in the future will give a different result. Use np.sum(np.fromiter(generator)) or the python sum builtin instead.\n",
      "  score += np.sum(cnt * logsumexp(Elogthetad + Elogbeta[:, int(id)]) for id, cnt in doc)\n",
      "/home/uday/anaconda3/lib/python3.6/site-packages/gensim/models/ldamodel.py:1077: DeprecationWarning: Calling np.sum(generator) is deprecated, and in the future will give a different result. Use np.sum(np.fromiter(generator)) or the python sum builtin instead.\n",
      "  score += np.sum(cnt * logsumexp(Elogthetad + Elogbeta[:, int(id)]) for id, cnt in doc)\n",
      "/home/uday/anaconda3/lib/python3.6/site-packages/gensim/models/ldamodel.py:1077: DeprecationWarning: Calling np.sum(generator) is deprecated, and in the future will give a different result. Use np.sum(np.fromiter(generator)) or the python sum builtin instead.\n",
      "  score += np.sum(cnt * logsumexp(Elogthetad + Elogbeta[:, int(id)]) for id, cnt in doc)\n",
      "/home/uday/anaconda3/lib/python3.6/site-packages/gensim/models/ldamodel.py:1077: DeprecationWarning: Calling np.sum(generator) is deprecated, and in the future will give a different result. Use np.sum(np.fromiter(generator)) or the python sum builtin instead.\n",
      "  score += np.sum(cnt * logsumexp(Elogthetad + Elogbeta[:, int(id)]) for id, cnt in doc)\n",
      "/home/uday/anaconda3/lib/python3.6/site-packages/gensim/models/ldamodel.py:1077: DeprecationWarning: Calling np.sum(generator) is deprecated, and in the future will give a different result. Use np.sum(np.fromiter(generator)) or the python sum builtin instead.\n",
      "  score += np.sum(cnt * logsumexp(Elogthetad + Elogbeta[:, int(id)]) for id, cnt in doc)\n",
      "/home/uday/anaconda3/lib/python3.6/site-packages/gensim/models/ldamodel.py:1077: DeprecationWarning: Calling np.sum(generator) is deprecated, and in the future will give a different result. Use np.sum(np.fromiter(generator)) or the python sum builtin instead.\n",
      "  score += np.sum(cnt * logsumexp(Elogthetad + Elogbeta[:, int(id)]) for id, cnt in doc)\n",
      "/home/uday/anaconda3/lib/python3.6/site-packages/gensim/models/ldamodel.py:1077: DeprecationWarning: Calling np.sum(generator) is deprecated, and in the future will give a different result. Use np.sum(np.fromiter(generator)) or the python sum builtin instead.\n",
      "  score += np.sum(cnt * logsumexp(Elogthetad + Elogbeta[:, int(id)]) for id, cnt in doc)\n",
      "/home/uday/anaconda3/lib/python3.6/site-packages/gensim/models/ldamodel.py:1077: DeprecationWarning: Calling np.sum(generator) is deprecated, and in the future will give a different result. Use np.sum(np.fromiter(generator)) or the python sum builtin instead.\n",
      "  score += np.sum(cnt * logsumexp(Elogthetad + Elogbeta[:, int(id)]) for id, cnt in doc)\n",
      "/home/uday/anaconda3/lib/python3.6/site-packages/gensim/models/ldamodel.py:1077: DeprecationWarning: Calling np.sum(generator) is deprecated, and in the future will give a different result. Use np.sum(np.fromiter(generator)) or the python sum builtin instead.\n",
      "  score += np.sum(cnt * logsumexp(Elogthetad + Elogbeta[:, int(id)]) for id, cnt in doc)\n",
      "/home/uday/anaconda3/lib/python3.6/site-packages/gensim/models/ldamodel.py:1077: DeprecationWarning: Calling np.sum(generator) is deprecated, and in the future will give a different result. Use np.sum(np.fromiter(generator)) or the python sum builtin instead.\n",
      "  score += np.sum(cnt * logsumexp(Elogthetad + Elogbeta[:, int(id)]) for id, cnt in doc)\n",
      "/home/uday/anaconda3/lib/python3.6/site-packages/gensim/models/ldamodel.py:1077: DeprecationWarning: Calling np.sum(generator) is deprecated, and in the future will give a different result. Use np.sum(np.fromiter(generator)) or the python sum builtin instead.\n",
      "  score += np.sum(cnt * logsumexp(Elogthetad + Elogbeta[:, int(id)]) for id, cnt in doc)\n",
      "/home/uday/anaconda3/lib/python3.6/site-packages/gensim/models/ldamodel.py:1077: DeprecationWarning: Calling np.sum(generator) is deprecated, and in the future will give a different result. Use np.sum(np.fromiter(generator)) or the python sum builtin instead.\n",
      "  score += np.sum(cnt * logsumexp(Elogthetad + Elogbeta[:, int(id)]) for id, cnt in doc)\n",
      "/home/uday/anaconda3/lib/python3.6/site-packages/gensim/models/ldamodel.py:1077: DeprecationWarning: Calling np.sum(generator) is deprecated, and in the future will give a different result. Use np.sum(np.fromiter(generator)) or the python sum builtin instead.\n",
      "  score += np.sum(cnt * logsumexp(Elogthetad + Elogbeta[:, int(id)]) for id, cnt in doc)\n",
      "/home/uday/anaconda3/lib/python3.6/site-packages/gensim/models/ldamodel.py:1077: DeprecationWarning: Calling np.sum(generator) is deprecated, and in the future will give a different result. Use np.sum(np.fromiter(generator)) or the python sum builtin instead.\n",
      "  score += np.sum(cnt * logsumexp(Elogthetad + Elogbeta[:, int(id)]) for id, cnt in doc)\n",
      "/home/uday/anaconda3/lib/python3.6/site-packages/gensim/models/ldamodel.py:1077: DeprecationWarning: Calling np.sum(generator) is deprecated, and in the future will give a different result. Use np.sum(np.fromiter(generator)) or the python sum builtin instead.\n",
      "  score += np.sum(cnt * logsumexp(Elogthetad + Elogbeta[:, int(id)]) for id, cnt in doc)\n",
      "/home/uday/anaconda3/lib/python3.6/site-packages/gensim/models/ldamodel.py:1077: DeprecationWarning: Calling np.sum(generator) is deprecated, and in the future will give a different result. Use np.sum(np.fromiter(generator)) or the python sum builtin instead.\n",
      "  score += np.sum(cnt * logsumexp(Elogthetad + Elogbeta[:, int(id)]) for id, cnt in doc)\n",
      "/home/uday/anaconda3/lib/python3.6/site-packages/gensim/models/ldamodel.py:1077: DeprecationWarning: Calling np.sum(generator) is deprecated, and in the future will give a different result. Use np.sum(np.fromiter(generator)) or the python sum builtin instead.\n",
      "  score += np.sum(cnt * logsumexp(Elogthetad + Elogbeta[:, int(id)]) for id, cnt in doc)\n",
      "/home/uday/anaconda3/lib/python3.6/site-packages/gensim/models/ldamodel.py:1077: DeprecationWarning: Calling np.sum(generator) is deprecated, and in the future will give a different result. Use np.sum(np.fromiter(generator)) or the python sum builtin instead.\n",
      "  score += np.sum(cnt * logsumexp(Elogthetad + Elogbeta[:, int(id)]) for id, cnt in doc)\n",
      "/home/uday/anaconda3/lib/python3.6/site-packages/gensim/models/ldamodel.py:1077: DeprecationWarning: Calling np.sum(generator) is deprecated, and in the future will give a different result. Use np.sum(np.fromiter(generator)) or the python sum builtin instead.\n",
      "  score += np.sum(cnt * logsumexp(Elogthetad + Elogbeta[:, int(id)]) for id, cnt in doc)\n",
      "/home/uday/anaconda3/lib/python3.6/site-packages/gensim/models/ldamodel.py:1077: DeprecationWarning: Calling np.sum(generator) is deprecated, and in the future will give a different result. Use np.sum(np.fromiter(generator)) or the python sum builtin instead.\n",
      "  score += np.sum(cnt * logsumexp(Elogthetad + Elogbeta[:, int(id)]) for id, cnt in doc)\n",
      "/home/uday/anaconda3/lib/python3.6/site-packages/gensim/models/ldamodel.py:1077: DeprecationWarning: Calling np.sum(generator) is deprecated, and in the future will give a different result. Use np.sum(np.fromiter(generator)) or the python sum builtin instead.\n",
      "  score += np.sum(cnt * logsumexp(Elogthetad + Elogbeta[:, int(id)]) for id, cnt in doc)\n",
      "/home/uday/anaconda3/lib/python3.6/site-packages/gensim/models/ldamodel.py:1077: DeprecationWarning: Calling np.sum(generator) is deprecated, and in the future will give a different result. Use np.sum(np.fromiter(generator)) or the python sum builtin instead.\n",
      "  score += np.sum(cnt * logsumexp(Elogthetad + Elogbeta[:, int(id)]) for id, cnt in doc)\n",
      "/home/uday/anaconda3/lib/python3.6/site-packages/gensim/models/ldamodel.py:1077: DeprecationWarning: Calling np.sum(generator) is deprecated, and in the future will give a different result. Use np.sum(np.fromiter(generator)) or the python sum builtin instead.\n",
      "  score += np.sum(cnt * logsumexp(Elogthetad + Elogbeta[:, int(id)]) for id, cnt in doc)\n",
      "/home/uday/anaconda3/lib/python3.6/site-packages/gensim/models/ldamodel.py:1077: DeprecationWarning: Calling np.sum(generator) is deprecated, and in the future will give a different result. Use np.sum(np.fromiter(generator)) or the python sum builtin instead.\n",
      "  score += np.sum(cnt * logsumexp(Elogthetad + Elogbeta[:, int(id)]) for id, cnt in doc)\n",
      "/home/uday/anaconda3/lib/python3.6/site-packages/gensim/models/ldamodel.py:1077: DeprecationWarning: Calling np.sum(generator) is deprecated, and in the future will give a different result. Use np.sum(np.fromiter(generator)) or the python sum builtin instead.\n",
      "  score += np.sum(cnt * logsumexp(Elogthetad + Elogbeta[:, int(id)]) for id, cnt in doc)\n",
      "/home/uday/anaconda3/lib/python3.6/site-packages/gensim/models/ldamodel.py:1077: DeprecationWarning: Calling np.sum(generator) is deprecated, and in the future will give a different result. Use np.sum(np.fromiter(generator)) or the python sum builtin instead.\n",
      "  score += np.sum(cnt * logsumexp(Elogthetad + Elogbeta[:, int(id)]) for id, cnt in doc)\n",
      "/home/uday/anaconda3/lib/python3.6/site-packages/gensim/models/ldamodel.py:1077: DeprecationWarning: Calling np.sum(generator) is deprecated, and in the future will give a different result. Use np.sum(np.fromiter(generator)) or the python sum builtin instead.\n",
      "  score += np.sum(cnt * logsumexp(Elogthetad + Elogbeta[:, int(id)]) for id, cnt in doc)\n",
      "/home/uday/anaconda3/lib/python3.6/site-packages/gensim/models/ldamodel.py:1077: DeprecationWarning: Calling np.sum(generator) is deprecated, and in the future will give a different result. Use np.sum(np.fromiter(generator)) or the python sum builtin instead.\n",
      "  score += np.sum(cnt * logsumexp(Elogthetad + Elogbeta[:, int(id)]) for id, cnt in doc)\n",
      "/home/uday/anaconda3/lib/python3.6/site-packages/gensim/models/ldamodel.py:1077: DeprecationWarning: Calling np.sum(generator) is deprecated, and in the future will give a different result. Use np.sum(np.fromiter(generator)) or the python sum builtin instead.\n",
      "  score += np.sum(cnt * logsumexp(Elogthetad + Elogbeta[:, int(id)]) for id, cnt in doc)\n",
      "/home/uday/anaconda3/lib/python3.6/site-packages/gensim/models/ldamodel.py:1077: DeprecationWarning: Calling np.sum(generator) is deprecated, and in the future will give a different result. Use np.sum(np.fromiter(generator)) or the python sum builtin instead.\n",
      "  score += np.sum(cnt * logsumexp(Elogthetad + Elogbeta[:, int(id)]) for id, cnt in doc)\n",
      "/home/uday/anaconda3/lib/python3.6/site-packages/gensim/models/ldamodel.py:1077: DeprecationWarning: Calling np.sum(generator) is deprecated, and in the future will give a different result. Use np.sum(np.fromiter(generator)) or the python sum builtin instead.\n",
      "  score += np.sum(cnt * logsumexp(Elogthetad + Elogbeta[:, int(id)]) for id, cnt in doc)\n",
      "/home/uday/anaconda3/lib/python3.6/site-packages/gensim/models/ldamodel.py:1077: DeprecationWarning: Calling np.sum(generator) is deprecated, and in the future will give a different result. Use np.sum(np.fromiter(generator)) or the python sum builtin instead.\n",
      "  score += np.sum(cnt * logsumexp(Elogthetad + Elogbeta[:, int(id)]) for id, cnt in doc)\n",
      "/home/uday/anaconda3/lib/python3.6/site-packages/gensim/models/ldamodel.py:1077: DeprecationWarning: Calling np.sum(generator) is deprecated, and in the future will give a different result. Use np.sum(np.fromiter(generator)) or the python sum builtin instead.\n",
      "  score += np.sum(cnt * logsumexp(Elogthetad + Elogbeta[:, int(id)]) for id, cnt in doc)\n",
      "/home/uday/anaconda3/lib/python3.6/site-packages/gensim/models/ldamodel.py:1077: DeprecationWarning: Calling np.sum(generator) is deprecated, and in the future will give a different result. Use np.sum(np.fromiter(generator)) or the python sum builtin instead.\n",
      "  score += np.sum(cnt * logsumexp(Elogthetad + Elogbeta[:, int(id)]) for id, cnt in doc)\n",
      "/home/uday/anaconda3/lib/python3.6/site-packages/gensim/models/ldamodel.py:1077: DeprecationWarning: Calling np.sum(generator) is deprecated, and in the future will give a different result. Use np.sum(np.fromiter(generator)) or the python sum builtin instead.\n",
      "  score += np.sum(cnt * logsumexp(Elogthetad + Elogbeta[:, int(id)]) for id, cnt in doc)\n",
      "/home/uday/anaconda3/lib/python3.6/site-packages/gensim/models/ldamodel.py:1077: DeprecationWarning: Calling np.sum(generator) is deprecated, and in the future will give a different result. Use np.sum(np.fromiter(generator)) or the python sum builtin instead.\n",
      "  score += np.sum(cnt * logsumexp(Elogthetad + Elogbeta[:, int(id)]) for id, cnt in doc)\n",
      "/home/uday/anaconda3/lib/python3.6/site-packages/gensim/models/ldamodel.py:1077: DeprecationWarning: Calling np.sum(generator) is deprecated, and in the future will give a different result. Use np.sum(np.fromiter(generator)) or the python sum builtin instead.\n",
      "  score += np.sum(cnt * logsumexp(Elogthetad + Elogbeta[:, int(id)]) for id, cnt in doc)\n",
      "/home/uday/anaconda3/lib/python3.6/site-packages/gensim/models/ldamodel.py:1077: DeprecationWarning: Calling np.sum(generator) is deprecated, and in the future will give a different result. Use np.sum(np.fromiter(generator)) or the python sum builtin instead.\n",
      "  score += np.sum(cnt * logsumexp(Elogthetad + Elogbeta[:, int(id)]) for id, cnt in doc)\n",
      "/home/uday/anaconda3/lib/python3.6/site-packages/gensim/models/ldamodel.py:1077: DeprecationWarning: Calling np.sum(generator) is deprecated, and in the future will give a different result. Use np.sum(np.fromiter(generator)) or the python sum builtin instead.\n",
      "  score += np.sum(cnt * logsumexp(Elogthetad + Elogbeta[:, int(id)]) for id, cnt in doc)\n",
      "/home/uday/anaconda3/lib/python3.6/site-packages/gensim/models/ldamodel.py:1077: DeprecationWarning: Calling np.sum(generator) is deprecated, and in the future will give a different result. Use np.sum(np.fromiter(generator)) or the python sum builtin instead.\n",
      "  score += np.sum(cnt * logsumexp(Elogthetad + Elogbeta[:, int(id)]) for id, cnt in doc)\n",
      "/home/uday/anaconda3/lib/python3.6/site-packages/gensim/models/ldamodel.py:1077: DeprecationWarning: Calling np.sum(generator) is deprecated, and in the future will give a different result. Use np.sum(np.fromiter(generator)) or the python sum builtin instead.\n",
      "  score += np.sum(cnt * logsumexp(Elogthetad + Elogbeta[:, int(id)]) for id, cnt in doc)\n",
      "/home/uday/anaconda3/lib/python3.6/site-packages/gensim/models/ldamodel.py:1077: DeprecationWarning: Calling np.sum(generator) is deprecated, and in the future will give a different result. Use np.sum(np.fromiter(generator)) or the python sum builtin instead.\n",
      "  score += np.sum(cnt * logsumexp(Elogthetad + Elogbeta[:, int(id)]) for id, cnt in doc)\n",
      "/home/uday/anaconda3/lib/python3.6/site-packages/gensim/models/ldamodel.py:1077: DeprecationWarning: Calling np.sum(generator) is deprecated, and in the future will give a different result. Use np.sum(np.fromiter(generator)) or the python sum builtin instead.\n",
      "  score += np.sum(cnt * logsumexp(Elogthetad + Elogbeta[:, int(id)]) for id, cnt in doc)\n",
      "/home/uday/anaconda3/lib/python3.6/site-packages/gensim/models/ldamodel.py:1077: DeprecationWarning: Calling np.sum(generator) is deprecated, and in the future will give a different result. Use np.sum(np.fromiter(generator)) or the python sum builtin instead.\n",
      "  score += np.sum(cnt * logsumexp(Elogthetad + Elogbeta[:, int(id)]) for id, cnt in doc)\n",
      "/home/uday/anaconda3/lib/python3.6/site-packages/gensim/models/ldamodel.py:1077: DeprecationWarning: Calling np.sum(generator) is deprecated, and in the future will give a different result. Use np.sum(np.fromiter(generator)) or the python sum builtin instead.\n",
      "  score += np.sum(cnt * logsumexp(Elogthetad + Elogbeta[:, int(id)]) for id, cnt in doc)\n",
      "/home/uday/anaconda3/lib/python3.6/site-packages/gensim/models/ldamodel.py:1077: DeprecationWarning: Calling np.sum(generator) is deprecated, and in the future will give a different result. Use np.sum(np.fromiter(generator)) or the python sum builtin instead.\n",
      "  score += np.sum(cnt * logsumexp(Elogthetad + Elogbeta[:, int(id)]) for id, cnt in doc)\n",
      "/home/uday/anaconda3/lib/python3.6/site-packages/gensim/models/ldamodel.py:1077: DeprecationWarning: Calling np.sum(generator) is deprecated, and in the future will give a different result. Use np.sum(np.fromiter(generator)) or the python sum builtin instead.\n",
      "  score += np.sum(cnt * logsumexp(Elogthetad + Elogbeta[:, int(id)]) for id, cnt in doc)\n",
      "/home/uday/anaconda3/lib/python3.6/site-packages/gensim/models/ldamodel.py:1077: DeprecationWarning: Calling np.sum(generator) is deprecated, and in the future will give a different result. Use np.sum(np.fromiter(generator)) or the python sum builtin instead.\n",
      "  score += np.sum(cnt * logsumexp(Elogthetad + Elogbeta[:, int(id)]) for id, cnt in doc)\n",
      "/home/uday/anaconda3/lib/python3.6/site-packages/gensim/models/ldamodel.py:1077: DeprecationWarning: Calling np.sum(generator) is deprecated, and in the future will give a different result. Use np.sum(np.fromiter(generator)) or the python sum builtin instead.\n",
      "  score += np.sum(cnt * logsumexp(Elogthetad + Elogbeta[:, int(id)]) for id, cnt in doc)\n",
      "/home/uday/anaconda3/lib/python3.6/site-packages/gensim/models/ldamodel.py:1077: DeprecationWarning: Calling np.sum(generator) is deprecated, and in the future will give a different result. Use np.sum(np.fromiter(generator)) or the python sum builtin instead.\n",
      "  score += np.sum(cnt * logsumexp(Elogthetad + Elogbeta[:, int(id)]) for id, cnt in doc)\n",
      "/home/uday/anaconda3/lib/python3.6/site-packages/gensim/models/ldamodel.py:1077: DeprecationWarning: Calling np.sum(generator) is deprecated, and in the future will give a different result. Use np.sum(np.fromiter(generator)) or the python sum builtin instead.\n",
      "  score += np.sum(cnt * logsumexp(Elogthetad + Elogbeta[:, int(id)]) for id, cnt in doc)\n",
      "/home/uday/anaconda3/lib/python3.6/site-packages/gensim/models/ldamodel.py:1077: DeprecationWarning: Calling np.sum(generator) is deprecated, and in the future will give a different result. Use np.sum(np.fromiter(generator)) or the python sum builtin instead.\n",
      "  score += np.sum(cnt * logsumexp(Elogthetad + Elogbeta[:, int(id)]) for id, cnt in doc)\n",
      "/home/uday/anaconda3/lib/python3.6/site-packages/gensim/models/ldamodel.py:1077: DeprecationWarning: Calling np.sum(generator) is deprecated, and in the future will give a different result. Use np.sum(np.fromiter(generator)) or the python sum builtin instead.\n",
      "  score += np.sum(cnt * logsumexp(Elogthetad + Elogbeta[:, int(id)]) for id, cnt in doc)\n",
      "/home/uday/anaconda3/lib/python3.6/site-packages/gensim/models/ldamodel.py:1077: DeprecationWarning: Calling np.sum(generator) is deprecated, and in the future will give a different result. Use np.sum(np.fromiter(generator)) or the python sum builtin instead.\n",
      "  score += np.sum(cnt * logsumexp(Elogthetad + Elogbeta[:, int(id)]) for id, cnt in doc)\n",
      "/home/uday/anaconda3/lib/python3.6/site-packages/gensim/models/ldamodel.py:1077: DeprecationWarning: Calling np.sum(generator) is deprecated, and in the future will give a different result. Use np.sum(np.fromiter(generator)) or the python sum builtin instead.\n",
      "  score += np.sum(cnt * logsumexp(Elogthetad + Elogbeta[:, int(id)]) for id, cnt in doc)\n",
      "/home/uday/anaconda3/lib/python3.6/site-packages/gensim/models/ldamodel.py:1077: DeprecationWarning: Calling np.sum(generator) is deprecated, and in the future will give a different result. Use np.sum(np.fromiter(generator)) or the python sum builtin instead.\n",
      "  score += np.sum(cnt * logsumexp(Elogthetad + Elogbeta[:, int(id)]) for id, cnt in doc)\n",
      "/home/uday/anaconda3/lib/python3.6/site-packages/gensim/models/ldamodel.py:1077: DeprecationWarning: Calling np.sum(generator) is deprecated, and in the future will give a different result. Use np.sum(np.fromiter(generator)) or the python sum builtin instead.\n",
      "  score += np.sum(cnt * logsumexp(Elogthetad + Elogbeta[:, int(id)]) for id, cnt in doc)\n",
      "/home/uday/anaconda3/lib/python3.6/site-packages/gensim/models/ldamodel.py:1077: DeprecationWarning: Calling np.sum(generator) is deprecated, and in the future will give a different result. Use np.sum(np.fromiter(generator)) or the python sum builtin instead.\n",
      "  score += np.sum(cnt * logsumexp(Elogthetad + Elogbeta[:, int(id)]) for id, cnt in doc)\n",
      "/home/uday/anaconda3/lib/python3.6/site-packages/gensim/models/ldamodel.py:1077: DeprecationWarning: Calling np.sum(generator) is deprecated, and in the future will give a different result. Use np.sum(np.fromiter(generator)) or the python sum builtin instead.\n",
      "  score += np.sum(cnt * logsumexp(Elogthetad + Elogbeta[:, int(id)]) for id, cnt in doc)\n",
      "/home/uday/anaconda3/lib/python3.6/site-packages/gensim/models/ldamodel.py:1077: DeprecationWarning: Calling np.sum(generator) is deprecated, and in the future will give a different result. Use np.sum(np.fromiter(generator)) or the python sum builtin instead.\n",
      "  score += np.sum(cnt * logsumexp(Elogthetad + Elogbeta[:, int(id)]) for id, cnt in doc)\n",
      "/home/uday/anaconda3/lib/python3.6/site-packages/gensim/models/ldamodel.py:1077: DeprecationWarning: Calling np.sum(generator) is deprecated, and in the future will give a different result. Use np.sum(np.fromiter(generator)) or the python sum builtin instead.\n",
      "  score += np.sum(cnt * logsumexp(Elogthetad + Elogbeta[:, int(id)]) for id, cnt in doc)\n",
      "/home/uday/anaconda3/lib/python3.6/site-packages/gensim/models/ldamodel.py:1077: DeprecationWarning: Calling np.sum(generator) is deprecated, and in the future will give a different result. Use np.sum(np.fromiter(generator)) or the python sum builtin instead.\n",
      "  score += np.sum(cnt * logsumexp(Elogthetad + Elogbeta[:, int(id)]) for id, cnt in doc)\n",
      "/home/uday/anaconda3/lib/python3.6/site-packages/gensim/models/ldamodel.py:1077: DeprecationWarning: Calling np.sum(generator) is deprecated, and in the future will give a different result. Use np.sum(np.fromiter(generator)) or the python sum builtin instead.\n",
      "  score += np.sum(cnt * logsumexp(Elogthetad + Elogbeta[:, int(id)]) for id, cnt in doc)\n",
      "/home/uday/anaconda3/lib/python3.6/site-packages/gensim/models/ldamodel.py:1077: DeprecationWarning: Calling np.sum(generator) is deprecated, and in the future will give a different result. Use np.sum(np.fromiter(generator)) or the python sum builtin instead.\n",
      "  score += np.sum(cnt * logsumexp(Elogthetad + Elogbeta[:, int(id)]) for id, cnt in doc)\n",
      "/home/uday/anaconda3/lib/python3.6/site-packages/gensim/models/ldamodel.py:1077: DeprecationWarning: Calling np.sum(generator) is deprecated, and in the future will give a different result. Use np.sum(np.fromiter(generator)) or the python sum builtin instead.\n",
      "  score += np.sum(cnt * logsumexp(Elogthetad + Elogbeta[:, int(id)]) for id, cnt in doc)\n",
      "/home/uday/anaconda3/lib/python3.6/site-packages/gensim/models/ldamodel.py:1077: DeprecationWarning: Calling np.sum(generator) is deprecated, and in the future will give a different result. Use np.sum(np.fromiter(generator)) or the python sum builtin instead.\n",
      "  score += np.sum(cnt * logsumexp(Elogthetad + Elogbeta[:, int(id)]) for id, cnt in doc)\n",
      "/home/uday/anaconda3/lib/python3.6/site-packages/gensim/models/ldamodel.py:1077: DeprecationWarning: Calling np.sum(generator) is deprecated, and in the future will give a different result. Use np.sum(np.fromiter(generator)) or the python sum builtin instead.\n",
      "  score += np.sum(cnt * logsumexp(Elogthetad + Elogbeta[:, int(id)]) for id, cnt in doc)\n",
      "/home/uday/anaconda3/lib/python3.6/site-packages/gensim/models/ldamodel.py:1077: DeprecationWarning: Calling np.sum(generator) is deprecated, and in the future will give a different result. Use np.sum(np.fromiter(generator)) or the python sum builtin instead.\n",
      "  score += np.sum(cnt * logsumexp(Elogthetad + Elogbeta[:, int(id)]) for id, cnt in doc)\n",
      "/home/uday/anaconda3/lib/python3.6/site-packages/gensim/models/ldamodel.py:1077: DeprecationWarning: Calling np.sum(generator) is deprecated, and in the future will give a different result. Use np.sum(np.fromiter(generator)) or the python sum builtin instead.\n",
      "  score += np.sum(cnt * logsumexp(Elogthetad + Elogbeta[:, int(id)]) for id, cnt in doc)\n",
      "/home/uday/anaconda3/lib/python3.6/site-packages/gensim/models/ldamodel.py:1077: DeprecationWarning: Calling np.sum(generator) is deprecated, and in the future will give a different result. Use np.sum(np.fromiter(generator)) or the python sum builtin instead.\n",
      "  score += np.sum(cnt * logsumexp(Elogthetad + Elogbeta[:, int(id)]) for id, cnt in doc)\n",
      "/home/uday/anaconda3/lib/python3.6/site-packages/gensim/models/ldamodel.py:1077: DeprecationWarning: Calling np.sum(generator) is deprecated, and in the future will give a different result. Use np.sum(np.fromiter(generator)) or the python sum builtin instead.\n",
      "  score += np.sum(cnt * logsumexp(Elogthetad + Elogbeta[:, int(id)]) for id, cnt in doc)\n",
      "/home/uday/anaconda3/lib/python3.6/site-packages/gensim/models/ldamodel.py:1077: DeprecationWarning: Calling np.sum(generator) is deprecated, and in the future will give a different result. Use np.sum(np.fromiter(generator)) or the python sum builtin instead.\n",
      "  score += np.sum(cnt * logsumexp(Elogthetad + Elogbeta[:, int(id)]) for id, cnt in doc)\n",
      "/home/uday/anaconda3/lib/python3.6/site-packages/gensim/models/ldamodel.py:1077: DeprecationWarning: Calling np.sum(generator) is deprecated, and in the future will give a different result. Use np.sum(np.fromiter(generator)) or the python sum builtin instead.\n",
      "  score += np.sum(cnt * logsumexp(Elogthetad + Elogbeta[:, int(id)]) for id, cnt in doc)\n",
      "/home/uday/anaconda3/lib/python3.6/site-packages/gensim/models/ldamodel.py:1077: DeprecationWarning: Calling np.sum(generator) is deprecated, and in the future will give a different result. Use np.sum(np.fromiter(generator)) or the python sum builtin instead.\n",
      "  score += np.sum(cnt * logsumexp(Elogthetad + Elogbeta[:, int(id)]) for id, cnt in doc)\n",
      "/home/uday/anaconda3/lib/python3.6/site-packages/gensim/models/ldamodel.py:1077: DeprecationWarning: Calling np.sum(generator) is deprecated, and in the future will give a different result. Use np.sum(np.fromiter(generator)) or the python sum builtin instead.\n",
      "  score += np.sum(cnt * logsumexp(Elogthetad + Elogbeta[:, int(id)]) for id, cnt in doc)\n",
      "/home/uday/anaconda3/lib/python3.6/site-packages/gensim/models/ldamodel.py:1077: DeprecationWarning: Calling np.sum(generator) is deprecated, and in the future will give a different result. Use np.sum(np.fromiter(generator)) or the python sum builtin instead.\n",
      "  score += np.sum(cnt * logsumexp(Elogthetad + Elogbeta[:, int(id)]) for id, cnt in doc)\n",
      "/home/uday/anaconda3/lib/python3.6/site-packages/gensim/models/ldamodel.py:1077: DeprecationWarning: Calling np.sum(generator) is deprecated, and in the future will give a different result. Use np.sum(np.fromiter(generator)) or the python sum builtin instead.\n",
      "  score += np.sum(cnt * logsumexp(Elogthetad + Elogbeta[:, int(id)]) for id, cnt in doc)\n",
      "/home/uday/anaconda3/lib/python3.6/site-packages/gensim/models/ldamodel.py:1077: DeprecationWarning: Calling np.sum(generator) is deprecated, and in the future will give a different result. Use np.sum(np.fromiter(generator)) or the python sum builtin instead.\n",
      "  score += np.sum(cnt * logsumexp(Elogthetad + Elogbeta[:, int(id)]) for id, cnt in doc)\n"
     ]
    },
    {
     "name": "stderr",
     "output_type": "stream",
     "text": [
      "/home/uday/anaconda3/lib/python3.6/site-packages/gensim/models/ldamodel.py:1077: DeprecationWarning: Calling np.sum(generator) is deprecated, and in the future will give a different result. Use np.sum(np.fromiter(generator)) or the python sum builtin instead.\n",
      "  score += np.sum(cnt * logsumexp(Elogthetad + Elogbeta[:, int(id)]) for id, cnt in doc)\n",
      "/home/uday/anaconda3/lib/python3.6/site-packages/gensim/models/ldamodel.py:1077: DeprecationWarning: Calling np.sum(generator) is deprecated, and in the future will give a different result. Use np.sum(np.fromiter(generator)) or the python sum builtin instead.\n",
      "  score += np.sum(cnt * logsumexp(Elogthetad + Elogbeta[:, int(id)]) for id, cnt in doc)\n",
      "/home/uday/anaconda3/lib/python3.6/site-packages/gensim/models/ldamodel.py:1077: DeprecationWarning: Calling np.sum(generator) is deprecated, and in the future will give a different result. Use np.sum(np.fromiter(generator)) or the python sum builtin instead.\n",
      "  score += np.sum(cnt * logsumexp(Elogthetad + Elogbeta[:, int(id)]) for id, cnt in doc)\n",
      "/home/uday/anaconda3/lib/python3.6/site-packages/gensim/models/ldamodel.py:1077: DeprecationWarning: Calling np.sum(generator) is deprecated, and in the future will give a different result. Use np.sum(np.fromiter(generator)) or the python sum builtin instead.\n",
      "  score += np.sum(cnt * logsumexp(Elogthetad + Elogbeta[:, int(id)]) for id, cnt in doc)\n",
      "/home/uday/anaconda3/lib/python3.6/site-packages/gensim/models/ldamodel.py:1077: DeprecationWarning: Calling np.sum(generator) is deprecated, and in the future will give a different result. Use np.sum(np.fromiter(generator)) or the python sum builtin instead.\n",
      "  score += np.sum(cnt * logsumexp(Elogthetad + Elogbeta[:, int(id)]) for id, cnt in doc)\n",
      "/home/uday/anaconda3/lib/python3.6/site-packages/gensim/models/ldamodel.py:1077: DeprecationWarning: Calling np.sum(generator) is deprecated, and in the future will give a different result. Use np.sum(np.fromiter(generator)) or the python sum builtin instead.\n",
      "  score += np.sum(cnt * logsumexp(Elogthetad + Elogbeta[:, int(id)]) for id, cnt in doc)\n",
      "/home/uday/anaconda3/lib/python3.6/site-packages/gensim/models/ldamodel.py:1077: DeprecationWarning: Calling np.sum(generator) is deprecated, and in the future will give a different result. Use np.sum(np.fromiter(generator)) or the python sum builtin instead.\n",
      "  score += np.sum(cnt * logsumexp(Elogthetad + Elogbeta[:, int(id)]) for id, cnt in doc)\n",
      "/home/uday/anaconda3/lib/python3.6/site-packages/gensim/models/ldamodel.py:1077: DeprecationWarning: Calling np.sum(generator) is deprecated, and in the future will give a different result. Use np.sum(np.fromiter(generator)) or the python sum builtin instead.\n",
      "  score += np.sum(cnt * logsumexp(Elogthetad + Elogbeta[:, int(id)]) for id, cnt in doc)\n",
      "/home/uday/anaconda3/lib/python3.6/site-packages/gensim/models/ldamodel.py:1077: DeprecationWarning: Calling np.sum(generator) is deprecated, and in the future will give a different result. Use np.sum(np.fromiter(generator)) or the python sum builtin instead.\n",
      "  score += np.sum(cnt * logsumexp(Elogthetad + Elogbeta[:, int(id)]) for id, cnt in doc)\n",
      "/home/uday/anaconda3/lib/python3.6/site-packages/gensim/models/ldamodel.py:1077: DeprecationWarning: Calling np.sum(generator) is deprecated, and in the future will give a different result. Use np.sum(np.fromiter(generator)) or the python sum builtin instead.\n",
      "  score += np.sum(cnt * logsumexp(Elogthetad + Elogbeta[:, int(id)]) for id, cnt in doc)\n",
      "/home/uday/anaconda3/lib/python3.6/site-packages/gensim/models/ldamodel.py:1077: DeprecationWarning: Calling np.sum(generator) is deprecated, and in the future will give a different result. Use np.sum(np.fromiter(generator)) or the python sum builtin instead.\n",
      "  score += np.sum(cnt * logsumexp(Elogthetad + Elogbeta[:, int(id)]) for id, cnt in doc)\n",
      "/home/uday/anaconda3/lib/python3.6/site-packages/gensim/models/ldamodel.py:1077: DeprecationWarning: Calling np.sum(generator) is deprecated, and in the future will give a different result. Use np.sum(np.fromiter(generator)) or the python sum builtin instead.\n",
      "  score += np.sum(cnt * logsumexp(Elogthetad + Elogbeta[:, int(id)]) for id, cnt in doc)\n",
      "/home/uday/anaconda3/lib/python3.6/site-packages/gensim/models/ldamodel.py:1077: DeprecationWarning: Calling np.sum(generator) is deprecated, and in the future will give a different result. Use np.sum(np.fromiter(generator)) or the python sum builtin instead.\n",
      "  score += np.sum(cnt * logsumexp(Elogthetad + Elogbeta[:, int(id)]) for id, cnt in doc)\n",
      "/home/uday/anaconda3/lib/python3.6/site-packages/gensim/models/ldamodel.py:1077: DeprecationWarning: Calling np.sum(generator) is deprecated, and in the future will give a different result. Use np.sum(np.fromiter(generator)) or the python sum builtin instead.\n",
      "  score += np.sum(cnt * logsumexp(Elogthetad + Elogbeta[:, int(id)]) for id, cnt in doc)\n",
      "/home/uday/anaconda3/lib/python3.6/site-packages/gensim/models/ldamodel.py:1077: DeprecationWarning: Calling np.sum(generator) is deprecated, and in the future will give a different result. Use np.sum(np.fromiter(generator)) or the python sum builtin instead.\n",
      "  score += np.sum(cnt * logsumexp(Elogthetad + Elogbeta[:, int(id)]) for id, cnt in doc)\n",
      "/home/uday/anaconda3/lib/python3.6/site-packages/gensim/models/ldamodel.py:1077: DeprecationWarning: Calling np.sum(generator) is deprecated, and in the future will give a different result. Use np.sum(np.fromiter(generator)) or the python sum builtin instead.\n",
      "  score += np.sum(cnt * logsumexp(Elogthetad + Elogbeta[:, int(id)]) for id, cnt in doc)\n",
      "/home/uday/anaconda3/lib/python3.6/site-packages/gensim/models/ldamodel.py:1077: DeprecationWarning: Calling np.sum(generator) is deprecated, and in the future will give a different result. Use np.sum(np.fromiter(generator)) or the python sum builtin instead.\n",
      "  score += np.sum(cnt * logsumexp(Elogthetad + Elogbeta[:, int(id)]) for id, cnt in doc)\n",
      "/home/uday/anaconda3/lib/python3.6/site-packages/gensim/models/ldamodel.py:1077: DeprecationWarning: Calling np.sum(generator) is deprecated, and in the future will give a different result. Use np.sum(np.fromiter(generator)) or the python sum builtin instead.\n",
      "  score += np.sum(cnt * logsumexp(Elogthetad + Elogbeta[:, int(id)]) for id, cnt in doc)\n",
      "/home/uday/anaconda3/lib/python3.6/site-packages/gensim/models/ldamodel.py:1077: DeprecationWarning: Calling np.sum(generator) is deprecated, and in the future will give a different result. Use np.sum(np.fromiter(generator)) or the python sum builtin instead.\n",
      "  score += np.sum(cnt * logsumexp(Elogthetad + Elogbeta[:, int(id)]) for id, cnt in doc)\n",
      "/home/uday/anaconda3/lib/python3.6/site-packages/gensim/models/ldamodel.py:1077: DeprecationWarning: Calling np.sum(generator) is deprecated, and in the future will give a different result. Use np.sum(np.fromiter(generator)) or the python sum builtin instead.\n",
      "  score += np.sum(cnt * logsumexp(Elogthetad + Elogbeta[:, int(id)]) for id, cnt in doc)\n",
      "/home/uday/anaconda3/lib/python3.6/site-packages/gensim/models/ldamodel.py:1077: DeprecationWarning: Calling np.sum(generator) is deprecated, and in the future will give a different result. Use np.sum(np.fromiter(generator)) or the python sum builtin instead.\n",
      "  score += np.sum(cnt * logsumexp(Elogthetad + Elogbeta[:, int(id)]) for id, cnt in doc)\n",
      "/home/uday/anaconda3/lib/python3.6/site-packages/gensim/models/ldamodel.py:1077: DeprecationWarning: Calling np.sum(generator) is deprecated, and in the future will give a different result. Use np.sum(np.fromiter(generator)) or the python sum builtin instead.\n",
      "  score += np.sum(cnt * logsumexp(Elogthetad + Elogbeta[:, int(id)]) for id, cnt in doc)\n",
      "/home/uday/anaconda3/lib/python3.6/site-packages/gensim/models/ldamodel.py:1077: DeprecationWarning: Calling np.sum(generator) is deprecated, and in the future will give a different result. Use np.sum(np.fromiter(generator)) or the python sum builtin instead.\n",
      "  score += np.sum(cnt * logsumexp(Elogthetad + Elogbeta[:, int(id)]) for id, cnt in doc)\n",
      "/home/uday/anaconda3/lib/python3.6/site-packages/gensim/models/ldamodel.py:1077: DeprecationWarning: Calling np.sum(generator) is deprecated, and in the future will give a different result. Use np.sum(np.fromiter(generator)) or the python sum builtin instead.\n",
      "  score += np.sum(cnt * logsumexp(Elogthetad + Elogbeta[:, int(id)]) for id, cnt in doc)\n",
      "/home/uday/anaconda3/lib/python3.6/site-packages/gensim/models/ldamodel.py:1077: DeprecationWarning: Calling np.sum(generator) is deprecated, and in the future will give a different result. Use np.sum(np.fromiter(generator)) or the python sum builtin instead.\n",
      "  score += np.sum(cnt * logsumexp(Elogthetad + Elogbeta[:, int(id)]) for id, cnt in doc)\n",
      "/home/uday/anaconda3/lib/python3.6/site-packages/gensim/models/ldamodel.py:1077: DeprecationWarning: Calling np.sum(generator) is deprecated, and in the future will give a different result. Use np.sum(np.fromiter(generator)) or the python sum builtin instead.\n",
      "  score += np.sum(cnt * logsumexp(Elogthetad + Elogbeta[:, int(id)]) for id, cnt in doc)\n",
      "/home/uday/anaconda3/lib/python3.6/site-packages/gensim/models/ldamodel.py:1077: DeprecationWarning: Calling np.sum(generator) is deprecated, and in the future will give a different result. Use np.sum(np.fromiter(generator)) or the python sum builtin instead.\n",
      "  score += np.sum(cnt * logsumexp(Elogthetad + Elogbeta[:, int(id)]) for id, cnt in doc)\n",
      "/home/uday/anaconda3/lib/python3.6/site-packages/gensim/models/ldamodel.py:1077: DeprecationWarning: Calling np.sum(generator) is deprecated, and in the future will give a different result. Use np.sum(np.fromiter(generator)) or the python sum builtin instead.\n",
      "  score += np.sum(cnt * logsumexp(Elogthetad + Elogbeta[:, int(id)]) for id, cnt in doc)\n",
      "/home/uday/anaconda3/lib/python3.6/site-packages/gensim/models/ldamodel.py:1077: DeprecationWarning: Calling np.sum(generator) is deprecated, and in the future will give a different result. Use np.sum(np.fromiter(generator)) or the python sum builtin instead.\n",
      "  score += np.sum(cnt * logsumexp(Elogthetad + Elogbeta[:, int(id)]) for id, cnt in doc)\n",
      "/home/uday/anaconda3/lib/python3.6/site-packages/gensim/models/ldamodel.py:1077: DeprecationWarning: Calling np.sum(generator) is deprecated, and in the future will give a different result. Use np.sum(np.fromiter(generator)) or the python sum builtin instead.\n",
      "  score += np.sum(cnt * logsumexp(Elogthetad + Elogbeta[:, int(id)]) for id, cnt in doc)\n",
      "/home/uday/anaconda3/lib/python3.6/site-packages/gensim/models/ldamodel.py:1077: DeprecationWarning: Calling np.sum(generator) is deprecated, and in the future will give a different result. Use np.sum(np.fromiter(generator)) or the python sum builtin instead.\n",
      "  score += np.sum(cnt * logsumexp(Elogthetad + Elogbeta[:, int(id)]) for id, cnt in doc)\n",
      "/home/uday/anaconda3/lib/python3.6/site-packages/gensim/models/ldamodel.py:1077: DeprecationWarning: Calling np.sum(generator) is deprecated, and in the future will give a different result. Use np.sum(np.fromiter(generator)) or the python sum builtin instead.\n",
      "  score += np.sum(cnt * logsumexp(Elogthetad + Elogbeta[:, int(id)]) for id, cnt in doc)\n",
      "/home/uday/anaconda3/lib/python3.6/site-packages/gensim/models/ldamodel.py:1077: DeprecationWarning: Calling np.sum(generator) is deprecated, and in the future will give a different result. Use np.sum(np.fromiter(generator)) or the python sum builtin instead.\n",
      "  score += np.sum(cnt * logsumexp(Elogthetad + Elogbeta[:, int(id)]) for id, cnt in doc)\n",
      "/home/uday/anaconda3/lib/python3.6/site-packages/gensim/models/ldamodel.py:1077: DeprecationWarning: Calling np.sum(generator) is deprecated, and in the future will give a different result. Use np.sum(np.fromiter(generator)) or the python sum builtin instead.\n",
      "  score += np.sum(cnt * logsumexp(Elogthetad + Elogbeta[:, int(id)]) for id, cnt in doc)\n",
      "/home/uday/anaconda3/lib/python3.6/site-packages/gensim/models/ldamodel.py:1077: DeprecationWarning: Calling np.sum(generator) is deprecated, and in the future will give a different result. Use np.sum(np.fromiter(generator)) or the python sum builtin instead.\n",
      "  score += np.sum(cnt * logsumexp(Elogthetad + Elogbeta[:, int(id)]) for id, cnt in doc)\n",
      "/home/uday/anaconda3/lib/python3.6/site-packages/gensim/models/ldamodel.py:1077: DeprecationWarning: Calling np.sum(generator) is deprecated, and in the future will give a different result. Use np.sum(np.fromiter(generator)) or the python sum builtin instead.\n",
      "  score += np.sum(cnt * logsumexp(Elogthetad + Elogbeta[:, int(id)]) for id, cnt in doc)\n",
      "/home/uday/anaconda3/lib/python3.6/site-packages/gensim/models/ldamodel.py:1077: DeprecationWarning: Calling np.sum(generator) is deprecated, and in the future will give a different result. Use np.sum(np.fromiter(generator)) or the python sum builtin instead.\n",
      "  score += np.sum(cnt * logsumexp(Elogthetad + Elogbeta[:, int(id)]) for id, cnt in doc)\n",
      "/home/uday/anaconda3/lib/python3.6/site-packages/gensim/models/ldamodel.py:1077: DeprecationWarning: Calling np.sum(generator) is deprecated, and in the future will give a different result. Use np.sum(np.fromiter(generator)) or the python sum builtin instead.\n",
      "  score += np.sum(cnt * logsumexp(Elogthetad + Elogbeta[:, int(id)]) for id, cnt in doc)\n",
      "/home/uday/anaconda3/lib/python3.6/site-packages/gensim/models/ldamodel.py:1077: DeprecationWarning: Calling np.sum(generator) is deprecated, and in the future will give a different result. Use np.sum(np.fromiter(generator)) or the python sum builtin instead.\n",
      "  score += np.sum(cnt * logsumexp(Elogthetad + Elogbeta[:, int(id)]) for id, cnt in doc)\n",
      "/home/uday/anaconda3/lib/python3.6/site-packages/gensim/models/ldamodel.py:1077: DeprecationWarning: Calling np.sum(generator) is deprecated, and in the future will give a different result. Use np.sum(np.fromiter(generator)) or the python sum builtin instead.\n",
      "  score += np.sum(cnt * logsumexp(Elogthetad + Elogbeta[:, int(id)]) for id, cnt in doc)\n",
      "/home/uday/anaconda3/lib/python3.6/site-packages/gensim/models/ldamodel.py:1077: DeprecationWarning: Calling np.sum(generator) is deprecated, and in the future will give a different result. Use np.sum(np.fromiter(generator)) or the python sum builtin instead.\n",
      "  score += np.sum(cnt * logsumexp(Elogthetad + Elogbeta[:, int(id)]) for id, cnt in doc)\n",
      "/home/uday/anaconda3/lib/python3.6/site-packages/gensim/models/ldamodel.py:1077: DeprecationWarning: Calling np.sum(generator) is deprecated, and in the future will give a different result. Use np.sum(np.fromiter(generator)) or the python sum builtin instead.\n",
      "  score += np.sum(cnt * logsumexp(Elogthetad + Elogbeta[:, int(id)]) for id, cnt in doc)\n",
      "/home/uday/anaconda3/lib/python3.6/site-packages/gensim/models/ldamodel.py:1077: DeprecationWarning: Calling np.sum(generator) is deprecated, and in the future will give a different result. Use np.sum(np.fromiter(generator)) or the python sum builtin instead.\n",
      "  score += np.sum(cnt * logsumexp(Elogthetad + Elogbeta[:, int(id)]) for id, cnt in doc)\n",
      "/home/uday/anaconda3/lib/python3.6/site-packages/gensim/models/ldamodel.py:1077: DeprecationWarning: Calling np.sum(generator) is deprecated, and in the future will give a different result. Use np.sum(np.fromiter(generator)) or the python sum builtin instead.\n",
      "  score += np.sum(cnt * logsumexp(Elogthetad + Elogbeta[:, int(id)]) for id, cnt in doc)\n",
      "/home/uday/anaconda3/lib/python3.6/site-packages/gensim/models/ldamodel.py:1077: DeprecationWarning: Calling np.sum(generator) is deprecated, and in the future will give a different result. Use np.sum(np.fromiter(generator)) or the python sum builtin instead.\n",
      "  score += np.sum(cnt * logsumexp(Elogthetad + Elogbeta[:, int(id)]) for id, cnt in doc)\n",
      "/home/uday/anaconda3/lib/python3.6/site-packages/gensim/models/ldamodel.py:1077: DeprecationWarning: Calling np.sum(generator) is deprecated, and in the future will give a different result. Use np.sum(np.fromiter(generator)) or the python sum builtin instead.\n",
      "  score += np.sum(cnt * logsumexp(Elogthetad + Elogbeta[:, int(id)]) for id, cnt in doc)\n",
      "/home/uday/anaconda3/lib/python3.6/site-packages/gensim/models/ldamodel.py:1077: DeprecationWarning: Calling np.sum(generator) is deprecated, and in the future will give a different result. Use np.sum(np.fromiter(generator)) or the python sum builtin instead.\n",
      "  score += np.sum(cnt * logsumexp(Elogthetad + Elogbeta[:, int(id)]) for id, cnt in doc)\n",
      "/home/uday/anaconda3/lib/python3.6/site-packages/gensim/models/ldamodel.py:1077: DeprecationWarning: Calling np.sum(generator) is deprecated, and in the future will give a different result. Use np.sum(np.fromiter(generator)) or the python sum builtin instead.\n",
      "  score += np.sum(cnt * logsumexp(Elogthetad + Elogbeta[:, int(id)]) for id, cnt in doc)\n",
      "/home/uday/anaconda3/lib/python3.6/site-packages/gensim/models/ldamodel.py:1077: DeprecationWarning: Calling np.sum(generator) is deprecated, and in the future will give a different result. Use np.sum(np.fromiter(generator)) or the python sum builtin instead.\n",
      "  score += np.sum(cnt * logsumexp(Elogthetad + Elogbeta[:, int(id)]) for id, cnt in doc)\n",
      "/home/uday/anaconda3/lib/python3.6/site-packages/gensim/models/ldamodel.py:1077: DeprecationWarning: Calling np.sum(generator) is deprecated, and in the future will give a different result. Use np.sum(np.fromiter(generator)) or the python sum builtin instead.\n",
      "  score += np.sum(cnt * logsumexp(Elogthetad + Elogbeta[:, int(id)]) for id, cnt in doc)\n",
      "/home/uday/anaconda3/lib/python3.6/site-packages/gensim/models/ldamodel.py:1077: DeprecationWarning: Calling np.sum(generator) is deprecated, and in the future will give a different result. Use np.sum(np.fromiter(generator)) or the python sum builtin instead.\n",
      "  score += np.sum(cnt * logsumexp(Elogthetad + Elogbeta[:, int(id)]) for id, cnt in doc)\n",
      "/home/uday/anaconda3/lib/python3.6/site-packages/gensim/models/ldamodel.py:1077: DeprecationWarning: Calling np.sum(generator) is deprecated, and in the future will give a different result. Use np.sum(np.fromiter(generator)) or the python sum builtin instead.\n",
      "  score += np.sum(cnt * logsumexp(Elogthetad + Elogbeta[:, int(id)]) for id, cnt in doc)\n",
      "/home/uday/anaconda3/lib/python3.6/site-packages/gensim/models/ldamodel.py:1077: DeprecationWarning: Calling np.sum(generator) is deprecated, and in the future will give a different result. Use np.sum(np.fromiter(generator)) or the python sum builtin instead.\n",
      "  score += np.sum(cnt * logsumexp(Elogthetad + Elogbeta[:, int(id)]) for id, cnt in doc)\n",
      "/home/uday/anaconda3/lib/python3.6/site-packages/gensim/models/ldamodel.py:1077: DeprecationWarning: Calling np.sum(generator) is deprecated, and in the future will give a different result. Use np.sum(np.fromiter(generator)) or the python sum builtin instead.\n",
      "  score += np.sum(cnt * logsumexp(Elogthetad + Elogbeta[:, int(id)]) for id, cnt in doc)\n",
      "/home/uday/anaconda3/lib/python3.6/site-packages/gensim/models/ldamodel.py:1077: DeprecationWarning: Calling np.sum(generator) is deprecated, and in the future will give a different result. Use np.sum(np.fromiter(generator)) or the python sum builtin instead.\n",
      "  score += np.sum(cnt * logsumexp(Elogthetad + Elogbeta[:, int(id)]) for id, cnt in doc)\n",
      "/home/uday/anaconda3/lib/python3.6/site-packages/gensim/models/ldamodel.py:1077: DeprecationWarning: Calling np.sum(generator) is deprecated, and in the future will give a different result. Use np.sum(np.fromiter(generator)) or the python sum builtin instead.\n",
      "  score += np.sum(cnt * logsumexp(Elogthetad + Elogbeta[:, int(id)]) for id, cnt in doc)\n",
      "/home/uday/anaconda3/lib/python3.6/site-packages/gensim/models/ldamodel.py:1077: DeprecationWarning: Calling np.sum(generator) is deprecated, and in the future will give a different result. Use np.sum(np.fromiter(generator)) or the python sum builtin instead.\n",
      "  score += np.sum(cnt * logsumexp(Elogthetad + Elogbeta[:, int(id)]) for id, cnt in doc)\n",
      "/home/uday/anaconda3/lib/python3.6/site-packages/gensim/models/ldamodel.py:1077: DeprecationWarning: Calling np.sum(generator) is deprecated, and in the future will give a different result. Use np.sum(np.fromiter(generator)) or the python sum builtin instead.\n",
      "  score += np.sum(cnt * logsumexp(Elogthetad + Elogbeta[:, int(id)]) for id, cnt in doc)\n",
      "/home/uday/anaconda3/lib/python3.6/site-packages/gensim/models/ldamodel.py:1077: DeprecationWarning: Calling np.sum(generator) is deprecated, and in the future will give a different result. Use np.sum(np.fromiter(generator)) or the python sum builtin instead.\n",
      "  score += np.sum(cnt * logsumexp(Elogthetad + Elogbeta[:, int(id)]) for id, cnt in doc)\n",
      "/home/uday/anaconda3/lib/python3.6/site-packages/gensim/models/ldamodel.py:1077: DeprecationWarning: Calling np.sum(generator) is deprecated, and in the future will give a different result. Use np.sum(np.fromiter(generator)) or the python sum builtin instead.\n",
      "  score += np.sum(cnt * logsumexp(Elogthetad + Elogbeta[:, int(id)]) for id, cnt in doc)\n",
      "/home/uday/anaconda3/lib/python3.6/site-packages/gensim/models/ldamodel.py:1077: DeprecationWarning: Calling np.sum(generator) is deprecated, and in the future will give a different result. Use np.sum(np.fromiter(generator)) or the python sum builtin instead.\n",
      "  score += np.sum(cnt * logsumexp(Elogthetad + Elogbeta[:, int(id)]) for id, cnt in doc)\n",
      "/home/uday/anaconda3/lib/python3.6/site-packages/gensim/models/ldamodel.py:1077: DeprecationWarning: Calling np.sum(generator) is deprecated, and in the future will give a different result. Use np.sum(np.fromiter(generator)) or the python sum builtin instead.\n",
      "  score += np.sum(cnt * logsumexp(Elogthetad + Elogbeta[:, int(id)]) for id, cnt in doc)\n",
      "/home/uday/anaconda3/lib/python3.6/site-packages/gensim/models/ldamodel.py:1077: DeprecationWarning: Calling np.sum(generator) is deprecated, and in the future will give a different result. Use np.sum(np.fromiter(generator)) or the python sum builtin instead.\n",
      "  score += np.sum(cnt * logsumexp(Elogthetad + Elogbeta[:, int(id)]) for id, cnt in doc)\n",
      "/home/uday/anaconda3/lib/python3.6/site-packages/gensim/models/ldamodel.py:1077: DeprecationWarning: Calling np.sum(generator) is deprecated, and in the future will give a different result. Use np.sum(np.fromiter(generator)) or the python sum builtin instead.\n",
      "  score += np.sum(cnt * logsumexp(Elogthetad + Elogbeta[:, int(id)]) for id, cnt in doc)\n",
      "/home/uday/anaconda3/lib/python3.6/site-packages/gensim/models/ldamodel.py:1077: DeprecationWarning: Calling np.sum(generator) is deprecated, and in the future will give a different result. Use np.sum(np.fromiter(generator)) or the python sum builtin instead.\n",
      "  score += np.sum(cnt * logsumexp(Elogthetad + Elogbeta[:, int(id)]) for id, cnt in doc)\n",
      "/home/uday/anaconda3/lib/python3.6/site-packages/gensim/models/ldamodel.py:1077: DeprecationWarning: Calling np.sum(generator) is deprecated, and in the future will give a different result. Use np.sum(np.fromiter(generator)) or the python sum builtin instead.\n",
      "  score += np.sum(cnt * logsumexp(Elogthetad + Elogbeta[:, int(id)]) for id, cnt in doc)\n",
      "/home/uday/anaconda3/lib/python3.6/site-packages/gensim/models/ldamodel.py:1077: DeprecationWarning: Calling np.sum(generator) is deprecated, and in the future will give a different result. Use np.sum(np.fromiter(generator)) or the python sum builtin instead.\n",
      "  score += np.sum(cnt * logsumexp(Elogthetad + Elogbeta[:, int(id)]) for id, cnt in doc)\n",
      "/home/uday/anaconda3/lib/python3.6/site-packages/gensim/models/ldamodel.py:1077: DeprecationWarning: Calling np.sum(generator) is deprecated, and in the future will give a different result. Use np.sum(np.fromiter(generator)) or the python sum builtin instead.\n",
      "  score += np.sum(cnt * logsumexp(Elogthetad + Elogbeta[:, int(id)]) for id, cnt in doc)\n",
      "/home/uday/anaconda3/lib/python3.6/site-packages/gensim/models/ldamodel.py:1077: DeprecationWarning: Calling np.sum(generator) is deprecated, and in the future will give a different result. Use np.sum(np.fromiter(generator)) or the python sum builtin instead.\n",
      "  score += np.sum(cnt * logsumexp(Elogthetad + Elogbeta[:, int(id)]) for id, cnt in doc)\n",
      "/home/uday/anaconda3/lib/python3.6/site-packages/gensim/models/ldamodel.py:1077: DeprecationWarning: Calling np.sum(generator) is deprecated, and in the future will give a different result. Use np.sum(np.fromiter(generator)) or the python sum builtin instead.\n",
      "  score += np.sum(cnt * logsumexp(Elogthetad + Elogbeta[:, int(id)]) for id, cnt in doc)\n",
      "/home/uday/anaconda3/lib/python3.6/site-packages/gensim/models/ldamodel.py:1077: DeprecationWarning: Calling np.sum(generator) is deprecated, and in the future will give a different result. Use np.sum(np.fromiter(generator)) or the python sum builtin instead.\n",
      "  score += np.sum(cnt * logsumexp(Elogthetad + Elogbeta[:, int(id)]) for id, cnt in doc)\n",
      "/home/uday/anaconda3/lib/python3.6/site-packages/gensim/models/ldamodel.py:1077: DeprecationWarning: Calling np.sum(generator) is deprecated, and in the future will give a different result. Use np.sum(np.fromiter(generator)) or the python sum builtin instead.\n",
      "  score += np.sum(cnt * logsumexp(Elogthetad + Elogbeta[:, int(id)]) for id, cnt in doc)\n",
      "/home/uday/anaconda3/lib/python3.6/site-packages/gensim/models/ldamodel.py:1077: DeprecationWarning: Calling np.sum(generator) is deprecated, and in the future will give a different result. Use np.sum(np.fromiter(generator)) or the python sum builtin instead.\n",
      "  score += np.sum(cnt * logsumexp(Elogthetad + Elogbeta[:, int(id)]) for id, cnt in doc)\n",
      "/home/uday/anaconda3/lib/python3.6/site-packages/gensim/models/ldamodel.py:1077: DeprecationWarning: Calling np.sum(generator) is deprecated, and in the future will give a different result. Use np.sum(np.fromiter(generator)) or the python sum builtin instead.\n",
      "  score += np.sum(cnt * logsumexp(Elogthetad + Elogbeta[:, int(id)]) for id, cnt in doc)\n",
      "/home/uday/anaconda3/lib/python3.6/site-packages/gensim/models/ldamodel.py:1077: DeprecationWarning: Calling np.sum(generator) is deprecated, and in the future will give a different result. Use np.sum(np.fromiter(generator)) or the python sum builtin instead.\n",
      "  score += np.sum(cnt * logsumexp(Elogthetad + Elogbeta[:, int(id)]) for id, cnt in doc)\n",
      "/home/uday/anaconda3/lib/python3.6/site-packages/gensim/models/ldamodel.py:1077: DeprecationWarning: Calling np.sum(generator) is deprecated, and in the future will give a different result. Use np.sum(np.fromiter(generator)) or the python sum builtin instead.\n",
      "  score += np.sum(cnt * logsumexp(Elogthetad + Elogbeta[:, int(id)]) for id, cnt in doc)\n",
      "/home/uday/anaconda3/lib/python3.6/site-packages/gensim/models/ldamodel.py:1077: DeprecationWarning: Calling np.sum(generator) is deprecated, and in the future will give a different result. Use np.sum(np.fromiter(generator)) or the python sum builtin instead.\n",
      "  score += np.sum(cnt * logsumexp(Elogthetad + Elogbeta[:, int(id)]) for id, cnt in doc)\n",
      "/home/uday/anaconda3/lib/python3.6/site-packages/gensim/models/ldamodel.py:1077: DeprecationWarning: Calling np.sum(generator) is deprecated, and in the future will give a different result. Use np.sum(np.fromiter(generator)) or the python sum builtin instead.\n",
      "  score += np.sum(cnt * logsumexp(Elogthetad + Elogbeta[:, int(id)]) for id, cnt in doc)\n",
      "/home/uday/anaconda3/lib/python3.6/site-packages/gensim/models/ldamodel.py:1077: DeprecationWarning: Calling np.sum(generator) is deprecated, and in the future will give a different result. Use np.sum(np.fromiter(generator)) or the python sum builtin instead.\n",
      "  score += np.sum(cnt * logsumexp(Elogthetad + Elogbeta[:, int(id)]) for id, cnt in doc)\n",
      "/home/uday/anaconda3/lib/python3.6/site-packages/gensim/models/ldamodel.py:1077: DeprecationWarning: Calling np.sum(generator) is deprecated, and in the future will give a different result. Use np.sum(np.fromiter(generator)) or the python sum builtin instead.\n",
      "  score += np.sum(cnt * logsumexp(Elogthetad + Elogbeta[:, int(id)]) for id, cnt in doc)\n",
      "/home/uday/anaconda3/lib/python3.6/site-packages/gensim/models/ldamodel.py:1077: DeprecationWarning: Calling np.sum(generator) is deprecated, and in the future will give a different result. Use np.sum(np.fromiter(generator)) or the python sum builtin instead.\n",
      "  score += np.sum(cnt * logsumexp(Elogthetad + Elogbeta[:, int(id)]) for id, cnt in doc)\n",
      "/home/uday/anaconda3/lib/python3.6/site-packages/gensim/models/ldamodel.py:1077: DeprecationWarning: Calling np.sum(generator) is deprecated, and in the future will give a different result. Use np.sum(np.fromiter(generator)) or the python sum builtin instead.\n",
      "  score += np.sum(cnt * logsumexp(Elogthetad + Elogbeta[:, int(id)]) for id, cnt in doc)\n",
      "/home/uday/anaconda3/lib/python3.6/site-packages/gensim/models/ldamodel.py:1077: DeprecationWarning: Calling np.sum(generator) is deprecated, and in the future will give a different result. Use np.sum(np.fromiter(generator)) or the python sum builtin instead.\n",
      "  score += np.sum(cnt * logsumexp(Elogthetad + Elogbeta[:, int(id)]) for id, cnt in doc)\n",
      "/home/uday/anaconda3/lib/python3.6/site-packages/gensim/models/ldamodel.py:1077: DeprecationWarning: Calling np.sum(generator) is deprecated, and in the future will give a different result. Use np.sum(np.fromiter(generator)) or the python sum builtin instead.\n",
      "  score += np.sum(cnt * logsumexp(Elogthetad + Elogbeta[:, int(id)]) for id, cnt in doc)\n",
      "/home/uday/anaconda3/lib/python3.6/site-packages/gensim/models/ldamodel.py:1077: DeprecationWarning: Calling np.sum(generator) is deprecated, and in the future will give a different result. Use np.sum(np.fromiter(generator)) or the python sum builtin instead.\n",
      "  score += np.sum(cnt * logsumexp(Elogthetad + Elogbeta[:, int(id)]) for id, cnt in doc)\n",
      "/home/uday/anaconda3/lib/python3.6/site-packages/gensim/models/ldamodel.py:1077: DeprecationWarning: Calling np.sum(generator) is deprecated, and in the future will give a different result. Use np.sum(np.fromiter(generator)) or the python sum builtin instead.\n",
      "  score += np.sum(cnt * logsumexp(Elogthetad + Elogbeta[:, int(id)]) for id, cnt in doc)\n",
      "/home/uday/anaconda3/lib/python3.6/site-packages/gensim/models/ldamodel.py:1077: DeprecationWarning: Calling np.sum(generator) is deprecated, and in the future will give a different result. Use np.sum(np.fromiter(generator)) or the python sum builtin instead.\n",
      "  score += np.sum(cnt * logsumexp(Elogthetad + Elogbeta[:, int(id)]) for id, cnt in doc)\n",
      "/home/uday/anaconda3/lib/python3.6/site-packages/gensim/models/ldamodel.py:1077: DeprecationWarning: Calling np.sum(generator) is deprecated, and in the future will give a different result. Use np.sum(np.fromiter(generator)) or the python sum builtin instead.\n",
      "  score += np.sum(cnt * logsumexp(Elogthetad + Elogbeta[:, int(id)]) for id, cnt in doc)\n",
      "/home/uday/anaconda3/lib/python3.6/site-packages/gensim/models/ldamodel.py:1077: DeprecationWarning: Calling np.sum(generator) is deprecated, and in the future will give a different result. Use np.sum(np.fromiter(generator)) or the python sum builtin instead.\n",
      "  score += np.sum(cnt * logsumexp(Elogthetad + Elogbeta[:, int(id)]) for id, cnt in doc)\n",
      "/home/uday/anaconda3/lib/python3.6/site-packages/gensim/models/ldamodel.py:1077: DeprecationWarning: Calling np.sum(generator) is deprecated, and in the future will give a different result. Use np.sum(np.fromiter(generator)) or the python sum builtin instead.\n",
      "  score += np.sum(cnt * logsumexp(Elogthetad + Elogbeta[:, int(id)]) for id, cnt in doc)\n",
      "/home/uday/anaconda3/lib/python3.6/site-packages/gensim/models/ldamodel.py:1077: DeprecationWarning: Calling np.sum(generator) is deprecated, and in the future will give a different result. Use np.sum(np.fromiter(generator)) or the python sum builtin instead.\n",
      "  score += np.sum(cnt * logsumexp(Elogthetad + Elogbeta[:, int(id)]) for id, cnt in doc)\n",
      "/home/uday/anaconda3/lib/python3.6/site-packages/gensim/models/ldamodel.py:1077: DeprecationWarning: Calling np.sum(generator) is deprecated, and in the future will give a different result. Use np.sum(np.fromiter(generator)) or the python sum builtin instead.\n",
      "  score += np.sum(cnt * logsumexp(Elogthetad + Elogbeta[:, int(id)]) for id, cnt in doc)\n",
      "/home/uday/anaconda3/lib/python3.6/site-packages/gensim/models/ldamodel.py:1077: DeprecationWarning: Calling np.sum(generator) is deprecated, and in the future will give a different result. Use np.sum(np.fromiter(generator)) or the python sum builtin instead.\n",
      "  score += np.sum(cnt * logsumexp(Elogthetad + Elogbeta[:, int(id)]) for id, cnt in doc)\n",
      "/home/uday/anaconda3/lib/python3.6/site-packages/gensim/models/ldamodel.py:1077: DeprecationWarning: Calling np.sum(generator) is deprecated, and in the future will give a different result. Use np.sum(np.fromiter(generator)) or the python sum builtin instead.\n",
      "  score += np.sum(cnt * logsumexp(Elogthetad + Elogbeta[:, int(id)]) for id, cnt in doc)\n",
      "/home/uday/anaconda3/lib/python3.6/site-packages/gensim/models/ldamodel.py:1077: DeprecationWarning: Calling np.sum(generator) is deprecated, and in the future will give a different result. Use np.sum(np.fromiter(generator)) or the python sum builtin instead.\n",
      "  score += np.sum(cnt * logsumexp(Elogthetad + Elogbeta[:, int(id)]) for id, cnt in doc)\n",
      "/home/uday/anaconda3/lib/python3.6/site-packages/gensim/models/ldamodel.py:1077: DeprecationWarning: Calling np.sum(generator) is deprecated, and in the future will give a different result. Use np.sum(np.fromiter(generator)) or the python sum builtin instead.\n",
      "  score += np.sum(cnt * logsumexp(Elogthetad + Elogbeta[:, int(id)]) for id, cnt in doc)\n",
      "/home/uday/anaconda3/lib/python3.6/site-packages/gensim/models/ldamodel.py:1077: DeprecationWarning: Calling np.sum(generator) is deprecated, and in the future will give a different result. Use np.sum(np.fromiter(generator)) or the python sum builtin instead.\n",
      "  score += np.sum(cnt * logsumexp(Elogthetad + Elogbeta[:, int(id)]) for id, cnt in doc)\n",
      "/home/uday/anaconda3/lib/python3.6/site-packages/gensim/models/ldamodel.py:1077: DeprecationWarning: Calling np.sum(generator) is deprecated, and in the future will give a different result. Use np.sum(np.fromiter(generator)) or the python sum builtin instead.\n",
      "  score += np.sum(cnt * logsumexp(Elogthetad + Elogbeta[:, int(id)]) for id, cnt in doc)\n",
      "/home/uday/anaconda3/lib/python3.6/site-packages/gensim/models/ldamodel.py:1077: DeprecationWarning: Calling np.sum(generator) is deprecated, and in the future will give a different result. Use np.sum(np.fromiter(generator)) or the python sum builtin instead.\n",
      "  score += np.sum(cnt * logsumexp(Elogthetad + Elogbeta[:, int(id)]) for id, cnt in doc)\n",
      "/home/uday/anaconda3/lib/python3.6/site-packages/gensim/models/ldamodel.py:1077: DeprecationWarning: Calling np.sum(generator) is deprecated, and in the future will give a different result. Use np.sum(np.fromiter(generator)) or the python sum builtin instead.\n",
      "  score += np.sum(cnt * logsumexp(Elogthetad + Elogbeta[:, int(id)]) for id, cnt in doc)\n"
     ]
    },
    {
     "name": "stderr",
     "output_type": "stream",
     "text": [
      "/home/uday/anaconda3/lib/python3.6/site-packages/gensim/models/ldamodel.py:1077: DeprecationWarning: Calling np.sum(generator) is deprecated, and in the future will give a different result. Use np.sum(np.fromiter(generator)) or the python sum builtin instead.\n",
      "  score += np.sum(cnt * logsumexp(Elogthetad + Elogbeta[:, int(id)]) for id, cnt in doc)\n",
      "/home/uday/anaconda3/lib/python3.6/site-packages/gensim/models/ldamodel.py:1077: DeprecationWarning: Calling np.sum(generator) is deprecated, and in the future will give a different result. Use np.sum(np.fromiter(generator)) or the python sum builtin instead.\n",
      "  score += np.sum(cnt * logsumexp(Elogthetad + Elogbeta[:, int(id)]) for id, cnt in doc)\n",
      "/home/uday/anaconda3/lib/python3.6/site-packages/gensim/models/ldamodel.py:1077: DeprecationWarning: Calling np.sum(generator) is deprecated, and in the future will give a different result. Use np.sum(np.fromiter(generator)) or the python sum builtin instead.\n",
      "  score += np.sum(cnt * logsumexp(Elogthetad + Elogbeta[:, int(id)]) for id, cnt in doc)\n",
      "/home/uday/anaconda3/lib/python3.6/site-packages/gensim/models/ldamodel.py:1077: DeprecationWarning: Calling np.sum(generator) is deprecated, and in the future will give a different result. Use np.sum(np.fromiter(generator)) or the python sum builtin instead.\n",
      "  score += np.sum(cnt * logsumexp(Elogthetad + Elogbeta[:, int(id)]) for id, cnt in doc)\n",
      "/home/uday/anaconda3/lib/python3.6/site-packages/gensim/models/ldamodel.py:1077: DeprecationWarning: Calling np.sum(generator) is deprecated, and in the future will give a different result. Use np.sum(np.fromiter(generator)) or the python sum builtin instead.\n",
      "  score += np.sum(cnt * logsumexp(Elogthetad + Elogbeta[:, int(id)]) for id, cnt in doc)\n",
      "/home/uday/anaconda3/lib/python3.6/site-packages/gensim/models/ldamodel.py:1077: DeprecationWarning: Calling np.sum(generator) is deprecated, and in the future will give a different result. Use np.sum(np.fromiter(generator)) or the python sum builtin instead.\n",
      "  score += np.sum(cnt * logsumexp(Elogthetad + Elogbeta[:, int(id)]) for id, cnt in doc)\n",
      "/home/uday/anaconda3/lib/python3.6/site-packages/gensim/models/ldamodel.py:1077: DeprecationWarning: Calling np.sum(generator) is deprecated, and in the future will give a different result. Use np.sum(np.fromiter(generator)) or the python sum builtin instead.\n",
      "  score += np.sum(cnt * logsumexp(Elogthetad + Elogbeta[:, int(id)]) for id, cnt in doc)\n",
      "/home/uday/anaconda3/lib/python3.6/site-packages/gensim/models/ldamodel.py:1077: DeprecationWarning: Calling np.sum(generator) is deprecated, and in the future will give a different result. Use np.sum(np.fromiter(generator)) or the python sum builtin instead.\n",
      "  score += np.sum(cnt * logsumexp(Elogthetad + Elogbeta[:, int(id)]) for id, cnt in doc)\n",
      "/home/uday/anaconda3/lib/python3.6/site-packages/gensim/models/ldamodel.py:1077: DeprecationWarning: Calling np.sum(generator) is deprecated, and in the future will give a different result. Use np.sum(np.fromiter(generator)) or the python sum builtin instead.\n",
      "  score += np.sum(cnt * logsumexp(Elogthetad + Elogbeta[:, int(id)]) for id, cnt in doc)\n",
      "/home/uday/anaconda3/lib/python3.6/site-packages/gensim/models/ldamodel.py:1077: DeprecationWarning: Calling np.sum(generator) is deprecated, and in the future will give a different result. Use np.sum(np.fromiter(generator)) or the python sum builtin instead.\n",
      "  score += np.sum(cnt * logsumexp(Elogthetad + Elogbeta[:, int(id)]) for id, cnt in doc)\n",
      "/home/uday/anaconda3/lib/python3.6/site-packages/gensim/models/ldamodel.py:1077: DeprecationWarning: Calling np.sum(generator) is deprecated, and in the future will give a different result. Use np.sum(np.fromiter(generator)) or the python sum builtin instead.\n",
      "  score += np.sum(cnt * logsumexp(Elogthetad + Elogbeta[:, int(id)]) for id, cnt in doc)\n",
      "/home/uday/anaconda3/lib/python3.6/site-packages/gensim/models/ldamodel.py:1077: DeprecationWarning: Calling np.sum(generator) is deprecated, and in the future will give a different result. Use np.sum(np.fromiter(generator)) or the python sum builtin instead.\n",
      "  score += np.sum(cnt * logsumexp(Elogthetad + Elogbeta[:, int(id)]) for id, cnt in doc)\n",
      "/home/uday/anaconda3/lib/python3.6/site-packages/gensim/models/ldamodel.py:1077: DeprecationWarning: Calling np.sum(generator) is deprecated, and in the future will give a different result. Use np.sum(np.fromiter(generator)) or the python sum builtin instead.\n",
      "  score += np.sum(cnt * logsumexp(Elogthetad + Elogbeta[:, int(id)]) for id, cnt in doc)\n",
      "/home/uday/anaconda3/lib/python3.6/site-packages/gensim/models/ldamodel.py:1077: DeprecationWarning: Calling np.sum(generator) is deprecated, and in the future will give a different result. Use np.sum(np.fromiter(generator)) or the python sum builtin instead.\n",
      "  score += np.sum(cnt * logsumexp(Elogthetad + Elogbeta[:, int(id)]) for id, cnt in doc)\n",
      "/home/uday/anaconda3/lib/python3.6/site-packages/gensim/models/ldamodel.py:1077: DeprecationWarning: Calling np.sum(generator) is deprecated, and in the future will give a different result. Use np.sum(np.fromiter(generator)) or the python sum builtin instead.\n",
      "  score += np.sum(cnt * logsumexp(Elogthetad + Elogbeta[:, int(id)]) for id, cnt in doc)\n",
      "/home/uday/anaconda3/lib/python3.6/site-packages/gensim/models/ldamodel.py:1077: DeprecationWarning: Calling np.sum(generator) is deprecated, and in the future will give a different result. Use np.sum(np.fromiter(generator)) or the python sum builtin instead.\n",
      "  score += np.sum(cnt * logsumexp(Elogthetad + Elogbeta[:, int(id)]) for id, cnt in doc)\n",
      "/home/uday/anaconda3/lib/python3.6/site-packages/gensim/models/ldamodel.py:1077: DeprecationWarning: Calling np.sum(generator) is deprecated, and in the future will give a different result. Use np.sum(np.fromiter(generator)) or the python sum builtin instead.\n",
      "  score += np.sum(cnt * logsumexp(Elogthetad + Elogbeta[:, int(id)]) for id, cnt in doc)\n",
      "/home/uday/anaconda3/lib/python3.6/site-packages/gensim/models/ldamodel.py:1077: DeprecationWarning: Calling np.sum(generator) is deprecated, and in the future will give a different result. Use np.sum(np.fromiter(generator)) or the python sum builtin instead.\n",
      "  score += np.sum(cnt * logsumexp(Elogthetad + Elogbeta[:, int(id)]) for id, cnt in doc)\n",
      "/home/uday/anaconda3/lib/python3.6/site-packages/gensim/models/ldamodel.py:1077: DeprecationWarning: Calling np.sum(generator) is deprecated, and in the future will give a different result. Use np.sum(np.fromiter(generator)) or the python sum builtin instead.\n",
      "  score += np.sum(cnt * logsumexp(Elogthetad + Elogbeta[:, int(id)]) for id, cnt in doc)\n",
      "/home/uday/anaconda3/lib/python3.6/site-packages/gensim/models/ldamodel.py:1077: DeprecationWarning: Calling np.sum(generator) is deprecated, and in the future will give a different result. Use np.sum(np.fromiter(generator)) or the python sum builtin instead.\n",
      "  score += np.sum(cnt * logsumexp(Elogthetad + Elogbeta[:, int(id)]) for id, cnt in doc)\n",
      "/home/uday/anaconda3/lib/python3.6/site-packages/gensim/models/ldamodel.py:1077: DeprecationWarning: Calling np.sum(generator) is deprecated, and in the future will give a different result. Use np.sum(np.fromiter(generator)) or the python sum builtin instead.\n",
      "  score += np.sum(cnt * logsumexp(Elogthetad + Elogbeta[:, int(id)]) for id, cnt in doc)\n",
      "/home/uday/anaconda3/lib/python3.6/site-packages/gensim/models/ldamodel.py:1077: DeprecationWarning: Calling np.sum(generator) is deprecated, and in the future will give a different result. Use np.sum(np.fromiter(generator)) or the python sum builtin instead.\n",
      "  score += np.sum(cnt * logsumexp(Elogthetad + Elogbeta[:, int(id)]) for id, cnt in doc)\n",
      "/home/uday/anaconda3/lib/python3.6/site-packages/gensim/models/ldamodel.py:1077: DeprecationWarning: Calling np.sum(generator) is deprecated, and in the future will give a different result. Use np.sum(np.fromiter(generator)) or the python sum builtin instead.\n",
      "  score += np.sum(cnt * logsumexp(Elogthetad + Elogbeta[:, int(id)]) for id, cnt in doc)\n",
      "/home/uday/anaconda3/lib/python3.6/site-packages/gensim/models/ldamodel.py:1077: DeprecationWarning: Calling np.sum(generator) is deprecated, and in the future will give a different result. Use np.sum(np.fromiter(generator)) or the python sum builtin instead.\n",
      "  score += np.sum(cnt * logsumexp(Elogthetad + Elogbeta[:, int(id)]) for id, cnt in doc)\n",
      "/home/uday/anaconda3/lib/python3.6/site-packages/gensim/models/ldamodel.py:1077: DeprecationWarning: Calling np.sum(generator) is deprecated, and in the future will give a different result. Use np.sum(np.fromiter(generator)) or the python sum builtin instead.\n",
      "  score += np.sum(cnt * logsumexp(Elogthetad + Elogbeta[:, int(id)]) for id, cnt in doc)\n",
      "/home/uday/anaconda3/lib/python3.6/site-packages/gensim/models/ldamodel.py:1077: DeprecationWarning: Calling np.sum(generator) is deprecated, and in the future will give a different result. Use np.sum(np.fromiter(generator)) or the python sum builtin instead.\n",
      "  score += np.sum(cnt * logsumexp(Elogthetad + Elogbeta[:, int(id)]) for id, cnt in doc)\n",
      "/home/uday/anaconda3/lib/python3.6/site-packages/gensim/models/ldamodel.py:1077: DeprecationWarning: Calling np.sum(generator) is deprecated, and in the future will give a different result. Use np.sum(np.fromiter(generator)) or the python sum builtin instead.\n",
      "  score += np.sum(cnt * logsumexp(Elogthetad + Elogbeta[:, int(id)]) for id, cnt in doc)\n",
      "/home/uday/anaconda3/lib/python3.6/site-packages/gensim/models/ldamodel.py:1077: DeprecationWarning: Calling np.sum(generator) is deprecated, and in the future will give a different result. Use np.sum(np.fromiter(generator)) or the python sum builtin instead.\n",
      "  score += np.sum(cnt * logsumexp(Elogthetad + Elogbeta[:, int(id)]) for id, cnt in doc)\n",
      "/home/uday/anaconda3/lib/python3.6/site-packages/gensim/models/ldamodel.py:1077: DeprecationWarning: Calling np.sum(generator) is deprecated, and in the future will give a different result. Use np.sum(np.fromiter(generator)) or the python sum builtin instead.\n",
      "  score += np.sum(cnt * logsumexp(Elogthetad + Elogbeta[:, int(id)]) for id, cnt in doc)\n",
      "/home/uday/anaconda3/lib/python3.6/site-packages/gensim/models/ldamodel.py:1077: DeprecationWarning: Calling np.sum(generator) is deprecated, and in the future will give a different result. Use np.sum(np.fromiter(generator)) or the python sum builtin instead.\n",
      "  score += np.sum(cnt * logsumexp(Elogthetad + Elogbeta[:, int(id)]) for id, cnt in doc)\n",
      "/home/uday/anaconda3/lib/python3.6/site-packages/gensim/models/ldamodel.py:1077: DeprecationWarning: Calling np.sum(generator) is deprecated, and in the future will give a different result. Use np.sum(np.fromiter(generator)) or the python sum builtin instead.\n",
      "  score += np.sum(cnt * logsumexp(Elogthetad + Elogbeta[:, int(id)]) for id, cnt in doc)\n",
      "/home/uday/anaconda3/lib/python3.6/site-packages/gensim/models/ldamodel.py:1077: DeprecationWarning: Calling np.sum(generator) is deprecated, and in the future will give a different result. Use np.sum(np.fromiter(generator)) or the python sum builtin instead.\n",
      "  score += np.sum(cnt * logsumexp(Elogthetad + Elogbeta[:, int(id)]) for id, cnt in doc)\n",
      "/home/uday/anaconda3/lib/python3.6/site-packages/gensim/models/ldamodel.py:1077: DeprecationWarning: Calling np.sum(generator) is deprecated, and in the future will give a different result. Use np.sum(np.fromiter(generator)) or the python sum builtin instead.\n",
      "  score += np.sum(cnt * logsumexp(Elogthetad + Elogbeta[:, int(id)]) for id, cnt in doc)\n",
      "/home/uday/anaconda3/lib/python3.6/site-packages/gensim/models/ldamodel.py:1077: DeprecationWarning: Calling np.sum(generator) is deprecated, and in the future will give a different result. Use np.sum(np.fromiter(generator)) or the python sum builtin instead.\n",
      "  score += np.sum(cnt * logsumexp(Elogthetad + Elogbeta[:, int(id)]) for id, cnt in doc)\n",
      "/home/uday/anaconda3/lib/python3.6/site-packages/gensim/models/ldamodel.py:1077: DeprecationWarning: Calling np.sum(generator) is deprecated, and in the future will give a different result. Use np.sum(np.fromiter(generator)) or the python sum builtin instead.\n",
      "  score += np.sum(cnt * logsumexp(Elogthetad + Elogbeta[:, int(id)]) for id, cnt in doc)\n",
      "/home/uday/anaconda3/lib/python3.6/site-packages/gensim/models/ldamodel.py:1077: DeprecationWarning: Calling np.sum(generator) is deprecated, and in the future will give a different result. Use np.sum(np.fromiter(generator)) or the python sum builtin instead.\n",
      "  score += np.sum(cnt * logsumexp(Elogthetad + Elogbeta[:, int(id)]) for id, cnt in doc)\n",
      "/home/uday/anaconda3/lib/python3.6/site-packages/gensim/models/ldamodel.py:1077: DeprecationWarning: Calling np.sum(generator) is deprecated, and in the future will give a different result. Use np.sum(np.fromiter(generator)) or the python sum builtin instead.\n",
      "  score += np.sum(cnt * logsumexp(Elogthetad + Elogbeta[:, int(id)]) for id, cnt in doc)\n",
      "/home/uday/anaconda3/lib/python3.6/site-packages/gensim/models/ldamodel.py:1077: DeprecationWarning: Calling np.sum(generator) is deprecated, and in the future will give a different result. Use np.sum(np.fromiter(generator)) or the python sum builtin instead.\n",
      "  score += np.sum(cnt * logsumexp(Elogthetad + Elogbeta[:, int(id)]) for id, cnt in doc)\n",
      "/home/uday/anaconda3/lib/python3.6/site-packages/gensim/models/ldamodel.py:1077: DeprecationWarning: Calling np.sum(generator) is deprecated, and in the future will give a different result. Use np.sum(np.fromiter(generator)) or the python sum builtin instead.\n",
      "  score += np.sum(cnt * logsumexp(Elogthetad + Elogbeta[:, int(id)]) for id, cnt in doc)\n",
      "/home/uday/anaconda3/lib/python3.6/site-packages/gensim/models/ldamodel.py:1077: DeprecationWarning: Calling np.sum(generator) is deprecated, and in the future will give a different result. Use np.sum(np.fromiter(generator)) or the python sum builtin instead.\n",
      "  score += np.sum(cnt * logsumexp(Elogthetad + Elogbeta[:, int(id)]) for id, cnt in doc)\n",
      "/home/uday/anaconda3/lib/python3.6/site-packages/gensim/models/ldamodel.py:1077: DeprecationWarning: Calling np.sum(generator) is deprecated, and in the future will give a different result. Use np.sum(np.fromiter(generator)) or the python sum builtin instead.\n",
      "  score += np.sum(cnt * logsumexp(Elogthetad + Elogbeta[:, int(id)]) for id, cnt in doc)\n",
      "/home/uday/anaconda3/lib/python3.6/site-packages/gensim/models/ldamodel.py:1077: DeprecationWarning: Calling np.sum(generator) is deprecated, and in the future will give a different result. Use np.sum(np.fromiter(generator)) or the python sum builtin instead.\n",
      "  score += np.sum(cnt * logsumexp(Elogthetad + Elogbeta[:, int(id)]) for id, cnt in doc)\n",
      "/home/uday/anaconda3/lib/python3.6/site-packages/gensim/models/ldamodel.py:1077: DeprecationWarning: Calling np.sum(generator) is deprecated, and in the future will give a different result. Use np.sum(np.fromiter(generator)) or the python sum builtin instead.\n",
      "  score += np.sum(cnt * logsumexp(Elogthetad + Elogbeta[:, int(id)]) for id, cnt in doc)\n",
      "/home/uday/anaconda3/lib/python3.6/site-packages/gensim/models/ldamodel.py:1077: DeprecationWarning: Calling np.sum(generator) is deprecated, and in the future will give a different result. Use np.sum(np.fromiter(generator)) or the python sum builtin instead.\n",
      "  score += np.sum(cnt * logsumexp(Elogthetad + Elogbeta[:, int(id)]) for id, cnt in doc)\n",
      "/home/uday/anaconda3/lib/python3.6/site-packages/gensim/models/ldamodel.py:1077: DeprecationWarning: Calling np.sum(generator) is deprecated, and in the future will give a different result. Use np.sum(np.fromiter(generator)) or the python sum builtin instead.\n",
      "  score += np.sum(cnt * logsumexp(Elogthetad + Elogbeta[:, int(id)]) for id, cnt in doc)\n",
      "/home/uday/anaconda3/lib/python3.6/site-packages/gensim/models/ldamodel.py:1077: DeprecationWarning: Calling np.sum(generator) is deprecated, and in the future will give a different result. Use np.sum(np.fromiter(generator)) or the python sum builtin instead.\n",
      "  score += np.sum(cnt * logsumexp(Elogthetad + Elogbeta[:, int(id)]) for id, cnt in doc)\n",
      "/home/uday/anaconda3/lib/python3.6/site-packages/gensim/models/ldamodel.py:1077: DeprecationWarning: Calling np.sum(generator) is deprecated, and in the future will give a different result. Use np.sum(np.fromiter(generator)) or the python sum builtin instead.\n",
      "  score += np.sum(cnt * logsumexp(Elogthetad + Elogbeta[:, int(id)]) for id, cnt in doc)\n",
      "/home/uday/anaconda3/lib/python3.6/site-packages/gensim/models/ldamodel.py:1077: DeprecationWarning: Calling np.sum(generator) is deprecated, and in the future will give a different result. Use np.sum(np.fromiter(generator)) or the python sum builtin instead.\n",
      "  score += np.sum(cnt * logsumexp(Elogthetad + Elogbeta[:, int(id)]) for id, cnt in doc)\n",
      "/home/uday/anaconda3/lib/python3.6/site-packages/gensim/models/ldamodel.py:1077: DeprecationWarning: Calling np.sum(generator) is deprecated, and in the future will give a different result. Use np.sum(np.fromiter(generator)) or the python sum builtin instead.\n",
      "  score += np.sum(cnt * logsumexp(Elogthetad + Elogbeta[:, int(id)]) for id, cnt in doc)\n"
     ]
    }
   ],
   "source": [
    "lda = LdaModel(corpus,\n",
    "              id2word=dictionary,\n",
    "              num_topics=num_topics,\n",
    "              passes=passes)"
   ]
  },
  {
   "cell_type": "markdown",
   "metadata": {},
   "source": [
    "<h4>See results</h4>\n",
    "<li>We get a set of candidate topics in the form of words\n",
    "<li>It is up to us to make sense of the words"
   ]
  },
  {
   "cell_type": "code",
   "execution_count": 106,
   "metadata": {},
   "outputs": [
    {
     "name": "stdout",
     "output_type": "stream",
     "text": [
      "[   (   0,\n",
      "        '0.014*\"north\" + 0.014*\"state\" + 0.011*\"carolina\" + 0.010*\"court\" + '\n",
      "        '0.009*\"police\" + 0.009*\"lawmakers\" + 0.008*\"voting\" + '\n",
      "        '0.007*\"congressional\"'),\n",
      "    (   1,\n",
      "        '0.023*\"trump\" + 0.010*\"percent\" + 0.008*\"house\" + 0.008*\"ukraine\" + '\n",
      "        '0.008*\"white\" + 0.007*\"impeachment\" + 0.006*\"president\" + '\n",
      "        '0.006*\"security\"'),\n",
      "    (   2,\n",
      "        '0.021*\"hong\" + 0.011*\"kong\" + 0.010*\"facebook\" + 0.009*\"government\" + '\n",
      "        '0.007*\"james\" + 0.007*\"chinese\" + 0.007*\"political\" + 0.007*\"ad\"'),\n",
      "    (   3,\n",
      "        '0.012*\"biden\" + 0.008*\"work\" + 0.008*\"debate\" + 0.008*\"support\" + '\n",
      "        '0.007*\"2020\" + 0.007*\"hunter\" + 0.007*\"saïed\" + 0.007*\"new\"'),\n",
      "    (   4,\n",
      "        '0.021*\"treaty\" + 0.017*\"atlantic\" + 0.016*\"north\" + '\n",
      "        '0.013*\"principles\" + 0.009*\"nato\" + 0.009*\"suspension\" + '\n",
      "        '0.008*\"provision\" + 0.008*\"member\"')]\n"
     ]
    }
   ],
   "source": [
    "pp = pprint.PrettyPrinter(indent=4)\n",
    "pp.pprint(lda.print_topics(num_words=8))"
   ]
  },
  {
   "cell_type": "code",
   "execution_count": 107,
   "metadata": {},
   "outputs": [
    {
     "data": {
      "text/plain": [
       "[(1, 0.99658716),\n",
       " (2, 0.0008544839),\n",
       " (0, 0.0008540247),\n",
       " (3, 0.0008534872),\n",
       " (4, 0.00085083494)]"
      ]
     },
     "execution_count": 107,
     "metadata": {},
     "output_type": "execute_result"
    }
   ],
   "source": [
    "from operator import itemgetter\n",
    "lda.get_document_topics(corpus[0],minimum_probability=0.05,per_word_topics=False)\n",
    "sorted(lda.get_document_topics(corpus[0],minimum_probability=0,per_word_topics=False),key=itemgetter(1),reverse=True)\n"
   ]
  },
  {
   "cell_type": "code",
   "execution_count": 120,
   "metadata": {},
   "outputs": [
    {
     "data": {
      "text/plain": [
       "['white',\n",
       " 'house',\n",
       " 'national',\n",
       " 'security',\n",
       " 'advisor',\n",
       " 'john',\n",
       " 'bolton',\n",
       " 'pushed',\n",
       " 'hard',\n",
       " 'president',\n",
       " 'pressure',\n",
       " 'campaign',\n",
       " 'ukrainian',\n",
       " 'chip',\n",
       " 'images',\n",
       " 'popular',\n",
       " 'news',\n",
       " 'politics',\n",
       " 'trump',\n",
       " 'irreparable',\n",
       " 'damage',\n",
       " 'standing',\n",
       " 'shepard',\n",
       " 'smith',\n",
       " 'told',\n",
       " 'truth',\n",
       " 'audience',\n",
       " 'desperately',\n",
       " 'needed',\n",
       " 'hear',\n",
       " 'quid',\n",
       " 'pro',\n",
       " 'words',\n",
       " 'quid',\n",
       " 'pro',\n",
       " 'loud',\n",
       " 'unshrinkable',\n",
       " 'core',\n",
       " 'support',\n",
       " 'shrinkable',\n",
       " 'hours',\n",
       " 'testimony',\n",
       " 'monday',\n",
       " 'senior',\n",
       " 'national',\n",
       " 'security',\n",
       " 'council',\n",
       " 'official',\n",
       " 'painted',\n",
       " 'picture',\n",
       " 'president',\n",
       " 'trump',\n",
       " 'sitting',\n",
       " 'atop',\n",
       " 'shadow',\n",
       " 'foreign',\n",
       " 'policy',\n",
       " 'initiative',\n",
       " 'coerce',\n",
       " 'ukraine',\n",
       " 'political',\n",
       " 'butting',\n",
       " 'heads',\n",
       " 'wider',\n",
       " 'circle',\n",
       " 'white',\n",
       " 'house',\n",
       " 'officials',\n",
       " 'viewed',\n",
       " 'rudy',\n",
       " 'freelancing',\n",
       " 'wrong',\n",
       " 'likely',\n",
       " 'testimony',\n",
       " 'fiona',\n",
       " 'senior',\n",
       " 'director',\n",
       " 'european',\n",
       " 'russian',\n",
       " 'depicted',\n",
       " 'advisers',\n",
       " 'outside',\n",
       " 'giuliani',\n",
       " 'vortex',\n",
       " 'alarmed',\n",
       " 'group',\n",
       " 'included',\n",
       " 'security',\n",
       " 'adviser',\n",
       " 'john',\n",
       " 'instructed',\n",
       " 'inform',\n",
       " 'white',\n",
       " 'house',\n",
       " 'office',\n",
       " 'effort',\n",
       " 'early',\n",
       " 'july',\n",
       " 'drug',\n",
       " 'deal',\n",
       " 'sondland',\n",
       " 'mulvaney',\n",
       " 'cooking',\n",
       " 'hill',\n",
       " 'testified',\n",
       " 'bolton',\n",
       " 'told',\n",
       " 'referencing',\n",
       " 'gordon',\n",
       " 'ambassador',\n",
       " 'said',\n",
       " 'trump',\n",
       " 'given',\n",
       " 'authority',\n",
       " 'oversee',\n",
       " 'acting',\n",
       " 'white',\n",
       " 'house',\n",
       " 'chief',\n",
       " 'staff',\n",
       " 'mick',\n",
       " 'hand',\n",
       " 'grenade',\n",
       " 'going',\n",
       " 'blow',\n",
       " 'everybody',\n",
       " 'bolton',\n",
       " 'said',\n",
       " 'shadow',\n",
       " 'origins',\n",
       " 'rift',\n",
       " 'began',\n",
       " 'weeks',\n",
       " 'july',\n",
       " '25',\n",
       " 'phone',\n",
       " 'president',\n",
       " 'volodymyr',\n",
       " 'zelensky',\n",
       " 'bolton',\n",
       " 'holding',\n",
       " 'granting',\n",
       " 'ukrainian',\n",
       " 'leader',\n",
       " 'hill',\n",
       " 'testified',\n",
       " 'purpose',\n",
       " 'having',\n",
       " 'zelensky',\n",
       " 'congratulatory',\n",
       " 'tense',\n",
       " 'meeting',\n",
       " 'white',\n",
       " 'clear',\n",
       " 'american',\n",
       " 'policy',\n",
       " 'sondland',\n",
       " 'met',\n",
       " 'early',\n",
       " 'july',\n",
       " 'envoy',\n",
       " 'ukraine',\n",
       " 'kurt',\n",
       " 'hill',\n",
       " 'energy',\n",
       " 'secretary',\n",
       " 'rick',\n",
       " 'washington',\n",
       " 'post',\n",
       " 'agenda',\n",
       " 'ukraine',\n",
       " 'began',\n",
       " 'blurted',\n",
       " 'officials',\n",
       " 'present',\n",
       " 'dropped',\n",
       " 'need',\n",
       " 'started',\n",
       " 'according',\n",
       " 'official',\n",
       " 'familiar',\n",
       " 'officials',\n",
       " 'understood',\n",
       " 'referring',\n",
       " 'energy',\n",
       " 'bolton',\n",
       " 'official',\n",
       " 'hill',\n",
       " 'testified',\n",
       " 'bolton',\n",
       " 'instructed',\n",
       " 'report',\n",
       " 'issue',\n",
       " 'white',\n",
       " 'house',\n",
       " 'specifically',\n",
       " 'deputy',\n",
       " 'white',\n",
       " 'house',\n",
       " 'counsel',\n",
       " 'national',\n",
       " 'security',\n",
       " 'council',\n",
       " 'chief',\n",
       " 'legal',\n",
       " 'adviser',\n",
       " 'john',\n",
       " 'eisenberg',\n",
       " 'said',\n",
       " 'raise',\n",
       " 'issue',\n",
       " 'hill',\n",
       " 'left',\n",
       " 'administration',\n",
       " 'shortly',\n",
       " 'july',\n",
       " '25',\n",
       " 'took',\n",
       " 'bolton',\n",
       " 'left',\n",
       " 'months',\n",
       " 'later',\n",
       " 'trump',\n",
       " 'tweeted',\n",
       " 'tenure',\n",
       " 'tweetsharecomment',\n",
       " 'john',\n",
       " 'bolton',\n",
       " 'rudy',\n",
       " 'giuliani',\n",
       " 'ukraine',\n",
       " 'elliot',\n",
       " 'hannon',\n",
       " 'staff',\n",
       " 'twitter']"
      ]
     },
     "execution_count": 120,
     "metadata": {},
     "output_type": "execute_result"
    }
   ],
   "source": [
    "texts[0]"
   ]
  },
  {
   "cell_type": "markdown",
   "metadata": {},
   "source": [
    "<h2>Using the results</h2>\n",
    "<li>When a new document comes in\n",
    "<li>See which topic(s) it matches\n"
   ]
  },
  {
   "cell_type": "code",
   "execution_count": 40,
   "metadata": {},
   "outputs": [],
   "source": [
    "newdoc = \"\"\"\n",
    "President Trump broke with his own intelligence agencies on Friday, appearing to accept Saudi Arabia’s explanation that the journalist Jamal Khashoggi was killed by accident during a fistfight, while the United States’ spy agencies are increasingly convinced that he was assassinated on high-level orders from the Saudi royal court.\n",
    "\n",
    "Mr. Trump, who has cultivated Crown Prince Mohammed bin Salman and made Saudi Arabia the linchpin of his Middle East strategy, has been deeply reluctant to point a finger at the prince, despite evidence linking him to Saudi operatives who entered the country’s consulate in Istanbul the same day that Mr. Khashoggi disappeared there.\n",
    "\n",
    "Asked during a visit to an Air Force base in Arizona whether he viewed the Saudi explanation as credible, Mr. Trump said, “I do.”\n",
    "\n",
    "[Jamal Khashoggi is dead. Here is everything we know so far.]\n",
    "\n",
    "The president said he still had questions for Prince Mohammed, and he called the killing of Mr. Khashoggi “unacceptable.” Mr. Trump also raised the possibility of sanctions against Saudi Arabia, but said that he hoped that Congress would not try to block billions of dollars in weapons sales to the kingdom, which he has held up as proof of the fruits of the alliance.\n",
    "\n",
    "Mr. Trump’s response sets up a clash with Congress, where Republicans and Democrats both tarred the Saudi explanation as lacking credibility. A senior lawmaker briefed on American intelligence assessments of the circumstances surrounding Mr. Khashoggi’s death, and the likely culprits, said it was not consistent with the Saudi account.\n",
    "\n",
    "The lawmaker, Representative Adam B. Schiff of California, the senior Democrat on the House Intelligence Committee, said, “The kingdom and all involved in this brutal murder must be held accountable, and if the Trump administration will not take the lead, Congress must.”\n",
    "\n",
    "Senator Lindsey Graham, Republican of South Carolina and a close ally of Mr. Trump’s, declared in a Twitter post, “To say that I am skeptical of the new Saudi narrative about Mr. Khashoggi is an understatement.” He added, “It’s hard to find this latest ‘explanation’ as credible.”\n",
    "\n",
    "The growing evidence that Mr. Khashoggi, a Virginia resident and a columnist for The Washington Post, was killed on orders from the Saudi royal family has put Mr. Trump in an increasingly untenable position.\n",
    "\n",
    "On Friday evening, the president praised the statement issued by the Saudi government, which confirmed Mr. Khashoggi’s death, as a “good first step” and a “big step.” Earlier, the prince and other senior Saudi officials had denied any role in Mr. Khashoggi’s disappearance.\n",
    "\n",
    "Editors’ Picks\n",
    "\n",
    "11 Takeaways From The Times’s Investigation Into Trump’s Wealth\n",
    "\n",
    "50 Years Later, It Feels Familiar: How America Fractured in 1968\n",
    "\n",
    "How to Buy a Gun in 15 Countries\n",
    "Secretary of State Mike Pompeo spoke with Prince Mohammed by phone on Friday evening and then briefed Mr. Trump and his national security adviser, John R. Bolton, according to a White House spokesman.\n",
    "\n",
    "“I think we’re getting close to solving a big problem,” Mr. Trump told reporters at the Luke Air Force Base, where he was shown an Apache helicopter, an F-35 fighter jet and an array of bombs.\n",
    "\n",
    "Image\n",
    "Representative Adam B. Schiff of California, the top Democrat on the House Intelligence Committee, in May on Capitol Hill. He was among the lawmakers who tarred the explanation by Saudi Arabia as lacking credibility.CreditTom Brenner/The New York Times\n",
    "For the president, Saudi Arabia has become a key ally but also a troublesome partner. Saudi support is critical to his efforts to isolate Iran. But he has watched as Prince Mohammed pursued a deadly war in Yemen, carried on a feud with his neighbor Qatar, jailed female dissidents and detained hundreds of wealthy Saudis.\n",
    "\n",
    "Mr. Trump’s son-in-law and senior adviser, Jared Kushner, cultivated a relationship with the prince, who is close to him in age and who Mr. Kushner hoped would be an advocate for his peace proposal between Israel and the Palestinians.\n",
    "\n",
    "In internal discussions, Mr. Kushner has urged the president and his aides not to abandon Prince Mohammed. But as Turkish officials leaked details of the grisly killing of Mr. Khashoggi and of the dismemberment of his body, the White House has become increasingly isolated in its defense of Saudi Arabia.\n",
    "\n",
    "A stream of prominent Wall Street and tech executives canceled plans to attend an investor conference convened by the prince next week in Riyadh, the Saudi capital. On Thursday, Steven Mnuchin, the Treasury secretary, pulled out of the conference, as well, though he will attend a separate meeting on counterterrorism strategy.\n",
    "\n",
    "In an interview on Thursday with The New York Times, Mr. Trump acknowledged that the furor over Mr. Khashoggi’s death had mushroomed into one of the biggest foreign policy crises of his presidency.\n",
    "\n",
    "“This one has caught the imagination of the world, unfortunately,” Mr. Trump said. “It’s not a positive. Not a positive.”\n",
    "\n",
    "The president also said on Thursday that it was still “a little bit early” in the process to draw definitive conclusions about who ordered the killing. But he expressed no doubt that the truth would come out soon.\n",
    "\n",
    "“We’re working with the intelligence from numerous countries,” he said, adding, “This is the best intelligence we could have.”\n",
    "\n",
    "On Wednesday, The Times reported that American intelligence officials were increasingly convinced that Prince Mohammed is culpable in Mr. Khashoggi’s death, and that they were preparing an appraisal for the White House.\n",
    "\n",
    "Saudi Arabia tried to project the idea of a housecleaning, announcing that Saud al-Qahtani, a close aide to the crown prince; Maj. Gen. Ahmed al-Assiri, the deputy director of Saudi intelligence; and other high-ranking intelligence officials had been dismissed.\n",
    "\n",
    "For Mr. Trump, who is on a three-day swing in the West before the midterm elections, the Khashoggi affair has become a distraction during a period in which he had hoped to campaign for Republican congressional candidates on a message of economic growth and the recent confirmation of Justice Brett M. Kavanaugh to the Supreme Court.\n",
    "\n",
    "Just after answering questions about the Saudi announcement, Mr. Trump flew to a “Make America Great Again” rally in Mesa, Ariz.\n",
    "\n",
    "\n",
    "\"\"\""
   ]
  },
  {
   "cell_type": "code",
   "execution_count": 109,
   "metadata": {},
   "outputs": [],
   "source": [
    "# newdoc"
   ]
  },
  {
   "cell_type": "markdown",
   "metadata": {},
   "source": [
    "<li>Clean and set up the text\n",
    "<li>Create corpus"
   ]
  },
  {
   "cell_type": "code",
   "execution_count": 110,
   "metadata": {},
   "outputs": [],
   "source": [
    "text = newdoc\n",
    "striptext = text.replace('\\n\\n', ' ')\n",
    "striptext = striptext.replace('\\n', ' ')\n",
    "new_text = [nltk.word_tokenize(striptext)]\n",
    "\n",
    "textdictionary = corpora.Dictionary(new_text) #(word_id,frequency) pairs\n",
    "corpus_new = [dictionary.doc2bow(text) for text in new_text] #(word_id,freq) pairs by sentence"
   ]
  },
  {
   "cell_type": "markdown",
   "metadata": {},
   "source": [
    "<h2>Matching topics to documents</h2>\n",
    "<li>We now have a corpus with one document\n",
    "<li>Get the topics using the results of the lda we ran before \n",
    "<li>And see which topic(s) are the best matches"
   ]
  },
  {
   "cell_type": "code",
   "execution_count": 111,
   "metadata": {},
   "outputs": [
    {
     "data": {
      "text/plain": [
       "[(1, 0.431621),\n",
       " (0, 0.23581353),\n",
       " (2, 0.11365976),\n",
       " (4, 0.11127618),\n",
       " (3, 0.1076295)]"
      ]
     },
     "execution_count": 111,
     "metadata": {},
     "output_type": "execute_result"
    }
   ],
   "source": [
    "from operator import itemgetter\n",
    "lda.get_document_topics(corpus_new[0],minimum_probability=0.05,per_word_topics=False)\n",
    "sorted(lda.get_document_topics(corpus_new[0],minimum_probability=0,per_word_topics=False),key=itemgetter(1),reverse=True)"
   ]
  },
  {
   "cell_type": "code",
   "execution_count": 112,
   "metadata": {},
   "outputs": [
    {
     "data": {
      "text/plain": [
       "'0.023*\"trump\" + 0.010*\"percent\" + 0.008*\"house\" + 0.008*\"ukraine\" + 0.008*\"white\" + 0.007*\"impeachment\" + 0.006*\"president\" + 0.006*\"security\" + 0.006*\"bolton\" + 0.006*\"pro\"'"
      ]
     },
     "execution_count": 112,
     "metadata": {},
     "output_type": "execute_result"
    }
   ],
   "source": [
    "lda.print_topic(topicno=1)"
   ]
  },
  {
   "cell_type": "code",
   "execution_count": 123,
   "metadata": {},
   "outputs": [
    {
     "data": {
      "text/plain": [
       "[('trump', 0.022529168),\n",
       " ('percent', 0.01022862),\n",
       " ('house', 0.00845207),\n",
       " ('ukraine', 0.008306217),\n",
       " ('white', 0.008277227),\n",
       " ('impeachment', 0.0068864003),\n",
       " ('president', 0.0064379214),\n",
       " ('security', 0.0063356766),\n",
       " ('bolton', 0.00631264),\n",
       " ('pro', 0.005702181)]"
      ]
     },
     "execution_count": 123,
     "metadata": {},
     "output_type": "execute_result"
    }
   ],
   "source": [
    "lda.show_topic(1)"
   ]
  },
  {
   "cell_type": "markdown",
   "metadata": {},
   "source": [
    "<h4>Draw wordclouds</h4>\n",
    "<li>to better understand the topic we can draw wordclouds weighted by the weight of the terms in the topic"
   ]
  },
  {
   "cell_type": "code",
   "execution_count": 137,
   "metadata": {},
   "outputs": [],
   "source": [
    "def draw_wordcloud(lda,topicnum,min_size=0,STOPWORDS=[]):\n",
    "    word_list=[]\n",
    "    prob_total = 0\n",
    "    for word,prob in lda.show_topic(topicnum,topn=50):\n",
    "        prob_total +=prob\n",
    "    for word,prob in lda.show_topic(topicnum,topn=50):\n",
    "        if word in STOPWORDS or  len(word) < min_size:\n",
    "            continue\n",
    "#         freq = int(prob/prob_total*1000)\n",
    "        freq = int(prob/prob_total*100)\n",
    "        alist=[word]\n",
    "        word_list.extend(alist*freq)\n",
    "        \n",
    "#     print(word_list)\n",
    "    from wordcloud import WordCloud, STOPWORDS\n",
    "    import matplotlib.pyplot as plt\n",
    "    %matplotlib inline\n",
    "    from random import shuffle\n",
    "    shuffle(word_list)\n",
    "    text = ' '.join(word_list)\n",
    "    wordcloud = WordCloud(stopwords=STOPWORDS,background_color='white',max_words=20).generate(text)\n",
    "\n",
    "    plt.axis('off')\n",
    "    plt.imshow(wordcloud)\n",
    "\n",
    "    return None"
   ]
  },
  {
   "cell_type": "code",
   "execution_count": 139,
   "metadata": {},
   "outputs": [
    {
     "data": {
      "image/png": "[encoded data removed]",
      "text/plain": [
       "<matplotlib.figure.Figure at 0x7f4116127860>"
      ]
     },
     "metadata": {},
     "output_type": "display_data"
    }
   ],
   "source": [
    "draw_wordcloud(lda,4)"
   ]
  },
  {
   "cell_type": "markdown",
   "metadata": {},
   "source": [
    "<h4>Roughly,</h4>\n",
    "<li>lda looks for candidate topics assuming that there are many such candidates\n",
    "<li>looks for words related to the candidate topics\n",
    "<li>assign probablilites to those words"
   ]
  },
  {
   "cell_type": "markdown",
   "metadata": {},
   "source": [
    "<h2>Understanding topics</h2>\n",
    "<li>pyLDAvis (package for visualizing the results of an LDA)\n",
    "<li>Shows topic distance between topics and top words in the corpus"
   ]
  },
  {
   "cell_type": "code",
   "execution_count": 47,
   "metadata": {},
   "outputs": [
    {
     "name": "stdout",
     "output_type": "stream",
     "text": [
      "Requirement already satisfied: pyLDAvis in /home/uday/anaconda3/lib/python3.6/site-packages (2.1.2)\n",
      "Requirement already satisfied: wheel>=0.23.0 in /home/uday/anaconda3/lib/python3.6/site-packages (from pyLDAvis) (0.30.0)\n",
      "Requirement already satisfied: numpy>=1.9.2 in /home/uday/.local/lib/python3.6/site-packages (from pyLDAvis) (1.17.2)\n",
      "Requirement already satisfied: scipy>=0.18.0 in /home/uday/anaconda3/lib/python3.6/site-packages (from pyLDAvis) (1.0.0)\n",
      "Requirement already satisfied: pandas>=0.17.0 in /home/uday/.local/lib/python3.6/site-packages (from pyLDAvis) (0.25.1)\n",
      "Requirement already satisfied: joblib>=0.8.4 in /home/uday/anaconda3/lib/python3.6/site-packages (from pyLDAvis) (0.12.5)\n",
      "Requirement already satisfied: jinja2>=2.7.2 in /home/uday/anaconda3/lib/python3.6/site-packages (from pyLDAvis) (2.10)\n",
      "Requirement already satisfied: numexpr in /home/uday/anaconda3/lib/python3.6/site-packages (from pyLDAvis) (2.6.4)\n",
      "Requirement already satisfied: pytest in /home/uday/anaconda3/lib/python3.6/site-packages (from pyLDAvis) (3.3.2)\n",
      "Requirement already satisfied: future in /home/uday/anaconda3/lib/python3.6/site-packages (from pyLDAvis) (0.16.0)\n",
      "Requirement already satisfied: funcy in /home/uday/anaconda3/lib/python3.6/site-packages (from pyLDAvis) (1.11)\n",
      "Requirement already satisfied: pytz>=2017.2 in /home/uday/anaconda3/lib/python3.6/site-packages (from pandas>=0.17.0->pyLDAvis) (2017.3)\n",
      "Requirement already satisfied: python-dateutil>=2.6.1 in /home/uday/anaconda3/lib/python3.6/site-packages (from pandas>=0.17.0->pyLDAvis) (2.6.1)\n",
      "Requirement already satisfied: MarkupSafe>=0.23 in /home/uday/anaconda3/lib/python3.6/site-packages (from jinja2>=2.7.2->pyLDAvis) (1.0)\n",
      "Requirement already satisfied: py>=1.5.0 in /home/uday/anaconda3/lib/python3.6/site-packages (from pytest->pyLDAvis) (1.5.2)\n",
      "Requirement already satisfied: six>=1.10.0 in /home/uday/anaconda3/lib/python3.6/site-packages (from pytest->pyLDAvis) (1.11.0)\n",
      "Requirement already satisfied: setuptools in /home/uday/anaconda3/lib/python3.6/site-packages (from pytest->pyLDAvis) (38.4.0)\n",
      "Requirement already satisfied: attrs>=17.2.0 in /home/uday/anaconda3/lib/python3.6/site-packages (from pytest->pyLDAvis) (17.4.0)\n",
      "Requirement already satisfied: pluggy<0.7,>=0.5 in /home/uday/anaconda3/lib/python3.6/site-packages (from pytest->pyLDAvis) (0.6.0)\n",
      "\u001b[33mWARNING: You are using pip version 19.2.3, however version 19.3 is available.\n",
      "You should consider upgrading via the 'pip install --upgrade pip' command.\u001b[0m\n"
     ]
    }
   ],
   "source": [
    "!pip install pyLDAvis"
   ]
  },
  {
   "cell_type": "code",
   "execution_count": 48,
   "metadata": {},
   "outputs": [],
   "source": [
    "# pp.pprint(lda.print_topics(num_words=8))"
   ]
  },
  {
   "cell_type": "code",
   "execution_count": 115,
   "metadata": {},
   "outputs": [
    {
     "data": {
      "text/html": [
       "\n",
       "<link rel=\"stylesheet\" type=\"text/css\" href=\"https://cdn.rawgit.com/bmabey/pyLDAvis/files/ldavis.v1.0.0.css\">\n",
       "\n",
       "\n",
       "<div id=\"ldavis_el80761399174920433529702292956\"></div>\n",
       "<script type=\"text/javascript\">\n",
       "\n",
       "var ldavis_el80761399174920433529702292956_data = {\"mdsDat\": {\"x\": [0.10447805963726656, 0.03169321888565435, 0.06501031338850509, 0.051581223800766324, -0.25276281571219233], \"y\": [0.1631847813888525, -0.00591738028540373, -0.16596939315100404, -0.012723844454220194, 0.02142583650177549], \"topics\": [1, 2, 3, 4, 5], \"cluster\": [1, 1, 1, 1, 1], \"Freq\": [24.79063606262207, 17.808143615722656, 25.728788375854492, 12.210732460021973, 19.461688995361328]}, \"tinfo\": {\"Category\": [\"Default\", \"Default\", \"Default\", \"Default\", \"Default\", \"Default\", \"Default\", \"Default\", \"Default\", \"Default\", \"Default\", \"Default\", \"Default\", \"Default\", \"Default\", \"Default\", \"Default\", \"Default\", \"Default\", \"Default\", \"Default\", \"Default\", \"Default\", \"Default\", \"Default\", \"Default\", \"Default\", \"Default\", \"Default\", \"Default\", \"Topic1\", \"Topic1\", \"Topic1\", \"Topic1\", \"Topic1\", \"Topic1\", \"Topic1\", \"Topic1\", \"Topic1\", \"Topic1\", \"Topic1\", \"Topic1\", \"Topic1\", \"Topic1\", \"Topic1\", \"Topic1\", \"Topic1\", \"Topic1\", \"Topic1\", \"Topic1\", \"Topic1\", \"Topic1\", \"Topic1\", \"Topic1\", \"Topic1\", \"Topic1\", \"Topic1\", \"Topic1\", \"Topic1\", \"Topic1\", \"Topic1\", \"Topic1\", \"Topic1\", \"Topic1\", \"Topic1\", \"Topic1\", \"Topic1\", \"Topic1\", \"Topic1\", \"Topic1\", \"Topic1\", \"Topic1\", \"Topic1\", \"Topic1\", \"Topic1\", \"Topic1\", \"Topic1\", \"Topic1\", \"Topic1\", \"Topic1\", \"Topic1\", \"Topic1\", \"Topic1\", \"Topic1\", \"Topic1\", \"Topic2\", \"Topic2\", \"Topic2\", \"Topic2\", \"Topic2\", \"Topic2\", \"Topic2\", \"Topic2\", \"Topic2\", \"Topic2\", \"Topic2\", \"Topic2\", \"Topic2\", \"Topic2\", \"Topic2\", \"Topic2\", \"Topic2\", \"Topic2\", \"Topic2\", \"Topic2\", \"Topic2\", \"Topic2\", \"Topic2\", \"Topic2\", \"Topic2\", \"Topic2\", \"Topic2\", \"Topic2\", \"Topic2\", \"Topic2\", \"Topic2\", \"Topic2\", \"Topic2\", \"Topic2\", \"Topic2\", \"Topic2\", \"Topic2\", \"Topic2\", \"Topic2\", \"Topic2\", \"Topic2\", \"Topic2\", \"Topic2\", \"Topic2\", \"Topic2\", \"Topic2\", \"Topic2\", \"Topic2\", \"Topic2\", \"Topic2\", \"Topic2\", \"Topic2\", \"Topic2\", \"Topic3\", \"Topic3\", \"Topic3\", \"Topic3\", \"Topic3\", \"Topic3\", \"Topic3\", \"Topic3\", \"Topic3\", \"Topic3\", \"Topic3\", \"Topic3\", \"Topic3\", \"Topic3\", \"Topic3\", \"Topic3\", \"Topic3\", \"Topic3\", \"Topic3\", \"Topic3\", \"Topic3\", \"Topic3\", \"Topic3\", \"Topic3\", \"Topic3\", \"Topic3\", \"Topic3\", \"Topic3\", \"Topic3\", \"Topic3\", \"Topic3\", \"Topic3\", \"Topic3\", \"Topic3\", \"Topic3\", \"Topic3\", \"Topic3\", \"Topic3\", \"Topic3\", \"Topic3\", \"Topic3\", \"Topic3\", \"Topic3\", \"Topic3\", \"Topic3\", \"Topic3\", \"Topic3\", \"Topic3\", \"Topic3\", \"Topic3\", \"Topic3\", \"Topic3\", \"Topic3\", \"Topic3\", \"Topic4\", \"Topic4\", \"Topic4\", \"Topic4\", \"Topic4\", \"Topic4\", \"Topic4\", \"Topic4\", \"Topic4\", \"Topic4\", \"Topic4\", \"Topic4\", \"Topic4\", \"Topic4\", \"Topic4\", \"Topic4\", \"Topic4\", \"Topic4\", \"Topic4\", \"Topic4\", \"Topic4\", \"Topic4\", \"Topic4\", \"Topic4\", \"Topic4\", \"Topic4\", \"Topic4\", \"Topic4\", \"Topic4\", \"Topic4\", \"Topic4\", \"Topic4\", \"Topic4\", \"Topic4\", \"Topic4\", \"Topic4\", \"Topic4\", \"Topic4\", \"Topic4\", \"Topic4\", \"Topic4\", \"Topic4\", \"Topic4\", \"Topic4\", \"Topic4\", \"Topic4\", \"Topic4\", \"Topic4\", \"Topic4\", \"Topic4\", \"Topic4\", \"Topic4\", \"Topic4\", \"Topic4\", \"Topic4\", \"Topic4\", \"Topic5\", \"Topic5\", \"Topic5\", \"Topic5\", \"Topic5\", \"Topic5\", \"Topic5\", \"Topic5\", \"Topic5\", \"Topic5\", \"Topic5\", \"Topic5\", \"Topic5\", \"Topic5\", \"Topic5\", \"Topic5\", \"Topic5\", \"Topic5\", \"Topic5\", \"Topic5\", \"Topic5\", \"Topic5\", \"Topic5\", \"Topic5\", \"Topic5\", \"Topic5\", \"Topic5\", \"Topic5\", \"Topic5\", \"Topic5\", \"Topic5\", \"Topic5\", \"Topic5\", \"Topic5\", \"Topic5\", \"Topic5\", \"Topic5\", \"Topic5\", \"Topic5\", \"Topic5\", \"Topic5\", \"Topic5\", \"Topic5\", \"Topic5\", \"Topic5\"], \"Freq\": [46.0, 65.0, 74.0, 36.0, 29.0, 72.0, 33.0, 30.0, 29.0, 25.0, 20.0, 36.0, 21.0, 32.0, 24.0, 17.0, 17.0, 17.0, 37.0, 20.0, 19.0, 51.0, 30.0, 21.0, 19.0, 15.0, 26.0, 18.0, 14.0, 10.0, 30.01367950439453, 25.03123664855957, 20.0443115234375, 17.558570861816406, 16.756319046020508, 15.063997268676758, 13.422689437866211, 10.104203224182129, 10.101605415344238, 8.462435722351074, 8.459823608398438, 7.630821228027344, 7.630259990692139, 7.626593112945557, 7.626414775848389, 7.624568939208984, 7.623249053955078, 7.620565414428711, 7.6179914474487305, 6.813948631286621, 6.8058857917785645, 6.8032612800598145, 6.802392482757568, 6.801516532897949, 15.090127944946289, 5.973544120788574, 5.967796802520752, 5.143585205078125, 5.141441345214844, 5.141443252563477, 27.503419876098633, 22.551816940307617, 13.432305335998535, 17.580562591552734, 9.278153419494629, 37.470638275146484, 17.58786392211914, 12.622629165649414, 25.079269409179688, 12.620096206665039, 40.00906753540039, 15.117254257202148, 13.437239646911621, 10.945991516113281, 10.93946647644043, 12.609565734863281, 10.134086608886719, 15.131448745727539, 15.908808708190918, 13.436790466308594, 12.498035430908203, 10.911901473999023, 11.706171989440918, 11.70676326751709, 10.959949493408203, 12.529932975769043, 7.9261298179626465, 13.668787956237793, 7.152896404266357, 7.848273277282715, 6.377496242523193, 6.350739479064941, 5.60294246673584, 5.5892791748046875, 5.58889627456665, 5.587066173553467, 5.582463264465332, 5.544651508331299, 4.815444469451904, 4.812322616577148, 4.805879592895508, 4.798632621765137, 4.047619819641113, 4.044361114501953, 4.041206359863281, 4.039530277252197, 4.039268970489502, 4.037603378295898, 4.027928829193115, 3.285127639770508, 3.272348403930664, 3.271977186203003, 3.271216630935669, 3.270775318145752, 3.270664691925049, 16.429433822631836, 11.0087890625, 12.575658798217773, 16.486976623535156, 44.71805191040039, 20.302745819091797, 7.137253284454346, 16.776477813720703, 6.370023727416992, 12.778603553771973, 11.058098793029785, 6.349076271057129, 9.315232276916504, 11.318235397338867, 10.53581428527832, 10.64224910736084, 6.361932277679443, 7.307556629180908, 8.457857131958008, 6.383711338043213, 6.46357536315918, 6.534342288970947, 6.512083053588867, 28.908004760742188, 32.1539421081543, 18.699811935424805, 11.96064281463623, 10.282878875732422, 10.271663665771484, 14.229065895080566, 8.614217758178711, 8.614522933959961, 8.59764575958252, 8.594863891601562, 60.96919250488281, 8.591012954711914, 6.9184346199035645, 6.9073004722595215, 6.905361175537109, 5.24048376083374, 5.235265254974365, 5.230233669281006, 5.229109287261963, 5.224462032318115, 5.222482681274414, 5.221181869506836, 5.220269203186035, 3.5495548248291016, 3.5489091873168945, 3.5488102436065674, 3.547767400741577, 3.547724723815918, 3.5467464923858643, 18.7689266204834, 20.418758392333984, 24.405973434448242, 20.400007247924805, 8.60480785369873, 10.289166450500488, 15.783490180969238, 10.275050163269043, 10.295666694641113, 8.60545825958252, 20.00937271118164, 6.919613838195801, 11.025284767150879, 14.408882141113281, 7.698660373687744, 16.058774948120117, 10.316451072692871, 10.827434539794922, 9.397381782531738, 11.93786334991455, 11.698163986206055, 11.718274116516113, 12.346030235290527, 12.62655258178711, 10.129711151123047, 7.991893291473389, 5.144897937774658, 5.139018535614014, 4.442671298980713, 4.440043926239014, 4.423254489898682, 4.4235520362854, 3.675025224685669, 4.2886810302734375, 2.9971394538879395, 2.996917486190796, 2.9965403079986572, 2.996481418609619, 2.995950698852539, 2.995908737182617, 6.525430679321289, 6.540065765380859, 5.851712703704834, 2.2927045822143555, 2.2926175594329834, 2.292586326599121, 2.2922091484069824, 2.2919375896453857, 2.2918753623962402, 2.2918546199798584, 2.291794538497925, 2.2917747497558594, 2.2917227745056152, 2.2916176319122314, 7.184083461761475, 10.526058197021484, 10.142311096191406, 3.7192485332489014, 3.713008403778076, 4.441699981689453, 16.3704776763916, 9.191206932067871, 5.24617338180542, 8.734477043151855, 10.145035743713379, 7.286351203918457, 7.790207862854004, 11.321425437927246, 10.388223648071289, 8.88131046295166, 8.058249473571777, 6.751925945281982, 6.762031078338623, 4.997756481170654, 5.997110843658447, 6.172648906707764, 5.19664192199707, 5.1402812004089355, 4.448873996734619, 4.445672512054443, 45.65361404418945, 36.07122802734375, 28.89375877380371, 19.310834884643555, 16.924226760864258, 16.92070770263672, 16.9101619720459, 14.526004791259766, 12.126280784606934, 9.741479873657227, 9.741601943969727, 9.737163543701172, 9.735517501831055, 9.733786582946777, 9.732161521911621, 7.3436431884765625, 7.3435587882995605, 12.138797760009766, 19.30381202697754, 4.9511799812316895, 4.950526714324951, 4.9499640464782715, 4.949820041656494, 4.949193477630615, 4.94884729385376, 4.948777675628662, 4.948583126068115, 4.94860315322876, 4.948406219482422, 4.948053359985352, 14.528703689575195, 14.523970603942871, 14.525467872619629, 14.551116943359375, 7.341353893280029, 9.749634742736816, 14.541793823242188, 33.69655990600586, 7.362997531890869, 12.133776664733887, 9.742076873779297, 9.740060806274414, 9.743958473205566, 9.754240036010742, 7.3817901611328125], \"Term\": [\"treaty\", \"hong\", \"north\", \"atlantic\", \"principles\", \"trump\", \"kong\", \"carolina\", \"facebook\", \"lawmakers\", \"nato\", \"biden\", \"suspension\", \"court\", \"2020\", \"provision\", \"member\", \"expulsion\", \"police\", \"congressional\", \"white\", \"state\", \"percent\", \"ukraine\", \"protesters\", \"article\", \"voting\", \"map\", \"impeachment\", \"sa\\u00efed\", \"carolina\", \"lawmakers\", \"congressional\", \"map\", \"officer\", \"supreme\", \"case\", \"courts\", \"districts\", \"heard\", \"shooting\", \"gerrymander\", \"legislative\", \"boyle\", \"racial\", \"fair\", \"gerrymandering\", \"tried\", \"redistricting\", \"vote\", \"safe\", \"ignore\", \"window\", \"bloomberg\", \"federal\", \"march\", \"voter\", \"fort\", \"legislators\", \"jefferson\", \"court\", \"voting\", \"republican\", \"republicans\", \"black\", \"state\", \"rights\", \"drew\", \"police\", \"partisan\", \"north\", \"want\", \"2020\", \"know\", \"election\", \"time\", \"feel\", \"work\", \"support\", \"join\", \"like\", \"hear\", \"quid\", \"pro\", \"plus\", \"bolton\", \"administration\", \"impeachment\", \"ukrainian\", \"john\", \"sondland\", \"testified\", \"troops\", \"giuliani\", \"25\", \"adviser\", \"zelensky\", \"weeks\", \"navigator\", \"rudy\", \"testimony\", \"officials\", \"having\", \"whistleblower\", \"russia\", \"kurds\", \"chip\", \"quo\", \"volodymyr\", \"click\", \"likelihood\", \"wildly\", \"estimate\", \"transcript\", \"subjective\", \"white\", \"hill\", \"security\", \"ukraine\", \"trump\", \"percent\", \"july\", \"house\", \"syria\", \"president\", \"said\", \"official\", \"national\", \"pro\", \"quid\", \"support\", \"policy\", \"donald\", \"biden\", \"united\", \"public\", \"told\", \"news\", \"facebook\", \"kong\", \"protesters\", \"economic\", \"nba\", \"beijing\", \"protests\", \"ads\", \"zuckerberg\", \"ban\", \"morey\", \"hong\", \"ccp\", \"league\", \"mask\", \"peaceful\", \"lie\", \"politicians\", \"information\", \"talk\", \"companies\", \"demonstrations\", \"violent\", \"unrest\", \"touch\", \"chooses\", \"protecting\", \"goes\", \"profit\", \"networks\", \"ad\", \"james\", \"government\", \"chinese\", \"things\", \"lebron\", \"warren\", \"china\", \"believe\", \"tweet\", \"political\", \"social\", \"public\", \"people\", \"place\", \"like\", \"run\", \"international\", \"elizabeth\", \"police\", \"quid\", \"pro\", \"support\", \"trump\", \"sa\\u00efed\", \"karoui\", \"pete\", \"tunisians\", \"tweetsa\", \"list\", \"father\", \"tunisian\", \"tuesday\", \"steyer\", \"sanders\", \"notes\", \"overseas\", \"tom\", \"business\", \"kamala\", \"board\", \"bernie\", \"son\", \"385\", \"coverage\", \"greatest\", \"sure\", \"paper\", \"spin\", \"scott\", \"hosted\", \"smartest\", \"equipped\", \"hottest\", \"candidates\", \"debate\", \"hunter\", \"university\", \"spoke\", \"tweets\", \"biden\", \"new\", \"presidential\", \"joe\", \"2020\", \"statement\", \"campaign\", \"work\", \"support\", \"political\", \"join\", \"democratic\", \"plus\", \"issue\", \"time\", \"president\", \"elizabeth\", \"election\", \"twitter\", \"said\", \"treaty\", \"atlantic\", \"principles\", \"nato\", \"provision\", \"member\", \"expulsion\", \"article\", \"breach\", \"suspend\", \"peace\", \"community\", \"founding\", \"relations\", \"alliance\", \"canada\", \"preamble\", \"parties\", \"suspension\", \"absence\", \"objectives\", \"resolved\", \"humanitarian\", \"unity\", \"commits\", \"foresees\", \"unanimous\", \"draft\", \"canadian\", \"disqualification\", \"material\", \"membership\", \"individual\", \"turkey\", \"defense\", \"operation\", \"military\", \"north\", \"turkish\", \"rule\", \"question\", \"members\", \"council\", \"international\", \"president\"], \"Total\": [46.0, 65.0, 74.0, 36.0, 29.0, 72.0, 33.0, 30.0, 29.0, 25.0, 20.0, 36.0, 21.0, 32.0, 24.0, 17.0, 17.0, 17.0, 37.0, 20.0, 19.0, 51.0, 30.0, 21.0, 19.0, 15.0, 26.0, 18.0, 14.0, 10.0, 30.814186096191406, 25.8106746673584, 20.80705451965332, 18.30531883239746, 17.474714279174805, 15.803565979003906, 14.137312889099121, 10.80167293548584, 10.802072525024414, 9.13580322265625, 9.135763168334961, 8.301836967468262, 8.301412582397461, 8.301249504089355, 8.30131721496582, 8.301003456115723, 8.300737380981445, 8.300649642944336, 8.300590515136719, 7.468263149261475, 7.468338489532471, 7.46823787689209, 7.468087673187256, 7.46764612197876, 16.589611053466797, 6.634016513824463, 6.6338090896606445, 5.800421237945557, 5.799960136413574, 5.800256729125977, 32.41347885131836, 26.43429183959961, 15.705485343933105, 21.442337036132812, 10.75233268737793, 51.93221664428711, 22.410507202148438, 15.657205581665039, 37.67765426635742, 16.441076278686523, 74.52949523925781, 22.26115608215332, 24.187808990478516, 16.59474754333496, 16.661958694458008, 23.127328872680664, 15.040114402770996, 36.212989807128906, 49.533531188964844, 31.799097061157227, 37.853973388671875, 21.336669921875, 37.35505294799805, 38.14177322387695, 22.950305938720703, 13.348620414733887, 8.639532089233398, 14.944036483764648, 7.855312824249268, 8.644198417663574, 7.071453094482422, 7.072851657867432, 6.285816669464111, 6.287487983703613, 6.287088394165039, 6.287459850311279, 6.287557601928711, 6.288848876953125, 5.502482891082764, 5.502605438232422, 5.503312110900879, 5.504140853881836, 4.718098163604736, 4.718029499053955, 4.717967987060547, 4.717886447906494, 4.718435287475586, 4.718576431274414, 4.719062805175781, 3.93337082862854, 3.933521032333374, 3.933668613433838, 3.933627128601074, 3.9337258338928223, 3.9336109161376953, 19.770931243896484, 13.473640441894531, 15.754305839538574, 21.831436157226562, 72.53805541992188, 30.81521224975586, 9.407881736755371, 30.55883026123047, 9.478299140930176, 32.98320007324219, 26.11695671081543, 10.204264640808105, 22.280466079711914, 38.14177322387695, 37.35505294799805, 49.533531188964844, 12.998063087463379, 20.263513565063477, 36.90468215942383, 13.322162628173828, 18.797073364257812, 22.753198623657227, 23.465133666992188, 29.61914825439453, 33.001564025878906, 19.44312858581543, 12.662110328674316, 10.967072486877441, 10.967316627502441, 15.200217247009277, 9.273468017578125, 9.273872375488281, 9.272322654724121, 9.271939277648926, 65.7816162109375, 9.272624969482422, 7.577642917633057, 7.57728385925293, 7.577353477478027, 5.883279323577881, 5.882961273193359, 5.88271951675415, 5.882471084594727, 5.882505416870117, 5.88225793838501, 5.882262706756592, 5.882118225097656, 4.187978267669678, 4.187915325164795, 4.187824726104736, 4.187731742858887, 4.187768936157227, 4.187741756439209, 22.583492279052734, 25.159215927124023, 32.34132766723633, 27.797365188598633, 10.940091133117676, 13.319869041442871, 23.160320281982422, 13.838799476623535, 13.904562950134277, 11.6253023147583, 38.5142707824707, 9.013632774353027, 18.797073364257812, 28.8265438079834, 10.753806114196777, 37.853973388671875, 18.275468826293945, 23.661272048950195, 17.637067794799805, 37.67765426635742, 37.35505294799805, 38.14177322387695, 49.533531188964844, 72.53805541992188, 10.848150253295898, 8.693873405456543, 5.820981979370117, 5.822196006774902, 5.101576805114746, 5.101908206939697, 5.104080677032471, 5.104711532592773, 4.391586780548096, 5.127155780792236, 3.6685922145843506, 3.668424367904663, 3.6684579849243164, 3.668649196624756, 3.6684999465942383, 3.6687281131744385, 8.045602798461914, 8.095151901245117, 7.323772430419922, 2.9494211673736572, 2.9494376182556152, 2.9494504928588867, 2.9494688510894775, 2.9495151042938232, 2.94950532913208, 2.949519395828247, 2.949510335922241, 2.9495208263397217, 2.949509620666504, 2.949523448944092, 9.668754577636719, 14.975252151489258, 14.766118049621582, 5.218844413757324, 5.219990253448486, 6.79718017578125, 36.90468215942383, 19.127559661865234, 9.178365707397461, 19.281330108642578, 24.187808990478516, 15.341198921203613, 18.571178436279297, 36.212989807128906, 49.533531188964844, 38.5142707824707, 31.799097061157227, 22.028226852416992, 22.950305938720703, 11.426366806030273, 23.127328872680664, 32.98320007324219, 17.637067794799805, 16.661958694458008, 13.450749397277832, 26.11695671081543, 46.547611236572266, 36.91461181640625, 29.691665649414062, 20.059873580932617, 17.65216064453125, 17.652183532714844, 17.652503967285156, 15.243653297424316, 12.836271286010742, 10.428672790527344, 10.428820610046387, 10.428520202636719, 10.428791046142578, 10.428863525390625, 10.428812980651855, 8.020695686340332, 8.021090507507324, 13.554489135742188, 21.756227493286133, 5.613069534301758, 5.612820148468018, 5.6129608154296875, 5.612827777862549, 5.612917423248291, 5.61286735534668, 5.612938404083252, 5.612786769866943, 5.612863540649414, 5.6129045486450195, 5.612770080566406, 16.812957763671875, 16.912458419799805, 17.630512237548828, 18.314050674438477, 8.738645553588867, 12.782232284545898, 23.466259002685547, 74.52949523925781, 9.589102745056152, 19.357986450195312, 14.476125717163086, 14.526317596435547, 15.134491920471191, 23.661272048950195, 32.98320007324219], \"loglift\": [30.0, 29.0, 28.0, 27.0, 26.0, 25.0, 24.0, 23.0, 22.0, 21.0, 20.0, 19.0, 18.0, 17.0, 16.0, 15.0, 14.0, 13.0, 12.0, 11.0, 10.0, 9.0, 8.0, 7.0, 6.0, 5.0, 4.0, 3.0, 2.0, 1.0, 1.368399977684021, 1.3639999628067017, 1.3573999404907227, 1.3530999422073364, 1.3526999950408936, 1.3467999696731567, 1.3428000211715698, 1.3279999494552612, 1.3277000188827515, 1.3180999755859375, 1.3178000450134277, 1.3104000091552734, 1.3104000091552734, 1.3099000453948975, 1.3099000453948975, 1.3097000122070312, 1.3095999956130981, 1.3092000484466553, 1.308899998664856, 1.3029999732971191, 1.301800012588501, 1.3013999462127686, 1.301300048828125, 1.301300048828125, 1.2999999523162842, 1.2898000478744507, 1.2889000177383423, 1.2745000123977661, 1.2741999626159668, 1.2740999460220337, 1.2303999662399292, 1.2359000444412231, 1.2383999824523926, 1.1960999965667725, 1.2472000122070312, 1.0683000087738037, 1.152400016784668, 1.1792999505996704, 0.9876999855041504, 1.1302000284194946, 0.772599995136261, 1.007699966430664, 0.8069000244140625, 0.978600025177002, 0.9739999771118164, 0.788100004196167, 0.9998999834060669, 0.5220999717712402, 0.258899986743927, 0.53329998254776, 0.2865000069141388, 0.7240999937057495, 0.23440000414848328, 0.21359999477863312, 0.6556000113487244, 1.6621999740600586, 1.639299988746643, 1.636299967765808, 1.6318000555038452, 1.6289000511169434, 1.6222000122070312, 1.617799997329712, 1.6104999780654907, 1.607800006866455, 1.607800006866455, 1.6073999404907227, 1.606600046157837, 1.5995999574661255, 1.5921000242233276, 1.5915000438690186, 1.590000033378601, 1.5882999897003174, 1.5721999406814575, 1.5714000463485718, 1.5707000494003296, 1.5702999830245972, 1.570099949836731, 1.569700002670288, 1.567199945449829, 1.5454000234603882, 1.5414999723434448, 1.5413000583648682, 1.541100025177002, 1.5410000085830688, 1.5408999919891357, 1.5404000282287598, 1.5234999656677246, 1.5002000331878662, 1.444700002670288, 1.2417999505996704, 1.3083000183105469, 1.4493000507354736, 1.1258000135421753, 1.3280999660491943, 0.7773000001907349, 0.866100013256073, 1.2510000467300415, 0.8535000085830688, 0.5105999708175659, 0.45980000495910645, 0.18770000338554382, 1.0110000371932983, 0.7056000232696533, 0.2522999942302704, 0.989799976348877, 0.6579999923706055, 0.4778999984264374, 0.44369998574256897, 1.333299994468689, 1.3315000534057617, 1.318600058555603, 1.3006000518798828, 1.2930999994277954, 1.2920000553131104, 1.2914999723434448, 1.2838000059127808, 1.2838000059127808, 1.281999945640564, 1.2817000150680542, 1.281599998474121, 1.2812000513076782, 1.2664999961853027, 1.2649999856948853, 1.2647000551223755, 1.2418999671936035, 1.2409000396728516, 1.2400000095367432, 1.239799976348877, 1.2388999462127686, 1.2386000156402588, 1.2382999658584595, 1.2381999492645264, 1.192199945449829, 1.1920000314712524, 1.1920000314712524, 1.1916999816894531, 1.1916999816894531, 1.1914000511169434, 1.1725000143051147, 1.148800015449524, 1.0759999752044678, 1.048200011253357, 1.117400050163269, 1.0994000434875488, 0.9740999937057495, 1.0598000288009644, 1.0571000576019287, 1.0568000078201294, 0.7027000188827515, 1.0931999683380127, 0.8240000009536743, 0.6640999913215637, 1.023300051689148, 0.5001000165939331, 0.7857000231742859, 0.5758000016212463, 0.7279999852180481, 0.20819999277591705, 0.1965000033378601, 0.17739999294281006, -0.03180000185966492, -0.39070001244544983, 2.0343000888824463, 2.018699884414673, 1.9794000387191772, 1.9780000448226929, 1.9645999670028687, 1.9638999700546265, 1.9596999883651733, 1.9595999717712402, 1.9247000217437744, 1.924299955368042, 1.9006999731063843, 1.9006999731063843, 1.9005000591278076, 1.9005000591278076, 1.9003000259399414, 1.9003000259399414, 1.893399953842163, 1.8895000219345093, 1.878499984741211, 1.8509999513626099, 1.8509000539779663, 1.8509000539779663, 1.8507000207901, 1.850600004196167, 1.850600004196167, 1.850600004196167, 1.850600004196167, 1.8504999876022339, 1.8504999876022339, 1.8504999876022339, 1.805799961090088, 1.7503000497817993, 1.7272000312805176, 1.7640999555587769, 1.7621999979019165, 1.67739999294281, 1.2899999618530273, 1.3700000047683716, 1.5434999465942383, 1.3109999895095825, 1.2339999675750732, 1.358299970626831, 1.2340999841690063, 0.9401000142097473, 0.5408999919891357, 0.6358000040054321, 0.7300999760627747, 0.9204000234603882, 0.8808000087738037, 1.2759000062942505, 0.7530999779701233, 0.4269999861717224, 0.8809000253677368, 0.926800012588501, 0.9965000152587891, 0.33219999074935913, 1.617300033569336, 1.6136000156402588, 1.6095000505447388, 1.5987000465393066, 1.594599962234497, 1.5944000482559204, 1.5937999486923218, 1.5885000228881836, 1.579800009727478, 1.568600058555603, 1.568600058555603, 1.5680999755859375, 1.5678999423980713, 1.5677000284194946, 1.5676000118255615, 1.5484999418258667, 1.5484999418258667, 1.5263999700546265, 1.5170999765396118, 1.511299967765808, 1.511199951171875, 1.5110000371932983, 1.5110000371932983, 1.5109000205993652, 1.5108000040054321, 1.5108000040054321, 1.5108000040054321, 1.5108000040054321, 1.510699987411499, 1.510699987411499, 1.4907000064849854, 1.4845000505447388, 1.4429999589920044, 1.4067000150680542, 1.462499976158142, 1.3659000396728516, 1.1582000255584717, 0.8428999781608582, 1.3725999593734741, 1.169600009918213, 1.2407000064849854, 1.2369999885559082, 1.1964000463485718, 0.7505999803543091, 0.1396999955177307], \"logprob\": [30.0, 29.0, 28.0, 27.0, 26.0, 25.0, 24.0, 23.0, 22.0, 21.0, 20.0, 19.0, 18.0, 17.0, 16.0, 15.0, 14.0, 13.0, 12.0, 11.0, 10.0, 9.0, 8.0, 7.0, 6.0, 5.0, 4.0, 3.0, 2.0, 1.0, -4.522500038146973, -4.703999996185303, -4.926199913024902, -5.058599948883057, -5.105400085449219, -5.2118000984191895, -5.327199935913086, -5.611199855804443, -5.611400127410889, -5.78849983215332, -5.78879976272583, -5.891900062561035, -5.892000198364258, -5.892499923706055, -5.892499923706055, -5.8927998542785645, -5.892899990081787, -5.8933000564575195, -5.893599987030029, -6.005199909210205, -6.00629997253418, -6.006700038909912, -6.006899833679199, -6.006999969482422, -5.210100173950195, -6.1367998123168945, -6.137800216674805, -6.286399841308594, -6.286799907684326, -6.286799907684326, -4.609799861907959, -4.808300018310547, -5.326499938964844, -5.057300090789795, -5.696499824523926, -4.300600051879883, -5.0569000244140625, -5.388599872589111, -4.702099800109863, -5.388800144195557, -4.235000133514404, -5.2083001136779785, -5.326099872589111, -5.531199932098389, -5.531799793243408, -5.389699935913086, -5.6082000732421875, -5.207399845123291, -5.157299995422363, -5.326099872589111, -5.398600101470947, -5.534299850463867, -5.464000225067139, -5.464000225067139, -5.529900074005127, -5.065199851989746, -5.523200035095215, -4.9781999588012695, -5.625800132751465, -5.5329999923706055, -5.740499973297119, -5.744800090789795, -5.869999885559082, -5.872499942779541, -5.872499942779541, -5.872900009155273, -5.873700141906738, -5.880499839782715, -6.021500110626221, -6.02209997177124, -6.023499965667725, -6.025000095367432, -6.195199966430664, -6.196000099182129, -6.196800231933594, -6.197199821472168, -6.197299957275391, -6.197700023651123, -6.200099945068359, -6.403900146484375, -6.407800197601318, -6.407899856567383, -6.408199787139893, -6.408299922943115, -6.408299922943115, -4.7941999435424805, -5.1946001052856445, -5.061600208282471, -4.790800094604492, -3.7929000854492188, -4.582600116729736, -5.627999782562256, -4.7733001708984375, -5.741700172424316, -5.045499801635742, -5.190199851989746, -5.744999885559082, -5.361700057983398, -5.166900157928467, -5.238500118255615, -5.228499889373779, -5.743000030517578, -5.604400157928467, -5.458199977874756, -5.73960018157959, -5.727099895477295, -5.71619987487793, -5.719699859619141, -4.5971999168396, -4.490699768066406, -5.032800197601318, -5.479700088500977, -5.630799770355225, -5.631899833679199, -5.306000232696533, -5.8078999519348145, -5.807799816131592, -5.809800148010254, -5.810100078582764, -3.8508999347686768, -5.8105998039245605, -6.027100086212158, -6.02869987487793, -6.0289998054504395, -6.304900169372559, -6.3059000968933105, -6.30679988861084, -6.307000160217285, -6.3078999519348145, -6.308300018310547, -6.308599948883057, -6.308700084686279, -6.694499969482422, -6.6946001052856445, -6.694699764251709, -6.695000171661377, -6.695000171661377, -6.695199966430664, -5.029099941253662, -4.944799900054932, -4.76639986038208, -4.945700168609619, -5.809000015258789, -5.630199909210205, -5.202300071716309, -5.6315999031066895, -5.6296000480651855, -5.808899879455566, -4.965099811553955, -6.026899814605713, -5.561100006103516, -5.293399810791016, -5.920199871063232, -5.184999942779541, -5.627500057220459, -5.57919979095459, -5.720799922943115, -5.481599807739258, -5.501800060272217, -5.500100135803223, -5.44789981842041, -5.42549991607666, -4.9004998207092285, -5.137599945068359, -5.578000068664551, -5.579100131988525, -5.724699974060059, -5.725299835205078, -5.729100227355957, -5.729000091552734, -5.914400100708008, -5.760000228881836, -6.118299961090088, -6.1184000968933105, -6.118500232696533, -6.118500232696533, -6.11870002746582, -6.11870002746582, -5.3403000831604, -5.3379998207092285, -5.44920015335083, -6.386199951171875, -6.386300086975098, -6.386300086975098, -6.386499881744385, -6.386600017547607, -6.386600017547607, -6.386600017547607, -6.386600017547607, -6.38670015335083, -6.38670015335083, -6.38670015335083, -5.244100093841553, -4.862100124359131, -4.8993000984191895, -5.902500152587891, -5.904099941253662, -5.724899768829346, -4.420499801635742, -4.997700214385986, -5.558499813079834, -5.048699855804443, -4.89900016784668, -5.230000019073486, -5.163099765777588, -4.789299964904785, -4.87529993057251, -5.0320000648498535, -5.129300117492676, -5.30620002746582, -5.304699897766113, -5.60699987411499, -5.424699783325195, -5.395899772644043, -5.567999839782715, -5.57889986038208, -5.723299980163574, -5.723999977111816, -3.8610000610351562, -4.09660005569458, -4.31850004196167, -4.721399784088135, -4.853400230407715, -4.853600025177002, -4.8541998863220215, -5.006199836730957, -5.186699867248535, -5.405700206756592, -5.405700206756592, -5.406199932098389, -5.406300067901611, -5.406499862670898, -5.406700134277344, -5.688300132751465, -5.688300132751465, -5.185699939727783, -4.721799850463867, -6.082499980926514, -6.082600116729736, -6.082699775695801, -6.082799911499023, -6.082900047302246, -6.083000183105469, -6.083000183105469, -6.083000183105469, -6.083000183105469, -6.083000183105469, -6.083099842071533, -5.00600004196167, -5.00629997253418, -5.006199836730957, -5.00439977645874, -5.688600063323975, -5.404900074005127, -5.005099773406982, -4.164700031280518, -5.6855998039245605, -5.186100006103516, -5.405700206756592, -5.405900001525879, -5.4054999351501465, -5.404399871826172, -5.68310022354126]}, \"token.table\": {\"Topic\": [1, 4, 2, 4, 5, 2, 3, 2, 3, 2, 5, 5, 5, 3, 3, 2, 3, 4, 1, 4, 1, 2, 3, 4, 1, 2, 1, 2, 4, 2, 1, 5, 4, 1, 2, 3, 4, 5, 5, 5, 1, 3, 4, 1, 1, 3, 3, 4, 2, 3, 4, 2, 3, 2, 5, 5, 3, 1, 2, 5, 1, 3, 5, 1, 4, 1, 3, 4, 4, 5, 1, 2, 3, 4, 5, 3, 5, 1, 1, 2, 3, 5, 5, 1, 2, 3, 1, 4, 1, 3, 4, 4, 2, 5, 3, 1, 4, 1, 2, 1, 3, 5, 1, 5, 1, 1, 2, 3, 3, 4, 5, 4, 2, 1, 2, 3, 4, 1, 2, 3, 1, 3, 4, 5, 4, 4, 1, 2, 3, 5, 5, 2, 4, 1, 2, 3, 1, 4, 5, 3, 1, 2, 3, 4, 5, 1, 2, 4, 1, 2, 3, 1, 1, 2, 3, 4, 2, 1, 2, 3, 4, 5, 1, 2, 4, 4, 4, 1, 2, 3, 3, 2, 1, 3, 2, 3, 1, 1, 3, 1, 2, 3, 4, 5, 2, 4, 1, 1, 3, 2, 5, 5, 1, 2, 3, 5, 1, 5, 2, 3, 5, 3, 1, 2, 3, 4, 5, 5, 2, 3, 3, 1, 2, 4, 1, 2, 3, 4, 1, 5, 4, 5, 1, 2, 3, 4, 2, 2, 5, 4, 4, 4, 5, 1, 2, 5, 3, 1, 2, 3, 4, 5, 1, 2, 3, 4, 4, 1, 2, 3, 4, 1, 2, 3, 4, 1, 3, 1, 2, 3, 2, 3, 4, 5, 3, 5, 1, 2, 3, 4, 5, 1, 3, 4, 5, 1, 2, 3, 4, 3, 3, 3, 3, 5, 2, 3, 4, 2, 3, 5, 1, 2, 3, 4, 2, 1, 1, 5, 1, 2, 1, 2, 5, 1, 3, 5, 2, 3, 4, 5, 1, 2, 3, 2, 1, 1, 2, 3, 4, 4, 4, 4, 2, 5, 1, 4, 3, 4, 2, 4, 2, 4, 1, 4, 1, 2, 3, 4, 5, 2, 3, 4, 5, 4, 2, 1, 2, 3, 4, 1, 4, 5, 3, 5, 2, 5, 3, 2, 2, 1, 3, 1, 2, 3, 4, 1, 2, 3, 4, 4, 3, 2, 5, 1, 2, 1, 2, 3, 4, 5, 4, 4, 4, 2, 4, 5, 2, 5, 2, 3, 3, 4, 4, 2, 3, 4, 2, 3, 4, 2, 5, 2, 4, 5, 5, 1, 4, 3, 3, 2, 1, 1, 1, 4, 5, 1, 2, 3, 5, 1, 3, 4, 2, 2, 1, 2, 2, 1, 1, 2, 3, 4, 2, 3], \"Freq\": [0.5374608635902405, 0.41343140602111816, 0.9543368220329285, 0.6780991554260254, 0.8907781839370728, 0.13284039497375488, 0.8413224816322327, 0.9259760975837708, 0.970510721206665, 0.954280436038971, 0.9588819146156311, 0.9840160608291626, 0.9752236008644104, 0.9706305861473083, 0.9118000864982605, 0.07191883772611618, 0.719188392162323, 0.14383767545223236, 0.12353073060512543, 0.8647150993347168, 0.18967783451080322, 0.21677465736865997, 0.13548415899276733, 0.43354931473731995, 0.8370276689529419, 0.09300307184457779, 0.9373770356178284, 0.12429149448871613, 0.8700404763221741, 0.9738833904266357, 0.963710367679596, 0.9348509311676025, 0.8177729249000549, 0.2153875231742859, 0.10769376158714294, 0.10769376158714294, 0.4307750463485718, 0.16154064238071442, 0.872742235660553, 0.8908044099807739, 0.10342593491077423, 0.10342593491077423, 0.7239815592765808, 0.9735775589942932, 0.9195523858070374, 0.9705989360809326, 0.7226060628890991, 0.21678180992603302, 0.10792389512062073, 0.7194926738739014, 0.14389853179454803, 0.8477386832237244, 0.9551291465759277, 0.762704610824585, 0.8908103108406067, 0.9589087963104248, 0.849977970123291, 0.9612124562263489, 0.3303711712360382, 0.6607423424720764, 0.8638381361961365, 0.06170272454619408, 0.09255409240722656, 0.9257825016975403, 0.6780954003334045, 0.13355368375778198, 0.13355368375778198, 0.7345452308654785, 0.11443421244621277, 0.801039457321167, 0.31777408719062805, 0.13618889451026917, 0.13618889451026917, 0.31777408719062805, 0.13618889451026917, 0.8500137329101562, 0.8908257484436035, 0.9257482886314392, 0.09869956970214844, 0.34544849395751953, 0.2960987091064453, 0.2467489093542099, 0.8908109068870544, 0.8302886486053467, 0.1916050761938095, 0.947709321975708, 0.6601864695549011, 0.30008476972579956, 0.17009630799293518, 0.5102888941764832, 0.28349384665489197, 0.678078830242157, 0.7626549005508423, 0.9630361795425415, 0.9790963530540466, 0.9637389183044434, 0.7836866974830627, 0.9041803479194641, 0.06027868762612343, 0.6648885607719421, 0.2659554183483124, 0.8907989859580994, 0.8620063662528992, 0.9588839411735535, 0.9636421203613281, 0.963769793510437, 0.9542762041091919, 0.9551710486412048, 0.7420845627784729, 0.06184038147330284, 0.15460094809532166, 0.6780924201011658, 0.8477992415428162, 0.5155443549156189, 0.14060300588607788, 0.28120601177215576, 0.09373533725738525, 0.875675618648529, 0.8164088726043701, 0.1484379768371582, 0.015201815403997898, 0.9273107647895813, 0.015201815403997898, 0.04560544714331627, 0.6780786514282227, 0.6780756115913391, 0.22906635701656342, 0.5563040375709534, 0.13089506328105927, 0.09817129373550415, 0.8908165693283081, 0.27089041471481323, 0.6772260665893555, 0.9373027682304382, 0.9368285536766052, 0.066916324198246, 0.11343970149755478, 0.05671985074877739, 0.850797712802887, 0.8499470353126526, 0.042263153940439224, 0.042263153940439224, 0.46489471197128296, 0.08452630788087845, 0.42263153195381165, 0.17503376305103302, 0.35006752610206604, 0.43758440017700195, 0.07949373126029968, 0.11924059689044952, 0.7949373126029968, 0.8620308041572571, 0.10372728109359741, 0.15559092164039612, 0.25931820273399353, 0.46677276492118835, 0.9254761934280396, 0.4088166356086731, 0.09434229880571365, 0.12578973174095154, 0.2515794634819031, 0.09434229880571365, 0.10629384964704514, 0.7440569996833801, 0.10629384964704514, 0.8177220821380615, 0.9201882481575012, 0.6628603339195251, 0.12052006274461746, 0.24104012548923492, 0.9696509838104248, 0.8478372693061829, 0.9685915112495422, 0.9237701296806335, 0.2252274453639984, 0.7507581114768982, 0.9636914134025574, 0.8620749115943909, 0.8498661518096924, 0.3170076608657837, 0.10566922277212143, 0.4226768910884857, 0.052834611386060715, 0.07925191521644592, 0.7626754641532898, 0.7840203642845154, 0.9833207726478577, 0.9044294357299805, 0.9238138794898987, 0.11895586550235748, 0.8921689987182617, 0.9630536437034607, 0.06884057074785233, 0.13768114149570465, 0.13768114149570465, 0.6884056925773621, 0.11825601756572723, 0.886920154094696, 0.12784312665462494, 0.21307188272476196, 0.6392156481742859, 0.9706707000732422, 0.13464708626270294, 0.40394127368927, 0.13464708626270294, 0.08976472914218903, 0.22441181540489197, 0.9471644759178162, 0.9086806774139404, 0.9118203520774841, 0.9551687240600586, 0.31368350982666016, 0.20912234485149384, 0.47052526473999023, 0.34093135595321655, 0.2983149290084839, 0.2556985318660736, 0.08523283898830414, 0.5367002487182617, 0.45619523525238037, 0.8177897930145264, 0.8908177614212036, 0.9728342294692993, 0.5879894495010376, 0.1959964781999588, 0.1959964781999588, 0.9084069728851318, 0.15646719932556152, 0.7823359370231628, 0.8177822828292847, 0.6780775785446167, 0.07377629727125168, 0.8853155374526978, 0.7907025218009949, 0.18246980011463165, 0.9588811993598938, 0.9238054156303406, 0.2775219976902008, 0.0693804994225502, 0.485663503408432, 0.0693804994225502, 0.104070745408535, 0.06490300595760345, 0.6490300893783569, 0.16225752234458923, 0.09735451638698578, 0.8589615821838379, 0.09299033135175705, 0.09299033135175705, 0.7439226508140564, 0.09299033135175705, 0.4792964458465576, 0.1307172179222107, 0.08714480698108673, 0.30500683188438416, 0.663523256778717, 0.3184911608695984, 0.07693453878164291, 0.4616072475910187, 0.4616072475910187, 0.0519288033246994, 0.5192880630493164, 0.2336796224117279, 0.1817508190870285, 0.8499121069908142, 0.8726993203163147, 0.09095539897680283, 0.3941400349140167, 0.12127386033535004, 0.18191079795360565, 0.21222925186157227, 0.1089518591761589, 0.3268555700778961, 0.5447592735290527, 0.9767050743103027, 0.3146156966686249, 0.2883976995944977, 0.3146156966686249, 0.07865392416715622, 0.955162525177002, 0.9551498293876648, 0.9772089719772339, 0.9210394620895386, 0.963054895401001, 0.3191986382007599, 0.5851975083351135, 0.05319977179169655, 0.20723776519298553, 0.13815851509571075, 0.6907925605773926, 0.32124167680740356, 0.29447153210639954, 0.32124167680740356, 0.08031041920185089, 0.84771329164505, 0.9637024998664856, 0.9637868404388428, 0.9588772654533386, 0.8277362585067749, 0.1273440420627594, 0.8394607305526733, 0.13991011679172516, 0.8907954692840576, 0.8031947016716003, 0.08924385160207748, 0.13386577367782593, 0.9086604714393616, 0.2582913339138031, 0.103316530585289, 0.6198992133140564, 0.21887263655662537, 0.16415446996688843, 0.5471816062927246, 0.8478226065635681, 0.9372901320457458, 0.3446037173271179, 0.4211823046207428, 0.07657860219478607, 0.15315720438957214, 0.8177523612976074, 0.9218161702156067, 0.6780765652656555, 0.8251712322235107, 0.1904241293668747, 0.8756794333457947, 0.6780762672424316, 0.7766014337539673, 0.22188611328601837, 0.13654164969921112, 0.8192499279975891, 0.8484818935394287, 0.6780797839164734, 0.19157123565673828, 0.7662849426269531, 0.7124671936035156, 0.0385117381811142, 0.0770234763622284, 0.0385117381811142, 0.13479109108448029, 0.13036790490150452, 0.26073580980300903, 0.456287682056427, 0.19555185735225677, 0.7801596522331238, 0.7626580595970154, 0.3230135142803192, 0.2220717966556549, 0.24226014316082, 0.2018834501504898, 0.9491528868675232, 0.6780881881713867, 0.9588947892189026, 0.09192769974470139, 0.8733131885528564, 0.6330249905586243, 0.31651249527931213, 0.8499829173088074, 0.848314106464386, 0.9085437655448914, 0.1828138381242752, 0.8226622343063354, 0.5621055364608765, 0.08647777885198593, 0.08647777885198593, 0.2594333291053772, 0.35159891843795776, 0.30764904618263245, 0.26369917392730713, 0.08789972960948944, 0.8177396655082703, 0.9551147818565369, 0.7626357674598694, 0.9882354736328125, 0.9637799859046936, 0.954529881477356, 0.09650106728076935, 0.6203640103340149, 0.17921628057956696, 0.041357602924108505, 0.06892933696508408, 0.9108325242996216, 0.7835898399353027, 0.8587824702262878, 0.10920576751232147, 0.054602883756160736, 0.8190432786941528, 0.20857009291648865, 0.7299953103065491, 0.2580578029155731, 0.7741734385490417, 0.29423967003822327, 0.5884793400764465, 0.7840713262557983, 0.1486905962228775, 0.5204170942306519, 0.297381192445755, 0.7328881025314331, 0.09161101281642914, 0.1374165266752243, 0.8911166191101074, 0.8908230662345886, 0.45037731528282166, 0.15012577176094055, 0.3753144443035126, 0.8908023238182068, 0.1916133016347885, 0.766453206539154, 0.8500339388847351, 0.850013017654419, 0.8476259112358093, 0.9372996091842651, 0.9044577479362488, 0.8700819611549377, 0.037829648703336716, 0.11348894983530045, 0.6738194227218628, 0.1347638964653015, 0.08984259516000748, 0.1347638964653015, 0.17270918190479279, 0.6908367276191711, 0.1295318901538849, 0.9540696740150452, 0.8478115797042847, 0.15173791348934174, 0.8092688918113708, 0.7626468539237976, 0.9373216032981873, 0.414216011762619, 0.16568639874458313, 0.11045759916305542, 0.3037584125995636, 0.9542655944824219, 0.9704684019088745], \"Term\": [\"2020\", \"2020\", \"25\", \"385\", \"absence\", \"ad\", \"ad\", \"administration\", \"ads\", \"adviser\", \"alliance\", \"article\", \"atlantic\", \"ban\", \"beijing\", \"believe\", \"believe\", \"believe\", \"bernie\", \"bernie\", \"biden\", \"biden\", \"biden\", \"biden\", \"black\", \"black\", \"bloomberg\", \"board\", \"board\", \"bolton\", \"boyle\", \"breach\", \"business\", \"campaign\", \"campaign\", \"campaign\", \"campaign\", \"campaign\", \"canada\", \"canadian\", \"candidates\", \"candidates\", \"candidates\", \"carolina\", \"case\", \"ccp\", \"china\", \"china\", \"chinese\", \"chinese\", \"chinese\", \"chip\", \"chooses\", \"click\", \"commits\", \"community\", \"companies\", \"congressional\", \"council\", \"council\", \"court\", \"court\", \"court\", \"courts\", \"coverage\", \"debate\", \"debate\", \"debate\", \"defense\", \"defense\", \"democratic\", \"democratic\", \"democratic\", \"democratic\", \"democratic\", \"demonstrations\", \"disqualification\", \"districts\", \"donald\", \"donald\", \"donald\", \"donald\", \"draft\", \"drew\", \"drew\", \"economic\", \"election\", \"election\", \"elizabeth\", \"elizabeth\", \"elizabeth\", \"equipped\", \"estimate\", \"expulsion\", \"facebook\", \"fair\", \"father\", \"federal\", \"federal\", \"feel\", \"feel\", \"foresees\", \"fort\", \"founding\", \"gerrymander\", \"gerrymandering\", \"giuliani\", \"goes\", \"government\", \"government\", \"government\", \"greatest\", \"having\", \"hear\", \"hear\", \"hear\", \"hear\", \"heard\", \"hill\", \"hill\", \"hong\", \"hong\", \"hong\", \"hong\", \"hosted\", \"hottest\", \"house\", \"house\", \"house\", \"house\", \"humanitarian\", \"hunter\", \"hunter\", \"ignore\", \"impeachment\", \"impeachment\", \"individual\", \"individual\", \"individual\", \"information\", \"international\", \"international\", \"international\", \"international\", \"international\", \"issue\", \"issue\", \"issue\", \"james\", \"james\", \"james\", \"jefferson\", \"joe\", \"joe\", \"joe\", \"joe\", \"john\", \"join\", \"join\", \"join\", \"join\", \"join\", \"july\", \"july\", \"july\", \"kamala\", \"karoui\", \"know\", \"know\", \"know\", \"kong\", \"kurds\", \"lawmakers\", \"league\", \"lebron\", \"lebron\", \"legislative\", \"legislators\", \"lie\", \"like\", \"like\", \"like\", \"like\", \"like\", \"likelihood\", \"list\", \"map\", \"march\", \"mask\", \"material\", \"material\", \"member\", \"members\", \"members\", \"members\", \"members\", \"membership\", \"membership\", \"military\", \"military\", \"military\", \"morey\", \"national\", \"national\", \"national\", \"national\", \"national\", \"nato\", \"navigator\", \"nba\", \"networks\", \"new\", \"new\", \"new\", \"news\", \"news\", \"news\", \"news\", \"north\", \"north\", \"notes\", \"objectives\", \"officer\", \"official\", \"official\", \"official\", \"officials\", \"operation\", \"operation\", \"overseas\", \"paper\", \"parties\", \"parties\", \"partisan\", \"partisan\", \"peace\", \"peaceful\", \"people\", \"people\", \"people\", \"people\", \"people\", \"percent\", \"percent\", \"percent\", \"percent\", \"pete\", \"place\", \"place\", \"place\", \"place\", \"plus\", \"plus\", \"plus\", \"plus\", \"police\", \"police\", \"policy\", \"policy\", \"policy\", \"political\", \"political\", \"political\", \"political\", \"politicians\", \"preamble\", \"president\", \"president\", \"president\", \"president\", \"president\", \"presidential\", \"presidential\", \"presidential\", \"principles\", \"pro\", \"pro\", \"pro\", \"pro\", \"profit\", \"protecting\", \"protesters\", \"protests\", \"provision\", \"public\", \"public\", \"public\", \"question\", \"question\", \"question\", \"quid\", \"quid\", \"quid\", \"quid\", \"quo\", \"racial\", \"redistricting\", \"relations\", \"republican\", \"republican\", \"republicans\", \"republicans\", \"resolved\", \"rights\", \"rights\", \"rights\", \"rudy\", \"rule\", \"rule\", \"rule\", \"run\", \"run\", \"run\", \"russia\", \"safe\", \"said\", \"said\", \"said\", \"said\", \"sanders\", \"sa\\u00efed\", \"scott\", \"security\", \"security\", \"shooting\", \"smartest\", \"social\", \"social\", \"son\", \"son\", \"sondland\", \"spin\", \"spoke\", \"spoke\", \"state\", \"state\", \"state\", \"state\", \"state\", \"statement\", \"statement\", \"statement\", \"statement\", \"steyer\", \"subjective\", \"support\", \"support\", \"support\", \"support\", \"supreme\", \"sure\", \"suspend\", \"suspension\", \"suspension\", \"syria\", \"syria\", \"talk\", \"testified\", \"testimony\", \"things\", \"things\", \"time\", \"time\", \"time\", \"time\", \"told\", \"told\", \"told\", \"told\", \"tom\", \"touch\", \"transcript\", \"treaty\", \"tried\", \"troops\", \"trump\", \"trump\", \"trump\", \"trump\", \"trump\", \"tuesday\", \"tunisian\", \"tunisians\", \"turkey\", \"turkey\", \"turkey\", \"turkish\", \"turkish\", \"tweet\", \"tweet\", \"tweets\", \"tweets\", \"tweetsa\", \"twitter\", \"twitter\", \"twitter\", \"ukraine\", \"ukraine\", \"ukraine\", \"ukrainian\", \"unanimous\", \"united\", \"united\", \"united\", \"unity\", \"university\", \"university\", \"unrest\", \"violent\", \"volodymyr\", \"vote\", \"voter\", \"voting\", \"voting\", \"voting\", \"want\", \"want\", \"want\", \"want\", \"warren\", \"warren\", \"warren\", \"weeks\", \"whistleblower\", \"white\", \"white\", \"wildly\", \"window\", \"work\", \"work\", \"work\", \"work\", \"zelensky\", \"zuckerberg\"]}, \"R\": 30, \"lambda.step\": 0.01, \"plot.opts\": {\"xlab\": \"PC1\", \"ylab\": \"PC2\"}, \"topic.order\": [1, 2, 3, 4, 5]};\n",
       "\n",
       "function LDAvis_load_lib(url, callback){\n",
       "  var s = document.createElement('script');\n",
       "  s.src = url;\n",
       "  s.async = true;\n",
       "  s.onreadystatechange = s.onload = callback;\n",
       "  s.onerror = function(){console.warn(\"failed to load library \" + url);};\n",
       "  document.getElementsByTagName(\"head\")[0].appendChild(s);\n",
       "}\n",
       "\n",
       "if(typeof(LDAvis) !== \"undefined\"){\n",
       "   // already loaded: just create the visualization\n",
       "   !function(LDAvis){\n",
       "       new LDAvis(\"#\" + \"ldavis_el80761399174920433529702292956\", ldavis_el80761399174920433529702292956_data);\n",
       "   }(LDAvis);\n",
       "}else if(typeof define === \"function\" && define.amd){\n",
       "   // require.js is available: use it to load d3/LDAvis\n",
       "   require.config({paths: {d3: \"https://cdnjs.cloudflare.com/ajax/libs/d3/3.5.5/d3.min\"}});\n",
       "   require([\"d3\"], function(d3){\n",
       "      window.d3 = d3;\n",
       "      LDAvis_load_lib(\"https://cdn.rawgit.com/bmabey/pyLDAvis/files/ldavis.v1.0.0.js\", function(){\n",
       "        new LDAvis(\"#\" + \"ldavis_el80761399174920433529702292956\", ldavis_el80761399174920433529702292956_data);\n",
       "      });\n",
       "    });\n",
       "}else{\n",
       "    // require.js not available: dynamically load d3 & LDAvis\n",
       "    LDAvis_load_lib(\"https://cdnjs.cloudflare.com/ajax/libs/d3/3.5.5/d3.min.js\", function(){\n",
       "         LDAvis_load_lib(\"https://cdn.rawgit.com/bmabey/pyLDAvis/files/ldavis.v1.0.0.js\", function(){\n",
       "                 new LDAvis(\"#\" + \"ldavis_el80761399174920433529702292956\", ldavis_el80761399174920433529702292956_data);\n",
       "            })\n",
       "         });\n",
       "}\n",
       "</script>"
      ],
      "text/plain": [
       "<IPython.core.display.HTML object>"
      ]
     },
     "execution_count": 115,
     "metadata": {},
     "output_type": "execute_result"
    }
   ],
   "source": [
    "\n",
    "import pyLDAvis.gensim\n",
    "lda_display = pyLDAvis.gensim.prepare(lda, corpus, dictionary, sort_topics=False)\n",
    "pyLDAvis.display(lda_display)"
   ]
  },
  {
   "cell_type": "markdown",
   "metadata": {
    "collapsed": true
   },
   "source": [
    "<h1>Similarity</h1>\n",
    "<h2>Given a corpus of documents, when a new document arrives, find the document that is the most similar</h2>"
   ]
  },
  {
   "cell_type": "code",
   "execution_count": 154,
   "metadata": {},
   "outputs": [],
   "source": [
    "doc_list = [community_data,le_monde_data,fiveguys_data,shakeshack_data]\n",
    "all_text = community_data.raw() + le_monde_data.raw() + fiveguys_data.raw() + shakeshack_data.raw()\n",
    "\n",
    "documents = [doc.raw() for doc in doc_list]\n",
    "texts = [[word for word in document.lower().split()\n",
    "        if word not in STOPWORDS and word.isalnum()]\n",
    "        for document in documents]\n",
    "dictionary = corpora.Dictionary(texts)\n",
    "corpus = [dictionary.doc2bow(text) for text in texts]\n"
   ]
  },
  {
   "cell_type": "code",
   "execution_count": 88,
   "metadata": {},
   "outputs": [],
   "source": [
    "from gensim.similarities.docsim import Similarity\n",
    "from gensim import corpora, models, similarities\n",
    "lsi = models.LsiModel(corpus, id2word=dictionary, num_topics=2)\n",
    "doc = \"\"\"\n",
    "Many, many years ago, I used to frequent this place for their amazing french toast. \n",
    "It's been a while since then and I've been hesitant to review a place I haven't been to in 7-8 years... \n",
    "but I passed by French Roast and, feeling nostalgic, decided to go back.\n",
    "\n",
    "It was a great decision.\n",
    "\n",
    "Their Bloody Mary is fantastic and includes bacon (which was perfectly cooked!!), olives, \n",
    "cucumber, and celery. The Irish coffee is also excellent, even without the cream which is what I ordered.\n",
    "\n",
    "Great food, great drinks, a great ambiance that is casual yet familiar like a tiny little French cafe. \n",
    "I highly recommend coming here, and will be back whenever I'm in the area next.\n",
    "\n",
    "Juan, the bartender, is great!! One of the best in any brunch spot in the city, by far.\n",
    "\"\"\"\n",
    "vec_bow = dictionary.doc2bow(doc.lower().split())\n",
    "vec_lsi = lsi[vec_bow]\n",
    "index = similarities.MatrixSimilarity(lsi[corpus])\n",
    "sims = index[vec_lsi]\n",
    "sims = sorted(enumerate(sims), key=lambda item: -item[1])\n"
   ]
  },
  {
   "cell_type": "code",
   "execution_count": 162,
   "metadata": {},
   "outputs": [
    {
     "data": {
      "text/plain": [
       "array([1.        , 0.96409273, 0.52242893, 0.28886598], dtype=float32)"
      ]
     },
     "execution_count": 162,
     "metadata": {},
     "output_type": "execute_result"
    }
   ],
   "source": [
    "index[lsi[corpus[0]]]"
   ]
  },
  {
   "cell_type": "code",
   "execution_count": 56,
   "metadata": {},
   "outputs": [
    {
     "data": {
      "text/plain": [
       "[(2, 0.9371457), (1, 0.92266124), (3, 0.8178723), (0, 0.7871257)]"
      ]
     },
     "execution_count": 56,
     "metadata": {},
     "output_type": "execute_result"
    }
   ],
   "source": [
    "doc=\"\"\"\n",
    "Came to have lunch & also watch the World Cup match. I've been here many times before and not much has changed. \n",
    "\n",
    "You can get half off apps and bogo drinks when you sign up for their brew club. I tried their IPA \n",
    "(was not a fan).  We also ordered the backyarder and the hot mess burgers with a \n",
    "side of disco fries to share. Both were delicious and cooked perfectly. The fries were also really good - \n",
    "the gravy and the cheese mix worked perfectly. \n",
    "\n",
    "Service was not the best but it could have been because of how packed the bar was for the game. Still a \n",
    "solid option in the neighborhood. Should mention that the fried Oreos are out of this world!\n",
    "\"\"\"\n",
    "vec_bow = dictionary.doc2bow(doc.lower().split())\n",
    "vec_lsi = lsi[vec_bow]\n",
    "index = similarities.MatrixSimilarity(lsi[corpus])\n",
    "sims = index[vec_lsi]\n",
    "sims = sorted(enumerate(sims), key=lambda item: -item[1])\n",
    "sims"
   ]
  },
  {
   "cell_type": "code",
   "execution_count": null,
   "metadata": {},
   "outputs": [],
   "source": []
  },
  {
   "cell_type": "code",
   "execution_count": null,
   "metadata": {},
   "outputs": [],
   "source": []
  }
 ],
 "metadata": {
  "anaconda-cloud": {},
  "kernelspec": {
   "display_name": "Python 3",
   "language": "python",
   "name": "python3"
  },
  "language_info": {
   "codemirror_mode": {
    "name": "ipython",
    "version": 3
   },
   "file_extension": ".py",
   "mimetype": "text/x-python",
   "name": "python",
   "nbconvert_exporter": "python",
   "pygments_lexer": "ipython3",
   "version": "3.6.4"
  }
 },
 "nbformat": 4,
 "nbformat_minor": 1
}
