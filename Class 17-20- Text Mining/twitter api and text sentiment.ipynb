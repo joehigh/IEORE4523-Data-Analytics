{
 "cells": [
  {
   "cell_type": "markdown",
   "metadata": {},
   "source": [
    "<h3>Twitter APIs</h3>\n",
    "<li>Sign in to the developer site using your twitter account\n",
    "<li>Go to https://apps.twitter.com/app/new \n",
    "<li>Give your app a name and a description\n",
    "<li>Enter anything for website (e.g., http://www.columbia.edu)\n",
    "<li>Leave callback url blank\n",
    "<li>Accept the terms and conditions and create an account\n",
    "<li>Then, click on the \"Keys and Access Tokens\" tab\n",
    "<li>Copy the two consumer keys to a text file\n",
    "<li>Scroll down and click \"Generate Access key and Secret\"\n",
    "<li>Copy the two access keys to the text file\n"
   ]
  },
  {
   "cell_type": "code",
   "execution_count": 1,
   "metadata": {
    "collapsed": true
   },
   "outputs": [],
   "source": [
    "with open(\"/Users/hardeepjohar/Documents/Courses/Fall2018/API_KEYS/tokens.txt\",'r') as token_file:\n",
    "    contents = token_file.read().split('\\n')\n",
    "    consumer_key = contents[0]\n",
    "    consumer_secret = contents[1]\n",
    "    access_token = contents[2]\n",
    "    access_token_secret = contents[3]\n",
    "    "
   ]
  },
  {
   "cell_type": "markdown",
   "metadata": {},
   "source": [
    "<h2>tweepy</h2>\n",
    "<li>A python library that interfaces with the twitter API\n",
    "<li>Returns a lot of useful stuff but we'll only look at the tweet text"
   ]
  },
  {
   "cell_type": "markdown",
   "metadata": {},
   "source": [
    "<h4>Set up an authentication object using OAuth and send a search request</h4>\n",
    "<li>Tweepy constructs a \"list like\" SearchResults object\n",
    "<li>Each item in SearchResults is a Status object\n",
    "<li>The status object has a _json attribute that contains a json tweet\n",
    "<li>http://docs.tweepy.org/en/v3.5.0/getting_started.html#"
   ]
  },
  {
   "cell_type": "code",
   "execution_count": 2,
   "metadata": {
    "collapsed": true
   },
   "outputs": [],
   "source": [
    "import tweepy\n",
    "auth = tweepy.OAuthHandler(consumer_key, consumer_secret)\n",
    "auth.set_access_token(access_token, access_token_secret)\n",
    "api = tweepy.API(auth)\n",
    "search_term = 'AAPL'\n",
    "## fill in your search query and store your results in a variable\n",
    "results = api.search(q = search_term, lang = \"en\", result_type = \"recent\", count = 1000)\n",
    "\n"
   ]
  },
  {
   "cell_type": "code",
   "execution_count": 3,
   "metadata": {},
   "outputs": [
    {
     "name": "stdout",
     "output_type": "stream",
     "text": [
      "<class 'tweepy.models.SearchResults'>\n",
      "54\n",
      "<class 'tweepy.models.Status'>\n"
     ]
    }
   ],
   "source": [
    "print(type(results))\n",
    "print(len(results))\n",
    "print(type(results[0]))"
   ]
  },
  {
   "cell_type": "markdown",
   "metadata": {},
   "source": [
    "<li>We can save this to files that can then be read by a plaintextcorpus reader\n",
    "<li>The order is important\n",
    "<li>We could use  datetime for ordering\n",
    "<li>But we'll just number them for now\n",
    "<li>Saving to a file also helps us build a tweet corpus\n"
   ]
  },
  {
   "cell_type": "code",
   "execution_count": 4,
   "metadata": {
    "collapsed": true
   },
   "outputs": [],
   "source": [
    "search_term = 'AAPL'\n",
    "for i in range(len(results)):\n",
    "    fname = search_term+'.'+str(len(results)-i)\n",
    "    with open('/Users/hardeepjohar/Documents/Courses/Fall2018/data/tweets/'+fname,'w') as f:\n",
    "        f.write(results[i]._json['text']+'\\n')"
   ]
  },
  {
   "cell_type": "markdown",
   "metadata": {},
   "source": [
    "<h4>Now we can do sentiment analysis on these tweets</h4>"
   ]
  },
  {
   "cell_type": "code",
   "execution_count": 6,
   "metadata": {},
   "outputs": [],
   "source": [
    "from nltk.corpus import PlaintextCorpusReader\n",
    "apple_data = PlaintextCorpusReader('/Users/hardeepjohar/Documents/Courses/Fall2018/data/tweets/','AAPL.*')"
   ]
  },
  {
   "cell_type": "code",
   "execution_count": 7,
   "metadata": {},
   "outputs": [
    {
     "data": {
      "text/plain": [
       "'AAPL: 220.7468 at Oct 24, 2018 4:23 PM\\nToday\\'s Information Technology market mover is CYBEROPTICS CORP\\n$CYBE is up 6.48%!\\nKey words: BUY, REPORT, POSITIVE… https://t.co/SzffblWZY7\\nRT @FXpresso: $AAPL #apple \"Jump\" Edition\\nLots going on here - lets break it down:\\n- Double gaps to fill (pink)\\n- Complex HS pattern comple…\\nRT @myQuikfo: Today\\'s Information Technology market mover is CYBEROPTICS CORP\\n$CYBE is up 6.48%!\\nKey words: BUY, REPORT, POSITIVE, RAISES,…\\nToday\\'s Consumer Staples market mover is REVLON INC\\n$REV is up 4.53%!\\nKey words: BUY, GOOD, BUYING, BOUGHT, DOWN, B… https://t.co/Tl6KCWiG9q\\nToday\\'s Financials market mover is MARKETAXESS HOLDINGS IN\\n$MKTX is up 6.33%!\\nKey words: CONFIDENT, UPGRADED, PROBL… https://t.co/OEKglO0mw7\\nToday\\'s Consumer Discretionary market mover is K12 INC\\n$LRN is up 21.00%!\\nKey words: EXPECTING, GROWTH, DOWN, BANKR… https://t.co/SyE4BNkB4v\\nRT @myQuikfo: Today\\'s Financials market mover is MARKETAXESS HOLDINGS IN\\n$MKTX is up 6.33%!\\nKey words: CONFIDENT, UPGRADED, PROBLEM, BAD, O…\\nRT @myQuikfo: Today\\'s Consumer Discretionary market mover is K12 INC\\n$LRN is up 21.00%!\\nKey words: EXPECTING, GROWTH, DOWN, BANKRUPTCY, SEL…\\nAAPL: 220.887 at Oct 24, 2018 4:31 PM\\nAAPL: 220.887 at Oct 24, 2018 4:31 PM\\nAAPL: 220.887 at Oct 24, 2018 4:31 PM\\nAAPL: 220.7468 at Oct 24, 2018 4:23 PM\\nAAPL: 220.887 at Oct 24, 2018 4:31 PM\\nAAPL: 220.887 at Oct 24, 2018 4:31 PM\\nJoin @RobinhoodApp and we\\'ll both get a stock like $AAPL, $F, or $S for free. Make sure to use my link. https://t.co/7bd9adj1T7\\nApple Inc: Short term view only. Forming a H&amp;S Top and testing incline support. We also have a gap at $196 which co… https://t.co/Oha4osvw52\\nLove new $SNAP hire from $AMZN - Heck must see something encouraging to have joined... \\n\\nThe former CEO of wildly,… https://t.co/C8jktlZTYJ\\nJoin @RobinhoodApp and we\\'ll both get a stock like $AAPL, $F, or $S for free. Make sure to use my link. #EasyMoney \\n\\nhttps://t.co/A0ULqDoGzE\\nRT @naashonomics: $FB $AMZN $GOOGL $AAPL $NFLX $SPY\\nCramer bashes Trump for mocking Fed Chair Powell — \\'I wish the president would shut up\\'…\\nWell listen to that! I\\'m glad to see Apple admitting that this is a major issue. Something that $GOOG $AMZN $TWTR… https://t.co/uo0fprUOx7\\nThe top recipient of midterm campaign contributions from employees at $AAPL $GOOG and $IBM is Beto O\\'Rourke,… https://t.co/thvethAbsW\\n@_Lester_Davids $AAPL is hanging good so far, if this stocks breaks down as well, markets will be in trouble.\\nAAPL: 220.7468 at Oct 24, 2018 4:23 PM\\nJoin @RobinhoodApp and we\\'ll both get a stock like $AAPL, $F, or $S for free. Make sure to use my link.\\n\\nhttps://t.co/ZPGnerojq5\\nRT @jonnajarian: $AAPL Tim Cook makes blistering attack on the “data industrial complex” – TechCrunch https://t.co/fwprkqbv4B\\n@tictoc @business Well listen to that! I\\'m glad to see Apple admitting that this is a major issue. Something that… https://t.co/6dVi3dzRYX\\nWall Street Breakfast: Market Swings The New Normal? -- https://t.co/PSA9vA8qPl $SPY, $QQQ, $AAPL, $AMZN $BIIB,… https://t.co/pfC4eJZ9ks\\nRT @MattRosoff: The top recipient of midterm campaign contributions from employees at $AAPL $GOOG and $IBM is Beto O\\'Rourke, @jillianiles a…\\nApple CEO Tim Cook: Personal data collection is being \\'weaponized against us with military efficiency\\' https://t.co/WS3SP5eBo6 $AAPL\\n$AAPL action so impressive in how little it wants to give back-- when pullback is over this is the stock you want t… https://t.co/ZFyclcGngp\\nBLOCK TRADE detected in #AAPL\\nThe 11 most useful features in iOS 12 (AAPL) https://t.co/0gTAI7kKvJ\\n#Apple https://t.co/7Snf8G4ZIT\\n$WMT earnings plays working well so far , We exited half and holding Half\\n$FB $AMZN $AAPL $NFLX $NVDA $GOOGL $SPY… https://t.co/wB0Hre96Km\\nAAPL: 220.7468 at Oct 24, 2018 4:23 PM\\nOne of #Apple’s BIGGEST market advantages and moats into the future is how seriously Apple takes privacy to the ext… https://t.co/AV9ZeTkB4r\\nI need #Gartman changes direction to go short now instead of long. $ES_F $SPY $AAPL $TSLA $AMZN\\n@HCPG I just bought bearish put spreads for 11/2. Earnings 11/1. When $AAPL admits that China and $EM sales are falling - see $XLI\\n$AAPL most active call option: 26-Oct-18 225 Calls. See AAPL Option Chain https://t.co/7R24aEnaKg\\nI like $AAPL https://t.co/YyTDKXvMJ1\\n$AAPL DB LONG Too Much Size, Didnt Work 60/1000\\n- Key Reversal Time Was On My Mind\\n- Market Was Too Heavy\\n- Too Muc… https://t.co/aSIqLePfTQ\\nJoin @RobinhoodApp and we\\'ll both get a stock like $AAPL, $F, or $S for free. Make sure to use my link.\\n\\nhttps://t.co/iV1Jw6nd3O\\nTim Cook: If Data Privacy Isn\\'t Addressed, the Problem \\'Gets So Large It May Be Impossible to Fix\\' https://t.co/HiaIHKKLvj #AAPL\\nApple Releases Safari Technology Preview 68 With Bug Fixes and Feature Improvements https://t.co/Gu7gDNpWYL #AAPL\\nAAPL: 220.4884 at Oct 24, 2018 4:50 PM\\nAAPL: 220.7468 at Oct 24, 2018 4:23 PM\\nAAPL: 220.4884 at Oct 24, 2018 4:50 PM\\nAAPL: 220.4884 at Oct 24, 2018 4:50 PM\\nAAPL: 220.4884 at Oct 24, 2018 4:50 PM\\nAAPL: 220.4884 at Oct 24, 2018 4:50 PM\\nTrading around.\\nTook profit on TWTR UAA  AAPL\\n\\nThe rest are negative.  Will add too if we break yesterdays lows\\nApple Inc (AAPL) price at close, 2018-10-19, is 219.31.\\nApple Inc (AAPL) price at close, 2018-10-19, is 219.31.\\nApple Inc (AAPL) price at close, 2018-10-19, is 219.31. https://t.co/NBcTrWGCVm\\nApple Inc (AAPL) price at close, 2018-10-19, is 219.31.\\nApple Inc (AAPL) price at close, 2018-10-19, is 219.31.\\n$FB $AMZN $GOOGL $AAPL $NFLX $SPY\\nCramer bashes Trump for mocking Fed Chair Powell — \\'I wish the president would sh… https://t.co/icVPMO2p4J\\nApple Inc (AAPL) price at close, 2018-10-19, is 219.31.\\nApple Inc (AAPL) price at close, 2018-10-19, is 219.31.\\nApple Inc (AAPL) price at close, 2018-10-19, is 219.31.\\nApple Inc (AAPL) price at close, 2018-10-19, is 219.31.\\nApple Inc (AAPL) price at close, 2018-10-19, is 219.31.\\nApple Inc (AAPL) price at close, 2018-10-19, is 219.31.\\n#Options #maxpain chart for $AAPL. Free options app https://t.co/wPNDm22czd https://t.co/v0Faa1rhre\\nSafety still in effect for my system. I sold out of $aapl and $pnqi last week.  No changes to that and no additiona… https://t.co/JBZ9MXOMgB\\nCommented on $AAPL https://t.co/cI7td2stzI\\nRT @SusanLiTV: 31 years ago today #wallstreet experienced #blackmonday SINGLE WORST DAY for the #stockmarket Covered on @foxnews @teamcavut…\\nRT @spakkal: https://t.co/niin9kSi7O I think $Googl $AAPL $FB &amp; $AMZN could take 5% each along with other Major investors like T Rowe Price…\\nHow Alphabet, Amazon, Apple, and Microsoft are shaking up healthcare — and what it means for the future of the indu… https://t.co/SLiLaYrixz\\n\"How Alphabet, Amazon, Apple, and Microsoft are shaking up healthcare — and what it means for the future of the ind… https://t.co/EPaOO1H8ae\\nHow Alphabet, Amazon, Apple, and Microsoft are shaking up healthcare — and what it means for the future of the indu… https://t.co/utkUcPVdbb\\nHow Alphabet, Amazon, Apple, and Microsoft are shaking up healthcare — and what it means for the future of the indu… https://t.co/vOTL6cHFeG\\nHow Alphabet, Amazon, Apple, and Microsoft are shaking up healthcare — and what it means for the future of the indu… https://t.co/LiKA9prhGP\\nHow Alphabet, Amazon, Apple, and Microsoft are shaking up healthcare — and what it means for the future of the indu… https://t.co/HEPgv5OB8k\\n$AAPL $AMD $BAC $NFLX $TSLA $FB $AMZN $MU $GE $NVDA $PYPL $BABA $PBR $MSFT $JD $CLF $PG $C $SNAP $SQ $INTC $TWTR $T… https://t.co/rvf6feutaW\\n10 Things To Know. How Alphabet, Amazon, Apple, and Microsoft are shaking up healthcare — and what it means for the… https://t.co/dmDmjxfSR8\\nEarnings announcement* for AAPL: Nov 01, 2018. Apple Inc. is expected* to report earnings on 11/01/2018 after marke… https://t.co/OdRGQxbovh\\nHUGE DAY!!!!!\\n  AAPL numbers plus companies can start buying back their stock again!!!\\nHow many more red days before $AMZN eventually breaks to $900? Could it be this Friday (post earnings)? Then $AAPL… https://t.co/YxDDFFlVnc\\nApple CEO Tim Cook Calls on Bloomberg to Retract Supply Chain Hack Story: \\'There\\'s No Truth to This\\'… https://t.co/bYFXi31HH4\\nRT @nataliaxstarr: Join @RobinhoodApp and we\\'ll both get a stock like $AAPL, $F, or $S for free. Make sure to use my link.\\n\\nhttps://t.co/ny…\\n@Linkb8 @daringfireball Agreed. While stock has recovered, it was affected and so was my AAPL.\\nWith past performance like this, how can you not sign up for a Free 7-day trial to https://t.co/VIAISeZ0eY? Winning… https://t.co/NO1WgR2eXY\\nWhat kind of return on investment can you get with the $99 membership? I show my real life trading results here -… https://t.co/oK6Hue2caX\\nRT @SusanLiTV: 31 years ago today #wallstreet experienced #blackmonday SINGLE WORST DAY for the #stockmarket Covered on @foxnews @teamcavut…\\n$AAPL: Apple (AAPL +1.5%) masking some considerable weakness in the technology sector (XLK +0.3%) this session https://t.co/CAV2Oh5zV3\\nJoin @RobinhoodApp and we\\'ll both get a stock like $AAPL, $F, or $S for free. Make sure to use my link.\\n\\nhttps://t.co/9EtZjrL6Sx\\nApple MacBook Pro Blowout Sale: Save up to $925 on Mid 2017 13\" and 15\" models with no tax outside NY &amp; NJ… https://t.co/qnPbMx9nqL\\nACTIVE TRADERS Try one of these FREE trading guides:\\n\\nhttps://t.co/9U9rdCdUcY\\n\\n$NFLX $TSLA $AAPL $JWN $GS $FB $AMZN $GOOGL $NVDA\\nToday\\'s Health Care market mover is Varian Medical Systems\\n$VAR is up 10.04%!\\nKey words: REPORT, EXPECTING, GROWTH,… https://t.co/xYCBvzhn0Q\\n@CNBCFastMoney $AAPL &amp; $GILD for Lottery stocks? So dumb. At least @BKBrianKelly was better w/ a stock that\\'s down… https://t.co/80doSYypZk\\nRT @Briefingcom: $AAPL: Apple (AAPL +1.5%) masking some considerable weakness in the technology sector (XLK +0.3%) this session https://t.c…\\nDon’t just rely on luck to amass your 🔮INVEST!!! Join @RobinhoodApp and we\\'ll both get a stock like $AAPL, $F, or… https://t.co/DxGEnpsAEy\\nRT @Sandro_power: in my lIve stream yesterday I explained about how the $SPY was in a chopzone and how $HD was a stock telling us that the…\\nRT @Sandro_power: Live  stream tonight  a new time 9:00 pm  eastern standard time  $SPY $AAPL $AMZN $GOOGL $HD $CVX  I  give a new big pict…\\n$AAPL (AAPL) Apple stock holding at strong 217.5 support area with bullish stats https://t.co/fCnQiUFXgt\\nRT @AnthPB: Apple\\'s newest iPhones right a wrong...\\n\\nand now we get to see what\\'s left of this franchise...\\n#iPhoneXS #iPhoneXR #smartphone…\\nRT @Street_Insider: $AAPL CEO Tim Cook calls for Bloomberg to retract its Chinese Spy Chip Story - BuzzFeed https://t.co/Dba3Kno4Sl\\nTim Cook says Businessweek should retract China security story: ‘We turned the company upside down\\'… https://t.co/DEmX9y6plG\\n\"Tech With the iPhone XR, Apple has finally given me a good reason to upgrade from my iPhone 6S (AAPL) -… https://t.co/SFCzdA5xzD\\n'"
      ]
     },
     "execution_count": 7,
     "metadata": {},
     "output_type": "execute_result"
    }
   ],
   "source": [
    "apple_data.raw()"
   ]
  },
  {
   "cell_type": "code",
   "execution_count": 10,
   "metadata": {
    "collapsed": true
   },
   "outputs": [],
   "source": [
    "def get_nrc_data():\n",
    "    nrc = \"/Users/hardeepjohar/Documents/Courses/Fall2018/data/NRC-emotion-lexicon-wordlevel-alphabetized-v0.92.txt\"\n",
    "    count=0\n",
    "    emotion_dict=dict()\n",
    "    with open(nrc,'r') as f:\n",
    "        all_lines = list()\n",
    "        for line in f:\n",
    "            if count < 46:\n",
    "                count+=1\n",
    "                continue\n",
    "            line = line.strip().split('\\t')\n",
    "            if int(line[2]) == 1:\n",
    "                if emotion_dict.get(line[0]):\n",
    "                    emotion_dict[line[0]].append(line[1])\n",
    "                else:\n",
    "                    emotion_dict[line[0]] = [line[1]]\n",
    "    return emotion_dict\n",
    "\n",
    "\n",
    "def emotion_analyzer(text,emotion_dict=get_nrc_data()):\n",
    "    #Set up the result dictionary\n",
    "    emotions = {x for y in emotion_dict.values() for x in y}\n",
    "    emotion_count = dict()\n",
    "    for emotion in emotions:\n",
    "        emotion_count[emotion] = 0\n",
    "\n",
    "    #Analyze the text and normalize by total number of words\n",
    "    total_words = len(text.split())\n",
    "    for word in text.split():\n",
    "        if emotion_dict.get(word):\n",
    "            for emotion in emotion_dict.get(word):\n",
    "                emotion_count[emotion] += 1/len(text.split())\n",
    "    return emotion_count\n",
    "\n",
    "def comparative_emotion_analyzer(text_tuples,object_name=\"Restaurant\",print_output=False):\n",
    "    if print_output:\n",
    "        print(\"%-20s %1s\\t%1s %1s %1s %1s   %1s %1s %1s %1s\"%(object_name,\n",
    "                                                              \"fear\",\"trust\",\"negative\",\"positive\",\n",
    "                                                              \"joy\",\"disgust\",\"anticip\", \"sadness\",\n",
    "                                                              \"surprise\"))\n",
    "    import pandas as pd\n",
    "    df = pd.DataFrame(columns=[object_name,'Fear','Trust','Negative',\n",
    "                           'Positive','Joy','Disgust','Anticipation',\n",
    "                           'Sadness','Surprise'],)\n",
    "    df.set_index(object_name,inplace=True)\n",
    "    \n",
    "    output = df    \n",
    "    for text_tuple in text_tuples:\n",
    "        text = text_tuple[1] \n",
    "        result = emotion_analyzer(text)\n",
    "        if print_output:\n",
    "            print(\"%-20s %1.2f\\t%1.2f\\t%1.2f\\t%1.2f\\t%1.2f\\t%1.2f\\t%1.2f\\t%1.2f\\t%1.2f\"%(\n",
    "                text_tuple[1][0:20],result['fear'],result['trust'],\n",
    "                  result['negative'],result['positive'],result['joy'],result['disgust'],\n",
    "                  result['anticipation'],result['sadness'],result['surprise']))\n",
    "        df.loc[text_tuple[0]] = [result['fear'],result['trust'],\n",
    "                  result['negative'],result['positive'],result['joy'],result['disgust'],\n",
    "                  result['anticipation'],result['sadness'],result['surprise']]\n",
    "    return output\n",
    "#And test it        "
   ]
  },
  {
   "cell_type": "code",
   "execution_count": 11,
   "metadata": {},
   "outputs": [
    {
     "data": {
      "text/html": [
       "<div>\n",
       "<style scoped>\n",
       "    .dataframe tbody tr th:only-of-type {\n",
       "        vertical-align: middle;\n",
       "    }\n",
       "\n",
       "    .dataframe tbody tr th {\n",
       "        vertical-align: top;\n",
       "    }\n",
       "\n",
       "    .dataframe thead th {\n",
       "        text-align: right;\n",
       "    }\n",
       "</style>\n",
       "<table border=\"1\" class=\"dataframe\">\n",
       "  <thead>\n",
       "    <tr style=\"text-align: right;\">\n",
       "      <th></th>\n",
       "      <th>Fear</th>\n",
       "      <th>Trust</th>\n",
       "      <th>Negative</th>\n",
       "      <th>Positive</th>\n",
       "      <th>Joy</th>\n",
       "      <th>Disgust</th>\n",
       "      <th>Anticipation</th>\n",
       "      <th>Sadness</th>\n",
       "      <th>Surprise</th>\n",
       "    </tr>\n",
       "    <tr>\n",
       "      <th>Apple Tweets</th>\n",
       "      <th></th>\n",
       "      <th></th>\n",
       "      <th></th>\n",
       "      <th></th>\n",
       "      <th></th>\n",
       "      <th></th>\n",
       "      <th></th>\n",
       "      <th></th>\n",
       "      <th></th>\n",
       "    </tr>\n",
       "  </thead>\n",
       "  <tbody>\n",
       "    <tr>\n",
       "      <th>apple</th>\n",
       "      <td>0.006571</td>\n",
       "      <td>0.010155</td>\n",
       "      <td>0.011947</td>\n",
       "      <td>0.020311</td>\n",
       "      <td>0.004779</td>\n",
       "      <td>0.002389</td>\n",
       "      <td>0.008961</td>\n",
       "      <td>0.002987</td>\n",
       "      <td>0.003584</td>\n",
       "    </tr>\n",
       "  </tbody>\n",
       "</table>\n",
       "</div>"
      ],
      "text/plain": [
       "                  Fear     Trust  Negative  Positive       Joy   Disgust  \\\n",
       "Apple Tweets                                                               \n",
       "apple         0.006571  0.010155  0.011947  0.020311  0.004779  0.002389   \n",
       "\n",
       "              Anticipation   Sadness  Surprise  \n",
       "Apple Tweets                                    \n",
       "apple             0.008961  0.002987  0.003584  "
      ]
     },
     "execution_count": 11,
     "metadata": {},
     "output_type": "execute_result"
    }
   ],
   "source": [
    "comparative_emotion_analyzer([['apple',apple_data.raw()]],object_name='Apple Tweets',print_output=False)"
   ]
  },
  {
   "cell_type": "code",
   "execution_count": 12,
   "metadata": {
    "collapsed": true
   },
   "outputs": [],
   "source": [
    "def get_tweets(search_term,consumer_key=consumer_key,consumer_secret=consumer_secret,\n",
    "               access_token=access_token,access_token_secret=access_token_secret):\n",
    "    import tweepy\n",
    "    auth = tweepy.OAuthHandler(consumer_key, consumer_secret)\n",
    "    auth.set_access_token(access_token, access_token_secret)\n",
    "    api = tweepy.API(auth)\n",
    "#    search_term = 'AAPL'\n",
    "    ## fill in your search query and store your results in a variable\n",
    "    results = api.search(q = search_term, lang = \"en\", result_type = \"recent\", count = 1000)\n",
    "#    search_term = 'AAPL'\n",
    "    for i in range(len(results)):\n",
    "        fname = search_term+'.'+str(len(results)-i)\n",
    "        with open('/Users/hardeepjohar/Documents/Courses/Fall2018/data/tweets/'+fname,'w') as f:\n",
    "            f.write(results[i]._json['text']+'\\n')\n",
    "\n",
    "get_tweets(search_term=\"GOOG\")\n",
    "            "
   ]
  },
  {
   "cell_type": "code",
   "execution_count": 14,
   "metadata": {},
   "outputs": [
    {
     "data": {
      "text/html": [
       "<div>\n",
       "<style scoped>\n",
       "    .dataframe tbody tr th:only-of-type {\n",
       "        vertical-align: middle;\n",
       "    }\n",
       "\n",
       "    .dataframe tbody tr th {\n",
       "        vertical-align: top;\n",
       "    }\n",
       "\n",
       "    .dataframe thead th {\n",
       "        text-align: right;\n",
       "    }\n",
       "</style>\n",
       "<table border=\"1\" class=\"dataframe\">\n",
       "  <thead>\n",
       "    <tr style=\"text-align: right;\">\n",
       "      <th></th>\n",
       "      <th>Fear</th>\n",
       "      <th>Trust</th>\n",
       "      <th>Negative</th>\n",
       "      <th>Positive</th>\n",
       "      <th>Joy</th>\n",
       "      <th>Disgust</th>\n",
       "      <th>Anticipation</th>\n",
       "      <th>Sadness</th>\n",
       "      <th>Surprise</th>\n",
       "    </tr>\n",
       "    <tr>\n",
       "      <th>Equity</th>\n",
       "      <th></th>\n",
       "      <th></th>\n",
       "      <th></th>\n",
       "      <th></th>\n",
       "      <th></th>\n",
       "      <th></th>\n",
       "      <th></th>\n",
       "      <th></th>\n",
       "      <th></th>\n",
       "    </tr>\n",
       "  </thead>\n",
       "  <tbody>\n",
       "    <tr>\n",
       "      <th>apple</th>\n",
       "      <td>0.006571</td>\n",
       "      <td>0.010155</td>\n",
       "      <td>0.011947</td>\n",
       "      <td>0.020311</td>\n",
       "      <td>0.004779</td>\n",
       "      <td>0.002389</td>\n",
       "      <td>0.008961</td>\n",
       "      <td>0.002987</td>\n",
       "      <td>0.003584</td>\n",
       "    </tr>\n",
       "    <tr>\n",
       "      <th>google</th>\n",
       "      <td>0.007864</td>\n",
       "      <td>0.012704</td>\n",
       "      <td>0.013914</td>\n",
       "      <td>0.018754</td>\n",
       "      <td>0.008469</td>\n",
       "      <td>0.004235</td>\n",
       "      <td>0.015124</td>\n",
       "      <td>0.003025</td>\n",
       "      <td>0.003630</td>\n",
       "    </tr>\n",
       "  </tbody>\n",
       "</table>\n",
       "</div>"
      ],
      "text/plain": [
       "            Fear     Trust  Negative  Positive       Joy   Disgust  \\\n",
       "Equity                                                               \n",
       "apple   0.006571  0.010155  0.011947  0.020311  0.004779  0.002389   \n",
       "google  0.007864  0.012704  0.013914  0.018754  0.008469  0.004235   \n",
       "\n",
       "        Anticipation   Sadness  Surprise  \n",
       "Equity                                    \n",
       "apple       0.008961  0.002987  0.003584  \n",
       "google      0.015124  0.003025  0.003630  "
      ]
     },
     "execution_count": 14,
     "metadata": {},
     "output_type": "execute_result"
    }
   ],
   "source": [
    "import nltk\n",
    "from nltk.corpus import PlaintextCorpusReader\n",
    "tweets_root = \"/Users/hardeepjohar/Documents/Courses/Fall2018/data/tweets\"\n",
    "apple_files = \"AAPL.*\"\n",
    "google_files = \"GOOG.*\"\n",
    "apple_data = PlaintextCorpusReader(tweets_root,apple_files)\n",
    "google_data = PlaintextCorpusReader(tweets_root,google_files)\n",
    "comparative_emotion_analyzer([\n",
    "    ['apple',apple_data.raw()],\n",
    "    ['google',google_data.raw()]],\n",
    "    object_name='Equity',print_output=False)"
   ]
  },
  {
   "cell_type": "code",
   "execution_count": null,
   "metadata": {
    "collapsed": true
   },
   "outputs": [],
   "source": []
  }
 ],
 "metadata": {
  "kernelspec": {
   "display_name": "Python [py36]",
   "language": "python",
   "name": "Python [py36]"
  },
  "language_info": {
   "codemirror_mode": {
    "name": "ipython",
    "version": 3
   },
   "file_extension": ".py",
   "mimetype": "text/x-python",
   "name": "python",
   "nbconvert_exporter": "python",
   "pygments_lexer": "ipython3",
   "version": "3.6.1"
  }
 },
 "nbformat": 4,
 "nbformat_minor": 2
}
