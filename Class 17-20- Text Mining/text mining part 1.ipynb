{
 "cells": [
  {
   "cell_type": "markdown",
   "metadata": {},
   "source": [
    "<h1>Preparation</h1>\n",
    "<li>Download the nltk corpus (see below)\n",
    "<li>Download data.zip from canvas and unzip it in a local folder in your directory\n",
    "<li>Copy the files: data/2013-Obama.txt and data/2017-Trump.txt to:\n",
    "<ul>\n",
    "<li>~/nltk_data/corpora/inaugural/ (~ indicates your home directory)"
   ]
  },
  {
   "cell_type": "code",
   "execution_count": 3,
   "metadata": {},
   "outputs": [
    {
     "name": "stdout",
     "output_type": "stream",
     "text": [
      "Requirement already satisfied: nltk in /opt/anaconda3/lib/python3.7/site-packages (3.6.5)\n",
      "Requirement already satisfied: click in /opt/anaconda3/lib/python3.7/site-packages (from nltk) (8.0.3)\n",
      "Requirement already satisfied: joblib in /opt/anaconda3/lib/python3.7/site-packages (from nltk) (1.1.0)\n",
      "Requirement already satisfied: regex>=2021.8.3 in /opt/anaconda3/lib/python3.7/site-packages (from nltk) (2021.11.10)\n",
      "Requirement already satisfied: tqdm in /opt/anaconda3/lib/python3.7/site-packages (from nltk) (4.62.3)\n",
      "Requirement already satisfied: importlib-metadata in /opt/anaconda3/lib/python3.7/site-packages (from click->nltk) (4.8.1)\n",
      "Requirement already satisfied: typing-extensions>=3.6.4 in /opt/anaconda3/lib/python3.7/site-packages (from importlib-metadata->click->nltk) (3.10.0.2)\n",
      "Requirement already satisfied: zipp>=0.5 in /opt/anaconda3/lib/python3.7/site-packages (from importlib-metadata->click->nltk) (3.6.0)\n"
     ]
    }
   ],
   "source": [
    "# !conda install nltk --yes\n",
    "# !pip install nltk"
   ]
  },
  {
   "cell_type": "code",
   "execution_count": 1,
   "metadata": {},
   "outputs": [],
   "source": [
    "#YOU NEED TO RUN THIS ONLY ONCE!\n",
    "import nltk\n",
    "# nltk.download()"
   ]
  },
  {
   "cell_type": "markdown",
   "metadata": {},
   "source": [
    "<h1>Working with text!</h1>\n"
   ]
  },
  {
   "cell_type": "markdown",
   "metadata": {},
   "source": [
    "<h2>nltk: Python's natural language toolkit</h2>\n"
   ]
  },
  {
   "cell_type": "markdown",
   "metadata": {},
   "source": [
    "<h3>ntlk documentation link:</h3> http://www.nltk.org/api/nltk.html\n",
    "<h3>Commands cheat sheet</h3> https://blogs.princeton.edu/etc/files/2014/03/Text-Analysis-with-NLTK-Cheatsheet.pdf\n",
    "<h3>nltk book</h3>http://www.nltk.org/book/"
   ]
  },
  {
   "cell_type": "markdown",
   "metadata": {},
   "source": [
    "<h2>Types of analysis</h2>\n",
    "<li>Sentiment analysis: Deciding whether a document (or concept) is positive or negative\n",
    "<li>Entity analysis: Identifying entities (Named entities, Parts of speech) and properties of these entities\n",
    "<li>Topic analysis: Deciding what the major topics associated with a piece of text\n",
    "<li>Text summarization: Summarizing a document (Cliff notes version!)"
   ]
  },
  {
   "cell_type": "code",
   "execution_count": null,
   "metadata": {
    "tags": []
   },
   "outputs": [],
   "source": []
  },
  {
   "cell_type": "markdown",
   "metadata": {},
   "source": [
    "<h2>Sentiment Analysis</h2>\n",
    "Identify entities and emotions in a sentence and use these to determine if the entity is being viewed positively or negatively"
   ]
  },
  {
   "cell_type": "markdown",
   "metadata": {},
   "source": [
    "<h3>Easy examples</h3>\n",
    "<li>I had an <b style=\"color:green\">excellent</b> souffle at the restaurant Cavity Maker</li>\n",
    "<li>Excellent is a positive word for both the souffle as well as for the restaurant</li>"
   ]
  },
  {
   "cell_type": "markdown",
   "metadata": {},
   "source": [
    "<h3>Not so easy examples</h3>\n",
    "<h4>Often, looking at words alone is not enough to figure out the sentiment</h4>\n",
    "<li><i>The Girl on the Train is an <span style=\"color:green\">excellent</span> book for a ‘stuck at home’ snow day</i></li> This one is easy since it includes an explicit positive opinion using a positive word\n",
    "<li><i>The Girl on the Train is an <span style=\"color:green\">excellent</span> book for using as a liner for your cat’s litter box</i></li> Not so simple! The positive word \"excellent\" is used with a negative connotation. \n",
    "<li><i>The Girl on the Train is <span style=\"color:green\">better</span> than Gone Girl</i></li> The positive word is used as a comparator. Whether the writer likes The Girl on the Train or not depends on what he or she thinks of Gone Girl"
   ]
  },
  {
   "cell_type": "markdown",
   "metadata": {},
   "source": [
    "<h4>Bottom line</h4>\n",
    "Sentiment analysis is generally a starting point in analyzing a text and is then coupled with other techniques (e.g., topic analysis)"
   ]
  },
  {
   "cell_type": "markdown",
   "metadata": {},
   "source": [
    "<h2>Sentiment analysis is usually done using a corpus of positive and negative words</h2>\n",
    "<li>Some sources compile lists of positive and negative words\n",
    "<li>Others include the polarity - the degree of positivity or negativity - of each word"
   ]
  },
  {
   "cell_type": "markdown",
   "metadata": {},
   "source": [
    "<h2>Sources of sentiment coded words</h2>\n",
    "<ol>\n",
    "<li>Hu and Liu's sentiment analysis lexicon: words coded as either positive or negative</li>\n",
    "<ul>\n",
    "<li>http://ptrckprry.com/course/ssd/data/positive-words.txt\n",
    "<li>http://ptrckprry.com/course/ssd/data/negative-words.txt\n",
    "</ul>\n",
    "<li>NRC Emotion Lexicon: words coded into emotional categories (many languages)</li>\n",
    "<ul>\n",
    "<li>http://saifmohammad.com/WebPages/NRC-Emotion-Lexicon.htm</li>\n",
    "</ul>\n",
    "<li>SentiWordNet: Lists of words weighted by positive or negative sentiment. Includes guidance on how to use the words</li>\n",
    "<ul>\n",
    "<li>http://sentiwordnet.isti.cnr.it/</li>\n",
    "</ul>\n",
    "<li>Vadar Sentiment tool: 7800 words with positive or negative polarity</li>\n",
    "<ul>\n",
    "<li>Included with python nltk</li>\n",
    "</ul>\n",
    "</ol>"
   ]
  },
  {
   "cell_type": "markdown",
   "metadata": {},
   "source": [
    "<h2>Our examples</h2>\n",
    "<li>Compiled set of reviews of neighborhood restaurants\n",
    "<li>Presidential inaugural addresses (from Washington to Trump)\n",
    "<li>Some data from yelp using the yelp API"
   ]
  },
  {
   "cell_type": "markdown",
   "metadata": {},
   "source": [
    "<h3>Simple sentiment analysis</h3>\n",
    "Compute the proportion of positive and negative words in a text"
   ]
  },
  {
   "cell_type": "code",
   "execution_count": 2,
   "metadata": {},
   "outputs": [],
   "source": [
    "def get_pos_neg_words():\n",
    "    def get_words(url):\n",
    "        import requests\n",
    "        words = requests.get(url).content.decode('latin-1')\n",
    "        word_list = words.split('\\n')\n",
    "        index = 0\n",
    "        while index < len(word_list):\n",
    "            word = word_list[index]\n",
    "            if ';' in word or not word:\n",
    "                word_list.pop(index)\n",
    "            else:\n",
    "                index+=1\n",
    "        return word_list\n",
    "\n",
    "    #Get lists of positive and negative words\n",
    "    p_url = 'http://ptrckprry.com/course/ssd/data/positive-words.txt'\n",
    "    n_url = 'http://ptrckprry.com/course/ssd/data/negative-words.txt'\n",
    "    positive_words = get_words(p_url)\n",
    "    negative_words = get_words(n_url)\n",
    "    return positive_words,negative_words\n",
    "\n",
    "positive_words,negative_words = get_pos_neg_words()"
   ]
  },
  {
   "cell_type": "markdown",
   "metadata": {},
   "source": [
    "<h4>Read the text being analyzed and count the proportion of positive and negative words in the text</h4>\n",
    "<li>We'll look at the reviews of two restaurants in the Morningside Heights neighborhood"
   ]
  },
  {
   "cell_type": "code",
   "execution_count": 2,
   "metadata": {},
   "outputs": [],
   "source": [
    "with open('/home/uday/Documents/Columbia_University/DataAnalytics-Fall2019/Week 6: text mining/data/community.txt','r') as f:\n",
    "    community = f.read()\n",
    "with open('/home/uday/Documents/Columbia_University/DataAnalytics-Fall2019/Week 6: text mining/data/le_monde.txt','r') as f:\n",
    "    le_monde = f.read()\n"
   ]
  },
  {
   "cell_type": "markdown",
   "metadata": {},
   "source": [
    "<h4>Compute sentiment by looking at the proportion of positive and negative words in the text</h4>"
   ]
  },
  {
   "cell_type": "code",
   "execution_count": 3,
   "metadata": {},
   "outputs": [
    {
     "name": "stdout",
     "output_type": "stream",
     "text": [
      "community 5.09%\t 1.12%\t 3.97%\n",
      "le monde  5.33%\t 1.49%\t 3.85%\n"
     ]
    }
   ],
   "source": [
    "from nltk import word_tokenize\n",
    "cpos = cneg = lpos = lneg = 0\n",
    "for word in word_tokenize(community):\n",
    "    if word in positive_words:\n",
    "        cpos+=1\n",
    "    if word in negative_words:\n",
    "        cneg+=1\n",
    "for word in word_tokenize(le_monde):\n",
    "    if word in positive_words:\n",
    "        lpos+=1\n",
    "    if word in negative_words:\n",
    "        lneg+=1\n",
    "print(\"community {0:1.2f}%\\t {1:1.2f}%\\t {2:1.2f}%\".format(cpos/len(word_tokenize(community))*100,\n",
    "                                                        cneg/len(word_tokenize(community))*100,\n",
    "                                                        (cpos-cneg)/len(word_tokenize(community))*100))\n",
    "print(\"le monde  {0:1.2f}%\\t {1:1.2f}%\\t {2:1.2f}%\".format(lpos/len(word_tokenize(le_monde))*100,\n",
    "                                                        lneg/len(word_tokenize(le_monde))*100,\n",
    "                                                        (lpos-lneg)/len(word_tokenize(le_monde))*100))\n"
   ]
  },
  {
   "cell_type": "markdown",
   "metadata": {},
   "source": [
    "<h2>Let's functionalize this</h2>"
   ]
  },
  {
   "cell_type": "code",
   "execution_count": 4,
   "metadata": {},
   "outputs": [
    {
     "data": {
      "text/plain": [
       "[('community', 0.0508646998982706, 0.011190233977619531),\n",
       " ('le_monde', 0.053342336259284265, 0.014854827819041188)]"
      ]
     },
     "execution_count": 4,
     "metadata": {},
     "output_type": "execute_result"
    }
   ],
   "source": [
    "def do_pos_neg_sentiment_analysis(text_list,debug=False):\n",
    "    positive_words,negative_words = get_pos_neg_words()\n",
    "    from nltk import word_tokenize\n",
    "    results = list()\n",
    "    for text in text_list:\n",
    "        cpos = cneg = lpos = lneg = 0\n",
    "        for word in word_tokenize(text[1]):\n",
    "            if word in positive_words:\n",
    "                if debug:\n",
    "                    print(\"Positive\",word)\n",
    "                cpos+=1\n",
    "            if word in negative_words:\n",
    "                if debug:\n",
    "                    print(\"Negative\",word)\n",
    "                cneg+=1\n",
    "        results.append((text[0],cpos/len(word_tokenize(text[1])),cneg/len(word_tokenize(text[1]))))\n",
    "    return results\n",
    "\n",
    "do_pos_neg_sentiment_analysis([('community',community),('le_monde',le_monde)])"
   ]
  },
  {
   "cell_type": "markdown",
   "metadata": {},
   "source": [
    "<h2>Simple sentiment analysis using NRC data</h2>\n",
    "<li>NRC data codifies words with emotions</li>\n",
    "<li>14,182 words are coded into 2 sentiments and 8 emotions</li>\n"
   ]
  },
  {
   "cell_type": "markdown",
   "metadata": {},
   "source": [
    "<h4>For example, the word abandonment is associated with anger, fear, sadness and has a negative sentiment</h4>\n",
    "<li>abandoned\tanger\t1\n",
    "<li>abandoned\tanticipation\t0\n",
    "<li>abandoned\tdisgust\t0\n",
    "<li>abandoned\tfear\t1\n",
    "<li>abandoned\tjoy\t0\n",
    "<li>abandoned\tnegative\t1\n",
    "<li>abandoned\tpositive\t0\n",
    "<li>abandoned\tsadness\t1\n",
    "<li>abandoned\tsurprise\t0\n",
    "<li>abandoned\ttrust\t0"
   ]
  },
  {
   "cell_type": "markdown",
   "metadata": {},
   "source": [
    "<h4>Read the NRC sentiment data</h4>"
   ]
  },
  {
   "cell_type": "code",
   "execution_count": 5,
   "metadata": {},
   "outputs": [],
   "source": [
    "nrc = \"/home/uday/Documents/Columbia_University/DataAnalytics-Fall2019/Week 6: text mining/data/NRC-emotion-lexicon-wordlevel-alphabetized-v0.92.txt\"\n",
    "count=0\n",
    "emotion_dict=dict()\n",
    "with open(nrc,'r') as f:\n",
    "    all_lines = list()\n",
    "    for line in f:\n",
    "        if count < 46:\n",
    "            count+=1\n",
    "            continue\n",
    "        line = line.strip().split('\\t')\n",
    "        if int(line[2]) == 1:\n",
    "            if emotion_dict.get(line[0]):\n",
    "                emotion_dict[line[0]].append(line[1])\n",
    "            else:\n",
    "                emotion_dict[line[0]] = [line[1]]\n",
    "        "
   ]
  },
  {
   "cell_type": "markdown",
   "metadata": {},
   "source": [
    "<h4>Functionalize this</h4>"
   ]
  },
  {
   "cell_type": "code",
   "execution_count": 4,
   "metadata": {},
   "outputs": [],
   "source": [
    "def get_nrc_data():\n",
    "    nrc = \"/home/uday/Documents/Columbia_University/DataAnalytics-Fall2019/Week 6: text mining/data/NRC-emotion-lexicon-wordlevel-alphabetized-v0.92.txt\"\n",
    "    count=0\n",
    "    emotion_dict=dict()\n",
    "    with open(nrc,'r') as f:\n",
    "        all_lines = list()\n",
    "        for line in f:\n",
    "            if count < 46:\n",
    "                count+=1\n",
    "                continue\n",
    "            line = line.strip().split('\\t')\n",
    "            if int(line[2]) == 1:\n",
    "                if emotion_dict.get(line[0]):\n",
    "                    emotion_dict[line[0]].append(line[1])\n",
    "                else:\n",
    "                    emotion_dict[line[0]] = [line[1]]\n",
    "    return emotion_dict"
   ]
  },
  {
   "cell_type": "code",
   "execution_count": 7,
   "metadata": {},
   "outputs": [
    {
     "data": {
      "text/plain": [
       "['anger', 'fear', 'negative', 'sadness']"
      ]
     },
     "execution_count": 7,
     "metadata": {},
     "output_type": "execute_result"
    }
   ],
   "source": [
    "emotion_dict['abandoned']"
   ]
  },
  {
   "cell_type": "code",
   "execution_count": 6,
   "metadata": {},
   "outputs": [
    {
     "data": {
      "text/plain": [
       "['anger', 'fear', 'negative', 'sadness']"
      ]
     },
     "execution_count": 6,
     "metadata": {},
     "output_type": "execute_result"
    }
   ],
   "source": [
    "emotion_dict = get_nrc_data()\n",
    "emotion_dict['abandoned']"
   ]
  },
  {
   "cell_type": "markdown",
   "metadata": {},
   "source": [
    "<h1>Yelp API</h1>\n",
    "<li>https://www.yelp.com/developers/documentation/v3\n",
    "<li>log into yelp (top right hand corner of the page)\n",
    "<li>Click <span style=\"color:blue\">Create App</span> on the left hand menu bar\n",
    "<li>Enter app info (leave optional stuff blank)\n",
    "<li>Copy the client id and client secret to a secure place (this notebook should do the trick or use a text file!)"
   ]
  },
  {
   "cell_type": "code",
   "execution_count": null,
   "metadata": {
    "collapsed": true,
    "jupyter": {
     "outputs_hidden": true
    }
   },
   "outputs": [],
   "source": [
    "CLIENT_ID = \"\"\n",
    "API_KEY = \"\""
   ]
  },
  {
   "cell_type": "code",
   "execution_count": 13,
   "metadata": {},
   "outputs": [],
   "source": [
    "with open('/home/uday/Documents/Columbia_University/API_Keys/yelp_credentials.txt','r') as f:\n",
    "    count = 0\n",
    "    for line in f:\n",
    "        if count == 0:\n",
    "            CLIENT_ID = line.strip()\n",
    "        if count == 1:\n",
    "            API_KEY = line.strip()\n",
    "        count+=1\n"
   ]
  },
  {
   "cell_type": "code",
   "execution_count": null,
   "metadata": {},
   "outputs": [],
   "source": [
    "print(CLIENT_ID,API_KEY)"
   ]
  },
  {
   "cell_type": "code",
   "execution_count": 14,
   "metadata": {},
   "outputs": [],
   "source": [
    "# API constants, you shouldn't have to change these.\n",
    "API_HOST = 'https://api.yelp.com' #The API url header\n",
    "SEARCH_PATH = '/v3/businesses/search' #The path for an API request to find businesses\n",
    "BUSINESS_PATH = '/v3/businesses/'  # The path to get data for a single business"
   ]
  },
  {
   "cell_type": "markdown",
   "metadata": {},
   "source": [
    "<h3>Now we can get reviews</h3>\n",
    "<li>get_reviews(location,number=15) returns the reviews of \"number\" (default=15) restaurants in the vicinity of \"location\"\n",
    "<li>First, we'll write a function that gets  restaurants in the vicinity of location\n",
    "\n"
   ]
  },
  {
   "cell_type": "code",
   "execution_count": 20,
   "metadata": {},
   "outputs": [],
   "source": [
    "def get_restaurants(api_key,location,number=15):\n",
    "    import requests\n",
    "    \n",
    "    #First we get the access token\n",
    "    #Set up the search data dictionary\n",
    "    search_data = {\n",
    "    'term': \"restaurant\",\n",
    "    'location': location.replace(' ', '+'),\n",
    "    'limit': number\n",
    "    }\n",
    "    url = API_HOST + SEARCH_PATH\n",
    "    headers = {\n",
    "        'Authorization': 'Bearer %s' % api_key,\n",
    "    }\n",
    "    response = requests.request('GET', url, headers=headers, params=search_data).json()\n",
    "    businesses = response.get('businesses')\n",
    "    return businesses"
   ]
  },
  {
   "cell_type": "code",
   "execution_count": 21,
   "metadata": {},
   "outputs": [
    {
     "data": {
      "text/plain": [
       "[{'alias': 'the-tang-upper-west-side-new-york',\n",
       "  'categories': [{'alias': 'chinese', 'title': 'Chinese'},\n",
       "   {'alias': 'noodles', 'title': 'Noodles'},\n",
       "   {'alias': 'tapasmallplates', 'title': 'Tapas/Small Plates'}],\n",
       "  'coordinates': {'latitude': 40.80006, 'longitude': -73.96639},\n",
       "  'display_phone': '(646) 596-7970',\n",
       "  'distance': 903.4027170159933,\n",
       "  'id': 'TzhAlljC_843JO7UDDUIaQ',\n",
       "  'image_url': 'https://s3-media3.fl.yelpcdn.com/bphoto/uNjNuc-pjoRbYNpompLGWw/o.jpg',\n",
       "  'is_closed': False,\n",
       "  'location': {'address1': '920 Amsterdam Ave',\n",
       "   'address2': None,\n",
       "   'address3': '',\n",
       "   'city': 'New York',\n",
       "   'country': 'US',\n",
       "   'display_address': ['920 Amsterdam Ave', 'New York, NY 10025'],\n",
       "   'state': 'NY',\n",
       "   'zip_code': '10025'},\n",
       "  'name': 'The Tang - Upper West Side',\n",
       "  'phone': '+16465967970',\n",
       "  'price': '$$',\n",
       "  'rating': 4.5,\n",
       "  'review_count': 131,\n",
       "  'transactions': ['restaurant_reservation', 'pickup', 'delivery'],\n",
       "  'url': 'https://www.yelp.com/biz/the-tang-upper-west-side-new-york?adjust_creative=Ryru7ki-5L2Vhr57Wbyopw&utm_campaign=yelp_api_v3&utm_medium=api_v3_business_search&utm_source=Ryru7ki-5L2Vhr57Wbyopw'},\n",
       " {'alias': 'flat-top-new-york',\n",
       "  'categories': [{'alias': 'newamerican', 'title': 'American (New)'},\n",
       "   {'alias': 'cafes', 'title': 'Cafes'},\n",
       "   {'alias': 'breakfast_brunch', 'title': 'Breakfast & Brunch'}],\n",
       "  'coordinates': {'latitude': 40.810041, 'longitude': -73.958693},\n",
       "  'display_phone': '(646) 820-7735',\n",
       "  'distance': 424.3853457755761,\n",
       "  'id': 'E2mNgb479B3BCfwi2G_KdQ',\n",
       "  'image_url': 'https://s3-media3.fl.yelpcdn.com/bphoto/qRpEZAqP55mDqLzeVUxUKw/o.jpg',\n",
       "  'is_closed': False,\n",
       "  'location': {'address1': '1241 Amsterdam Ave',\n",
       "   'address2': '',\n",
       "   'address3': '',\n",
       "   'city': 'New York',\n",
       "   'country': 'US',\n",
       "   'display_address': ['1241 Amsterdam Ave', 'New York, NY 10027'],\n",
       "   'state': 'NY',\n",
       "   'zip_code': '10027'},\n",
       "  'name': 'Flat Top',\n",
       "  'phone': '+16468207735',\n",
       "  'price': '$$',\n",
       "  'rating': 4.0,\n",
       "  'review_count': 443,\n",
       "  'transactions': ['restaurant_reservation', 'delivery', 'pickup'],\n",
       "  'url': 'https://www.yelp.com/biz/flat-top-new-york?adjust_creative=Ryru7ki-5L2Vhr57Wbyopw&utm_campaign=yelp_api_v3&utm_medium=api_v3_business_search&utm_source=Ryru7ki-5L2Vhr57Wbyopw'},\n",
       " {'alias': 'jin-ramen-west-harlem-new-york',\n",
       "  'categories': [{'alias': 'ramen', 'title': 'Ramen'}],\n",
       "  'coordinates': {'latitude': 40.8154774, 'longitude': -73.9587672},\n",
       "  'display_phone': '(646) 559-2862',\n",
       "  'distance': 934.7251103137451,\n",
       "  'id': 'Pfjb9Rn5Th7R-pLXVARwlA',\n",
       "  'image_url': 'https://s3-media2.fl.yelpcdn.com/bphoto/6gZdziyVJ2P8kiqmDkWjng/o.jpg',\n",
       "  'is_closed': False,\n",
       "  'location': {'address1': '3183 Broadway',\n",
       "   'address2': '',\n",
       "   'address3': '',\n",
       "   'city': 'New York',\n",
       "   'country': 'US',\n",
       "   'display_address': ['3183 Broadway', 'New York, NY 10027'],\n",
       "   'state': 'NY',\n",
       "   'zip_code': '10027'},\n",
       "  'name': 'Jin Ramen - West Harlem',\n",
       "  'phone': '+16465592862',\n",
       "  'price': '$$',\n",
       "  'rating': 4.0,\n",
       "  'review_count': 1030,\n",
       "  'transactions': ['restaurant_reservation', 'delivery', 'pickup'],\n",
       "  'url': 'https://www.yelp.com/biz/jin-ramen-west-harlem-new-york?adjust_creative=Ryru7ki-5L2Vhr57Wbyopw&utm_campaign=yelp_api_v3&utm_medium=api_v3_business_search&utm_source=Ryru7ki-5L2Vhr57Wbyopw'},\n",
       " {'alias': 'nobody-told-me-new-york',\n",
       "  'categories': [{'alias': 'cocktailbars', 'title': 'Cocktail Bars'},\n",
       "   {'alias': 'newamerican', 'title': 'American (New)'}],\n",
       "  'coordinates': {'latitude': 40.80076, 'longitude': -73.96507},\n",
       "  'display_phone': '(347) 762-0126',\n",
       "  'distance': 784.3051407692627,\n",
       "  'id': 'xEF3Kvd0yw74pjnlFB2Sgg',\n",
       "  'image_url': 'https://s3-media3.fl.yelpcdn.com/bphoto/Pn2ZXj2Tj0E1RmjmIuMjHg/o.jpg',\n",
       "  'is_closed': False,\n",
       "  'location': {'address1': '951 Amsterdam Ave',\n",
       "   'address2': None,\n",
       "   'address3': None,\n",
       "   'city': 'New York',\n",
       "   'country': 'US',\n",
       "   'display_address': ['951 Amsterdam Ave', 'New York, NY 10025'],\n",
       "   'state': 'NY',\n",
       "   'zip_code': '10025'},\n",
       "  'name': 'Nobody Told Me',\n",
       "  'phone': '+13477620126',\n",
       "  'price': '$$',\n",
       "  'rating': 4.5,\n",
       "  'review_count': 49,\n",
       "  'transactions': ['delivery', 'pickup'],\n",
       "  'url': 'https://www.yelp.com/biz/nobody-told-me-new-york?adjust_creative=Ryru7ki-5L2Vhr57Wbyopw&utm_campaign=yelp_api_v3&utm_medium=api_v3_business_search&utm_source=Ryru7ki-5L2Vhr57Wbyopw'},\n",
       " {'alias': 'the-calaveras-new-york',\n",
       "  'categories': [{'alias': 'bars', 'title': 'Bars'},\n",
       "   {'alias': 'mexican', 'title': 'Mexican'},\n",
       "   {'alias': 'tapasmallplates', 'title': 'Tapas/Small Plates'}],\n",
       "  'coordinates': {'latitude': 40.79956, 'longitude': -73.96241},\n",
       "  'display_phone': '(646) 484-6533',\n",
       "  'distance': 891.0303788171506,\n",
       "  'id': 'xrKa2SpgWzPEEbji3Iw2DQ',\n",
       "  'image_url': 'https://s3-media3.fl.yelpcdn.com/bphoto/u1T_ydEtCiKCGyvKVzR1-w/o.jpg',\n",
       "  'is_closed': False,\n",
       "  'location': {'address1': '949 Columbus Ave',\n",
       "   'address2': None,\n",
       "   'address3': '',\n",
       "   'city': 'New York',\n",
       "   'country': 'US',\n",
       "   'display_address': ['949 Columbus Ave', 'New York, NY 10025'],\n",
       "   'state': 'NY',\n",
       "   'zip_code': '10025'},\n",
       "  'name': 'The Calaveras',\n",
       "  'phone': '+16464846533',\n",
       "  'price': '$$',\n",
       "  'rating': 4.5,\n",
       "  'review_count': 93,\n",
       "  'transactions': ['restaurant_reservation', 'delivery', 'pickup'],\n",
       "  'url': 'https://www.yelp.com/biz/the-calaveras-new-york?adjust_creative=Ryru7ki-5L2Vhr57Wbyopw&utm_campaign=yelp_api_v3&utm_medium=api_v3_business_search&utm_source=Ryru7ki-5L2Vhr57Wbyopw'},\n",
       " {'alias': 'lolos-seafood-shack-new-york',\n",
       "  'categories': [{'alias': 'seafood', 'title': 'Seafood'},\n",
       "   {'alias': 'bars', 'title': 'Bars'}],\n",
       "  'coordinates': {'latitude': 40.80486, 'longitude': -73.95567},\n",
       "  'display_phone': '(646) 649-3356',\n",
       "  'distance': 651.2070570437573,\n",
       "  'id': 'XOnspIaW6mYVmrvgqOaYSQ',\n",
       "  'image_url': 'https://s3-media3.fl.yelpcdn.com/bphoto/OeueWGrQ0GELrISxoULReg/o.jpg',\n",
       "  'is_closed': False,\n",
       "  'location': {'address1': '303 W 116th St',\n",
       "   'address2': '',\n",
       "   'address3': '',\n",
       "   'city': 'New York',\n",
       "   'country': 'US',\n",
       "   'display_address': ['303 W 116th St', 'New York, NY 10026'],\n",
       "   'state': 'NY',\n",
       "   'zip_code': '10026'},\n",
       "  'name': \"Lolo's Seafood Shack\",\n",
       "  'phone': '+16466493356',\n",
       "  'price': '$$',\n",
       "  'rating': 4.0,\n",
       "  'review_count': 670,\n",
       "  'transactions': ['restaurant_reservation', 'delivery', 'pickup'],\n",
       "  'url': 'https://www.yelp.com/biz/lolos-seafood-shack-new-york?adjust_creative=Ryru7ki-5L2Vhr57Wbyopw&utm_campaign=yelp_api_v3&utm_medium=api_v3_business_search&utm_source=Ryru7ki-5L2Vhr57Wbyopw'},\n",
       " {'alias': 'thai-market-new-york',\n",
       "  'categories': [{'alias': 'thai', 'title': 'Thai'},\n",
       "   {'alias': 'noodles', 'title': 'Noodles'},\n",
       "   {'alias': 'soup', 'title': 'Soup'}],\n",
       "  'coordinates': {'latitude': 40.80132, 'longitude': -73.96529},\n",
       "  'display_phone': '(212) 280-4575',\n",
       "  'distance': 729.8529299525782,\n",
       "  'id': 'p2zm0HnXZkI2yCAuYLb45g',\n",
       "  'image_url': 'https://s3-media2.fl.yelpcdn.com/bphoto/jPGJaYsRiU_se_UJzphxkQ/o.jpg',\n",
       "  'is_closed': False,\n",
       "  'location': {'address1': '960 Amsterdam Ave',\n",
       "   'address2': '',\n",
       "   'address3': '',\n",
       "   'city': 'New York',\n",
       "   'country': 'US',\n",
       "   'display_address': ['960 Amsterdam Ave', 'New York, NY 10025'],\n",
       "   'state': 'NY',\n",
       "   'zip_code': '10025'},\n",
       "  'name': 'Thai Market',\n",
       "  'phone': '+12122804575',\n",
       "  'price': '$$',\n",
       "  'rating': 4.0,\n",
       "  'review_count': 980,\n",
       "  'transactions': [],\n",
       "  'url': 'https://www.yelp.com/biz/thai-market-new-york?adjust_creative=Ryru7ki-5L2Vhr57Wbyopw&utm_campaign=yelp_api_v3&utm_medium=api_v3_business_search&utm_source=Ryru7ki-5L2Vhr57Wbyopw'},\n",
       " {'alias': 'blvd-bistro-new-york',\n",
       "  'categories': [{'alias': 'tradamerican', 'title': 'American (Traditional)'},\n",
       "   {'alias': 'soulfood', 'title': 'Soul Food'},\n",
       "   {'alias': 'breakfast_brunch', 'title': 'Breakfast & Brunch'}],\n",
       "  'coordinates': {'latitude': 40.8043626, 'longitude': -73.9557515},\n",
       "  'display_phone': '(212) 678-6200',\n",
       "  'distance': 673.2372631403317,\n",
       "  'id': 'Z-hDHjP4Eza6BA4G97tzVA',\n",
       "  'image_url': 'https://s3-media1.fl.yelpcdn.com/bphoto/lML0a7MlD13TSsKjD-V_pQ/o.jpg',\n",
       "  'is_closed': False,\n",
       "  'location': {'address1': '2149 Frederick Douglass Blvd',\n",
       "   'address2': None,\n",
       "   'address3': '',\n",
       "   'city': 'New York',\n",
       "   'country': 'US',\n",
       "   'display_address': ['2149 Frederick Douglass Blvd', 'New York, NY 10026'],\n",
       "   'state': 'NY',\n",
       "   'zip_code': '10026'},\n",
       "  'name': 'BLVD Bistro',\n",
       "  'phone': '+12126786200',\n",
       "  'price': '$$',\n",
       "  'rating': 4.0,\n",
       "  'review_count': 764,\n",
       "  'transactions': ['restaurant_reservation', 'pickup', 'delivery'],\n",
       "  'url': 'https://www.yelp.com/biz/blvd-bistro-new-york?adjust_creative=Ryru7ki-5L2Vhr57Wbyopw&utm_campaign=yelp_api_v3&utm_medium=api_v3_business_search&utm_source=Ryru7ki-5L2Vhr57Wbyopw'},\n",
       " {'alias': 'melbas-new-york',\n",
       "  'categories': [{'alias': 'southern', 'title': 'Southern'},\n",
       "   {'alias': 'tradamerican', 'title': 'American (Traditional)'},\n",
       "   {'alias': 'soulfood', 'title': 'Soul Food'}],\n",
       "  'coordinates': {'latitude': 40.8031468838453,\n",
       "   'longitude': -73.9565069228411},\n",
       "  'display_phone': '(212) 864-7777',\n",
       "  'distance': 706.6182069895519,\n",
       "  'id': '4rWJGwb3rjDoZHA0AECa5A',\n",
       "  'image_url': 'https://s3-media2.fl.yelpcdn.com/bphoto/S1p4jjRZQun_sCSTm9mPpg/o.jpg',\n",
       "  'is_closed': False,\n",
       "  'location': {'address1': '300 W 114th St',\n",
       "   'address2': '',\n",
       "   'address3': '',\n",
       "   'city': 'New York',\n",
       "   'country': 'US',\n",
       "   'display_address': ['300 W 114th St', 'New York, NY 10026'],\n",
       "   'state': 'NY',\n",
       "   'zip_code': '10026'},\n",
       "  'name': \"Melba's\",\n",
       "  'phone': '+12128647777',\n",
       "  'price': '$$',\n",
       "  'rating': 4.0,\n",
       "  'review_count': 997,\n",
       "  'transactions': ['restaurant_reservation', 'delivery', 'pickup'],\n",
       "  'url': 'https://www.yelp.com/biz/melbas-new-york?adjust_creative=Ryru7ki-5L2Vhr57Wbyopw&utm_campaign=yelp_api_v3&utm_medium=api_v3_business_search&utm_source=Ryru7ki-5L2Vhr57Wbyopw'},\n",
       " {'alias': 'wu-and-nussbaum-new-york',\n",
       "  'categories': [{'alias': 'chinese', 'title': 'Chinese'},\n",
       "   {'alias': 'noodles', 'title': 'Noodles'},\n",
       "   {'alias': 'bagels', 'title': 'Bagels'}],\n",
       "  'coordinates': {'latitude': 40.8061199195632,\n",
       "   'longitude': -73.9657058939338},\n",
       "  'display_phone': '(917) 722-3416',\n",
       "  'distance': 311.74030652488966,\n",
       "  'id': 'hDT_KAXQgHpchcwG5_gv0Q',\n",
       "  'image_url': 'https://s3-media3.fl.yelpcdn.com/bphoto/fRXJIy0z3yiFYspCeVgrIw/o.jpg',\n",
       "  'is_closed': False,\n",
       "  'location': {'address1': '2897 Broadway',\n",
       "   'address2': '',\n",
       "   'address3': None,\n",
       "   'city': 'New York',\n",
       "   'country': 'US',\n",
       "   'display_address': ['2897 Broadway', 'New York, NY 10025'],\n",
       "   'state': 'NY',\n",
       "   'zip_code': '10025'},\n",
       "  'name': 'Wu & Nussbaum',\n",
       "  'phone': '+19177223416',\n",
       "  'rating': 3.5,\n",
       "  'review_count': 24,\n",
       "  'transactions': ['delivery', 'pickup'],\n",
       "  'url': 'https://www.yelp.com/biz/wu-and-nussbaum-new-york?adjust_creative=Ryru7ki-5L2Vhr57Wbyopw&utm_campaign=yelp_api_v3&utm_medium=api_v3_business_search&utm_source=Ryru7ki-5L2Vhr57Wbyopw'},\n",
       " {'alias': 'saiguette-new-york',\n",
       "  'categories': [{'alias': 'vietnamese', 'title': 'Vietnamese'}],\n",
       "  'coordinates': {'latitude': 40.79902, 'longitude': -73.96281},\n",
       "  'display_phone': '(212) 866-6888',\n",
       "  'distance': 953.8624575721236,\n",
       "  'id': 'sKIYGvENchifk1YwFe77pA',\n",
       "  'image_url': 'https://s3-media2.fl.yelpcdn.com/bphoto/CGSy1Ni2iaxYuTq3QuWEgg/o.jpg',\n",
       "  'is_closed': False,\n",
       "  'location': {'address1': '935 Columbus Ave',\n",
       "   'address2': '',\n",
       "   'address3': '',\n",
       "   'city': 'New York',\n",
       "   'country': 'US',\n",
       "   'display_address': ['935 Columbus Ave', 'New York, NY 10025'],\n",
       "   'state': 'NY',\n",
       "   'zip_code': '10025'},\n",
       "  'name': 'Saiguette',\n",
       "  'phone': '+12128666888',\n",
       "  'price': '$$',\n",
       "  'rating': 4.5,\n",
       "  'review_count': 590,\n",
       "  'transactions': [],\n",
       "  'url': 'https://www.yelp.com/biz/saiguette-new-york?adjust_creative=Ryru7ki-5L2Vhr57Wbyopw&utm_campaign=yelp_api_v3&utm_medium=api_v3_business_search&utm_source=Ryru7ki-5L2Vhr57Wbyopw'},\n",
       " {'alias': 'pisticci-new-york',\n",
       "  'categories': [{'alias': 'italian', 'title': 'Italian'},\n",
       "   {'alias': 'breakfast_brunch', 'title': 'Breakfast & Brunch'}],\n",
       "  'coordinates': {'latitude': 40.8141624, 'longitude': -73.960288},\n",
       "  'display_phone': '(212) 932-3500',\n",
       "  'distance': 776.1804413075187,\n",
       "  'id': 'wZkZmjZEJDraLJgAalnHvA',\n",
       "  'image_url': 'https://s3-media1.fl.yelpcdn.com/bphoto/ERoh_M19-nm8lz7k-cH7AA/o.jpg',\n",
       "  'is_closed': False,\n",
       "  'location': {'address1': '125 La Salle St',\n",
       "   'address2': '',\n",
       "   'address3': '',\n",
       "   'city': 'New York',\n",
       "   'country': 'US',\n",
       "   'display_address': ['125 La Salle St', 'New York, NY 10027'],\n",
       "   'state': 'NY',\n",
       "   'zip_code': '10027'},\n",
       "  'name': 'Pisticci',\n",
       "  'phone': '+12129323500',\n",
       "  'price': '$$',\n",
       "  'rating': 4.0,\n",
       "  'review_count': 819,\n",
       "  'transactions': ['restaurant_reservation', 'delivery', 'pickup'],\n",
       "  'url': 'https://www.yelp.com/biz/pisticci-new-york?adjust_creative=Ryru7ki-5L2Vhr57Wbyopw&utm_campaign=yelp_api_v3&utm_medium=api_v3_business_search&utm_source=Ryru7ki-5L2Vhr57Wbyopw'},\n",
       " {'alias': 'junzi-kitchen-new-york',\n",
       "  'categories': [{'alias': 'chinese', 'title': 'Chinese'},\n",
       "   {'alias': 'noodles', 'title': 'Noodles'},\n",
       "   {'alias': 'asianfusion', 'title': 'Asian Fusion'}],\n",
       "  'coordinates': {'latitude': 40.8057641877461,\n",
       "   'longitude': -73.9652019005902},\n",
       "  'display_phone': '(917) 261-2497',\n",
       "  'distance': 301.10861793567597,\n",
       "  'id': 'DKGUSLiqNchBNatKoPM9QQ',\n",
       "  'image_url': 'https://s3-media3.fl.yelpcdn.com/bphoto/B2OQ8fW1DrFez_qP62vnRg/o.jpg',\n",
       "  'is_closed': False,\n",
       "  'location': {'address1': '2896 Broadway',\n",
       "   'address2': None,\n",
       "   'address3': '',\n",
       "   'city': 'New York',\n",
       "   'country': 'US',\n",
       "   'display_address': ['2896 Broadway', 'New York, NY 10025'],\n",
       "   'state': 'NY',\n",
       "   'zip_code': '10025'},\n",
       "  'name': 'Junzi Kitchen',\n",
       "  'phone': '+19172612497',\n",
       "  'price': '$$',\n",
       "  'rating': 4.0,\n",
       "  'review_count': 156,\n",
       "  'transactions': ['delivery', 'pickup'],\n",
       "  'url': 'https://www.yelp.com/biz/junzi-kitchen-new-york?adjust_creative=Ryru7ki-5L2Vhr57Wbyopw&utm_campaign=yelp_api_v3&utm_medium=api_v3_business_search&utm_source=Ryru7ki-5L2Vhr57Wbyopw'},\n",
       " {'alias': 'the-expat-new-york-2',\n",
       "  'categories': [{'alias': 'gastropubs', 'title': 'Gastropubs'}],\n",
       "  'coordinates': {'latitude': 40.81551, 'longitude': -73.96008},\n",
       "  'display_phone': '(646) 410-2922',\n",
       "  'distance': 906.8026557718263,\n",
       "  'id': 'SLD513aTy53UMk4wQP8Wcg',\n",
       "  'image_url': 'https://s3-media2.fl.yelpcdn.com/bphoto/hcIT2_wqtgwmrXIW06FTig/o.jpg',\n",
       "  'is_closed': False,\n",
       "  'location': {'address1': '64 Tiemann Pl',\n",
       "   'address2': None,\n",
       "   'address3': '',\n",
       "   'city': 'New York',\n",
       "   'country': 'US',\n",
       "   'display_address': ['64 Tiemann Pl', 'New York, NY 10027'],\n",
       "   'state': 'NY',\n",
       "   'zip_code': '10027'},\n",
       "  'name': 'The Expat',\n",
       "  'phone': '+16464102922',\n",
       "  'rating': 4.5,\n",
       "  'review_count': 38,\n",
       "  'transactions': ['delivery', 'pickup'],\n",
       "  'url': 'https://www.yelp.com/biz/the-expat-new-york-2?adjust_creative=Ryru7ki-5L2Vhr57Wbyopw&utm_campaign=yelp_api_v3&utm_medium=api_v3_business_search&utm_source=Ryru7ki-5L2Vhr57Wbyopw'},\n",
       " {'alias': 'friedmans-new-york-62',\n",
       "  'categories': [{'alias': 'tradamerican', 'title': 'American (Traditional)'},\n",
       "   {'alias': 'breakfast_brunch', 'title': 'Breakfast & Brunch'}],\n",
       "  'coordinates': {'latitude': 40.80829, 'longitude': -73.95977},\n",
       "  'display_phone': '(212) 932-0600',\n",
       "  'distance': 246.57143174690665,\n",
       "  'id': 'uTS2GevPXqsFKMgdpp5Txw',\n",
       "  'image_url': 'https://s3-media2.fl.yelpcdn.com/bphoto/pfIqvvNLdhR9kE1fjqylvg/o.jpg',\n",
       "  'is_closed': False,\n",
       "  'location': {'address1': '1187 Amsterdam Ave',\n",
       "   'address2': '',\n",
       "   'address3': '',\n",
       "   'city': 'New York',\n",
       "   'country': 'US',\n",
       "   'display_address': ['1187 Amsterdam Ave', 'New York, NY 10027'],\n",
       "   'state': 'NY',\n",
       "   'zip_code': '10027'},\n",
       "  'name': \"Friedman's\",\n",
       "  'phone': '+12129320600',\n",
       "  'price': '$$',\n",
       "  'rating': 3.5,\n",
       "  'review_count': 302,\n",
       "  'transactions': ['delivery', 'pickup'],\n",
       "  'url': 'https://www.yelp.com/biz/friedmans-new-york-62?adjust_creative=Ryru7ki-5L2Vhr57Wbyopw&utm_campaign=yelp_api_v3&utm_medium=api_v3_business_search&utm_source=Ryru7ki-5L2Vhr57Wbyopw'}]"
      ]
     },
     "execution_count": 21,
     "metadata": {},
     "output_type": "execute_result"
    }
   ],
   "source": [
    "get_restaurants(API_KEY,\"Columbia University, New York, NY\")"
   ]
  },
  {
   "cell_type": "markdown",
   "metadata": {},
   "source": [
    "<h4>Then a function that, given a business id, returns a string containing the reviews</h4>\n"
   ]
  },
  {
   "cell_type": "code",
   "execution_count": 18,
   "metadata": {},
   "outputs": [],
   "source": [
    "def get_business_review(api_key,business_id):\n",
    "    import json\n",
    "    import requests\n",
    "    business_path = BUSINESS_PATH + business_id+\"/reviews\"\n",
    "    url = API_HOST + business_path\n",
    "\n",
    "    headers = {\n",
    "        'Authorization': 'Bearer %s' % api_key,\n",
    "    }\n",
    "\n",
    "\n",
    "    response = requests.request('GET', url, headers=headers).json()\n",
    "   \n",
    "    review_text = ''\n",
    "    for review in response['reviews']:\n",
    "        review_text += review['text']\n",
    "    return review_text"
   ]
  },
  {
   "cell_type": "code",
   "execution_count": 19,
   "metadata": {},
   "outputs": [
    {
     "data": {
      "text/plain": [
       "\"I think I found my new brunch spot! I had a brunch date with my bestfriend and we really enjoy our \\ntime. \\nThe staff are friendly and the food was tasty....I don't usually leave a review, but when I do, It's because the experience was exceptional or beyond terrible. Well this time, it was the latter. Food was...Service was extremely slow, which they apologized for. But they should let people know they are understaffed and service will be slow prior to sitting us....\""
      ]
     },
     "execution_count": 19,
     "metadata": {},
     "output_type": "execute_result"
    }
   ],
   "source": [
    "get_business_review(API_KEY,'flat-top-new-york')"
   ]
  },
  {
   "cell_type": "markdown",
   "metadata": {},
   "source": [
    "<h4>Finally, put all this together to get review data for the set of restaurants</h4>\n"
   ]
  },
  {
   "cell_type": "code",
   "execution_count": 22,
   "metadata": {},
   "outputs": [],
   "source": [
    "def get_reviews(location,number=15):\n",
    "\n",
    "    restaurants = get_restaurants(API_KEY,location,number)\n",
    "\n",
    "    if not restaurants:\n",
    "        return None\n",
    "    review_list = list()\n",
    "    for restaurant in restaurants:\n",
    "        restaurant_name = restaurant['name']\n",
    "        restaurant_id = restaurant['id']\n",
    "        review_text = get_business_review(API_KEY,restaurant_id)\n",
    "        \n",
    "        review_list.append((restaurant_name,review_text))\n",
    "    return review_list\n",
    "        \n"
   ]
  },
  {
   "cell_type": "code",
   "execution_count": 23,
   "metadata": {},
   "outputs": [],
   "source": [
    "all_snippets = get_reviews(\"Columbia University, New York, NY\")"
   ]
  },
  {
   "cell_type": "code",
   "execution_count": 24,
   "metadata": {},
   "outputs": [
    {
     "data": {
      "text/plain": [
       "[('The Tang - Upper West Side',\n",
       "  'My visit here has been nothing but a treat! First the interior and attention to detail in every design is incredible. You are instantly transported to a...Came here on a Tuesday night and the place was pretty packed throughout the night. \\n\\nThe Favs--\\n\\nFried Tiger Prawn with Salted Egg Yolk Plate:  maybe I have...I really enjoyed my meal here at The Tang. Some items can be slightly pricey, but overall, decent portion sizes and you can definitely get extremely filled...'),\n",
       " ('Flat Top',\n",
       "  \"I think I found my new brunch spot! I had a brunch date with my bestfriend and we really enjoy our \\ntime. \\nThe staff are friendly and the food was tasty....I don't usually leave a review, but when I do, It's because the experience was exceptional or beyond terrible. Well this time, it was the latter. Food was...Service was extremely slow, which they apologized for. But they should let people know they are understaffed and service will be slow prior to sitting us....\"),\n",
       " ('Jin Ramen - West Harlem',\n",
       "  \"I don't like ramen, but I do come here time to time. I loved that they had lunch special because it was affordable and portion was big enough to feed a big...FOOD: Multiple types of ramen with other Japanese dishes like Katsu. Flavor was good but not crazy impactful. Pork belly buns were soft and tangy with some...This has pretty good ramen, but 1 of the worst customer service. We came here with a big group today and wanted to be seated together.\\n\\nUsually this isnt a...\"),\n",
       " ('Nobody Told Me',\n",
       "  'A cute cocktail bar in the upper west side! In an area with a plethora of dive bars, whiskey bars, and pubs I was super excited to find a place that...I was looking for a bar in the area. Came across this one on yelp. It looked like a chill spot. I read on a review that there is no happy hour- that was...Finally a bar that resembles a more downtown vibe, uptown. (un)Surprisingly this place gets pretty busy fast, but refreshingly has a mixed crowd (younger...'),\n",
       " ('The Calaveras',\n",
       "  \"Some of the best Mexican food around. \\n\\nStart with the cocktails- get a few nibbles, make sure you enjoy the elote soup. It's the best I've had in NY. \\n\\nGet...Made my way up 15 blocks to try this place out. I was curious about the burger although anything Mexican would have been just fine. \\nSo burger it was with a...The Bar Keep Juan makes a your Margarita the way you want it. Plus the empanadas are something to write home about. \\n\\nThe Bar Keep Juan hace de tu Margarita...\"),\n",
       " (\"Lolo's Seafood Shack\",\n",
       "  \"17 Syllables about Lolo's\\n\\nGet the Pom Pom Shrimp\\nGet the rum cocktail pitcher\\nRly- try it all!2 stars for the vibe. Love the decor and menu.\\n\\nUnfortunately, the quality of the seafood just wasn't there. I would try this place again and order a few...Came by for a quick meal on labor day. You order at the front then get a number and can sit anywhere. There's limited seating in the front but a ton more...\"),\n",
       " ('Thai Market',\n",
       "  \"Thai Market has awesome lunch specials from 11:45-3:30 pm. For $9.95, you get an appetizer and a main course. I'm glad this place is nearby.\\n\\nFor lunch, I...Straight up the best Thai food in NYC. We had some Thai friends in town. I was nervous to take them to a Thai restaurant, knowing that they have really high...The food wasn't bad at all and pretty authentic! Genuine rating 5 stars for the food. But negative -4 stars for the service. \\n\\nI had no complains about the...\"),\n",
       " ('BLVD Bistro',\n",
       "  \"I came here for brunch and we made a reservation for 10:30am because my daughter informed me that the place gets really crowded.\\n \\nOur waiter was Solomon -...First time at the new location. BLVD is consistent -- food is always good, service always friendly and professional. We didn't have a reservation and were...My first time in this restaurant. Ambience was very nice. Service was good. Wait time was short. Food and drinks were good. We had the catfish with greens...\"),\n",
       " (\"Melba's\",\n",
       "  'Myself, my husband, aunt and uncle had a 5 p.m. reservation on Saturday, Oct. 5, 2019. \\n\\nThe food was just ok my family is from New Orleans, Mississippi and...I was in New York for the weekend, and we wanted chicken!! Im an avid fan of the food network and one day I saw Melbas. Friends have told me how good this...Great staff and communal feeling in this place.\\n\\nFirst I was a bit flabbergasted that every 10mins there is a unison of Stevie Wonder Happy Birthday song (I...'),\n",
       " ('Wu & Nussbaum',\n",
       "  'The bagels were pretty decent, not too shabby but not mindblowing either. We ordered some breakfast bagels, and the bagels themselves were very fluffy but...I\\'ve come here twice; both times have been great. I get iced coffees (La Colombe coffee) and avocado \"toast\"...everything bagel with avocado spread. It\\'s...Food was pretty good for what we got. Came here stumbling at ~845pm on a Thursday night when we were looking for some late night dinner. Restaurant had a...'),\n",
       " ('Saiguette',\n",
       "  \"I've been craving banh mi sandwiches and am so glad I found this place on Yelp! Literally a 7 minute walk, so decided to call in for pick up. The kind lady...I too love Saiguette. My go to is the grilled beef bun (vermicelli) \\nMy mom always eats hers w two sides of peanut sauce. Which they never charge us extra...Come here for the banh mi!! There aren't very many Vietnamese options in UWS, and while this is still a trek from my place, it was worth it! \\nThey have a...\"),\n",
       " ('Pisticci',\n",
       "  \"Such a great experience! I tried this place with my friend for first time, and we left very satisfied. In terms of space, food, drink, and service, it was...Overall: Always busy for a reason. Great food for a great price. Just be sure to get there a little early and be ready to wait if it's during peak...Came here as a reunion dinner with two of my friends. From the get-go, the service was quite slow, and it took a good 10 minutes to flag down our server,...\"),\n",
       " ('Junzi Kitchen',\n",
       "  'Interior -- just like a chipotle but with a white tone design. Big enough to sit plenty of students during lunch break!\\n\\nService -- great service! If you...I have eaten Junzi several times and I enjoy the food consistently. \\n\\nThe interior is clean and the staff is fast paced, as well as friendly. I almost...So delicious and a wonderful staff! \\n\\nThey have a wide variety of vegetables and meats to choose from. They also offer a tofu option. \\n\\nThe ice teas are all...'),\n",
       " ('The Expat',\n",
       "  \"Came here for happy hour and it was a great experience. I'll 100% be back! \\n\\nThe food was great. The summer rolls were raw (as in super healthy). Needed...We live in the area and sooooooooooo wanted to love this place, but were unfortunately let down!\\n\\nWhy, you ask? Well...\\nIn a nutshell, the ambiance and...I went with my girlfriend recently and was absolutely delighted with the place. The food was extremely tasty with a variety of flavors. The cocktails were...\"),\n",
       " (\"Friedman's\",\n",
       "  \"Brunch (n): the socially acceptable excuse for day drinking\\n\\nWe came here for brunch one midday on the weekend. The line is out the door, mostly because...My boyfriend and I needed to grab brunch before our train out of penn station and decided to check this place out. We joined the waitlist 45 min before...Friedman's is a small restaurant/diner/cafe near Columbia and although there's nothing amazing, it has solid food and is close enough for a quick meal.\\n\\nI...\")]"
      ]
     },
     "execution_count": 24,
     "metadata": {},
     "output_type": "execute_result"
    }
   ],
   "source": [
    "all_snippets"
   ]
  },
  {
   "cell_type": "markdown",
   "metadata": {},
   "source": [
    "<h2>A function that analyzes emotions</h2>"
   ]
  },
  {
   "cell_type": "code",
   "execution_count": 8,
   "metadata": {},
   "outputs": [],
   "source": [
    "def emotion_analyzer(text,emotion_dict=emotion_dict):\n",
    "    #Set up the result dictionary\n",
    "    emotions = {x for y in emotion_dict.values() for x in y}  # this is a set. It collects the unique emotions, although not very efficient way of doing so.\n",
    "    emotion_count = dict()\n",
    "    for emotion in emotions:\n",
    "        emotion_count[emotion] = 0\n",
    "\n",
    "    #Analyze the text and normalize by total number of words\n",
    "    total_words = len(text.split())\n",
    "    for word in text.split():\n",
    "        if emotion_dict.get(word):\n",
    "            for emotion in emotion_dict.get(word):\n",
    "                emotion_count[emotion] += 1/len(text.split())\n",
    "    return emotion_count"
   ]
  },
  {
   "cell_type": "markdown",
   "metadata": {},
   "source": [
    "<h4>Now we can analyze the emotional content of the review snippets</h4>"
   ]
  },
  {
   "cell_type": "code",
   "execution_count": 26,
   "metadata": {},
   "outputs": [
    {
     "name": "stdout",
     "output_type": "stream",
     "text": [
      "restaurant   fear\ttrust negative positive joy   disgust anticip sadness surprise\n",
      "The Tang -   0.00\t0.03\t0.00\t0.06\t0.01\t0.01\t0.01\t0.00\t0.00\n",
      "Flat Top     0.00\t0.05\t0.01\t0.05\t0.05\t0.00\t0.02\t0.01\t0.01\n",
      "Jin Ramen    0.01\t0.03\t0.01\t0.06\t0.05\t0.00\t0.05\t0.01\t0.02\n",
      "Nobody Tol   0.00\t0.03\t0.00\t0.05\t0.03\t0.00\t0.03\t0.00\t0.01\n",
      "The Calave   0.00\t0.02\t0.00\t0.02\t0.02\t0.00\t0.01\t0.00\t0.00\n",
      "Lolo's Sea   0.00\t0.01\t0.01\t0.01\t0.01\t0.00\t0.01\t0.01\t0.01\n",
      "Thai Marke   0.03\t0.03\t0.05\t0.07\t0.05\t0.01\t0.03\t0.03\t0.00\n",
      "BLVD Bistr   0.00\t0.03\t0.00\t0.04\t0.04\t0.00\t0.05\t0.00\t0.00\n",
      "Melba's      0.01\t0.06\t0.01\t0.07\t0.05\t0.01\t0.03\t0.01\t0.02\n",
      "Wu & Nussb   0.00\t0.04\t0.03\t0.05\t0.04\t0.01\t0.04\t0.01\t0.01\n",
      "Saiguette    0.00\t0.02\t0.00\t0.07\t0.04\t0.00\t0.02\t0.00\t0.00\n",
      "Pisticci     0.00\t0.05\t0.01\t0.06\t0.03\t0.00\t0.05\t0.00\t0.01\n",
      "Junzi Kitc   0.00\t0.07\t0.00\t0.10\t0.07\t0.01\t0.02\t0.00\t0.01\n",
      "The Expat    0.00\t0.04\t0.00\t0.07\t0.06\t0.00\t0.03\t0.00\t0.01\n",
      "Friedman's   0.00\t0.01\t0.05\t0.05\t0.01\t0.00\t0.00\t0.00\t0.00\n"
     ]
    }
   ],
   "source": [
    "print(\"%-12s %1s\\t%1s %1s %1s %1s   %1s %1s %1s %1s\"%(\n",
    "        \"restaurant\",\"fear\",\"trust\",\"negative\",\"positive\",\"joy\",\"disgust\",\"anticip\",\n",
    "        \"sadness\",\"surprise\"))\n",
    "        \n",
    "for snippet in all_snippets:    # note that snippet[0] is the name of the restaurant.\n",
    "    text = snippet[1]\n",
    "    result = emotion_analyzer(text)\n",
    "    print(\"%-12s %1.2f\\t%1.2f\\t%1.2f\\t%1.2f\\t%1.2f\\t%1.2f\\t%1.2f\\t%1.2f\\t%1.2f\"%(\n",
    "        snippet[0][0:10],result['fear'],result['trust'],           # snippet[0] is the name of the restaurant.\n",
    "          result['negative'],result['positive'],result['joy'],result['disgust'],\n",
    "          result['anticipation'],result['sadness'],result['surprise']))\n"
   ]
  },
  {
   "cell_type": "markdown",
   "metadata": {},
   "source": [
    "<h4>Let's functionalize this</h4>"
   ]
  },
  {
   "cell_type": "markdown",
   "metadata": {},
   "source": [
    "<h3>For ease of analysis, we'll do the following:</h3>\n",
    "<li>Generalize it so that we can analyze any document type, not just restaurant reviews\n",
    "<li>Output a dataframe containing the results. This will make analysis of the results easier.\n",
    "<li>We'll decide whether or not we should print the output from the function"
   ]
  },
  {
   "cell_type": "code",
   "execution_count": 33,
   "metadata": {},
   "outputs": [
    {
     "data": {
      "text/html": [
       "<div>\n",
       "<style scoped>\n",
       "    .dataframe tbody tr th:only-of-type {\n",
       "        vertical-align: middle;\n",
       "    }\n",
       "\n",
       "    .dataframe tbody tr th {\n",
       "        vertical-align: top;\n",
       "    }\n",
       "\n",
       "    .dataframe thead th {\n",
       "        text-align: right;\n",
       "    }\n",
       "</style>\n",
       "<table border=\"1\" class=\"dataframe\">\n",
       "  <thead>\n",
       "    <tr style=\"text-align: right;\">\n",
       "      <th></th>\n",
       "      <th>Fear</th>\n",
       "      <th>Trust</th>\n",
       "      <th>Negative</th>\n",
       "      <th>Positive</th>\n",
       "      <th>Joy</th>\n",
       "      <th>Disgust</th>\n",
       "      <th>Anticipation</th>\n",
       "      <th>Sadness</th>\n",
       "      <th>Surprise</th>\n",
       "    </tr>\n",
       "    <tr>\n",
       "      <th>Restaurant</th>\n",
       "      <th></th>\n",
       "      <th></th>\n",
       "      <th></th>\n",
       "      <th></th>\n",
       "      <th></th>\n",
       "      <th></th>\n",
       "      <th></th>\n",
       "      <th></th>\n",
       "      <th></th>\n",
       "    </tr>\n",
       "  </thead>\n",
       "  <tbody>\n",
       "    <tr>\n",
       "      <td>The Tang - Upper West Side</td>\n",
       "      <td>0.000000</td>\n",
       "      <td>0.025000</td>\n",
       "      <td>0.000000</td>\n",
       "      <td>0.062500</td>\n",
       "      <td>0.012500</td>\n",
       "      <td>0.012500</td>\n",
       "      <td>0.012500</td>\n",
       "      <td>0.000000</td>\n",
       "      <td>0.000000</td>\n",
       "    </tr>\n",
       "    <tr>\n",
       "      <td>Flat Top</td>\n",
       "      <td>0.000000</td>\n",
       "      <td>0.048193</td>\n",
       "      <td>0.012048</td>\n",
       "      <td>0.048193</td>\n",
       "      <td>0.048193</td>\n",
       "      <td>0.000000</td>\n",
       "      <td>0.024096</td>\n",
       "      <td>0.012048</td>\n",
       "      <td>0.012048</td>\n",
       "    </tr>\n",
       "    <tr>\n",
       "      <td>Jin Ramen - West Harlem</td>\n",
       "      <td>0.011494</td>\n",
       "      <td>0.034483</td>\n",
       "      <td>0.011494</td>\n",
       "      <td>0.057471</td>\n",
       "      <td>0.045977</td>\n",
       "      <td>0.000000</td>\n",
       "      <td>0.045977</td>\n",
       "      <td>0.011494</td>\n",
       "      <td>0.022989</td>\n",
       "    </tr>\n",
       "    <tr>\n",
       "      <td>Nobody Told Me</td>\n",
       "      <td>0.000000</td>\n",
       "      <td>0.034483</td>\n",
       "      <td>0.000000</td>\n",
       "      <td>0.045977</td>\n",
       "      <td>0.034483</td>\n",
       "      <td>0.000000</td>\n",
       "      <td>0.034483</td>\n",
       "      <td>0.000000</td>\n",
       "      <td>0.011494</td>\n",
       "    </tr>\n",
       "    <tr>\n",
       "      <td>The Calaveras</td>\n",
       "      <td>0.000000</td>\n",
       "      <td>0.022472</td>\n",
       "      <td>0.000000</td>\n",
       "      <td>0.022472</td>\n",
       "      <td>0.022472</td>\n",
       "      <td>0.000000</td>\n",
       "      <td>0.011236</td>\n",
       "      <td>0.000000</td>\n",
       "      <td>0.000000</td>\n",
       "    </tr>\n",
       "    <tr>\n",
       "      <td>Lolo's Seafood Shack</td>\n",
       "      <td>0.000000</td>\n",
       "      <td>0.012987</td>\n",
       "      <td>0.012987</td>\n",
       "      <td>0.012987</td>\n",
       "      <td>0.012987</td>\n",
       "      <td>0.000000</td>\n",
       "      <td>0.012987</td>\n",
       "      <td>0.012987</td>\n",
       "      <td>0.012987</td>\n",
       "    </tr>\n",
       "    <tr>\n",
       "      <td>Thai Market</td>\n",
       "      <td>0.034884</td>\n",
       "      <td>0.034884</td>\n",
       "      <td>0.046512</td>\n",
       "      <td>0.069767</td>\n",
       "      <td>0.046512</td>\n",
       "      <td>0.011628</td>\n",
       "      <td>0.034884</td>\n",
       "      <td>0.034884</td>\n",
       "      <td>0.000000</td>\n",
       "    </tr>\n",
       "    <tr>\n",
       "      <td>BLVD Bistro</td>\n",
       "      <td>0.000000</td>\n",
       "      <td>0.025000</td>\n",
       "      <td>0.000000</td>\n",
       "      <td>0.037500</td>\n",
       "      <td>0.037500</td>\n",
       "      <td>0.000000</td>\n",
       "      <td>0.050000</td>\n",
       "      <td>0.000000</td>\n",
       "      <td>0.000000</td>\n",
       "    </tr>\n",
       "    <tr>\n",
       "      <td>Melba's</td>\n",
       "      <td>0.011364</td>\n",
       "      <td>0.056818</td>\n",
       "      <td>0.011364</td>\n",
       "      <td>0.068182</td>\n",
       "      <td>0.045455</td>\n",
       "      <td>0.011364</td>\n",
       "      <td>0.034091</td>\n",
       "      <td>0.011364</td>\n",
       "      <td>0.022727</td>\n",
       "    </tr>\n",
       "    <tr>\n",
       "      <td>Wu &amp; Nussbaum</td>\n",
       "      <td>0.000000</td>\n",
       "      <td>0.039474</td>\n",
       "      <td>0.026316</td>\n",
       "      <td>0.052632</td>\n",
       "      <td>0.039474</td>\n",
       "      <td>0.013158</td>\n",
       "      <td>0.039474</td>\n",
       "      <td>0.013158</td>\n",
       "      <td>0.013158</td>\n",
       "    </tr>\n",
       "    <tr>\n",
       "      <td>Saiguette</td>\n",
       "      <td>0.000000</td>\n",
       "      <td>0.021978</td>\n",
       "      <td>0.000000</td>\n",
       "      <td>0.065934</td>\n",
       "      <td>0.043956</td>\n",
       "      <td>0.000000</td>\n",
       "      <td>0.021978</td>\n",
       "      <td>0.000000</td>\n",
       "      <td>0.000000</td>\n",
       "    </tr>\n",
       "    <tr>\n",
       "      <td>Pisticci</td>\n",
       "      <td>0.000000</td>\n",
       "      <td>0.045455</td>\n",
       "      <td>0.011364</td>\n",
       "      <td>0.056818</td>\n",
       "      <td>0.034091</td>\n",
       "      <td>0.000000</td>\n",
       "      <td>0.045455</td>\n",
       "      <td>0.000000</td>\n",
       "      <td>0.011364</td>\n",
       "    </tr>\n",
       "    <tr>\n",
       "      <td>Junzi Kitchen</td>\n",
       "      <td>0.000000</td>\n",
       "      <td>0.072289</td>\n",
       "      <td>0.000000</td>\n",
       "      <td>0.096386</td>\n",
       "      <td>0.072289</td>\n",
       "      <td>0.012048</td>\n",
       "      <td>0.024096</td>\n",
       "      <td>0.000000</td>\n",
       "      <td>0.012048</td>\n",
       "    </tr>\n",
       "    <tr>\n",
       "      <td>The Expat</td>\n",
       "      <td>0.000000</td>\n",
       "      <td>0.037500</td>\n",
       "      <td>0.000000</td>\n",
       "      <td>0.075000</td>\n",
       "      <td>0.062500</td>\n",
       "      <td>0.000000</td>\n",
       "      <td>0.025000</td>\n",
       "      <td>0.000000</td>\n",
       "      <td>0.012500</td>\n",
       "    </tr>\n",
       "    <tr>\n",
       "      <td>Friedman's</td>\n",
       "      <td>0.000000</td>\n",
       "      <td>0.012658</td>\n",
       "      <td>0.050633</td>\n",
       "      <td>0.050633</td>\n",
       "      <td>0.012658</td>\n",
       "      <td>0.000000</td>\n",
       "      <td>0.000000</td>\n",
       "      <td>0.000000</td>\n",
       "      <td>0.000000</td>\n",
       "    </tr>\n",
       "  </tbody>\n",
       "</table>\n",
       "</div>"
      ],
      "text/plain": [
       "                                Fear     Trust  Negative  Positive       Joy  \\\n",
       "Restaurant                                                                     \n",
       "The Tang - Upper West Side  0.000000  0.025000  0.000000  0.062500  0.012500   \n",
       "Flat Top                    0.000000  0.048193  0.012048  0.048193  0.048193   \n",
       "Jin Ramen - West Harlem     0.011494  0.034483  0.011494  0.057471  0.045977   \n",
       "Nobody Told Me              0.000000  0.034483  0.000000  0.045977  0.034483   \n",
       "The Calaveras               0.000000  0.022472  0.000000  0.022472  0.022472   \n",
       "Lolo's Seafood Shack        0.000000  0.012987  0.012987  0.012987  0.012987   \n",
       "Thai Market                 0.034884  0.034884  0.046512  0.069767  0.046512   \n",
       "BLVD Bistro                 0.000000  0.025000  0.000000  0.037500  0.037500   \n",
       "Melba's                     0.011364  0.056818  0.011364  0.068182  0.045455   \n",
       "Wu & Nussbaum               0.000000  0.039474  0.026316  0.052632  0.039474   \n",
       "Saiguette                   0.000000  0.021978  0.000000  0.065934  0.043956   \n",
       "Pisticci                    0.000000  0.045455  0.011364  0.056818  0.034091   \n",
       "Junzi Kitchen               0.000000  0.072289  0.000000  0.096386  0.072289   \n",
       "The Expat                   0.000000  0.037500  0.000000  0.075000  0.062500   \n",
       "Friedman's                  0.000000  0.012658  0.050633  0.050633  0.012658   \n",
       "\n",
       "                             Disgust  Anticipation   Sadness  Surprise  \n",
       "Restaurant                                                              \n",
       "The Tang - Upper West Side  0.012500      0.012500  0.000000  0.000000  \n",
       "Flat Top                    0.000000      0.024096  0.012048  0.012048  \n",
       "Jin Ramen - West Harlem     0.000000      0.045977  0.011494  0.022989  \n",
       "Nobody Told Me              0.000000      0.034483  0.000000  0.011494  \n",
       "The Calaveras               0.000000      0.011236  0.000000  0.000000  \n",
       "Lolo's Seafood Shack        0.000000      0.012987  0.012987  0.012987  \n",
       "Thai Market                 0.011628      0.034884  0.034884  0.000000  \n",
       "BLVD Bistro                 0.000000      0.050000  0.000000  0.000000  \n",
       "Melba's                     0.011364      0.034091  0.011364  0.022727  \n",
       "Wu & Nussbaum               0.013158      0.039474  0.013158  0.013158  \n",
       "Saiguette                   0.000000      0.021978  0.000000  0.000000  \n",
       "Pisticci                    0.000000      0.045455  0.000000  0.011364  \n",
       "Junzi Kitchen               0.012048      0.024096  0.000000  0.012048  \n",
       "The Expat                   0.000000      0.025000  0.000000  0.012500  \n",
       "Friedman's                  0.000000      0.000000  0.000000  0.000000  "
      ]
     },
     "execution_count": 33,
     "metadata": {},
     "output_type": "execute_result"
    }
   ],
   "source": [
    "def comparative_emotion_analyzer(text_tuples,object_name=\"Restaurant\",print_output=False):\n",
    "    if print_output:\n",
    "        print(\"%-20s %1s\\t%1s %1s %1s %1s   %1s %1s %1s %1s\"%(object_name,\n",
    "                                                              \"fear\",\"trust\",\"negative\",\"positive\",\n",
    "                                                              \"joy\",\"disgust\",\"anticip\", \"sadness\",\n",
    "                                                              \"surprise\"))\n",
    "    import pandas as pd\n",
    "    df = pd.DataFrame(columns=[object_name,'Fear','Trust','Negative',\n",
    "                           'Positive','Joy','Disgust','Anticipation',\n",
    "                           'Sadness','Surprise'],)\n",
    "    df.set_index(object_name,inplace=True)\n",
    "    \n",
    "    output = df    \n",
    "    for text_tuple in text_tuples:\n",
    "        text = text_tuple[1] \n",
    "        result = emotion_analyzer(text)\n",
    "        if print_output:\n",
    "            print(\"%-20s %1.2f\\t%1.2f\\t%1.2f\\t%1.2f\\t%1.2f\\t%1.2f\\t%1.2f\\t%1.2f\\t%1.2f\"%(\n",
    "                text_tuple[0][0:20],result['fear'],result['trust'],\n",
    "                  result['negative'],result['positive'],result['joy'],result['disgust'],\n",
    "                  result['anticipation'],result['sadness'],result['surprise']))\n",
    "        df.loc[text_tuple[0]] = [result['fear'],result['trust'],         # constructing a dataframe from data\n",
    "                  result['negative'],result['positive'],result['joy'],result['disgust'],\n",
    "                  result['anticipation'],result['sadness'],result['surprise']]\n",
    "    return output\n",
    "#And test it        \n",
    "comparative_emotion_analyzer(all_snippets)  # outputs a dataframe"
   ]
  },
  {
   "cell_type": "markdown",
   "metadata": {},
   "source": [
    "<h2>Package the emotion analyzer with the yelp API to get a yelp data analyzer</h2>"
   ]
  },
  {
   "cell_type": "code",
   "execution_count": 34,
   "metadata": {},
   "outputs": [
    {
     "name": "stdout",
     "output_type": "stream",
     "text": [
      "Restaurant           fear\ttrust negative positive joy   disgust anticip sadness surprise\n",
      "The Tang - Upper Wes 0.00\t0.03\t0.00\t0.06\t0.01\t0.01\t0.01\t0.00\t0.00\n",
      "Flat Top             0.00\t0.05\t0.01\t0.05\t0.05\t0.00\t0.02\t0.01\t0.01\n",
      "Jin Ramen - West Har 0.01\t0.03\t0.01\t0.06\t0.05\t0.00\t0.05\t0.01\t0.02\n",
      "Nobody Told Me       0.00\t0.03\t0.00\t0.05\t0.03\t0.00\t0.03\t0.00\t0.01\n",
      "The Calaveras        0.00\t0.02\t0.00\t0.02\t0.02\t0.00\t0.01\t0.00\t0.00\n",
      "Lolo's Seafood Shack 0.00\t0.01\t0.01\t0.01\t0.01\t0.00\t0.01\t0.01\t0.01\n",
      "Thai Market          0.03\t0.03\t0.05\t0.07\t0.05\t0.01\t0.03\t0.03\t0.00\n",
      "BLVD Bistro          0.00\t0.03\t0.00\t0.04\t0.04\t0.00\t0.05\t0.00\t0.00\n",
      "Melba's              0.01\t0.06\t0.01\t0.07\t0.05\t0.01\t0.03\t0.01\t0.02\n",
      "Wu & Nussbaum        0.00\t0.04\t0.03\t0.05\t0.04\t0.01\t0.04\t0.01\t0.01\n",
      "Saiguette            0.00\t0.02\t0.00\t0.07\t0.04\t0.00\t0.02\t0.00\t0.00\n",
      "Friedman's           0.00\t0.01\t0.05\t0.05\t0.01\t0.00\t0.00\t0.00\t0.00\n",
      "Pisticci             0.00\t0.05\t0.01\t0.06\t0.03\t0.00\t0.05\t0.00\t0.01\n",
      "Junzi Kitchen        0.00\t0.07\t0.00\t0.10\t0.07\t0.01\t0.02\t0.00\t0.01\n",
      "The Expat            0.00\t0.04\t0.00\t0.07\t0.06\t0.00\t0.03\t0.00\t0.01\n"
     ]
    }
   ],
   "source": [
    "def analyze_nearby_restaurants(address,number=15):\n",
    "    snippets = get_reviews(address,number)\n",
    "    comparative_emotion_analyzer(snippets,print_output=True)\n",
    "\n",
    "#And test it    \n",
    "analyze_nearby_restaurants(\"Columbia University\",15)"
   ]
  },
  {
   "cell_type": "code",
   "execution_count": 35,
   "metadata": {},
   "outputs": [
    {
     "name": "stdout",
     "output_type": "stream",
     "text": [
      "Restaurant           fear\ttrust negative positive joy   disgust anticip sadness surprise\n",
      "Ffiona's Restaurant  0.00\t0.02\t0.01\t0.04\t0.01\t0.00\t0.00\t0.01\t0.00\n",
      "The Mayfair Chippy   0.01\t0.01\t0.01\t0.03\t0.01\t0.00\t0.04\t0.01\t0.00\n",
      "The Grazing Goat     0.01\t0.05\t0.01\t0.07\t0.04\t0.01\t0.04\t0.00\t0.02\n",
      "The Victoria         0.00\t0.01\t0.01\t0.04\t0.01\t0.01\t0.01\t0.00\t0.00\n",
      "Dishoom              0.01\t0.02\t0.03\t0.02\t0.02\t0.01\t0.02\t0.01\t0.01\n",
      "Flat Iron            0.00\t0.02\t0.02\t0.02\t0.00\t0.00\t0.00\t0.01\t0.01\n",
      "Nambu Tei            0.00\t0.08\t0.00\t0.10\t0.05\t0.00\t0.03\t0.00\t0.03\n",
      "The Fat Bear         0.00\t0.04\t0.00\t0.07\t0.02\t0.00\t0.02\t0.00\t0.01\n",
      "Mother Mash          0.00\t0.05\t0.01\t0.05\t0.03\t0.00\t0.02\t0.00\t0.01\n",
      "Burger & Lobster     0.01\t0.02\t0.02\t0.03\t0.02\t0.01\t0.01\t0.01\t0.00\n",
      "The Colonel Fawcett  0.00\t0.03\t0.01\t0.08\t0.04\t0.00\t0.03\t0.00\t0.00\n",
      "The Pig and Butcher  0.00\t0.01\t0.01\t0.06\t0.01\t0.01\t0.02\t0.00\t0.01\n",
      "Bizzarro             0.00\t0.01\t0.00\t0.00\t0.00\t0.00\t0.00\t0.00\t0.00\n",
      "Hook                 0.00\t0.00\t0.02\t0.03\t0.01\t0.02\t0.00\t0.00\t0.00\n",
      "The Shed             0.00\t0.07\t0.03\t0.13\t0.09\t0.00\t0.04\t0.01\t0.01\n"
     ]
    }
   ],
   "source": [
    "#Test it on some other place\n",
    "analyze_nearby_restaurants(\"221 Baker Street, London, UK\",15)"
   ]
  },
  {
   "cell_type": "markdown",
   "metadata": {},
   "source": [
    "<h1>Working with organized bodies of texts</h1>"
   ]
  },
  {
   "cell_type": "markdown",
   "metadata": {},
   "source": [
    "<h2>Text corpora</h2>\n",
    "<li>Corpus: An organized set of text documents</li>\n",
    "<li>Examples:\n",
    "<ol>\n",
    "<li>The collection of inaugural speeches\n",
    "<li>An entire book\n",
    "<li>Collection of all books by Graham Greene\n",
    "<li>Collection of tweets by Donald Trump\n",
    "<li>Collection of tweets that reference AAPL\n",
    "</ol>\n",
    "<li>As the examples illustrate, the texts in a corpus are related and what a corpora contains depends on what sort of analysis you want to do\n"
   ]
  },
  {
   "cell_type": "markdown",
   "metadata": {},
   "source": [
    "<h1>Building text corpora</h1>\n",
    "<li>Read a collection of documents from a directory\n",
    "<li>Use APIs to get text documents or fragments\n",
    "<ul>Examples:\n",
    "<li>Tweets\n",
    "<li>Yelp reviews\n",
    "</ul>\n",
    "<li>Use existing corpora\n",
    "<ul>\n",
    "<li>nltk.download() downloads sample corpora"
   ]
  },
  {
   "cell_type": "markdown",
   "metadata": {},
   "source": [
    "<h2>Creating a corpus from text files</h2>"
   ]
  },
  {
   "cell_type": "markdown",
   "metadata": {},
   "source": [
    "<h2>Let's do a detailed comparison of local restaurants</h2>\n",
    "<h4>I've saved a few reviews for each restaurant in four directories</h4>\n",
    "<h4>We'll use the PlainTextCorpusReader to read these directories</h4>\n",
    "<li>PlainTextCorpusReader reads all matching files in a directory and saves them by file-ids"
   ]
  },
  {
   "cell_type": "code",
   "execution_count": 3,
   "metadata": {},
   "outputs": [],
   "source": [
    "import nltk\n",
    "from nltk.corpus import PlaintextCorpusReader\n",
    "community_root = \"./data/community\"\n",
    "le_monde_root = \"./data/le_monde\"\n",
    "community_files = \"community.*\"\n",
    "le_monde_files = \"le_monde.*\"\n",
    "shakeshack_root = \"./data/shakeshack\"\n",
    "shakeshack_files = \"shakeshack.*\"\n",
    "fiveguys_root = \"./data/fiveguys\"\n",
    "fiveguys_files = \"fiveguys.*\"\n",
    "community_data = PlaintextCorpusReader(community_root,community_files)  # pulls out all files that match the wild-card pattern\n",
    "le_monde_data = PlaintextCorpusReader(le_monde_root,le_monde_files)\n",
    "shakeshack_data = PlaintextCorpusReader(shakeshack_root,shakeshack_files)\n",
    "fiveguys_data = PlaintextCorpusReader(fiveguys_root,fiveguys_files)"
   ]
  },
  {
   "cell_type": "code",
   "execution_count": 4,
   "metadata": {},
   "outputs": [
    {
     "data": {
      "text/plain": [
       "['shakeshack.1',\n",
       " 'shakeshack.10',\n",
       " 'shakeshack.11',\n",
       " 'shakeshack.12',\n",
       " 'shakeshack.13',\n",
       " 'shakeshack.14',\n",
       " 'shakeshack.15',\n",
       " 'shakeshack.16',\n",
       " 'shakeshack.17',\n",
       " 'shakeshack.18',\n",
       " 'shakeshack.19',\n",
       " 'shakeshack.2',\n",
       " 'shakeshack.20',\n",
       " 'shakeshack.3',\n",
       " 'shakeshack.4',\n",
       " 'shakeshack.5',\n",
       " 'shakeshack.6',\n",
       " 'shakeshack.7',\n",
       " 'shakeshack.8',\n",
       " 'shakeshack.9']"
      ]
     },
     "execution_count": 4,
     "metadata": {},
     "output_type": "execute_result"
    }
   ],
   "source": [
    "shakeshack_data.fileids()   # returns all files sitting in that directory"
   ]
  },
  {
   "cell_type": "code",
   "execution_count": 6,
   "metadata": {},
   "outputs": [],
   "source": [
    "# shakeshack_data.raw()     # returns a concatentation of all reviews in that directory "
   ]
  },
  {
   "cell_type": "code",
   "execution_count": 7,
   "metadata": {},
   "outputs": [
    {
     "data": {
      "text/plain": [
       "\"Everyone kept saying how good shake shack it is but I beg otherwise. Personally, I think it's a bit overpriced. A small burger, fries, and a signature shake are like ~$16 dollars. \\n\\nAs many have mentioned already, the burger is cold/warm when I received the burger since there is no cover over the burger. As for the shake itself, I find it really watery and greasy (from the whipped cream). If compared to California's In-N-Out burger I would rather prefer In-N-Out. Not like I eat at In-N-Out much but the flavor is better in my personal opinion.\\n\\nOverall, I wouldn't really spend the $$ for the food here. I don't think it's worth it.\\n\""
      ]
     },
     "execution_count": 7,
     "metadata": {},
     "output_type": "execute_result"
    }
   ],
   "source": [
    "shakeshack_data.raw('shakeshack.6')     # returns a reviews for specific file in directory (a single review)"
   ]
  },
  {
   "cell_type": "markdown",
   "metadata": {},
   "source": [
    "<h4>We need to construct text tuples that match the format of the argument of comparative_emotion_analyzer</h4>"
   ]
  },
  {
   "cell_type": "code",
   "execution_count": 41,
   "metadata": {},
   "outputs": [
    {
     "data": {
      "text/html": [
       "<div>\n",
       "<style scoped>\n",
       "    .dataframe tbody tr th:only-of-type {\n",
       "        vertical-align: middle;\n",
       "    }\n",
       "\n",
       "    .dataframe tbody tr th {\n",
       "        vertical-align: top;\n",
       "    }\n",
       "\n",
       "    .dataframe thead th {\n",
       "        text-align: right;\n",
       "    }\n",
       "</style>\n",
       "<table border=\"1\" class=\"dataframe\">\n",
       "  <thead>\n",
       "    <tr style=\"text-align: right;\">\n",
       "      <th></th>\n",
       "      <th>Fear</th>\n",
       "      <th>Trust</th>\n",
       "      <th>Negative</th>\n",
       "      <th>Positive</th>\n",
       "      <th>Joy</th>\n",
       "      <th>Disgust</th>\n",
       "      <th>Anticipation</th>\n",
       "      <th>Sadness</th>\n",
       "      <th>Surprise</th>\n",
       "    </tr>\n",
       "    <tr>\n",
       "      <th>Restaurant</th>\n",
       "      <th></th>\n",
       "      <th></th>\n",
       "      <th></th>\n",
       "      <th></th>\n",
       "      <th></th>\n",
       "      <th></th>\n",
       "      <th></th>\n",
       "      <th></th>\n",
       "      <th></th>\n",
       "    </tr>\n",
       "  </thead>\n",
       "  <tbody>\n",
       "    <tr>\n",
       "      <td>community</td>\n",
       "      <td>0.004079</td>\n",
       "      <td>0.031691</td>\n",
       "      <td>0.013179</td>\n",
       "      <td>0.048008</td>\n",
       "      <td>0.027298</td>\n",
       "      <td>0.005020</td>\n",
       "      <td>0.021023</td>\n",
       "      <td>0.007217</td>\n",
       "      <td>0.010668</td>\n",
       "    </tr>\n",
       "    <tr>\n",
       "      <td>le monde</td>\n",
       "      <td>0.004004</td>\n",
       "      <td>0.026246</td>\n",
       "      <td>0.010231</td>\n",
       "      <td>0.043594</td>\n",
       "      <td>0.024466</td>\n",
       "      <td>0.003559</td>\n",
       "      <td>0.015125</td>\n",
       "      <td>0.003559</td>\n",
       "      <td>0.008897</td>\n",
       "    </tr>\n",
       "    <tr>\n",
       "      <td>shakeshack</td>\n",
       "      <td>0.009532</td>\n",
       "      <td>0.019065</td>\n",
       "      <td>0.019973</td>\n",
       "      <td>0.031321</td>\n",
       "      <td>0.016795</td>\n",
       "      <td>0.007717</td>\n",
       "      <td>0.016795</td>\n",
       "      <td>0.009079</td>\n",
       "      <td>0.005901</td>\n",
       "    </tr>\n",
       "    <tr>\n",
       "      <td>fiveguys</td>\n",
       "      <td>0.004564</td>\n",
       "      <td>0.022818</td>\n",
       "      <td>0.019395</td>\n",
       "      <td>0.035938</td>\n",
       "      <td>0.026811</td>\n",
       "      <td>0.005134</td>\n",
       "      <td>0.021677</td>\n",
       "      <td>0.008557</td>\n",
       "      <td>0.008557</td>\n",
       "    </tr>\n",
       "  </tbody>\n",
       "</table>\n",
       "</div>"
      ],
      "text/plain": [
       "                Fear     Trust  Negative  Positive       Joy   Disgust  \\\n",
       "Restaurant                                                               \n",
       "community   0.004079  0.031691  0.013179  0.048008  0.027298  0.005020   \n",
       "le monde    0.004004  0.026246  0.010231  0.043594  0.024466  0.003559   \n",
       "shakeshack  0.009532  0.019065  0.019973  0.031321  0.016795  0.007717   \n",
       "fiveguys    0.004564  0.022818  0.019395  0.035938  0.026811  0.005134   \n",
       "\n",
       "            Anticipation   Sadness  Surprise  \n",
       "Restaurant                                    \n",
       "community       0.021023  0.007217  0.010668  \n",
       "le monde        0.015125  0.003559  0.008897  \n",
       "shakeshack      0.016795  0.009079  0.005901  \n",
       "fiveguys        0.021677  0.008557  0.008557  "
      ]
     },
     "execution_count": 41,
     "metadata": {},
     "output_type": "execute_result"
    }
   ],
   "source": [
    "restaurant_data = [('community',community_data.raw()),('le monde',le_monde_data.raw())\n",
    "                  ,('shakeshack',shakeshack_data.raw()), ('fiveguys',fiveguys_data.raw())]  # all reviews for each\n",
    "comparative_emotion_analyzer(restaurant_data)"
   ]
  },
  {
   "cell_type": "code",
   "execution_count": null,
   "metadata": {
    "collapsed": true,
    "jupyter": {
     "outputs_hidden": true
    }
   },
   "outputs": [],
   "source": []
  },
  {
   "cell_type": "markdown",
   "metadata": {},
   "source": [
    "<h2>Using nltk sample corpora</h2>"
   ]
  },
  {
   "cell_type": "markdown",
   "metadata": {},
   "source": [
    "<h2>nltk contains a large corpora of pre-tokenized text</h2>\n",
    "Load it using the command:<p>\n",
    "<b>You should have already done this!</b><br>\n",
    "nltk.download()\n",
    "\n",
    "    "
   ]
  },
  {
   "cell_type": "markdown",
   "metadata": {},
   "source": [
    "<h4>Import the corpora</h4>\n",
    "<li>Look for texts under nltk_data in your home directory</li>"
   ]
  },
  {
   "cell_type": "code",
   "execution_count": 42,
   "metadata": {},
   "outputs": [
    {
     "name": "stdout",
     "output_type": "stream",
     "text": [
      "*** Introductory Examples for the NLTK Book ***\n",
      "Loading text1, ..., text9 and sent1, ..., sent9\n",
      "Type the name of the text or sentence to view it.\n",
      "Type: 'texts()' or 'sents()' to list the materials.\n",
      "text1: Moby Dick by Herman Melville 1851\n",
      "text2: Sense and Sensibility by Jane Austen 1811\n",
      "text3: The Book of Genesis\n",
      "text4: Inaugural Address Corpus\n",
      "text5: Chat Corpus\n",
      "text6: Monty Python and the Holy Grail\n",
      "text7: Wall Street Journal\n",
      "text8: Personals Corpus\n",
      "text9: The Man Who Was Thursday by G . K . Chesterton 1908\n"
     ]
    }
   ],
   "source": [
    "import nltk\n",
    "from nltk.book import *"
   ]
  },
  {
   "cell_type": "code",
   "execution_count": 158,
   "metadata": {},
   "outputs": [],
   "source": [
    "# text6.concordance('god')"
   ]
  },
  {
   "cell_type": "markdown",
   "metadata": {},
   "source": [
    "<h1>Often, a comparitive analysis helps us understand text better</h1>\n",
    "<h2>Let's look at US Presidential Inaugural speeches</h2>\n",
    "<h4>Copy the files 2013-Obama.txt and 2017-Trump.txt to the nltk_data/corpora/inaugural directory. nltk_data should be under your home directory</h4>"
   ]
  },
  {
   "cell_type": "code",
   "execution_count": 44,
   "metadata": {},
   "outputs": [],
   "source": [
    "# inaugural.fileids()"
   ]
  },
  {
   "cell_type": "code",
   "execution_count": 46,
   "metadata": {},
   "outputs": [],
   "source": [
    "# inaugural.raw('1861-Lincoln.txt')"
   ]
  },
  {
   "cell_type": "code",
   "execution_count": 48,
   "metadata": {},
   "outputs": [],
   "source": [
    "all_addresses = list()\n",
    "for file in inaugural.fileids():\n",
    "    all_addresses.append((file,inaugural.raw(file)))\n",
    "# all_addresses"
   ]
  },
  {
   "cell_type": "markdown",
   "metadata": {},
   "source": [
    "<h2>Let's compare the speeches by emotion using our function</h2>"
   ]
  },
  {
   "cell_type": "code",
   "execution_count": 49,
   "metadata": {},
   "outputs": [],
   "source": [
    "all_speeches = comparative_emotion_analyzer(all_addresses,print_output=False,object_name=\"President\")"
   ]
  },
  {
   "cell_type": "code",
   "execution_count": 50,
   "metadata": {},
   "outputs": [
    {
     "data": {
      "text/html": [
       "<div>\n",
       "<style scoped>\n",
       "    .dataframe tbody tr th:only-of-type {\n",
       "        vertical-align: middle;\n",
       "    }\n",
       "\n",
       "    .dataframe tbody tr th {\n",
       "        vertical-align: top;\n",
       "    }\n",
       "\n",
       "    .dataframe thead th {\n",
       "        text-align: right;\n",
       "    }\n",
       "</style>\n",
       "<table border=\"1\" class=\"dataframe\">\n",
       "  <thead>\n",
       "    <tr style=\"text-align: right;\">\n",
       "      <th></th>\n",
       "      <th>Fear</th>\n",
       "      <th>Trust</th>\n",
       "      <th>Negative</th>\n",
       "      <th>Positive</th>\n",
       "      <th>Joy</th>\n",
       "      <th>Disgust</th>\n",
       "      <th>Anticipation</th>\n",
       "      <th>Sadness</th>\n",
       "      <th>Surprise</th>\n",
       "    </tr>\n",
       "    <tr>\n",
       "      <th>President</th>\n",
       "      <th></th>\n",
       "      <th></th>\n",
       "      <th></th>\n",
       "      <th></th>\n",
       "      <th></th>\n",
       "      <th></th>\n",
       "      <th></th>\n",
       "      <th></th>\n",
       "      <th></th>\n",
       "    </tr>\n",
       "  </thead>\n",
       "  <tbody>\n",
       "    <tr>\n",
       "      <td>1789-Washington.txt</td>\n",
       "      <td>0.015374</td>\n",
       "      <td>0.041929</td>\n",
       "      <td>0.023061</td>\n",
       "      <td>0.069881</td>\n",
       "      <td>0.025157</td>\n",
       "      <td>0.003494</td>\n",
       "      <td>0.027952</td>\n",
       "      <td>0.007687</td>\n",
       "      <td>0.010482</td>\n",
       "    </tr>\n",
       "    <tr>\n",
       "      <td>1793-Washington.txt</td>\n",
       "      <td>0.014815</td>\n",
       "      <td>0.066667</td>\n",
       "      <td>0.014815</td>\n",
       "      <td>0.088889</td>\n",
       "      <td>0.029630</td>\n",
       "      <td>0.000000</td>\n",
       "      <td>0.014815</td>\n",
       "      <td>0.007407</td>\n",
       "      <td>0.007407</td>\n",
       "    </tr>\n",
       "    <tr>\n",
       "      <td>1797-Adams.txt</td>\n",
       "      <td>0.014230</td>\n",
       "      <td>0.051315</td>\n",
       "      <td>0.025011</td>\n",
       "      <td>0.079776</td>\n",
       "      <td>0.029754</td>\n",
       "      <td>0.005175</td>\n",
       "      <td>0.027167</td>\n",
       "      <td>0.007762</td>\n",
       "      <td>0.008193</td>\n",
       "    </tr>\n",
       "    <tr>\n",
       "      <td>1801-Jefferson.txt</td>\n",
       "      <td>0.021387</td>\n",
       "      <td>0.042775</td>\n",
       "      <td>0.027168</td>\n",
       "      <td>0.072832</td>\n",
       "      <td>0.030636</td>\n",
       "      <td>0.006936</td>\n",
       "      <td>0.022543</td>\n",
       "      <td>0.012717</td>\n",
       "      <td>0.012139</td>\n",
       "    </tr>\n",
       "    <tr>\n",
       "      <td>1805-Jefferson.txt</td>\n",
       "      <td>0.012921</td>\n",
       "      <td>0.050300</td>\n",
       "      <td>0.023535</td>\n",
       "      <td>0.075219</td>\n",
       "      <td>0.027227</td>\n",
       "      <td>0.005076</td>\n",
       "      <td>0.031380</td>\n",
       "      <td>0.006461</td>\n",
       "      <td>0.011998</td>\n",
       "    </tr>\n",
       "    <tr>\n",
       "      <td>1809-Madison.txt</td>\n",
       "      <td>0.020391</td>\n",
       "      <td>0.049278</td>\n",
       "      <td>0.037383</td>\n",
       "      <td>0.093458</td>\n",
       "      <td>0.039082</td>\n",
       "      <td>0.005098</td>\n",
       "      <td>0.039082</td>\n",
       "      <td>0.011895</td>\n",
       "      <td>0.010195</td>\n",
       "    </tr>\n",
       "    <tr>\n",
       "      <td>1813-Madison.txt</td>\n",
       "      <td>0.033884</td>\n",
       "      <td>0.042149</td>\n",
       "      <td>0.042975</td>\n",
       "      <td>0.066116</td>\n",
       "      <td>0.023140</td>\n",
       "      <td>0.011570</td>\n",
       "      <td>0.023140</td>\n",
       "      <td>0.015702</td>\n",
       "      <td>0.008264</td>\n",
       "    </tr>\n",
       "    <tr>\n",
       "      <td>1817-Monroe.txt</td>\n",
       "      <td>0.014527</td>\n",
       "      <td>0.043878</td>\n",
       "      <td>0.024904</td>\n",
       "      <td>0.075304</td>\n",
       "      <td>0.024014</td>\n",
       "      <td>0.004447</td>\n",
       "      <td>0.027275</td>\n",
       "      <td>0.008301</td>\n",
       "      <td>0.009487</td>\n",
       "    </tr>\n",
       "    <tr>\n",
       "      <td>1821-Monroe.txt</td>\n",
       "      <td>0.019239</td>\n",
       "      <td>0.033557</td>\n",
       "      <td>0.025503</td>\n",
       "      <td>0.055705</td>\n",
       "      <td>0.017002</td>\n",
       "      <td>0.005593</td>\n",
       "      <td>0.019463</td>\n",
       "      <td>0.008501</td>\n",
       "      <td>0.005145</td>\n",
       "    </tr>\n",
       "    <tr>\n",
       "      <td>1825-Adams.txt</td>\n",
       "      <td>0.017466</td>\n",
       "      <td>0.046233</td>\n",
       "      <td>0.026712</td>\n",
       "      <td>0.063699</td>\n",
       "      <td>0.023973</td>\n",
       "      <td>0.005822</td>\n",
       "      <td>0.026027</td>\n",
       "      <td>0.006507</td>\n",
       "      <td>0.009589</td>\n",
       "    </tr>\n",
       "    <tr>\n",
       "      <td>1829-Jackson.txt</td>\n",
       "      <td>0.015044</td>\n",
       "      <td>0.054867</td>\n",
       "      <td>0.023009</td>\n",
       "      <td>0.107080</td>\n",
       "      <td>0.025664</td>\n",
       "      <td>0.004425</td>\n",
       "      <td>0.033628</td>\n",
       "      <td>0.006195</td>\n",
       "      <td>0.010619</td>\n",
       "    </tr>\n",
       "    <tr>\n",
       "      <td>1833-Jackson.txt</td>\n",
       "      <td>0.012733</td>\n",
       "      <td>0.043294</td>\n",
       "      <td>0.020374</td>\n",
       "      <td>0.058574</td>\n",
       "      <td>0.018676</td>\n",
       "      <td>0.005942</td>\n",
       "      <td>0.030560</td>\n",
       "      <td>0.010187</td>\n",
       "      <td>0.011885</td>\n",
       "    </tr>\n",
       "    <tr>\n",
       "      <td>1837-VanBuren.txt</td>\n",
       "      <td>0.022621</td>\n",
       "      <td>0.044982</td>\n",
       "      <td>0.034061</td>\n",
       "      <td>0.070463</td>\n",
       "      <td>0.026521</td>\n",
       "      <td>0.007280</td>\n",
       "      <td>0.024961</td>\n",
       "      <td>0.013261</td>\n",
       "      <td>0.010660</td>\n",
       "    </tr>\n",
       "    <tr>\n",
       "      <td>1841-Harrison.txt</td>\n",
       "      <td>0.015069</td>\n",
       "      <td>0.032273</td>\n",
       "      <td>0.028477</td>\n",
       "      <td>0.052207</td>\n",
       "      <td>0.016967</td>\n",
       "      <td>0.005814</td>\n",
       "      <td>0.018747</td>\n",
       "      <td>0.011391</td>\n",
       "      <td>0.006645</td>\n",
       "    </tr>\n",
       "    <tr>\n",
       "      <td>1845-Polk.txt</td>\n",
       "      <td>0.012484</td>\n",
       "      <td>0.040158</td>\n",
       "      <td>0.024969</td>\n",
       "      <td>0.058261</td>\n",
       "      <td>0.017894</td>\n",
       "      <td>0.006450</td>\n",
       "      <td>0.023096</td>\n",
       "      <td>0.008115</td>\n",
       "      <td>0.007283</td>\n",
       "    </tr>\n",
       "    <tr>\n",
       "      <td>1849-Taylor.txt</td>\n",
       "      <td>0.011938</td>\n",
       "      <td>0.048669</td>\n",
       "      <td>0.018365</td>\n",
       "      <td>0.083563</td>\n",
       "      <td>0.020202</td>\n",
       "      <td>0.001837</td>\n",
       "      <td>0.022957</td>\n",
       "      <td>0.005510</td>\n",
       "      <td>0.010101</td>\n",
       "    </tr>\n",
       "    <tr>\n",
       "      <td>1853-Pierce.txt</td>\n",
       "      <td>0.014380</td>\n",
       "      <td>0.044338</td>\n",
       "      <td>0.026663</td>\n",
       "      <td>0.069503</td>\n",
       "      <td>0.020671</td>\n",
       "      <td>0.005093</td>\n",
       "      <td>0.024865</td>\n",
       "      <td>0.009886</td>\n",
       "      <td>0.008987</td>\n",
       "    </tr>\n",
       "    <tr>\n",
       "      <td>1857-Buchanan.txt</td>\n",
       "      <td>0.017345</td>\n",
       "      <td>0.037168</td>\n",
       "      <td>0.028319</td>\n",
       "      <td>0.066195</td>\n",
       "      <td>0.024425</td>\n",
       "      <td>0.005664</td>\n",
       "      <td>0.030442</td>\n",
       "      <td>0.012035</td>\n",
       "      <td>0.011327</td>\n",
       "    </tr>\n",
       "    <tr>\n",
       "      <td>1861-Lincoln.txt</td>\n",
       "      <td>0.018137</td>\n",
       "      <td>0.036274</td>\n",
       "      <td>0.030778</td>\n",
       "      <td>0.048365</td>\n",
       "      <td>0.014564</td>\n",
       "      <td>0.005221</td>\n",
       "      <td>0.018412</td>\n",
       "      <td>0.013465</td>\n",
       "      <td>0.008519</td>\n",
       "    </tr>\n",
       "    <tr>\n",
       "      <td>1865-Lincoln.txt</td>\n",
       "      <td>0.032951</td>\n",
       "      <td>0.025788</td>\n",
       "      <td>0.032951</td>\n",
       "      <td>0.040115</td>\n",
       "      <td>0.017192</td>\n",
       "      <td>0.010029</td>\n",
       "      <td>0.025788</td>\n",
       "      <td>0.018625</td>\n",
       "      <td>0.005731</td>\n",
       "    </tr>\n",
       "    <tr>\n",
       "      <td>1869-Grant.txt</td>\n",
       "      <td>0.006200</td>\n",
       "      <td>0.044287</td>\n",
       "      <td>0.023915</td>\n",
       "      <td>0.071745</td>\n",
       "      <td>0.016829</td>\n",
       "      <td>0.003543</td>\n",
       "      <td>0.023915</td>\n",
       "      <td>0.010629</td>\n",
       "      <td>0.007086</td>\n",
       "    </tr>\n",
       "    <tr>\n",
       "      <td>1873-Grant.txt</td>\n",
       "      <td>0.014169</td>\n",
       "      <td>0.029083</td>\n",
       "      <td>0.028337</td>\n",
       "      <td>0.060403</td>\n",
       "      <td>0.020134</td>\n",
       "      <td>0.004474</td>\n",
       "      <td>0.020880</td>\n",
       "      <td>0.011186</td>\n",
       "      <td>0.011931</td>\n",
       "    </tr>\n",
       "    <tr>\n",
       "      <td>1877-Hayes.txt</td>\n",
       "      <td>0.014865</td>\n",
       "      <td>0.042989</td>\n",
       "      <td>0.023704</td>\n",
       "      <td>0.069104</td>\n",
       "      <td>0.020088</td>\n",
       "      <td>0.002812</td>\n",
       "      <td>0.025713</td>\n",
       "      <td>0.009241</td>\n",
       "      <td>0.009241</td>\n",
       "    </tr>\n",
       "    <tr>\n",
       "      <td>1881-Garfield.txt</td>\n",
       "      <td>0.018469</td>\n",
       "      <td>0.043653</td>\n",
       "      <td>0.029886</td>\n",
       "      <td>0.065816</td>\n",
       "      <td>0.021491</td>\n",
       "      <td>0.006716</td>\n",
       "      <td>0.024849</td>\n",
       "      <td>0.012424</td>\n",
       "      <td>0.014439</td>\n",
       "    </tr>\n",
       "    <tr>\n",
       "      <td>1885-Cleveland.txt</td>\n",
       "      <td>0.018991</td>\n",
       "      <td>0.052226</td>\n",
       "      <td>0.029080</td>\n",
       "      <td>0.086053</td>\n",
       "      <td>0.026113</td>\n",
       "      <td>0.007715</td>\n",
       "      <td>0.031454</td>\n",
       "      <td>0.010089</td>\n",
       "      <td>0.010089</td>\n",
       "    </tr>\n",
       "    <tr>\n",
       "      <td>1889-Harrison.txt</td>\n",
       "      <td>0.017324</td>\n",
       "      <td>0.047413</td>\n",
       "      <td>0.029405</td>\n",
       "      <td>0.075678</td>\n",
       "      <td>0.023478</td>\n",
       "      <td>0.009118</td>\n",
       "      <td>0.030317</td>\n",
       "      <td>0.014589</td>\n",
       "      <td>0.010030</td>\n",
       "    </tr>\n",
       "    <tr>\n",
       "      <td>1893-Cleveland.txt</td>\n",
       "      <td>0.025832</td>\n",
       "      <td>0.047690</td>\n",
       "      <td>0.037258</td>\n",
       "      <td>0.074516</td>\n",
       "      <td>0.022851</td>\n",
       "      <td>0.011923</td>\n",
       "      <td>0.026329</td>\n",
       "      <td>0.010432</td>\n",
       "      <td>0.011923</td>\n",
       "    </tr>\n",
       "    <tr>\n",
       "      <td>1897-McKinley.txt</td>\n",
       "      <td>0.011326</td>\n",
       "      <td>0.040524</td>\n",
       "      <td>0.025422</td>\n",
       "      <td>0.066700</td>\n",
       "      <td>0.020639</td>\n",
       "      <td>0.003524</td>\n",
       "      <td>0.024666</td>\n",
       "      <td>0.010068</td>\n",
       "      <td>0.008558</td>\n",
       "    </tr>\n",
       "    <tr>\n",
       "      <td>1901-McKinley.txt</td>\n",
       "      <td>0.019892</td>\n",
       "      <td>0.042495</td>\n",
       "      <td>0.027577</td>\n",
       "      <td>0.065552</td>\n",
       "      <td>0.022152</td>\n",
       "      <td>0.004069</td>\n",
       "      <td>0.027125</td>\n",
       "      <td>0.009946</td>\n",
       "      <td>0.009042</td>\n",
       "    </tr>\n",
       "    <tr>\n",
       "      <td>1905-Roosevelt.txt</td>\n",
       "      <td>0.015244</td>\n",
       "      <td>0.037602</td>\n",
       "      <td>0.019309</td>\n",
       "      <td>0.057927</td>\n",
       "      <td>0.026423</td>\n",
       "      <td>0.004065</td>\n",
       "      <td>0.015244</td>\n",
       "      <td>0.007114</td>\n",
       "      <td>0.009146</td>\n",
       "    </tr>\n",
       "    <tr>\n",
       "      <td>1909-Taft.txt</td>\n",
       "      <td>0.020810</td>\n",
       "      <td>0.038490</td>\n",
       "      <td>0.030939</td>\n",
       "      <td>0.061694</td>\n",
       "      <td>0.016943</td>\n",
       "      <td>0.007366</td>\n",
       "      <td>0.022468</td>\n",
       "      <td>0.012339</td>\n",
       "      <td>0.008287</td>\n",
       "    </tr>\n",
       "    <tr>\n",
       "      <td>1913-Wilson.txt</td>\n",
       "      <td>0.012949</td>\n",
       "      <td>0.030018</td>\n",
       "      <td>0.022366</td>\n",
       "      <td>0.045909</td>\n",
       "      <td>0.011772</td>\n",
       "      <td>0.008829</td>\n",
       "      <td>0.018835</td>\n",
       "      <td>0.012360</td>\n",
       "      <td>0.004709</td>\n",
       "    </tr>\n",
       "    <tr>\n",
       "      <td>1917-Wilson.txt</td>\n",
       "      <td>0.011089</td>\n",
       "      <td>0.035225</td>\n",
       "      <td>0.020222</td>\n",
       "      <td>0.068493</td>\n",
       "      <td>0.016960</td>\n",
       "      <td>0.001957</td>\n",
       "      <td>0.022179</td>\n",
       "      <td>0.006523</td>\n",
       "      <td>0.005871</td>\n",
       "    </tr>\n",
       "    <tr>\n",
       "      <td>1921-Harding.txt</td>\n",
       "      <td>0.022830</td>\n",
       "      <td>0.041454</td>\n",
       "      <td>0.032743</td>\n",
       "      <td>0.067888</td>\n",
       "      <td>0.027035</td>\n",
       "      <td>0.008411</td>\n",
       "      <td>0.030339</td>\n",
       "      <td>0.012316</td>\n",
       "      <td>0.015320</td>\n",
       "    </tr>\n",
       "    <tr>\n",
       "      <td>1925-Coolidge.txt</td>\n",
       "      <td>0.012821</td>\n",
       "      <td>0.050049</td>\n",
       "      <td>0.021696</td>\n",
       "      <td>0.068540</td>\n",
       "      <td>0.023669</td>\n",
       "      <td>0.004191</td>\n",
       "      <td>0.024408</td>\n",
       "      <td>0.006903</td>\n",
       "      <td>0.009122</td>\n",
       "    </tr>\n",
       "    <tr>\n",
       "      <td>1929-Hoover.txt</td>\n",
       "      <td>0.023576</td>\n",
       "      <td>0.047151</td>\n",
       "      <td>0.031154</td>\n",
       "      <td>0.078585</td>\n",
       "      <td>0.024137</td>\n",
       "      <td>0.008981</td>\n",
       "      <td>0.028347</td>\n",
       "      <td>0.010946</td>\n",
       "      <td>0.009543</td>\n",
       "    </tr>\n",
       "    <tr>\n",
       "      <td>1933-Roosevelt.txt</td>\n",
       "      <td>0.021220</td>\n",
       "      <td>0.037666</td>\n",
       "      <td>0.032361</td>\n",
       "      <td>0.065782</td>\n",
       "      <td>0.018037</td>\n",
       "      <td>0.009549</td>\n",
       "      <td>0.022281</td>\n",
       "      <td>0.016446</td>\n",
       "      <td>0.012202</td>\n",
       "    </tr>\n",
       "    <tr>\n",
       "      <td>1937-Roosevelt.txt</td>\n",
       "      <td>0.021476</td>\n",
       "      <td>0.040749</td>\n",
       "      <td>0.034141</td>\n",
       "      <td>0.064427</td>\n",
       "      <td>0.023128</td>\n",
       "      <td>0.009361</td>\n",
       "      <td>0.024780</td>\n",
       "      <td>0.014317</td>\n",
       "      <td>0.009912</td>\n",
       "    </tr>\n",
       "    <tr>\n",
       "      <td>1941-Roosevelt.txt</td>\n",
       "      <td>0.017647</td>\n",
       "      <td>0.031618</td>\n",
       "      <td>0.024265</td>\n",
       "      <td>0.050735</td>\n",
       "      <td>0.018382</td>\n",
       "      <td>0.005882</td>\n",
       "      <td>0.016176</td>\n",
       "      <td>0.011765</td>\n",
       "      <td>0.008088</td>\n",
       "    </tr>\n",
       "    <tr>\n",
       "      <td>1945-Roosevelt.txt</td>\n",
       "      <td>0.012259</td>\n",
       "      <td>0.049037</td>\n",
       "      <td>0.015762</td>\n",
       "      <td>0.078809</td>\n",
       "      <td>0.033275</td>\n",
       "      <td>0.001751</td>\n",
       "      <td>0.033275</td>\n",
       "      <td>0.003503</td>\n",
       "      <td>0.005254</td>\n",
       "    </tr>\n",
       "    <tr>\n",
       "      <td>1949-Truman.txt</td>\n",
       "      <td>0.016674</td>\n",
       "      <td>0.046512</td>\n",
       "      <td>0.019307</td>\n",
       "      <td>0.085564</td>\n",
       "      <td>0.028082</td>\n",
       "      <td>0.003949</td>\n",
       "      <td>0.025011</td>\n",
       "      <td>0.008337</td>\n",
       "      <td>0.007898</td>\n",
       "    </tr>\n",
       "    <tr>\n",
       "      <td>1953-Eisenhower.txt</td>\n",
       "      <td>0.019059</td>\n",
       "      <td>0.047851</td>\n",
       "      <td>0.021087</td>\n",
       "      <td>0.072993</td>\n",
       "      <td>0.026358</td>\n",
       "      <td>0.004055</td>\n",
       "      <td>0.029197</td>\n",
       "      <td>0.010138</td>\n",
       "      <td>0.009327</td>\n",
       "    </tr>\n",
       "    <tr>\n",
       "      <td>1957-Eisenhower.txt</td>\n",
       "      <td>0.019014</td>\n",
       "      <td>0.045752</td>\n",
       "      <td>0.020796</td>\n",
       "      <td>0.061794</td>\n",
       "      <td>0.027926</td>\n",
       "      <td>0.003565</td>\n",
       "      <td>0.033274</td>\n",
       "      <td>0.008913</td>\n",
       "      <td>0.011289</td>\n",
       "    </tr>\n",
       "    <tr>\n",
       "      <td>1961-Kennedy.txt</td>\n",
       "      <td>0.020144</td>\n",
       "      <td>0.051079</td>\n",
       "      <td>0.025899</td>\n",
       "      <td>0.068345</td>\n",
       "      <td>0.028777</td>\n",
       "      <td>0.005036</td>\n",
       "      <td>0.029496</td>\n",
       "      <td>0.006475</td>\n",
       "      <td>0.012230</td>\n",
       "    </tr>\n",
       "    <tr>\n",
       "      <td>1965-Johnson.txt</td>\n",
       "      <td>0.024000</td>\n",
       "      <td>0.038667</td>\n",
       "      <td>0.024667</td>\n",
       "      <td>0.055333</td>\n",
       "      <td>0.025333</td>\n",
       "      <td>0.007333</td>\n",
       "      <td>0.023333</td>\n",
       "      <td>0.012667</td>\n",
       "      <td>0.011333</td>\n",
       "    </tr>\n",
       "    <tr>\n",
       "      <td>1969-Nixon.txt</td>\n",
       "      <td>0.013545</td>\n",
       "      <td>0.037366</td>\n",
       "      <td>0.022887</td>\n",
       "      <td>0.053246</td>\n",
       "      <td>0.024288</td>\n",
       "      <td>0.005138</td>\n",
       "      <td>0.027557</td>\n",
       "      <td>0.011210</td>\n",
       "      <td>0.007940</td>\n",
       "    </tr>\n",
       "    <tr>\n",
       "      <td>1973-Nixon.txt</td>\n",
       "      <td>0.010445</td>\n",
       "      <td>0.044530</td>\n",
       "      <td>0.015943</td>\n",
       "      <td>0.059373</td>\n",
       "      <td>0.029137</td>\n",
       "      <td>0.003848</td>\n",
       "      <td>0.028587</td>\n",
       "      <td>0.007147</td>\n",
       "      <td>0.006597</td>\n",
       "    </tr>\n",
       "    <tr>\n",
       "      <td>1977-Carter.txt</td>\n",
       "      <td>0.013788</td>\n",
       "      <td>0.050284</td>\n",
       "      <td>0.022709</td>\n",
       "      <td>0.082725</td>\n",
       "      <td>0.035685</td>\n",
       "      <td>0.003244</td>\n",
       "      <td>0.028386</td>\n",
       "      <td>0.006488</td>\n",
       "      <td>0.009732</td>\n",
       "    </tr>\n",
       "    <tr>\n",
       "      <td>1981-Reagan.txt</td>\n",
       "      <td>0.011471</td>\n",
       "      <td>0.034412</td>\n",
       "      <td>0.021712</td>\n",
       "      <td>0.058583</td>\n",
       "      <td>0.025809</td>\n",
       "      <td>0.002048</td>\n",
       "      <td>0.024170</td>\n",
       "      <td>0.009013</td>\n",
       "      <td>0.010651</td>\n",
       "    </tr>\n",
       "    <tr>\n",
       "      <td>1985-Reagan.txt</td>\n",
       "      <td>0.016304</td>\n",
       "      <td>0.029891</td>\n",
       "      <td>0.024457</td>\n",
       "      <td>0.051630</td>\n",
       "      <td>0.019798</td>\n",
       "      <td>0.006211</td>\n",
       "      <td>0.022127</td>\n",
       "      <td>0.011646</td>\n",
       "      <td>0.006599</td>\n",
       "    </tr>\n",
       "    <tr>\n",
       "      <td>1989-Bush.txt</td>\n",
       "      <td>0.008606</td>\n",
       "      <td>0.031411</td>\n",
       "      <td>0.014200</td>\n",
       "      <td>0.040448</td>\n",
       "      <td>0.017642</td>\n",
       "      <td>0.002582</td>\n",
       "      <td>0.017212</td>\n",
       "      <td>0.004733</td>\n",
       "      <td>0.008606</td>\n",
       "    </tr>\n",
       "    <tr>\n",
       "      <td>1993-Clinton.txt</td>\n",
       "      <td>0.018773</td>\n",
       "      <td>0.028160</td>\n",
       "      <td>0.020025</td>\n",
       "      <td>0.043179</td>\n",
       "      <td>0.016270</td>\n",
       "      <td>0.002503</td>\n",
       "      <td>0.020651</td>\n",
       "      <td>0.006258</td>\n",
       "      <td>0.010013</td>\n",
       "    </tr>\n",
       "    <tr>\n",
       "      <td>1997-Clinton.txt</td>\n",
       "      <td>0.017512</td>\n",
       "      <td>0.034101</td>\n",
       "      <td>0.023502</td>\n",
       "      <td>0.061751</td>\n",
       "      <td>0.023502</td>\n",
       "      <td>0.005530</td>\n",
       "      <td>0.029032</td>\n",
       "      <td>0.007834</td>\n",
       "      <td>0.012442</td>\n",
       "    </tr>\n",
       "    <tr>\n",
       "      <td>2001-Bush.txt</td>\n",
       "      <td>0.014539</td>\n",
       "      <td>0.038559</td>\n",
       "      <td>0.022756</td>\n",
       "      <td>0.061315</td>\n",
       "      <td>0.020860</td>\n",
       "      <td>0.005057</td>\n",
       "      <td>0.024020</td>\n",
       "      <td>0.008217</td>\n",
       "      <td>0.010114</td>\n",
       "    </tr>\n",
       "    <tr>\n",
       "      <td>2005-Bush.txt</td>\n",
       "      <td>0.021401</td>\n",
       "      <td>0.045233</td>\n",
       "      <td>0.025292</td>\n",
       "      <td>0.069553</td>\n",
       "      <td>0.026751</td>\n",
       "      <td>0.005837</td>\n",
       "      <td>0.029183</td>\n",
       "      <td>0.011187</td>\n",
       "      <td>0.012646</td>\n",
       "    </tr>\n",
       "    <tr>\n",
       "      <td>2009-Obama.txt</td>\n",
       "      <td>0.019876</td>\n",
       "      <td>0.040166</td>\n",
       "      <td>0.030642</td>\n",
       "      <td>0.063354</td>\n",
       "      <td>0.023602</td>\n",
       "      <td>0.009524</td>\n",
       "      <td>0.025673</td>\n",
       "      <td>0.013251</td>\n",
       "      <td>0.010352</td>\n",
       "    </tr>\n",
       "    <tr>\n",
       "      <td>2013-Obama.txt</td>\n",
       "      <td>0.020853</td>\n",
       "      <td>0.036967</td>\n",
       "      <td>0.022749</td>\n",
       "      <td>0.065403</td>\n",
       "      <td>0.029858</td>\n",
       "      <td>0.005687</td>\n",
       "      <td>0.027962</td>\n",
       "      <td>0.009005</td>\n",
       "      <td>0.012322</td>\n",
       "    </tr>\n",
       "    <tr>\n",
       "      <td>2017-Trump.txt</td>\n",
       "      <td>0.011612</td>\n",
       "      <td>0.036885</td>\n",
       "      <td>0.014344</td>\n",
       "      <td>0.053962</td>\n",
       "      <td>0.023907</td>\n",
       "      <td>0.004098</td>\n",
       "      <td>0.021858</td>\n",
       "      <td>0.006148</td>\n",
       "      <td>0.006831</td>\n",
       "    </tr>\n",
       "  </tbody>\n",
       "</table>\n",
       "</div>"
      ],
      "text/plain": [
       "                         Fear     Trust  Negative  Positive       Joy  \\\n",
       "President                                                               \n",
       "1789-Washington.txt  0.015374  0.041929  0.023061  0.069881  0.025157   \n",
       "1793-Washington.txt  0.014815  0.066667  0.014815  0.088889  0.029630   \n",
       "1797-Adams.txt       0.014230  0.051315  0.025011  0.079776  0.029754   \n",
       "1801-Jefferson.txt   0.021387  0.042775  0.027168  0.072832  0.030636   \n",
       "1805-Jefferson.txt   0.012921  0.050300  0.023535  0.075219  0.027227   \n",
       "1809-Madison.txt     0.020391  0.049278  0.037383  0.093458  0.039082   \n",
       "1813-Madison.txt     0.033884  0.042149  0.042975  0.066116  0.023140   \n",
       "1817-Monroe.txt      0.014527  0.043878  0.024904  0.075304  0.024014   \n",
       "1821-Monroe.txt      0.019239  0.033557  0.025503  0.055705  0.017002   \n",
       "1825-Adams.txt       0.017466  0.046233  0.026712  0.063699  0.023973   \n",
       "1829-Jackson.txt     0.015044  0.054867  0.023009  0.107080  0.025664   \n",
       "1833-Jackson.txt     0.012733  0.043294  0.020374  0.058574  0.018676   \n",
       "1837-VanBuren.txt    0.022621  0.044982  0.034061  0.070463  0.026521   \n",
       "1841-Harrison.txt    0.015069  0.032273  0.028477  0.052207  0.016967   \n",
       "1845-Polk.txt        0.012484  0.040158  0.024969  0.058261  0.017894   \n",
       "1849-Taylor.txt      0.011938  0.048669  0.018365  0.083563  0.020202   \n",
       "1853-Pierce.txt      0.014380  0.044338  0.026663  0.069503  0.020671   \n",
       "1857-Buchanan.txt    0.017345  0.037168  0.028319  0.066195  0.024425   \n",
       "1861-Lincoln.txt     0.018137  0.036274  0.030778  0.048365  0.014564   \n",
       "1865-Lincoln.txt     0.032951  0.025788  0.032951  0.040115  0.017192   \n",
       "1869-Grant.txt       0.006200  0.044287  0.023915  0.071745  0.016829   \n",
       "1873-Grant.txt       0.014169  0.029083  0.028337  0.060403  0.020134   \n",
       "1877-Hayes.txt       0.014865  0.042989  0.023704  0.069104  0.020088   \n",
       "1881-Garfield.txt    0.018469  0.043653  0.029886  0.065816  0.021491   \n",
       "1885-Cleveland.txt   0.018991  0.052226  0.029080  0.086053  0.026113   \n",
       "1889-Harrison.txt    0.017324  0.047413  0.029405  0.075678  0.023478   \n",
       "1893-Cleveland.txt   0.025832  0.047690  0.037258  0.074516  0.022851   \n",
       "1897-McKinley.txt    0.011326  0.040524  0.025422  0.066700  0.020639   \n",
       "1901-McKinley.txt    0.019892  0.042495  0.027577  0.065552  0.022152   \n",
       "1905-Roosevelt.txt   0.015244  0.037602  0.019309  0.057927  0.026423   \n",
       "1909-Taft.txt        0.020810  0.038490  0.030939  0.061694  0.016943   \n",
       "1913-Wilson.txt      0.012949  0.030018  0.022366  0.045909  0.011772   \n",
       "1917-Wilson.txt      0.011089  0.035225  0.020222  0.068493  0.016960   \n",
       "1921-Harding.txt     0.022830  0.041454  0.032743  0.067888  0.027035   \n",
       "1925-Coolidge.txt    0.012821  0.050049  0.021696  0.068540  0.023669   \n",
       "1929-Hoover.txt      0.023576  0.047151  0.031154  0.078585  0.024137   \n",
       "1933-Roosevelt.txt   0.021220  0.037666  0.032361  0.065782  0.018037   \n",
       "1937-Roosevelt.txt   0.021476  0.040749  0.034141  0.064427  0.023128   \n",
       "1941-Roosevelt.txt   0.017647  0.031618  0.024265  0.050735  0.018382   \n",
       "1945-Roosevelt.txt   0.012259  0.049037  0.015762  0.078809  0.033275   \n",
       "1949-Truman.txt      0.016674  0.046512  0.019307  0.085564  0.028082   \n",
       "1953-Eisenhower.txt  0.019059  0.047851  0.021087  0.072993  0.026358   \n",
       "1957-Eisenhower.txt  0.019014  0.045752  0.020796  0.061794  0.027926   \n",
       "1961-Kennedy.txt     0.020144  0.051079  0.025899  0.068345  0.028777   \n",
       "1965-Johnson.txt     0.024000  0.038667  0.024667  0.055333  0.025333   \n",
       "1969-Nixon.txt       0.013545  0.037366  0.022887  0.053246  0.024288   \n",
       "1973-Nixon.txt       0.010445  0.044530  0.015943  0.059373  0.029137   \n",
       "1977-Carter.txt      0.013788  0.050284  0.022709  0.082725  0.035685   \n",
       "1981-Reagan.txt      0.011471  0.034412  0.021712  0.058583  0.025809   \n",
       "1985-Reagan.txt      0.016304  0.029891  0.024457  0.051630  0.019798   \n",
       "1989-Bush.txt        0.008606  0.031411  0.014200  0.040448  0.017642   \n",
       "1993-Clinton.txt     0.018773  0.028160  0.020025  0.043179  0.016270   \n",
       "1997-Clinton.txt     0.017512  0.034101  0.023502  0.061751  0.023502   \n",
       "2001-Bush.txt        0.014539  0.038559  0.022756  0.061315  0.020860   \n",
       "2005-Bush.txt        0.021401  0.045233  0.025292  0.069553  0.026751   \n",
       "2009-Obama.txt       0.019876  0.040166  0.030642  0.063354  0.023602   \n",
       "2013-Obama.txt       0.020853  0.036967  0.022749  0.065403  0.029858   \n",
       "2017-Trump.txt       0.011612  0.036885  0.014344  0.053962  0.023907   \n",
       "\n",
       "                      Disgust  Anticipation   Sadness  Surprise  \n",
       "President                                                        \n",
       "1789-Washington.txt  0.003494      0.027952  0.007687  0.010482  \n",
       "1793-Washington.txt  0.000000      0.014815  0.007407  0.007407  \n",
       "1797-Adams.txt       0.005175      0.027167  0.007762  0.008193  \n",
       "1801-Jefferson.txt   0.006936      0.022543  0.012717  0.012139  \n",
       "1805-Jefferson.txt   0.005076      0.031380  0.006461  0.011998  \n",
       "1809-Madison.txt     0.005098      0.039082  0.011895  0.010195  \n",
       "1813-Madison.txt     0.011570      0.023140  0.015702  0.008264  \n",
       "1817-Monroe.txt      0.004447      0.027275  0.008301  0.009487  \n",
       "1821-Monroe.txt      0.005593      0.019463  0.008501  0.005145  \n",
       "1825-Adams.txt       0.005822      0.026027  0.006507  0.009589  \n",
       "1829-Jackson.txt     0.004425      0.033628  0.006195  0.010619  \n",
       "1833-Jackson.txt     0.005942      0.030560  0.010187  0.011885  \n",
       "1837-VanBuren.txt    0.007280      0.024961  0.013261  0.010660  \n",
       "1841-Harrison.txt    0.005814      0.018747  0.011391  0.006645  \n",
       "1845-Polk.txt        0.006450      0.023096  0.008115  0.007283  \n",
       "1849-Taylor.txt      0.001837      0.022957  0.005510  0.010101  \n",
       "1853-Pierce.txt      0.005093      0.024865  0.009886  0.008987  \n",
       "1857-Buchanan.txt    0.005664      0.030442  0.012035  0.011327  \n",
       "1861-Lincoln.txt     0.005221      0.018412  0.013465  0.008519  \n",
       "1865-Lincoln.txt     0.010029      0.025788  0.018625  0.005731  \n",
       "1869-Grant.txt       0.003543      0.023915  0.010629  0.007086  \n",
       "1873-Grant.txt       0.004474      0.020880  0.011186  0.011931  \n",
       "1877-Hayes.txt       0.002812      0.025713  0.009241  0.009241  \n",
       "1881-Garfield.txt    0.006716      0.024849  0.012424  0.014439  \n",
       "1885-Cleveland.txt   0.007715      0.031454  0.010089  0.010089  \n",
       "1889-Harrison.txt    0.009118      0.030317  0.014589  0.010030  \n",
       "1893-Cleveland.txt   0.011923      0.026329  0.010432  0.011923  \n",
       "1897-McKinley.txt    0.003524      0.024666  0.010068  0.008558  \n",
       "1901-McKinley.txt    0.004069      0.027125  0.009946  0.009042  \n",
       "1905-Roosevelt.txt   0.004065      0.015244  0.007114  0.009146  \n",
       "1909-Taft.txt        0.007366      0.022468  0.012339  0.008287  \n",
       "1913-Wilson.txt      0.008829      0.018835  0.012360  0.004709  \n",
       "1917-Wilson.txt      0.001957      0.022179  0.006523  0.005871  \n",
       "1921-Harding.txt     0.008411      0.030339  0.012316  0.015320  \n",
       "1925-Coolidge.txt    0.004191      0.024408  0.006903  0.009122  \n",
       "1929-Hoover.txt      0.008981      0.028347  0.010946  0.009543  \n",
       "1933-Roosevelt.txt   0.009549      0.022281  0.016446  0.012202  \n",
       "1937-Roosevelt.txt   0.009361      0.024780  0.014317  0.009912  \n",
       "1941-Roosevelt.txt   0.005882      0.016176  0.011765  0.008088  \n",
       "1945-Roosevelt.txt   0.001751      0.033275  0.003503  0.005254  \n",
       "1949-Truman.txt      0.003949      0.025011  0.008337  0.007898  \n",
       "1953-Eisenhower.txt  0.004055      0.029197  0.010138  0.009327  \n",
       "1957-Eisenhower.txt  0.003565      0.033274  0.008913  0.011289  \n",
       "1961-Kennedy.txt     0.005036      0.029496  0.006475  0.012230  \n",
       "1965-Johnson.txt     0.007333      0.023333  0.012667  0.011333  \n",
       "1969-Nixon.txt       0.005138      0.027557  0.011210  0.007940  \n",
       "1973-Nixon.txt       0.003848      0.028587  0.007147  0.006597  \n",
       "1977-Carter.txt      0.003244      0.028386  0.006488  0.009732  \n",
       "1981-Reagan.txt      0.002048      0.024170  0.009013  0.010651  \n",
       "1985-Reagan.txt      0.006211      0.022127  0.011646  0.006599  \n",
       "1989-Bush.txt        0.002582      0.017212  0.004733  0.008606  \n",
       "1993-Clinton.txt     0.002503      0.020651  0.006258  0.010013  \n",
       "1997-Clinton.txt     0.005530      0.029032  0.007834  0.012442  \n",
       "2001-Bush.txt        0.005057      0.024020  0.008217  0.010114  \n",
       "2005-Bush.txt        0.005837      0.029183  0.011187  0.012646  \n",
       "2009-Obama.txt       0.009524      0.025673  0.013251  0.010352  \n",
       "2013-Obama.txt       0.005687      0.027962  0.009005  0.012322  \n",
       "2017-Trump.txt       0.004098      0.021858  0.006148  0.006831  "
      ]
     },
     "execution_count": 50,
     "metadata": {},
     "output_type": "execute_result"
    }
   ],
   "source": [
    "all_speeches"
   ]
  },
  {
   "cell_type": "markdown",
   "metadata": {},
   "source": [
    "<h2>Try the following</h2>\n",
    "<li>The most positive presidential speeches\n",
    "<li>The most negative presidential speeches\n",
    "<li>The most \"surprise\" oriented presidential speeches\n",
    "<li>The most Net Positive speeches:\n",
    "<ul>\n",
    "<li>Positive = Trust + Positive\t+ Joy + Anticipation\n",
    "<li>Negative = Fear + Negative + Disgust + Sadness\n"
   ]
  },
  {
   "cell_type": "code",
   "execution_count": 51,
   "metadata": {},
   "outputs": [
    {
     "data": {
      "text/plain": [
       "President\n",
       "1829-Jackson.txt       0.172566\n",
       "1793-Washington.txt    0.162963\n",
       "1945-Roosevelt.txt     0.161121\n",
       "1977-Carter.txt        0.150852\n",
       "1809-Madison.txt       0.146134\n",
       "1849-Taylor.txt        0.137741\n",
       "1949-Truman.txt        0.136902\n",
       "1805-Jefferson.txt     0.136133\n",
       "1797-Adams.txt         0.135834\n",
       "1885-Cleveland.txt     0.129970\n",
       "1973-Nixon.txt         0.124244\n",
       "1953-Eisenhower.txt    0.122060\n",
       "1925-Coolidge.txt      0.121055\n",
       "1961-Kennedy.txt       0.120144\n",
       "1817-Monroe.txt        0.118292\n",
       "1957-Eisenhower.txt    0.116459\n",
       "1789-Washington.txt    0.115304\n",
       "1869-Grant.txt         0.112489\n",
       "1877-Hayes.txt         0.107272\n",
       "2005-Bush.txt          0.107004\n",
       "1889-Harrison.txt      0.106451\n",
       "1929-Hoover.txt        0.103564\n",
       "1825-Adams.txt         0.103425\n",
       "1853-Pierce.txt        0.103355\n",
       "1917-Wilson.txt        0.103066\n",
       "1897-McKinley.txt      0.102190\n",
       "2013-Obama.txt         0.101896\n",
       "1833-Jackson.txt       0.101868\n",
       "1801-Jefferson.txt     0.100578\n",
       "2017-Trump.txt         0.100410\n",
       "1981-Reagan.txt        0.098730\n",
       "1901-McKinley.txt      0.095841\n",
       "1857-Buchanan.txt      0.094867\n",
       "2001-Bush.txt          0.094185\n",
       "1997-Clinton.txt       0.094009\n",
       "1905-Roosevelt.txt     0.091463\n",
       "1921-Harding.txt       0.090418\n",
       "1837-VanBuren.txt      0.089704\n",
       "1969-Nixon.txt         0.089678\n",
       "1881-Garfield.txt      0.088314\n",
       "1845-Polk.txt          0.087391\n",
       "1893-Cleveland.txt     0.085941\n",
       "2009-Obama.txt         0.079503\n",
       "1989-Bush.txt          0.076592\n",
       "1965-Johnson.txt       0.074000\n",
       "1937-Roosevelt.txt     0.073789\n",
       "1873-Grant.txt         0.072334\n",
       "1909-Taft.txt          0.068140\n",
       "1821-Monroe.txt        0.066890\n",
       "1985-Reagan.txt        0.064829\n",
       "1933-Roosevelt.txt     0.064191\n",
       "1993-Clinton.txt       0.060701\n",
       "1841-Harrison.txt      0.059445\n",
       "1941-Roosevelt.txt     0.057353\n",
       "1813-Madison.txt       0.050413\n",
       "1913-Wilson.txt        0.050029\n",
       "1861-Lincoln.txt       0.050014\n",
       "1865-Lincoln.txt       0.014327\n",
       "Name: Net, dtype: float64"
      ]
     },
     "execution_count": 51,
     "metadata": {},
     "output_type": "execute_result"
    }
   ],
   "source": [
    "all_speeches.sort_values(by=\"Surprise\",ascending=False)\n",
    "all_speeches[\"All_Pos\"]=(all_speeches['Trust']+all_speeches['Positive']+ all_speeches['Joy']+ all_speeches['Anticipation'])\n",
    "all_speeches[\"All_Neg\"]=(all_speeches['Fear']+all_speeches['Negative']+ all_speeches['Disgust']+ all_speeches['Sadness'])\n",
    "all_speeches['Net']=all_speeches[\"All_Pos\"]-all_speeches[\"All_Neg\"]\n",
    "all_speeches.sort_values(by=\"Net\",ascending=False)['Net']"
   ]
  },
  {
   "cell_type": "code",
   "execution_count": null,
   "metadata": {},
   "outputs": [],
   "source": [
    "all_addresses"
   ]
  },
  {
   "cell_type": "markdown",
   "metadata": {},
   "source": [
    "<h2>Naive sentiment analysis on inaugural speeches</h2>"
   ]
  },
  {
   "cell_type": "code",
   "execution_count": null,
   "metadata": {},
   "outputs": [],
   "source": [
    "do_pos_neg_sentiment_analysis([(x[0],x[1]) for x in all_addresses])"
   ]
  },
  {
   "cell_type": "code",
   "execution_count": null,
   "metadata": {},
   "outputs": [],
   "source": [
    "sents = do_pos_neg_sentiment_analysis([(x[0],x[1]) for x in all_addresses])\n",
    "sorted(sents,key=lambda x: x[1]-x[2],reverse=True)"
   ]
  },
  {
   "cell_type": "markdown",
   "metadata": {},
   "source": [
    "<h2>Twitter and Yelp APIs</h2>"
   ]
  },
  {
   "cell_type": "markdown",
   "metadata": {},
   "source": [
    "<h3>Yelp APIs</h3>\n",
    "<li>Been there, done that</li>"
   ]
  },
  {
   "cell_type": "markdown",
   "metadata": {},
   "source": [
    "<h3>Twitter APIs</h3>\n",
    "<li>Sign in to the developer site using your twitter account\n",
    "<li>Go to https://apps.twitter.com/app/new \n",
    "<li>Give your app a name and a description\n",
    "<li>Enter anything for website (e.g., http://www.columbia.edu)\n",
    "<li>Leave callback url blank\n",
    "<li>Accept the terms and conditions and create an account\n",
    "<li>Then, click on the \"Keys and Access Tokens\" tab\n",
    "<li>Copy the two consumer keys to a text file\n",
    "<li>Scroll down and click \"Generate Access key and Secret\"\n",
    "<li>Copy the two access keys to the text file\n"
   ]
  },
  {
   "cell_type": "code",
   "execution_count": 132,
   "metadata": {},
   "outputs": [],
   "source": [
    "with open(\"/home/uday/Documents/Columbia_University/API_Keys/twitter_credentials.txt\",'r') as token_file:\n",
    "    contents = token_file.read().split('\\n')\n",
    "    consumer_key = contents[0]\n",
    "    consumer_secret = contents[1]\n",
    "    access_token = contents[2]\n",
    "    access_token_secret = contents[3]\n",
    "    \n",
    "#print(consumer_key,consumer_secret,access_token,access_token_secret,sep='\\n')"
   ]
  },
  {
   "cell_type": "markdown",
   "metadata": {},
   "source": [
    "<h2>tweepy</h2>\n",
    "<li>A python library that interfaces with the twitter API\n",
    "<li>Returns a lot of useful stuff but we'll only look at the tweet text"
   ]
  },
  {
   "cell_type": "markdown",
   "metadata": {},
   "source": [
    "<h4>Set up an authentication object using OAuth and send a search request</h4>\n",
    "<li>Tweepy constructs a \"list like\" SearchResults object\n",
    "<li>Each item in SearchResults is a Status object\n",
    "<li>The status object has a _json attribute that contains a json tweet\n",
    "<li>http://docs.tweepy.org/en/v3.5.0/getting_started.html#"
   ]
  },
  {
   "cell_type": "code",
   "execution_count": 133,
   "metadata": {},
   "outputs": [],
   "source": [
    "import tweepy\n",
    "auth = tweepy.OAuthHandler(consumer_key, consumer_secret)\n",
    "auth.set_access_token(access_token, access_token_secret)\n",
    "api = tweepy.API(auth)   # create instance of the API\n",
    "search_term = 'AAPL'\n",
    "# search_term = 'naomi osaka'\n",
    "\n",
    "## fill in your search query and store your results in a variable\n",
    "results = api.search(q = search_term, lang = \"en\", result_type = \"recent\", count = 1000)\n",
    "\n",
    "# count = 1000 ==> returns first 1,000 results"
   ]
  },
  {
   "cell_type": "code",
   "execution_count": null,
   "metadata": {},
   "outputs": [],
   "source": [
    "results[0]._json.   # status object inside the results collection is accessed by results[0]\n",
    "                    # ._json returns everything we're interested in within the status object"
   ]
  },
  {
   "cell_type": "code",
   "execution_count": 54,
   "metadata": {},
   "outputs": [
    {
     "name": "stdout",
     "output_type": "stream",
     "text": [
      "<class 'tweepy.models.SearchResults'>\n",
      "94\n",
      "<class 'tweepy.models.Status'>\n"
     ]
    }
   ],
   "source": [
    "print(type(results))\n",
    "print(len(results))\n",
    "print(type(results[0]))"
   ]
  },
  {
   "cell_type": "code",
   "execution_count": 136,
   "metadata": {},
   "outputs": [],
   "source": [
    "# print(results[0]._json.keys())"
   ]
  },
  {
   "cell_type": "code",
   "execution_count": 137,
   "metadata": {},
   "outputs": [],
   "source": [
    "# print(results[0]._json['text'])"
   ]
  },
  {
   "cell_type": "markdown",
   "metadata": {},
   "source": [
    "<li>We can save this to files that can then be read by a plaintextcorpus reader\n",
    "<li>The order is important\n",
    "<li>We could use  datetime for ordering\n",
    "<li>But we'll just number them for now\n",
    "<li>Saving to a file also helps us build a tweet corpus\n"
   ]
  },
  {
   "cell_type": "code",
   "execution_count": 59,
   "metadata": {},
   "outputs": [],
   "source": [
    "search_term = 'AAPL'\n",
    "for i in range(len(results)):\n",
    "    fname = search_term+'.'+str(len(results)-i)\n",
    "    with open('/home/uday/Documents/Columbia_University/DataAnalytics-Fall2019/Week 6: text mining/data/tweets/'+fname,'w') as f:\n",
    "        f.write(results[i]._json['text']+'\\n')"
   ]
  },
  {
   "cell_type": "code",
   "execution_count": null,
   "metadata": {},
   "outputs": [],
   "source": [
    "search_term = 'naomi osaka'\n",
    "for i in range(len(results)):\n",
    "    fname = search_term+'.'+str(len(results)-i)\n",
    "    with open('/home/uday/Documents/Columbia_University/DataAnalytics-Fall2019/Week 6: text mining/data/tweets/'+fname,'w') as f:\n",
    "        f.write(results[i]._json['text']+'\\n')"
   ]
  },
  {
   "cell_type": "markdown",
   "metadata": {},
   "source": [
    "<h4>Now we can do sentiment analysis on these tweets</h4>"
   ]
  },
  {
   "cell_type": "code",
   "execution_count": null,
   "metadata": {},
   "outputs": [],
   "source": [
    "apple_data.raw()"
   ]
  },
  {
   "cell_type": "code",
   "execution_count": null,
   "metadata": {},
   "outputs": [],
   "source": [
    "import nltk\n",
    "from nltk.corpus import PlaintextCorpusReader\n",
    "tweets_root = \"/home/uday/Documents/Columbia_University/DataAnalytics-Fall2019/Week 6: text mining/data/tweets\"\n",
    "apple_files = \"AAPL.*\"\n",
    "apple_data = PlaintextCorpusReader(tweets_root,apple_files)\n",
    "do_pos_neg_sentiment_analysis([['apple',apple_data.raw()]])"
   ]
  },
  {
   "cell_type": "code",
   "execution_count": null,
   "metadata": {},
   "outputs": [],
   "source": [
    "import nltk\n",
    "from nltk.corpus import PlaintextCorpusReader\n",
    "tweets_root = \"/home/uday/Documents/Columbia_University/DataAnalytics-Fall2019/Week 6: text mining/data/tweets\"\n",
    "naomi_files = \"naomi osaka.*\"\n",
    "naomi_data = PlaintextCorpusReader(tweets_root,naomi_files)\n",
    "naomi_data.raw()"
   ]
  },
  {
   "cell_type": "code",
   "execution_count": null,
   "metadata": {},
   "outputs": [],
   "source": [
    "comparative_emotion_analyzer([['apple',apple_data.raw()]],object_name='Apple Tweets',print_output=False)  # function requires a tuple"
   ]
  },
  {
   "cell_type": "code",
   "execution_count": null,
   "metadata": {},
   "outputs": [],
   "source": [
    "comparative_emotion_analyzer([['naomi',naomi_data.raw()]],object_name='Naomi Tweets',print_output=False)"
   ]
  },
  {
   "cell_type": "markdown",
   "metadata": {},
   "source": [
    "<h2>Let's package this</h2>"
   ]
  },
  {
   "cell_type": "code",
   "execution_count": null,
   "metadata": {},
   "outputs": [],
   "source": [
    "def get_tweets(search_term,consumer_key=consumer_key,consumer_secret=consumer_secret,\n",
    "               access_token=access_token,access_token_secret=access_token_secret):\n",
    "    import tweepy\n",
    "    auth = tweepy.OAuthHandler(consumer_key, consumer_secret)\n",
    "    auth.set_access_token(access_token, access_token_secret)\n",
    "    api = tweepy.API(auth)\n",
    "#    search_term = 'AAPL'\n",
    "    ## fill in your search query and store your results in a variable\n",
    "    results = api.search(q = search_term, lang = \"en\", result_type = \"recent\", count = 1000)\n",
    "#    search_term = 'AAPL'\n",
    "    for i in range(len(results)):\n",
    "        fname = search_term+'.'+str(len(results)-i)\n",
    "        with open('/home/uday/Documents/Columbia_University/DataAnalytics-Fall2019/Week 6: text mining/data/tweets/'+fname,'w') as f:\n",
    "            f.write(results[i]._json['text']+'\\n')\n",
    "\n",
    "get_tweets(search_term=\"GOOG\")\n",
    "            "
   ]
  },
  {
   "cell_type": "markdown",
   "metadata": {},
   "source": [
    "<h2>And do a comparative analysis</h2>"
   ]
  },
  {
   "cell_type": "code",
   "execution_count": 60,
   "metadata": {},
   "outputs": [
    {
     "data": {
      "text/html": [
       "<div>\n",
       "<style scoped>\n",
       "    .dataframe tbody tr th:only-of-type {\n",
       "        vertical-align: middle;\n",
       "    }\n",
       "\n",
       "    .dataframe tbody tr th {\n",
       "        vertical-align: top;\n",
       "    }\n",
       "\n",
       "    .dataframe thead th {\n",
       "        text-align: right;\n",
       "    }\n",
       "</style>\n",
       "<table border=\"1\" class=\"dataframe\">\n",
       "  <thead>\n",
       "    <tr style=\"text-align: right;\">\n",
       "      <th></th>\n",
       "      <th>Fear</th>\n",
       "      <th>Trust</th>\n",
       "      <th>Negative</th>\n",
       "      <th>Positive</th>\n",
       "      <th>Joy</th>\n",
       "      <th>Disgust</th>\n",
       "      <th>Anticipation</th>\n",
       "      <th>Sadness</th>\n",
       "      <th>Surprise</th>\n",
       "    </tr>\n",
       "    <tr>\n",
       "      <th>Equity</th>\n",
       "      <th></th>\n",
       "      <th></th>\n",
       "      <th></th>\n",
       "      <th></th>\n",
       "      <th></th>\n",
       "      <th></th>\n",
       "      <th></th>\n",
       "      <th></th>\n",
       "      <th></th>\n",
       "    </tr>\n",
       "  </thead>\n",
       "  <tbody>\n",
       "    <tr>\n",
       "      <td>apple</td>\n",
       "      <td>0.001646</td>\n",
       "      <td>0.011519</td>\n",
       "      <td>0.005485</td>\n",
       "      <td>0.013714</td>\n",
       "      <td>0.004937</td>\n",
       "      <td>0.000549</td>\n",
       "      <td>0.010422</td>\n",
       "      <td>0.001646</td>\n",
       "      <td>0.004937</td>\n",
       "    </tr>\n",
       "    <tr>\n",
       "      <td>google</td>\n",
       "      <td>0.003636</td>\n",
       "      <td>0.009091</td>\n",
       "      <td>0.013333</td>\n",
       "      <td>0.013333</td>\n",
       "      <td>0.004848</td>\n",
       "      <td>0.001212</td>\n",
       "      <td>0.010303</td>\n",
       "      <td>0.002424</td>\n",
       "      <td>0.003636</td>\n",
       "    </tr>\n",
       "  </tbody>\n",
       "</table>\n",
       "</div>"
      ],
      "text/plain": [
       "            Fear     Trust  Negative  Positive       Joy   Disgust  \\\n",
       "Equity                                                               \n",
       "apple   0.001646  0.011519  0.005485  0.013714  0.004937  0.000549   \n",
       "google  0.003636  0.009091  0.013333  0.013333  0.004848  0.001212   \n",
       "\n",
       "        Anticipation   Sadness  Surprise  \n",
       "Equity                                    \n",
       "apple       0.010422  0.001646  0.004937  \n",
       "google      0.010303  0.002424  0.003636  "
      ]
     },
     "execution_count": 60,
     "metadata": {},
     "output_type": "execute_result"
    }
   ],
   "source": [
    "import nltk\n",
    "from nltk.corpus import PlaintextCorpusReader\n",
    "tweets_root = \"/home/uday/Documents/Columbia_University/DataAnalytics-Fall2019/Week 6: text mining/data/tweets\"\n",
    "apple_files = \"AAPL.*\"\n",
    "google_files = \"GOOG.*\"\n",
    "apple_data = PlaintextCorpusReader(tweets_root,apple_files)\n",
    "google_data = PlaintextCorpusReader(tweets_root,google_files)\n",
    "do_pos_neg_sentiment_analysis([['apple',apple_data.raw()],['google',google_data.raw()]])\n",
    "comparative_emotion_analyzer([\n",
    "    ['apple',apple_data.raw()],\n",
    "    ['google',google_data.raw()]],\n",
    "    object_name='Equity',print_output=False)"
   ]
  },
  {
   "cell_type": "markdown",
   "metadata": {},
   "source": [
    "<h1>Simple analysis: Word Clouds</h1>"
   ]
  },
  {
   "cell_type": "markdown",
   "metadata": {},
   "source": [
    "<h4>Let's see what sort of words the snippets use</h4>\n",
    "<li>First we'll combine all snippets into one string\n",
    "<li>Then we'll generate a word cloud using the words in the string\n",
    "<li>You may need to install wordcloud using pip\n",
    "<li>pip install wordcloud"
   ]
  },
  {
   "cell_type": "code",
   "execution_count": null,
   "metadata": {
    "collapsed": true,
    "jupyter": {
     "outputs_hidden": true
    }
   },
   "outputs": [],
   "source": [
    "!source activate py36;pip install wordcloud"
   ]
  },
  {
   "cell_type": "code",
   "execution_count": 62,
   "metadata": {},
   "outputs": [],
   "source": [
    "# all_snippets"
   ]
  },
  {
   "cell_type": "code",
   "execution_count": null,
   "metadata": {},
   "outputs": [],
   "source": [
    "text=''\n",
    "for snippet in all_snippets:\n",
    "    text+=snippet[1]\n",
    "text"
   ]
  },
  {
   "cell_type": "code",
   "execution_count": 63,
   "metadata": {},
   "outputs": [
    {
     "data": {
      "image/png": "[encoded data removed]",
      "text/plain": [
       "<matplotlib.figure.Figure at 0x7fdee9db1048>"
      ]
     },
     "metadata": {},
     "output_type": "display_data"
    }
   ],
   "source": [
    "from wordcloud import WordCloud, STOPWORDS\n",
    "import matplotlib.pyplot as plt\n",
    "%matplotlib inline\n",
    "\n",
    "wordcloud = WordCloud(stopwords=STOPWORDS,background_color='white',width=3000,height=3000).generate(text)\n",
    "\n",
    "\n",
    "plt.imshow(wordcloud)\n",
    "plt.axis('off')\n",
    "plt.show()"
   ]
  },
  {
   "cell_type": "code",
   "execution_count": null,
   "metadata": {},
   "outputs": [],
   "source": [
    "from wordcloud import WordCloud, STOPWORDS\n",
    "STOPWORDS  # returns all the stop words"
   ]
  },
  {
   "cell_type": "markdown",
   "metadata": {},
   "source": [
    "<h2>word cloud comparison</h2>\n",
    "<li>We'll remove short words and look only at words longer than 6 letters\n",
    "<li>And then do a side by side comparison of the word clouds for our four restaurants"
   ]
  },
  {
   "cell_type": "code",
   "execution_count": 64,
   "metadata": {},
   "outputs": [
    {
     "data": {
      "image/png": "[encoded data removed]",
      "text/plain": [
       "<matplotlib.figure.Figure at 0x7fdee9d73a90>"
      ]
     },
     "metadata": {},
     "output_type": "display_data"
    }
   ],
   "source": [
    "# Examples of pre-processing the data:\n",
    "texts = restaurant_data\n",
    "from wordcloud import WordCloud, STOPWORDS\n",
    "import matplotlib.pyplot as plt\n",
    "%matplotlib inline\n",
    "#Remove unwanted words\n",
    "#As we look at the cloud, we can get rid of words that don't make sense by adding them to this variable\n",
    "DELETE_WORDS = []   # add words to list to delete/remove\n",
    "def remove_words(text_string,DELETE_WORDS=DELETE_WORDS):\n",
    "    for word in DELETE_WORDS:\n",
    "        text_string = text_string.replace(word,' ')  # replaces words with empty space\n",
    "    return text_string\n",
    "\n",
    "#Remove short words\n",
    "MIN_LENGTH = 0\n",
    "def remove_short_words(text_string,min_length = MIN_LENGTH):\n",
    "    word_list = text_string.split()\n",
    "    for word in word_list:\n",
    "        if len(word) < min_length:\n",
    "            text_string = text_string.replace(' '+word+' ',' ',1)\n",
    "    return text_string\n",
    "\n",
    "\n",
    "#Set up side by side clouds\n",
    "COL_NUM = 2\n",
    "ROW_NUM = 2\n",
    "fig, axes = plt.subplots(ROW_NUM, COL_NUM, figsize=(12,12))\n",
    "\n",
    "for i in range(0,len(texts)):\n",
    "    text_string = remove_words(texts[i][1])\n",
    "    text_string = remove_short_words(text_string)\n",
    "    ax = axes[i//2, i%2] \n",
    "    ax.set_title(texts[i][0])\n",
    "    wordcloud = WordCloud(stopwords=STOPWORDS,background_color='white',width=1200,height=1000,max_words=20).generate(text_string)\n",
    "    ax.imshow(wordcloud)\n",
    "    ax.axis('off')\n",
    "plt.show()"
   ]
  },
  {
   "cell_type": "code",
   "execution_count": 65,
   "metadata": {},
   "outputs": [
    {
     "data": {
      "image/png": "[encoded data removed]",
      "text/plain": [
       "<matplotlib.figure.Figure at 0x7fdee86d7ef0>"
      ]
     },
     "metadata": {},
     "output_type": "display_data"
    }
   ],
   "source": [
    "texts = [('trump',inaugural.raw('2017-Trump.txt')),('Obama',inaugural.raw('2013-Obama.txt')),\n",
    "         ('Bush',inaugural.raw('2001-Bush.txt')),('Clinton',inaugural.raw('1997-Clinton.txt'))]\n",
    "from wordcloud import WordCloud, STOPWORDS\n",
    "import matplotlib.pyplot as plt\n",
    "%matplotlib inline\n",
    "#Remove unwanted words\n",
    "#As we look at the cloud, we can get rid of words that don't make sense by adding them to this variable\n",
    "DELETE_WORDS = []\n",
    "def remove_words(text_string,DELETE_WORDS=DELETE_WORDS):\n",
    "    for word in DELETE_WORDS:\n",
    "        text_string = text_string.replace(word,' ')\n",
    "    return text_string\n",
    "\n",
    "#Remove short words\n",
    "MIN_LENGTH = 0\n",
    "def remove_short_words(text_string,min_length = MIN_LENGTH):\n",
    "    word_list = text_string.split()\n",
    "    for word in word_list:\n",
    "        if len(word) < min_length:\n",
    "            text_string = text_string.replace(' '+word+' ',' ',1)\n",
    "    return text_string\n",
    "\n",
    "\n",
    "#Set up side by side clouds\n",
    "COL_NUM = 2\n",
    "ROW_NUM = 2\n",
    "fig, axes = plt.subplots(ROW_NUM, COL_NUM, figsize=(12,12))\n",
    "\n",
    "for i in range(0,len(texts)):\n",
    "    text_string = remove_words(texts[i][1])\n",
    "    text_string = remove_short_words(text_string)\n",
    "    ax = axes[i//2, i%2] \n",
    "    ax.set_title(texts[i][0])\n",
    "    wordcloud = WordCloud(stopwords=STOPWORDS,background_color='white',width=1200,height=1000,max_words=20).generate(text_string)\n",
    "    ax.imshow(wordcloud)\n",
    "    ax.axis('off')\n",
    "plt.show()"
   ]
  },
  {
   "cell_type": "markdown",
   "metadata": {},
   "source": [
    "<h1>Simple Analysis: Complexity</h1>\n",
    "<h4>We'll look at four complexity factors</h4>\n",
    "<li>average word length: longer words adds to complexity\n",
    "<li>average sentence length: longer sentences are more complex (unless the text is rambling!)\n",
    "<li>vocabulary: the ratio of unique words used to the total number of words (more variety, more complexity)"
   ]
  },
  {
   "cell_type": "markdown",
   "metadata": {},
   "source": [
    "<b>token:</b> A sequence (or group) of characters of interest. For e.g., in the below analysis, a token = a word\n",
    "<li>Generally: A token is the base unit of analysis</li>\n",
    "<li>So, the first step is to convert text into tokens and nltk text object</li>"
   ]
  },
  {
   "cell_type": "code",
   "execution_count": 69,
   "metadata": {},
   "outputs": [
    {
     "name": "stdout",
     "output_type": "stream",
     "text": [
      "188\n",
      "2595\n"
     ]
    }
   ],
   "source": [
    "#Construct tokens (words/sentences) from the text\n",
    "text = le_monde_data.raw()\n",
    "import nltk\n",
    "from nltk import sent_tokenize,word_tokenize \n",
    "sentences = nltk.Text(sent_tokenize(text))\n",
    "print(len(sentences))\n",
    "words = nltk.Text(word_tokenize(text))\n",
    "print(len(words))"
   ]
  },
  {
   "cell_type": "code",
   "execution_count": null,
   "metadata": {},
   "outputs": [],
   "source": []
  },
  {
   "cell_type": "code",
   "execution_count": 74,
   "metadata": {},
   "outputs": [
    {
     "name": "stdout",
     "output_type": "stream",
     "text": [
      "12332 4 13 0.29132947976878615\n"
     ]
    }
   ],
   "source": [
    "num_chars=len(text)\n",
    "num_words=len(word_tokenize(text))\n",
    "num_sentences=len(sent_tokenize(text))\n",
    "vocab = {x.lower() for x in word_tokenize(text)}  # put all words/tokens into a set, so that you get the unique words\n",
    "print(num_chars,int(num_chars/num_words),int(num_words/num_sentences),(len(vocab)/num_words))\n"
   ]
  },
  {
   "cell_type": "markdown",
   "metadata": {},
   "source": [
    "<h4>Functionalize this</h4>"
   ]
  },
  {
   "cell_type": "code",
   "execution_count": 75,
   "metadata": {},
   "outputs": [],
   "source": [
    "def get_complexity(text):\n",
    "    num_chars=len(text)\n",
    "    num_words=len(word_tokenize(text))\n",
    "    num_sentences=len(sent_tokenize(text))\n",
    "    vocab = {x.lower() for x in word_tokenize(text)}\n",
    "    return len(vocab),int(num_chars/num_words),int(num_words/num_sentences),len(vocab)/num_words"
   ]
  },
  {
   "cell_type": "code",
   "execution_count": null,
   "metadata": {},
   "outputs": [],
   "source": [
    "get_complexity(le_monde_data.raw())"
   ]
  },
  {
   "cell_type": "code",
   "execution_count": 76,
   "metadata": {},
   "outputs": [
    {
     "name": "stdout",
     "output_type": "stream",
     "text": [
      "community      \t1029.00\t4.00\t16.00\t0.28\n",
      "le monde       \t756.00\t4.00\t13.00\t0.29\n",
      "shakeshack     \t711.00\t4.00\t16.00\t0.28\n",
      "fiveguys       \t597.00\t4.00\t16.00\t0.30\n"
     ]
    }
   ],
   "source": [
    "for text in restaurant_data:\n",
    "    (vocab,word_size,sent_size,vocab_to_text) = get_complexity(text[1])\n",
    "    print(\"{0:15s}\\t{1:1.2f}\\t{2:1.2f}\\t{3:1.2f}\\t{4:1.2f}\".format(text[0],vocab,word_size,sent_size,vocab_to_text))"
   ]
  },
  {
   "cell_type": "markdown",
   "metadata": {},
   "source": [
    "<h3>Comparing complexity of restaurant reviews won't get us anything useful</h3>\n",
    "<h3>Let's look at something more useful</h3>"
   ]
  },
  {
   "cell_type": "markdown",
   "metadata": {},
   "source": [
    "<h4>Let's look at the complexity of the speeches by four presidents</h4>"
   ]
  },
  {
   "cell_type": "code",
   "execution_count": 77,
   "metadata": {},
   "outputs": [
    {
     "name": "stdout",
     "output_type": "stream",
     "text": [
      "trump          \t540.00\t5.00\t18.00\t0.32\n",
      "obama          \t788.00\t5.00\t26.00\t0.34\n",
      "jackson        \t504.00\t5.00\t48.00\t0.42\n",
      "washington     \t604.00\t5.00\t66.00\t0.39\n"
     ]
    }
   ],
   "source": [
    "inaugural_texts = [('trump',inaugural.raw('2017-Trump.txt')),\n",
    "         ('obama',inaugural.raw('2013-Obama.txt')),\n",
    "         ('jackson',inaugural.raw('1829-Jackson.txt')),\n",
    "         ('washington',inaugural.raw('1789-Washington.txt'))]\n",
    "for text in inaugural_texts:\n",
    "    (vocab,word_size,sent_size,vocab_to_text) = get_complexity(text[1])\n",
    "    print(\"{0:15s}\\t{1:1.2f}\\t{2:1.2f}\\t{3:1.2f}\\t{4:1.2f}\".format(text[0],vocab,word_size,sent_size,vocab_to_text))"
   ]
  },
  {
   "cell_type": "markdown",
   "metadata": {},
   "source": [
    "<h2>Analysis over time</h2>\n"
   ]
  },
  {
   "cell_type": "markdown",
   "metadata": {},
   "source": [
    "<h3>The files are arranged over time so we can analyze how complexity has changed between Washington and Trump</h3>"
   ]
  },
  {
   "cell_type": "code",
   "execution_count": 81,
   "metadata": {},
   "outputs": [
    {
     "data": {
      "text/plain": [
       "[<matplotlib.lines.Line2D at 0x7fdee83ce320>]"
      ]
     },
     "execution_count": 81,
     "metadata": {},
     "output_type": "execute_result"
    },
    {
     "data": {
      "image/png": "[encoded data removed]",
      "text/plain": [
       "<matplotlib.figure.Figure at 0x7fdee8472390>"
      ]
     },
     "metadata": {},
     "output_type": "display_data"
    }
   ],
   "source": [
    "from nltk.corpus import inaugural\n",
    "sentence_lengths = list()\n",
    "for fileid in inaugural.fileids():\n",
    "    sentence_lengths.append(get_complexity(' '.join(inaugural.words(fileid)))[2])\n",
    "plt.plot(sentence_lengths)"
   ]
  },
  {
   "cell_type": "markdown",
   "metadata": {},
   "source": [
    "There is a steady decline in sentence length of inaugural speeches over time"
   ]
  },
  {
   "cell_type": "code",
   "execution_count": 82,
   "metadata": {},
   "outputs": [],
   "source": [
    "inaugural.words('1789-Washington.txt')\n",
    "# type(inaugural)\n",
    "# inaugural.raw('1789-Washington.txt')"
   ]
  },
  {
   "cell_type": "markdown",
   "metadata": {},
   "source": [
    "<h1>dispersion plots</h1>\n",
    "<h2>Dispersion plots show the relative frequency of words over the text</h2>\n",
    "<h3>Let's see how the frequency of some words has changed over the course of the republic</h3>\n",
    "<h3>That should give us some idea of how the focus of the nation has changed</h3>"
   ]
  },
  {
   "cell_type": "code",
   "execution_count": 84,
   "metadata": {},
   "outputs": [
    {
     "data": {
      "image/png": "[encoded data removed]",
      "text/plain": [
       "<matplotlib.figure.Figure at 0x7fdee8472128>"
      ]
     },
     "metadata": {},
     "output_type": "display_data"
    }
   ],
   "source": [
    "text4.dispersion_plot([\"government\", \"citizen\", \"freedom\", \"duties\", \"America\",'independence','God','patriotism'])"
   ]
  },
  {
   "cell_type": "markdown",
   "metadata": {},
   "source": [
    "<h4>You can use dispersion plots to identify important characters in a book</h4>\n",
    "<li>The main characters in Sense and Sensibility are Elinor, Marianne, Edward, and Willoughby\n",
    "<li>Who are the more important, the men or the women?"
   ]
  },
  {
   "cell_type": "code",
   "execution_count": 86,
   "metadata": {},
   "outputs": [
    {
     "data": {
      "image/png": "[encoded data removed]",
      "text/plain": [
       "<matplotlib.figure.Figure at 0x7fdee8729240>"
      ]
     },
     "metadata": {},
     "output_type": "display_data"
    }
   ],
   "source": [
    "\n",
    "text2.dispersion_plot(['Elinor','Marianne','Edward','Willoughby'])"
   ]
  },
  {
   "cell_type": "markdown",
   "metadata": {},
   "source": [
    "<h4>Of the characters in the book, which are likely major and which minor?</h4>"
   ]
  },
  {
   "cell_type": "code",
   "execution_count": 87,
   "metadata": {},
   "outputs": [
    {
     "data": {
      "image/png": "[encoded data removed]",
      "text/plain": [
       "<matplotlib.figure.Figure at 0x7fdee87295c0>"
      ]
     },
     "metadata": {},
     "output_type": "display_data"
    }
   ],
   "source": [
    "text2.dispersion_plot(['Elinor','Marianne','Edward','Willoughby','Brandon','Fanny'])"
   ]
  },
  {
   "cell_type": "markdown",
   "metadata": {},
   "source": [
    "<h2>Stemming</h2>"
   ]
  },
  {
   "cell_type": "markdown",
   "metadata": {},
   "source": [
    "<h4>We may want to use word stems rather than the part of speect form</h4>\n",
    "<li>For example: patriot, patriotic, patriotism all express roughly the same idea\n",
    "<li>nltk has a stemmer that implements the \"Porter Stemming Algorithm\" (https://tartarus.org/martin/PorterStemmer/)\n",
    "<li>We'll push everything to lowercase as well"
   ]
  },
  {
   "cell_type": "code",
   "execution_count": 88,
   "metadata": {},
   "outputs": [
    {
     "data": {
      "image/png": "[encoded data removed]",
      "text/plain": [
       "<matplotlib.figure.Figure at 0x7fdedd77b748>"
      ]
     },
     "metadata": {},
     "output_type": "display_data"
    }
   ],
   "source": [
    "from nltk.stem.porter import PorterStemmer\n",
    "p_stemmer = PorterStemmer()\n",
    "text = inaugural.raw()\n",
    "striptext = text.replace('\\n\\n', ' ')\n",
    "striptext = striptext.replace('\\n', ' ')\n",
    "sentences = sent_tokenize(striptext)\n",
    "words = word_tokenize(striptext)\n",
    "text = nltk.Text([p_stemmer.stem(i).lower() for i in words])\n",
    "text.dispersion_plot([\"govern\", \"citizen\", \"free\", \"america\",'independ','god','patriot'])"
   ]
  },
  {
   "cell_type": "markdown",
   "metadata": {},
   "source": [
    "Dispersion plot over the stemmed version of each word"
   ]
  },
  {
   "cell_type": "markdown",
   "metadata": {},
   "source": [
    "<h2>Weighted sentiment analysis using Vader</h2>\n",
    "<h4>Vader contains a list of 7500 features weighted by how positive or negative they are</h4>\n",
    "<h4>It uses these features to calculate stats on how positive, negative and neutral a passage is</h4>\n",
    "<h4>And combines these results to give a compound sentiment (higher = more positive) for the passage</h4>\n",
    "<h4>Human trained on twitter data and generally considered good for informal communication</h4>\n",
    "<h4>10 humans rated each feature in each tweet in context from -4 to +4</h4>\n",
    "<h4>Calculates the sentiment in a sentence using word order analysis</h4>\n",
    "<li>\"marginally good\" will get a lower positive score than \"extremely good\"\n",
    "<h4>Computes a \"compound\" score based on heuristics (between -1 and +1)</h4>\n",
    "<h4>Includes sentiment of emoticons, punctuation, and other 'social media' lexicon elements</h4>\n"
   ]
  },
  {
   "cell_type": "code",
   "execution_count": null,
   "metadata": {},
   "outputs": [],
   "source": [
    "!source activate py36;pip install vaderSentiment"
   ]
  },
  {
   "cell_type": "code",
   "execution_count": 89,
   "metadata": {},
   "outputs": [],
   "source": [
    "from vaderSentiment.vaderSentiment import SentimentIntensityAnalyzer"
   ]
  },
  {
   "cell_type": "code",
   "execution_count": 90,
   "metadata": {},
   "outputs": [
    {
     "name": "stdout",
     "output_type": "stream",
     "text": [
      "community 0.20231531531531521 0.026099099099099105 0.7715900900900892 0.33487432432432435\n",
      "le monde 0.17217021276595745 0.04306914893617022 0.7847712765957447 0.2149292553191488\n",
      "shakeshack 0.11929487179487183 0.08801923076923074 0.7926794871794863 0.07660192307692311\n",
      "fiveguys 0.24043801652892563 0.03497520661157026 0.7245785123966941 0.31504710743801667\n"
     ]
    }
   ],
   "source": [
    "headers = ['pos','neg','neu','compound']\n",
    "texts = restaurant_data\n",
    "analyzer = SentimentIntensityAnalyzer()\n",
    "for i in range(len(texts)):\n",
    "    name = texts[i][0]\n",
    "    sentences = sent_tokenize(texts[i][1])\n",
    "    pos=compound=neu=neg=0\n",
    "    for sentence in sentences:\n",
    "        vs = analyzer.polarity_scores(sentence)\n",
    "        pos+=vs['pos']/(len(sentences))\n",
    "        compound+=vs['compound']/(len(sentences))\n",
    "        neu+=vs['neu']/(len(sentences))\n",
    "        neg+=vs['neg']/(len(sentences))\n",
    "    print(name,pos,neg,neu,compound)"
   ]
  },
  {
   "cell_type": "markdown",
   "metadata": {},
   "source": [
    "<h4>And functionalize this as well</h4>"
   ]
  },
  {
   "cell_type": "code",
   "execution_count": 91,
   "metadata": {},
   "outputs": [],
   "source": [
    "def vader_comparison(texts):\n",
    "    from vaderSentiment.vaderSentiment import SentimentIntensityAnalyzer\n",
    "    headers = ['pos','neg','neu','compound']\n",
    "    print(\"Name\\t\",'  pos\\t','neg\\t','neu\\t','compound')\n",
    "    analyzer = SentimentIntensityAnalyzer()\n",
    "    for i in range(len(texts)):\n",
    "        name = texts[i][0]\n",
    "        sentences = sent_tokenize(texts[i][1])\n",
    "        pos=compound=neu=neg=0\n",
    "        for sentence in sentences:\n",
    "            vs = analyzer.polarity_scores(sentence)\n",
    "            pos+=vs['pos']/(len(sentences))\n",
    "            compound+=vs['compound']/(len(sentences))\n",
    "            neu+=vs['neu']/(len(sentences))\n",
    "            neg+=vs['neg']/(len(sentences))\n",
    "        print('%-10s'%name,'%1.2f\\t'%pos,'%1.2f\\t'%neg,'%1.2f\\t'%neu,'%1.2f\\t'%compound)"
   ]
  },
  {
   "cell_type": "code",
   "execution_count": 92,
   "metadata": {},
   "outputs": [
    {
     "name": "stdout",
     "output_type": "stream",
     "text": [
      "Name\t   pos\t neg\t neu\t compound\n",
      "community  0.20\t 0.03\t 0.77\t 0.33\t\n",
      "le monde   0.17\t 0.04\t 0.78\t 0.21\t\n",
      "shakeshack 0.12\t 0.09\t 0.79\t 0.08\t\n",
      "fiveguys   0.24\t 0.03\t 0.72\t 0.32\t\n"
     ]
    }
   ],
   "source": [
    "vader_comparison(restaurant_data)"
   ]
  },
  {
   "cell_type": "code",
   "execution_count": 93,
   "metadata": {},
   "outputs": [
    {
     "name": "stdout",
     "output_type": "stream",
     "text": [
      "Name\t   pos\t neg\t neu\t compound\n",
      "trump      0.20\t 0.06\t 0.74\t 0.23\t\n",
      "obama      0.17\t 0.05\t 0.78\t 0.32\t\n",
      "jackson    0.19\t 0.03\t 0.78\t 0.61\t\n",
      "washington 0.17\t 0.05\t 0.79\t 0.58\t\n"
     ]
    }
   ],
   "source": [
    "vader_comparison(inaugural_texts)\n"
   ]
  },
  {
   "cell_type": "markdown",
   "metadata": {},
   "source": [
    "<h1>Named Entity Detection</h1>\n",
    "<h4>People, places, organizations</h4>\n",
    "Named entities are often the subject of sentiments so identifying them can be very useful"
   ]
  },
  {
   "cell_type": "markdown",
   "metadata": {},
   "source": [
    "<h4>Named entity detection is based on Part-of-speech tagging of words and chunks (groups of words)</h4>\n",
    "<li>Start with sentences (using a sentence tokenizer)\n",
    "<li>tokenize words in each sentence\n",
    "<li>chunk them. ne_chunk identifies likely chunked candidates (ne = named entity)\n",
    "<li>Finally build chunks using nltk's guess on what members of chunk represent (people, place, organization)\n"
   ]
  },
  {
   "cell_type": "markdown",
   "metadata": {},
   "source": [
    "<li>english pickle in the 'punkt' package contains english grammar information\n",
    "<li>we can load it and then use it to parse a sentence into constituent sentences"
   ]
  },
  {
   "cell_type": "code",
   "execution_count": 1,
   "metadata": {},
   "outputs": [
    {
     "data": {
      "text/plain": [
       "['\\nI was walking along thinking of many things.',\n",
       " 'For e.g., I walked with my friend Bilkees Bijou through the campus of Columbia University.',\n",
       " 'I \\nthought of birds, of bees, of sealing wax.',\n",
       " 'I thought of cabbages and kings.']"
      ]
     },
     "execution_count": 1,
     "metadata": {},
     "output_type": "execute_result"
    }
   ],
   "source": [
    "import nltk\n",
    "sent_detector = nltk.data.load('tokenizers/punkt/english.pickle')\n",
    "sample_text = \"\"\"\n",
    "I was walking along thinking of many things. For e.g., I walked with my friend Bilkees Bijou through the campus of Columbia University. I \n",
    "thought of birds, of bees, of sealing wax. I thought of cabbages and kings.\n",
    "\"\"\"\n",
    "\n",
    "sent_detector.tokenize(sample_text)  # tokenize into separate sentences (not words)"
   ]
  },
  {
   "cell_type": "markdown",
   "metadata": {},
   "source": [
    "<h4>word_tokenize collects the words from a sentence</h4>"
   ]
  },
  {
   "cell_type": "code",
   "execution_count": 2,
   "metadata": {},
   "outputs": [
    {
     "data": {
      "text/plain": [
       "['For',\n",
       " 'e.g.',\n",
       " ',',\n",
       " 'I',\n",
       " 'walked',\n",
       " 'with',\n",
       " 'my',\n",
       " 'friend',\n",
       " 'Bilkees',\n",
       " 'Bijou',\n",
       " 'through',\n",
       " 'the',\n",
       " 'campus',\n",
       " 'of',\n",
       " 'Columbia',\n",
       " 'University',\n",
       " '.']"
      ]
     },
     "execution_count": 2,
     "metadata": {},
     "output_type": "execute_result"
    }
   ],
   "source": [
    "word_list = nltk.word_tokenize(sent_detector.tokenize(sample_text)[1])  # word tokenize\n",
    "word_list\n",
    "# word_list2 = nltk.word_tokenize(sent_detector.tokenize(sample_text2)[1])  \n",
    "# word_list"
   ]
  },
  {
   "cell_type": "markdown",
   "metadata": {},
   "source": [
    "This is a bag-of-words model. You're reducing the document to a bunch of words and analyzing it at the word level, for each sentence."
   ]
  },
  {
   "cell_type": "markdown",
   "metadata": {},
   "source": [
    "<h4>pos_tag tags the word with nltk's best guess as to the part of speech</h4>\n",
    "<li>nltk uses Penn Treebank tagging</li>\n",
    "<li>https://www.ling.upenn.edu/courses/Fall_2003/ling001/penn_treebank_pos.html"
   ]
  },
  {
   "cell_type": "code",
   "execution_count": 97,
   "metadata": {},
   "outputs": [
    {
     "data": {
      "text/plain": [
       "[('For', 'IN'),\n",
       " ('e.g.', 'NN'),\n",
       " (',', ','),\n",
       " ('I', 'PRP'),\n",
       " ('walked', 'VBD'),\n",
       " ('with', 'IN'),\n",
       " ('my', 'PRP$'),\n",
       " ('friend', 'NN'),\n",
       " ('Bilkees', 'NNP'),\n",
       " ('Bijou', 'NNP'),\n",
       " ('through', 'IN'),\n",
       " ('the', 'DT'),\n",
       " ('campus', 'NN'),\n",
       " ('of', 'IN'),\n",
       " ('Columbia', 'NNP'),\n",
       " ('University', 'NNP'),\n",
       " ('.', '.')]"
      ]
     },
     "execution_count": 97,
     "metadata": {},
     "output_type": "execute_result"
    }
   ],
   "source": [
    "nltk.pos_tag(word_list)\n"
   ]
  },
  {
   "cell_type": "markdown",
   "metadata": {},
   "source": [
    "<h4>ne_chunk creates a \"Sentence Tree\" of parts of speech using a tokenized list of words</h4>\n",
    "<li>words that are candidate entities have an attribute \"label\"\n",
    "<li>named-entity chunking - creates a tree of all the words that appeared in the sentence. For certain things that it identified as named entities, it creates sub-trees within that tree. The leaves of a single sub-tree are all part of the same entity, or what it identifies as a single entity. In the example below, it identified 'Bijou' and 'Bilkees' as the same person, and 'Columbia' and 'University' as a single organization."
   ]
  },
  {
   "cell_type": "code",
   "execution_count": 106,
   "metadata": {},
   "outputs": [
    {
     "data": {
      "image/png": "[encoded data removed]",
      "text/plain": [
       "Tree('S', [('For', 'IN'), ('e.g.', 'NN'), (',', ','), ('I', 'PRP'), ('walked', 'VBD'), ('with', 'IN'), ('my', 'PRP$'), ('friend', 'NN'), Tree('PERSON', [('Bilkees', 'NNP'), ('Bijou', 'NNP')]), ('through', 'IN'), ('the', 'DT'), ('campus', 'NN'), ('of', 'IN'), Tree('ORGANIZATION', [('Columbia', 'NNP'), ('University', 'NNP')]), ('.', '.')])"
      ]
     },
     "execution_count": 106,
     "metadata": {},
     "output_type": "execute_result"
    }
   ],
   "source": [
    "tagged = nltk.pos_tag(word_list)\n",
    "chunked = nltk.ne_chunk(tagged)\n",
    "chunked"
   ]
  },
  {
   "cell_type": "code",
   "execution_count": 144,
   "metadata": {},
   "outputs": [
    {
     "data": {
      "image/png": "[encoded data removed]",
      "text/plain": [
       "Tree('S', [('For', 'IN'), ('e.g.', 'NN'), (',', ','), ('I', 'PRP'), ('walked', 'VBD'), ('with', 'IN'), ('my', 'PRP$'), ('friends', 'NNS'), Tree('PERSON', [('Bilkees', 'NNP'), ('Bijou', 'NNP')]), ('and', 'CC'), Tree('PERSON', [('Donald', 'NNP'), ('Trump', 'NNP')]), ('through', 'IN'), ('the', 'DT'), ('campus', 'NN'), ('of', 'IN'), Tree('ORGANIZATION', [('Columbia', 'NNP'), ('University', 'NNP')]), ('.', '.')])"
      ]
     },
     "execution_count": 144,
     "metadata": {},
     "output_type": "execute_result"
    }
   ],
   "source": [
    "sample_text2 = \"\"\"\n",
    "I was walking along thinking of many things. For e.g., I walked with my friends Bilkees Bijou and Donald Trump through the campus of Columbia University. I \n",
    "thought of birds, of bees, of sealing wax. I thought of cabbages and kings.\n",
    "\"\"\"\n",
    "\n",
    "word_list2 = nltk.word_tokenize(sent_detector.tokenize(sample_text2)[1])\n",
    "tagged2 = nltk.pos_tag(word_list2)\n",
    "# nltk.ne_chunk(tagged2)\n",
    "chunked2 = nltk.ne_chunk(tagged2)\n",
    "chunked2"
   ]
  },
  {
   "cell_type": "markdown",
   "metadata": {},
   "source": [
    "<h4>hasattr() is a python function that checks whether a name is an attribute of an object"
   ]
  },
  {
   "cell_type": "code",
   "execution_count": 100,
   "metadata": {},
   "outputs": [
    {
     "data": {
      "text/plain": [
       "True"
      ]
     },
     "execution_count": 100,
     "metadata": {},
     "output_type": "execute_result"
    }
   ],
   "source": [
    "class my_class(object):\n",
    "    def __init__(self,x):\n",
    "        name = x\n",
    "    def check(self):\n",
    "        return self.name\n",
    "y = my_class('Jack')\n",
    "hasattr(y,'check')"
   ]
  },
  {
   "cell_type": "code",
   "execution_count": 101,
   "metadata": {},
   "outputs": [
    {
     "data": {
      "text/plain": [
       "'ORGANIZATION'"
      ]
     },
     "execution_count": 101,
     "metadata": {},
     "output_type": "execute_result"
    }
   ],
   "source": [
    "chunked[-2].label()"
   ]
  },
  {
   "cell_type": "code",
   "execution_count": null,
   "metadata": {},
   "outputs": [],
   "source": [
    "chunked2[-2].leaves()"
   ]
  },
  {
   "cell_type": "code",
   "execution_count": 107,
   "metadata": {},
   "outputs": [
    {
     "name": "stdout",
     "output_type": "stream",
     "text": [
      "(PERSON Bilkees/NNP Bijou/NNP) PERSON\n",
      "(ORGANIZATION Columbia/NNP University/NNP) ORGANIZATION\n"
     ]
    }
   ],
   "source": [
    "for j in chunked:\n",
    "    try:\n",
    "        print(j,j.label())   # only prints parts of the tree for which there is a label.\n",
    "    except:\n",
    "        continue"
   ]
  },
  {
   "cell_type": "code",
   "execution_count": null,
   "metadata": {},
   "outputs": [],
   "source": [
    "for j in chunked2:\n",
    "    try:\n",
    "        print(j,j.label())\n",
    "    except:\n",
    "        continue"
   ]
  },
  {
   "cell_type": "code",
   "execution_count": 109,
   "metadata": {},
   "outputs": [
    {
     "name": "stdout",
     "output_type": "stream",
     "text": [
      "Bilkees Bijou\n",
      "Columbia University\n",
      "{   'Bilkees Bijou': ['PERSON', 'NNP NNP'],\n",
      "    'Columbia University': ['ORGANIZATION', 'NNP NNP']}\n"
     ]
    }
   ],
   "source": [
    "en={}\n",
    "try:\n",
    "    sent_detector = nltk.data.load('tokenizers/punkt/english.pickle')\n",
    "    #sentences = sent_detector.tokenize(community_data.raw().strip())\n",
    "    sentences = sent_detector.tokenize(sample_text)\n",
    "    for sentence in sentences:\n",
    "            tokenized = nltk.word_tokenize(sentence)\n",
    "            tagged = nltk.pos_tag(tokenized)\n",
    "            chunked = nltk.ne_chunk(tagged)\n",
    "            for tree in chunked:\n",
    "                if hasattr(tree, 'label'):\n",
    "                    ne = ' '.join(c[0] for c in tree.leaves())\n",
    "                    print(ne)\n",
    "                    en[ne] = [tree.label(), ' '.join(c[1] for c in tree.leaves())]\n",
    "except Exception as e:\n",
    "    print(str(e))\n",
    "import pprint\n",
    "pp = pprint.PrettyPrinter(indent=4)\n",
    "pp.pprint(en)"
   ]
  },
  {
   "cell_type": "code",
   "execution_count": null,
   "metadata": {},
   "outputs": [],
   "source": [
    "chunked"
   ]
  },
  {
   "cell_type": "markdown",
   "metadata": {},
   "source": [
    "<h4>We can now do this on our actual text. Let's try with community_data</h4>"
   ]
  },
  {
   "cell_type": "code",
   "execution_count": 111,
   "metadata": {},
   "outputs": [],
   "source": [
    "en={}\n",
    "try:\n",
    "    sent_detector = nltk.data.load('tokenizers/punkt/english.pickle')\n",
    "    sentences = sent_detector.tokenize(community_data.raw().strip())\n",
    "    for sentence in sentences:\n",
    "            tokenized = nltk.word_tokenize(sentence)\n",
    "            tagged = nltk.pos_tag(tokenized)\n",
    "            chunked = nltk.ne_chunk(tagged)\n",
    "            for tree in chunked:\n",
    "                if hasattr(tree, 'label'):\n",
    "                    ne = ' '.join(c[0] for c in tree.leaves())\n",
    "                    en[ne] = [tree.label(), ' '.join(c[1] for c in tree.leaves())]\n",
    "except Exception as e:\n",
    "    print(str(e))\n",
    "import pprint\n",
    "pp = pprint.PrettyPrinter(indent=4)\n",
    "pp.pprint(en)"
   ]
  },
  {
   "cell_type": "markdown",
   "metadata": {},
   "source": [
    "<h3>And functionalize this</h3>"
   ]
  },
  {
   "cell_type": "code",
   "execution_count": 112,
   "metadata": {},
   "outputs": [
    {
     "data": {
      "text/plain": [
       "{'BEST': ['ORGANIZATION', 'NNP'],\n",
       " 'CU': ['ORGANIZATION', 'NNP'],\n",
       " 'Columbia University': ['ORGANIZATION', 'NNP NNP'],\n",
       " 'Community': ['ORGANIZATION', 'NNP'],\n",
       " 'Community Food': ['ORGANIZATION', 'NNP NNP'],\n",
       " 'Company': ['ORGANIZATION', 'NNP'],\n",
       " 'Country Breakfast': ['ORGANIZATION', 'NNP NNP'],\n",
       " 'FRESH': ['ORGANIZATION', 'NNP'],\n",
       " 'Fire Island Beer': ['ORGANIZATION', 'NNP NNP NNP'],\n",
       " 'GF': ['ORGANIZATION', 'NNP'],\n",
       " 'GLUTEN': ['ORGANIZATION', 'NNP'],\n",
       " 'GOOD': ['ORGANIZATION', 'JJ'],\n",
       " 'GREAT FOR': ['ORGANIZATION', 'NNP NNP'],\n",
       " 'HOURS': ['ORGANIZATION', 'NNP'],\n",
       " 'Huevos Rancheros': ['ORGANIZATION', 'NNP NNP'],\n",
       " 'Lighthouse': ['ORGANIZATION', 'NNP'],\n",
       " 'NBC': ['ORGANIZATION', 'NNP'],\n",
       " 'NOT': ['ORGANIZATION', 'NNP'],\n",
       " 'NYC': ['ORGANIZATION', 'NNP'],\n",
       " 'Newbury': ['ORGANIZATION', 'NNP'],\n",
       " 'POTATO': ['ORGANIZATION', 'NNP'],\n",
       " 'REAL': ['ORGANIZATION', 'JJ'],\n",
       " 'THE': ['ORGANIZATION', 'NNP'],\n",
       " 'Troy Barnes': ['ORGANIZATION', 'NN NNPS'],\n",
       " 'VERY': ['ORGANIZATION', 'NNP'],\n",
       " 'Yahoo': ['ORGANIZATION', 'NN']}"
      ]
     },
     "execution_count": 112,
     "metadata": {},
     "output_type": "execute_result"
    }
   ],
   "source": [
    "def get_labeled_text(text,label_type='ALL'):\n",
    "    en={}\n",
    "    try:\n",
    "        sent_detector = nltk.data.load('tokenizers/punkt/english.pickle')\n",
    "        sentences = sent_detector.tokenize(text.strip())\n",
    "        for sentence in sentences:\n",
    "                tokenized = nltk.word_tokenize(sentence)\n",
    "                tagged = nltk.pos_tag(tokenized)\n",
    "                chunked = nltk.ne_chunk(tagged)\n",
    "                for tree in chunked:\n",
    "                    if hasattr(tree, 'label'):\n",
    "                        if not label_type == \"ALL\":\n",
    "                            if not tree.label() == label_type:\n",
    "                                continue\n",
    "                        ne = ' '.join(c[0] for c in tree.leaves())\n",
    "                        en[ne] = [tree.label(), ' '.join(c[1] for c in tree.leaves())]\n",
    "    except Exception as e:\n",
    "        return str(e)\n",
    "    return en\n",
    "get_labeled_text(community_data.raw(),'ORGANIZATION')"
   ]
  },
  {
   "cell_type": "markdown",
   "metadata": {},
   "source": [
    "<h4>Assuming we've done a good job of identifying named entities, we can get an affect score on entities</h4>"
   ]
  },
  {
   "cell_type": "code",
   "execution_count": 113,
   "metadata": {},
   "outputs": [
    {
     "name": "stdout",
     "output_type": "stream",
     "text": [
      "Name\t   pos\t neg\t neu\t compound\n",
      "1          0.00\t 0.00\t 1.00\t 0.00\t\n",
      "2          0.11\t 0.15\t 0.73\t -0.17\t\n",
      "3          0.53\t 0.00\t 0.47\t 0.84\t\n",
      "4          0.28\t 0.00\t 0.71\t 0.49\t\n",
      "5          0.23\t 0.00\t 0.78\t 0.49\t\n",
      "6          0.36\t 0.00\t 0.64\t 0.74\t\n"
     ]
    }
   ],
   "source": [
    "meaningful_sents = list()\n",
    "i=0\n",
    "for sentence in sentences:\n",
    "    if 'service' in sentence:\n",
    "        i+=1\n",
    "        meaningful_sents.append((i,sentence))  # Sentences with the word 'service' is mentioned are pulled. We are interested in these sentences.\n",
    "\n",
    "vader_comparison(meaningful_sents)       "
   ]
  },
  {
   "cell_type": "markdown",
   "metadata": {},
   "source": [
    "<h4>We could also develop a affect calculator for common terms in our domain (e.g., food items)</h4>"
   ]
  },
  {
   "cell_type": "code",
   "execution_count": 114,
   "metadata": {},
   "outputs": [],
   "source": [
    "def get_affect(text,word,lower=True):\n",
    "    import nltk\n",
    "    from vaderSentiment.vaderSentiment import SentimentIntensityAnalyzer\n",
    "    analyzer = SentimentIntensityAnalyzer()\n",
    "    sent_detector = nltk.data.load('tokenizers/punkt/english.pickle')\n",
    "    sentences = sent_detector.tokenize(text.strip())\n",
    "    sentence_count = 0\n",
    "    running_total = 0\n",
    "    for sentence in sentences:\n",
    "        if lower: \n",
    "            sentence = sentence.lower()\n",
    "            word = word.lower()\n",
    "        if word in sentence:\n",
    "            vs = analyzer.polarity_scores(sentence) \n",
    "            running_total += vs['compound']\n",
    "            sentence_count += 1\n",
    "    if sentence_count == 0: return 0\n",
    "    return running_total/sentence_count"
   ]
  },
  {
   "cell_type": "markdown",
   "metadata": {},
   "source": [
    "<h4>And compare different texts on the affect score of the terms</h4>"
   ]
  },
  {
   "cell_type": "code",
   "execution_count": 115,
   "metadata": {},
   "outputs": [
    {
     "name": "stdout",
     "output_type": "stream",
     "text": [
      "0.4321428571428571\n",
      "0.22273125\n",
      "0.75735\n",
      "0.4939\n"
     ]
    }
   ],
   "source": [
    "print(get_affect(community_data.raw(),'service',True))\n",
    "print(get_affect(le_monde_data.raw(),'service',True))\n",
    "print(get_affect(shakeshack_data.raw(),'service',True))\n",
    "print(get_affect(fiveguys_data.raw(),'service',True))"
   ]
  },
  {
   "cell_type": "markdown",
   "metadata": {},
   "source": [
    "<h4>Or look for the \"good\" and \"bad\" characters in a piece of text</h4>"
   ]
  },
  {
   "cell_type": "code",
   "execution_count": 116,
   "metadata": {},
   "outputs": [
    {
     "name": "stdout",
     "output_type": "stream",
     "text": [
      "-0.0009083333333333351\n",
      "0.0712683673469388\n",
      "0.09202820512820513\n"
     ]
    }
   ],
   "source": [
    "print(get_affect(gutenberg.raw('shakespeare-hamlet.txt'),'Gertrude',False))\n",
    "print(get_affect(gutenberg.raw('shakespeare-hamlet.txt'),'Hamlet',False))\n",
    "print(get_affect(gutenberg.raw('shakespeare-hamlet.txt'),'Horatio',False))\n"
   ]
  },
  {
   "cell_type": "markdown",
   "metadata": {},
   "source": [
    "<h3>We can apply this to any text</h3>"
   ]
  },
  {
   "cell_type": "code",
   "execution_count": 121,
   "metadata": {},
   "outputs": [
    {
     "data": {
      "text/plain": [
       "{'America': ['GPE', 'NNP'],\n",
       " 'American': ['GPE', 'JJ'],\n",
       " 'Americans': ['GPE', 'NNPS'],\n",
       " 'Bible': ['ORGANIZATION', 'NNP'],\n",
       " 'Bush': ['PERSON', 'NNP'],\n",
       " 'Carter': ['PERSON', 'NNP'],\n",
       " 'Clinton': ['PERSON', 'NNP'],\n",
       " 'D.C.': ['GPE', 'NNP'],\n",
       " 'Detroit': ['GPE', 'NNP'],\n",
       " 'Earth': ['LOCATION', 'NNP'],\n",
       " 'Everyone': ['GPE', 'NN'],\n",
       " 'First Lady Michelle Obama': ['PERSON', 'NNP NNP NNP NNP'],\n",
       " 'God': ['PERSON', 'NNP'],\n",
       " 'Islamic': ['ORGANIZATION', 'NNP'],\n",
       " 'Justice Roberts': ['ORGANIZATION', 'NNP NNP'],\n",
       " 'Nebraska': ['GPE', 'NNP'],\n",
       " 'Obama': ['PERSON', 'NNP'],\n",
       " 'United States': ['GPE', 'NNP NNPS'],\n",
       " 'Washington': ['GPE', 'NNP']}"
      ]
     },
     "execution_count": 121,
     "metadata": {},
     "output_type": "execute_result"
    }
   ],
   "source": [
    "get_labeled_text(inaugural.raw('2017-Trump.txt'))"
   ]
  },
  {
   "cell_type": "code",
   "execution_count": 120,
   "metadata": {},
   "outputs": [
    {
     "name": "stdout",
     "output_type": "stream",
     "text": [
      "Bush 0.7845\n",
      "Khe Sahn -0.5267\n",
      "Gross Domestic Product 0.9178\n",
      "Muslims 0.0\n",
      "Jews 0.0\n",
      "God 0.7562800000000001\n"
     ]
    }
   ],
   "source": [
    "for key in get_labeled_text(inaugural.raw('2009-Obama.txt'),'PERSON'):\n",
    "    print(key,get_affect(inaugural.raw('2009-Obama.txt'),key))"
   ]
  },
  {
   "cell_type": "code",
   "execution_count": 123,
   "metadata": {},
   "outputs": [],
   "source": [
    "for key in get_labeled_text(inaugural.raw('2017-Trump.txt'),'PERSON'):\n",
    "    print(key,get_affect(inaugural.raw('2017-Trump.txt'),key))"
   ]
  },
  {
   "cell_type": "markdown",
   "metadata": {},
   "source": [
    "<h4>The nltk function concordance prints text fragments around a word</h4>\n",
    "<li>Useful for a quick look but it \"prints\" not \"returns\""
   ]
  },
  {
   "cell_type": "code",
   "execution_count": 125,
   "metadata": {},
   "outputs": [],
   "source": [
    "nltk.Text(community_data.words()).concordance('Columbia',100)"
   ]
  },
  {
   "cell_type": "code",
   "execution_count": null,
   "metadata": {},
   "outputs": [],
   "source": [
    "x = nltk.Text(community_data.words())"
   ]
  },
  {
   "cell_type": "code",
   "execution_count": null,
   "metadata": {},
   "outputs": [],
   "source": [
    "community_data.words()"
   ]
  },
  {
   "cell_type": "code",
   "execution_count": null,
   "metadata": {},
   "outputs": [],
   "source": [
    "nltk.Text(nltk.word_tokenize(inaugural.raw('2009-obama.txt'))).concordance('Sahn',100)"
   ]
  },
  {
   "cell_type": "code",
   "execution_count": null,
   "metadata": {},
   "outputs": [],
   "source": []
  }
 ],
 "metadata": {
  "anaconda-cloud": {},
  "kernelspec": {
   "display_name": "Python 3",
   "language": "python",
   "name": "python3"
  },
  "language_info": {
   "codemirror_mode": {
    "name": "ipython",
    "version": 3
   },
   "file_extension": ".py",
   "mimetype": "text/x-python",
   "name": "python",
   "nbconvert_exporter": "python",
   "pygments_lexer": "ipython3",
   "version": "3.8.8"
  }
 },
 "nbformat": 4,
 "nbformat_minor": 4
}
