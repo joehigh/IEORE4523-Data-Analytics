{
 "cells": [
  {
   "cell_type": "markdown",
   "metadata": {},
   "source": [
    "<h1>Library setup</h1>"
   ]
  },
  {
   "cell_type": "code",
   "execution_count": null,
   "metadata": {
    "collapsed": true
   },
   "outputs": [],
   "source": [
    "#pip install shapely --upgrade\n",
    "#pip install geojsonio --upgrade\n",
    "#pip install folium --upgrade"
   ]
  },
  {
   "cell_type": "markdown",
   "metadata": {},
   "source": [
    "<h4>Geospatial plotting is all about points and polygons</h4>\n",
    "<li>A point is, um, a point (x,y)\n",
    "<li>A polygon is a shape defined by a set of points\n",
    "<li>Shapefiles define regions on a map (e.g., counties or zipcodes)"
   ]
  },
  {
   "cell_type": "code",
   "execution_count": null,
   "metadata": {},
   "outputs": [],
   "source": [
    "from shapely.geometry import Point,Polygon\n",
    "poly = Polygon([(0,0),(1,1),(1,0),(0,1)])\n",
    "type(poly)"
   ]
  },
  {
   "cell_type": "markdown",
   "metadata": {},
   "source": [
    "<h2>GeoJSON</h2>\n",
    "<li>A format for encoding geographical data in a JSON like structure\n",
    "<li>Easy to read\n",
    "<li>Easy to create\n",
    "<li>Fast becoming the standard for sharing geographical data\n"
   ]
  },
  {
   "cell_type": "markdown",
   "metadata": {},
   "source": [
    "<h3>Example</h3>"
   ]
  },
  {
   "cell_type": "code",
   "execution_count": null,
   "metadata": {},
   "outputs": [],
   "source": [
    "columbia=\"\"\"\n",
    "{ \"type\": \"Feature\",\n",
    "        \"geometry\": {\"type\": \"Point\", \"coordinates\": [-73.9626, 40.8075]},\n",
    "        \"properties\": {\"name\": \"Columbia University\"}\n",
    "}\n",
    "\"\"\"\n",
    "import geojsonio\n",
    "geojsonio.display(columbia)"
   ]
  },
  {
   "cell_type": "markdown",
   "metadata": {},
   "source": [
    "<h3>Structure of a geojson file</h3>\n",
    "<li>A JSON dictionary. (Construct a dict and dump into json)\n",
    "<li>Consists of (recursive) geojson objects\n",
    "<li>Each object has a \"type\" key (FeatureCollection, Feature, Point, Polygon, etc.)\n",
    "<li>FeatureCollection is associated with a list of \"features\"\n",
    "<li>Each feature may have a \"geometry\" key. \n",
    "<li>geometry key has a geojson object as its value and must also have a coordinates key\n",
    "<li>coordinates key has a list of [longitude,latitude,elevation] as its value\n",
    "<li>features may have properties (the stuff that shows up when you click on a feature\n",
    "<li>geojsonio files use OpenStreetMap maps\n",
    "<li>http://geojson.org/geojson-spec.html\n",
    "<li>https://macwright.org/2015/03/23/geojson-second-bite.html"
   ]
  },
  {
   "cell_type": "code",
   "execution_count": null,
   "metadata": {},
   "outputs": [],
   "source": [
    "example = { \"type\" : \"FeatureCollection\",\n",
    "           \"features\": [\n",
    "               {\"type\": \"Feature\",\n",
    "               \"geometry\": {\"type\":\"Point\", \"coordinates\": [-73.9626, 40.8075]},\n",
    "                \"properties\": {\"name\":\"Columbia University\"}\n",
    "               },\n",
    "               {\"type\": \"Feature\",\n",
    "               \"geometry\": {\"type\":\"Point\", \"coordinates\": [-73.9965, 40.7295]},\n",
    "                \"properties\": {\"name\":\"New York University\"}\n",
    "               },\n",
    "               {\"type\": \"Feature\",\n",
    "               \"geometry\": {\"type\":\"LineString\",\"coordinates\":\n",
    "                           [[-73.9626, 40.8075],\n",
    "                            [-73.9680,40.7489],\n",
    "                            [-73.9965, 40.7295]\n",
    "                           ]\n",
    "                    },\n",
    "                \"properties\": {\n",
    "                    \"route\":\"via United Nations\"\n",
    "                }\n",
    "               },\n",
    "               {\"type\": \"Feature\",\n",
    "               \"geometry\": {\"type\":\"Polygon\",\n",
    "                           \"coordinates\": [\n",
    "                               [\n",
    "                               [-73.9732585597,40.7647613157],[-73.9822190042,40.7686179131],\n",
    "                               [-73.9585078996,40.8002103312],[-73.9495474551,40.7963555678],\n",
    "                               [-73.9732585597,40.7647613157]\n",
    "                               ]\n",
    "                           ]\n",
    "                           },\n",
    "                \"properties\": {\n",
    "                    \"name\":\"Central Park\"\n",
    "                }\n",
    "               }\n",
    "           ]\n",
    "          }\n",
    "                               \n",
    "\n",
    "               \n",
    "               \n",
    "\n",
    "import geojsonio\n",
    "import json\n",
    "geojsonio.display(json.dumps(example))"
   ]
  },
  {
   "cell_type": "markdown",
   "metadata": {},
   "source": [
    "<h2>Mapping incident locations</h2>\n",
    "<li>We'll construct a geojson object and map the first 100 incidents in 311 data\n"
   ]
  },
  {
   "cell_type": "markdown",
   "metadata": {},
   "source": [
    "<h3>Read 311 data</h3>"
   ]
  },
  {
   "cell_type": "code",
   "execution_count": null,
   "metadata": {},
   "outputs": [],
   "source": [
    "def read_311_data(datafile):\n",
    "    import pandas as pd\n",
    "    import numpy as np\n",
    "    \n",
    "    #Add the fix_zip function\n",
    "    def fix_zip(input_zip):\n",
    "        try:\n",
    "            input_zip = int(float(input_zip))\n",
    "        except:\n",
    "            try:\n",
    "                input_zip = int(input_zip.split('-')[0])\n",
    "            except:\n",
    "                return np.NaN\n",
    "        if input_zip < 10000 or input_zip > 19999:\n",
    "            return np.NaN\n",
    "        return str(input_zip)\n",
    "    \n",
    "    #Read the file\n",
    "    df = pd.read_csv(datafile,index_col='Unique Key')\n",
    "    \n",
    "    #fix the zip\n",
    "    df['Incident Zip'] = df['Incident Zip'].apply(fix_zip)\n",
    "    \n",
    "    #drop all rows that have any nans in them (note the easier syntax!)\n",
    "    \n",
    "    df = df.dropna(how='any')\n",
    "    \n",
    "    #get rid of unspecified boroughs\n",
    "    df = df[df['Borough'] != 'Unspecified']\n",
    "    \n",
    "    #Convert times to datetime and create a processing time column\n",
    "    \n",
    "    import datetime\n",
    "    df['Created Date'] = df['Created Date'].apply(lambda x:datetime.datetime.strptime(x,'%m/%d/%Y %I:%M:%S %p'))\n",
    "    df['Closed Date'] = df['Closed Date'].apply(lambda x:datetime.datetime.strptime(x,'%m/%d/%Y %I:%M:%S %p'))\n",
    "    df['processing_time'] =  df['Closed Date'] - df['Created Date']\n",
    "    \n",
    "    #Finally, get rid of negative processing times and return the final data frame\n",
    "    \n",
    "    df = df[df['processing_time']>=datetime.timedelta(0,0,0)]\n",
    "    \n",
    "    return df\n",
    "    \n",
    "datafile = \"/Users/hardeepjohar/Documents/Courses/DataAnalyticsFall2017/DataVisualization/nyc_311_data_subset_small.csv\"\n",
    "df = read_311_data(datafile)"
   ]
  },
  {
   "cell_type": "code",
   "execution_count": null,
   "metadata": {},
   "outputs": [],
   "source": [
    "df.info()"
   ]
  },
  {
   "cell_type": "code",
   "execution_count": null,
   "metadata": {
    "collapsed": true
   },
   "outputs": [],
   "source": [
    "map_dict = dict()\n",
    "map_dict[\"type\"] =\"FeatureCollection\"\n",
    "features = list()\n",
    "lats = df['Latitude']\n",
    "longs = df['Longitude']\n",
    "agencies = df['Agency']\n",
    "for index in range(100):\n",
    "    lat,lon,agency = lats.iloc[index],longs.iloc[index],agencies.iloc[index]\n",
    "    data_point = { \"type\": \"Feature\",\n",
    "        \"geometry\": {\"type\": \"Point\", \"coordinates\": [lon, lat]},\n",
    "        \"properties\": {\"Agency\": agency}\n",
    "        }\n",
    "    features.append(data_point)\n",
    "map_dict['features'] = features\n"
   ]
  },
  {
   "cell_type": "code",
   "execution_count": null,
   "metadata": {},
   "outputs": [],
   "source": [
    "len(features)"
   ]
  },
  {
   "cell_type": "code",
   "execution_count": null,
   "metadata": {},
   "outputs": [],
   "source": [
    "features[5]"
   ]
  },
  {
   "cell_type": "code",
   "execution_count": null,
   "metadata": {},
   "outputs": [],
   "source": [
    "import json\n",
    "import geojsonio\n",
    "geojsonio.display(json.dumps(map_dict))"
   ]
  },
  {
   "cell_type": "markdown",
   "metadata": {},
   "source": [
    "<h2>folium: map drawing library</h2>\n",
    "<li>Can draw maps using geojson\n",
    "<li>Can draw maps usiing its own structure\n",
    "<li>Easy to view maps \"inline\" in a Jupyter notebook\n",
    "<li>Easy to overlay data on geojson shape files to create choropleth maps\n",
    "<li>Nice heat maps\n",
    "<li>Timeseries maps\n",
    "<li>https://www.kaggle.com/daveianhickey/how-to-folium-for-maps-heatmaps-time-analysis"
   ]
  },
  {
   "cell_type": "markdown",
   "metadata": {},
   "source": [
    "<h3>Choropleth maps</h3> \n",
    "A choropleth map (from Greek χῶρος (\"area/region\") + πλῆθος (\"multitude\")) is a thematic map in which areas are shaded or patterned in proportion to the measurement of the statistical variable being displayed on the map, such as population density or per-capita income. (https://en.wikipedia.org/wiki/Choropleth_map)"
   ]
  },
  {
   "cell_type": "code",
   "execution_count": null,
   "metadata": {
    "collapsed": true
   },
   "outputs": [],
   "source": [
    "import folium\n",
    "m = folium.Map(location=[40.8075,-73.9626],zoom_start=14)"
   ]
  },
  {
   "cell_type": "code",
   "execution_count": null,
   "metadata": {},
   "outputs": [],
   "source": [
    "m"
   ]
  },
  {
   "cell_type": "markdown",
   "metadata": {},
   "source": [
    "<h2>Adding markers to a folium map</h2>\n"
   ]
  },
  {
   "cell_type": "code",
   "execution_count": null,
   "metadata": {},
   "outputs": [],
   "source": [
    "folium.Marker([40.8075,-73.9626],popup=\"Columbia University\").add_to(m)\n",
    "folium.Marker([40.72956,-73.9965],popup=\"New York University\").add_to(m)\n",
    "folium.Marker([40.748,-73.9680],popup=\"Times Square\").add_to(m)\n"
   ]
  },
  {
   "cell_type": "code",
   "execution_count": null,
   "metadata": {},
   "outputs": [],
   "source": [
    "m"
   ]
  },
  {
   "cell_type": "markdown",
   "metadata": {},
   "source": [
    "<h2>choropleth map by zipcodes</h2>"
   ]
  },
  {
   "cell_type": "markdown",
   "metadata": {},
   "source": [
    "<li>NYC zip code data is available in geojson format at http://data.beta.nyc/dataset/nyc-zip-code-tabulation-areas/resource/6df127b1-6d04-4bb7-b983-07402a2c3f90?view_id=b34c6552-9fdb-4f95-8810-0588ad1a4cc8\n",
    "<li>Download the data into a file \"zipcode.geojson\"\n",
    "<li>We'll use a choropleth map to see how zipcodes differ by the number of complaints\n"
   ]
  },
  {
   "cell_type": "code",
   "execution_count": null,
   "metadata": {
    "collapsed": true
   },
   "outputs": [],
   "source": []
  },
  {
   "cell_type": "code",
   "execution_count": null,
   "metadata": {},
   "outputs": [],
   "source": [
    "m"
   ]
  },
  {
   "cell_type": "code",
   "execution_count": null,
   "metadata": {},
   "outputs": [],
   "source": [
    "df.info()\n"
   ]
  },
  {
   "cell_type": "markdown",
   "metadata": {},
   "source": [
    "<h3>Generate incident count by zipcode</h3>"
   ]
  },
  {
   "cell_type": "code",
   "execution_count": null,
   "metadata": {},
   "outputs": [],
   "source": [
    "import pandas as pd\n",
    "zip_groups = df.groupby(\"Incident Zip\")\n",
    "sizes = pd.DataFrame(zip_groups.size())\n",
    "import pandas as pd\n",
    "sizes.rename(columns={0:\"size\"},inplace=True)\n",
    "sizes.reset_index(level=0, inplace=True)\n",
    "sizes['Zip'] = sizes['Incident Zip']\n",
    "sizes.info()"
   ]
  },
  {
   "cell_type": "code",
   "execution_count": null,
   "metadata": {},
   "outputs": [],
   "source": [
    "\n",
    "sizes"
   ]
  },
  {
   "cell_type": "code",
   "execution_count": null,
   "metadata": {},
   "outputs": [],
   "source": [
    "import folium\n",
    "#Center the map at Times Square\n",
    "m = folium.Map(location = [40.7589,-73.9851],zoom_start=12)\n",
    "\n",
    "m.choropleth(geo_data='zipcode.geojson', data=sizes,\n",
    "             columns=[ 'Zip','size'],\n",
    "             key_on='feature.properties.postalCode',\n",
    "             fill_color='RdYlGn', fill_opacity=0.7, line_opacity=0.8,\n",
    "             legend_name='Distribution of Incidents')\n",
    "folium.LayerControl().add_to(m)"
   ]
  },
  {
   "cell_type": "code",
   "execution_count": null,
   "metadata": {},
   "outputs": [],
   "source": [
    "m"
   ]
  },
  {
   "cell_type": "markdown",
   "metadata": {},
   "source": [
    "<h3>Folium examples</h3>\n",
    "http://nbviewer.jupyter.org/github/python-visualization/folium/tree/master/examples/"
   ]
  },
  {
   "cell_type": "code",
   "execution_count": null,
   "metadata": {
    "collapsed": true
   },
   "outputs": [],
   "source": []
  }
 ],
 "metadata": {
  "kernelspec": {
   "display_name": "Python [py36]",
   "language": "python",
   "name": "Python [py36]"
  },
  "language_info": {
   "codemirror_mode": {
    "name": "ipython",
    "version": 3
   },
   "file_extension": ".py",
   "mimetype": "text/x-python",
   "name": "python",
   "nbconvert_exporter": "python",
   "pygments_lexer": "ipython3",
   "version": "3.6.1"
  }
 },
 "nbformat": 4,
 "nbformat_minor": 2
}
