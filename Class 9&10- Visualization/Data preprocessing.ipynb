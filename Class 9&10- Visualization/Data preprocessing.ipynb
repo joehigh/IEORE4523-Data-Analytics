{
 "cells": [
  {
   "cell_type": "raw",
   "metadata": {},
   "source": []
  },
  {
   "cell_type": "markdown",
   "metadata": {},
   "source": [
    "<h1>Data Preprocessing</h1>\n",
    "<li>Steps that need to be done after the data arrives in the program\n",
    "<li>Data may need to be cleaned\n",
    "<ul>\n",
    "<li>Remove \"bad\" data\n",
    "<li>handle \"missing\" data \n",
    "</ul>\n",
    "<li>Make sure all data is in the correct format(s)\n"
   ]
  },
  {
   "cell_type": "markdown",
   "metadata": {},
   "source": [
    "<h2>NYC 311 Data</h2>\n",
    "<li>Service requests made to the 311 number</li>\n",
    "<li>https://data.cityofnewyork.us/dataset/311-Service-Requests-From-2011/fpz8-jqf4\n",
    "<li>We'll work with a small extract of the data\n",
    "<ul>\n",
    "<li>8 columns (out of about 58 in the full dataset)\n",
    "<li>two months of data (out of 7 years of data\n",
    "</ul>\n",
    "<li>Even this is quite a bit!"
   ]
  },
  {
   "cell_type": "code",
   "execution_count": 41,
   "metadata": {},
   "outputs": [],
   "source": [
    "# datafile = \"/Users/hardeepjohar/Documents/Courses/DataAnalyticsFall2017/DataVisualization/nyc_311_data_subset_small.csv\"\n",
    "datafile = \"nyc_311_data_subset_small.csv\""
   ]
  },
  {
   "cell_type": "code",
   "execution_count": 42,
   "metadata": {},
   "outputs": [],
   "source": [
    "import pandas as pd\n",
    "import numpy as np"
   ]
  },
  {
   "cell_type": "markdown",
   "metadata": {},
   "source": [
    "<h4><b>read_csv</b>: A pandas function that reads a comma separated file</h4>\n",
    "read_csv will try to format the data so that it is the correct type and will report any typing problems<br>\n",
    "It will also look for a header row. \n",
    "<br>http://pandas.pydata.org/pandas-docs/stable/generated/pandas.read_csv.html\n",
    "<p>\n",
    "read_csv returns a pandas DataFrame"
   ]
  },
  {
   "cell_type": "code",
   "execution_count": 43,
   "metadata": {},
   "outputs": [
    {
     "name": "stderr",
     "output_type": "stream",
     "text": [
      "/Users/josephhigh/ml/my_env/lib/python3.8/site-packages/IPython/core/interactiveshell.py:3062: DtypeWarning: Columns (4) have mixed types.Specify dtype option on import or set low_memory=False.\n",
      "  has_raised = await self.run_ast_nodes(code_ast.body, cell_name,\n"
     ]
    },
    {
     "data": {
      "text/html": [
       "<div>\n",
       "<style scoped>\n",
       "    .dataframe tbody tr th:only-of-type {\n",
       "        vertical-align: middle;\n",
       "    }\n",
       "\n",
       "    .dataframe tbody tr th {\n",
       "        vertical-align: top;\n",
       "    }\n",
       "\n",
       "    .dataframe thead th {\n",
       "        text-align: right;\n",
       "    }\n",
       "</style>\n",
       "<table border=\"1\" class=\"dataframe\">\n",
       "  <thead>\n",
       "    <tr style=\"text-align: right;\">\n",
       "      <th></th>\n",
       "      <th>Unique Key</th>\n",
       "      <th>Created Date</th>\n",
       "      <th>Closed Date</th>\n",
       "      <th>Agency</th>\n",
       "      <th>Incident Zip</th>\n",
       "      <th>Borough</th>\n",
       "      <th>Latitude</th>\n",
       "      <th>Longitude</th>\n",
       "    </tr>\n",
       "  </thead>\n",
       "  <tbody>\n",
       "    <tr>\n",
       "      <th>0</th>\n",
       "      <td>1</td>\n",
       "      <td>10/11/2016 11:53:00 AM</td>\n",
       "      <td>10/11/2016 12:00:00 PM</td>\n",
       "      <td>DSNY</td>\n",
       "      <td>NaN</td>\n",
       "      <td>QUEENS</td>\n",
       "      <td>NaN</td>\n",
       "      <td>NaN</td>\n",
       "    </tr>\n",
       "    <tr>\n",
       "      <th>1</th>\n",
       "      <td>2</td>\n",
       "      <td>10/11/2016 11:36:00 AM</td>\n",
       "      <td>10/11/2016 12:00:00 PM</td>\n",
       "      <td>DSNY</td>\n",
       "      <td>NaN</td>\n",
       "      <td>QUEENS</td>\n",
       "      <td>NaN</td>\n",
       "      <td>NaN</td>\n",
       "    </tr>\n",
       "    <tr>\n",
       "      <th>2</th>\n",
       "      <td>3</td>\n",
       "      <td>10/11/2016 11:36:00 AM</td>\n",
       "      <td>10/11/2016 12:00:00 PM</td>\n",
       "      <td>DSNY</td>\n",
       "      <td>NaN</td>\n",
       "      <td>QUEENS</td>\n",
       "      <td>NaN</td>\n",
       "      <td>NaN</td>\n",
       "    </tr>\n",
       "    <tr>\n",
       "      <th>3</th>\n",
       "      <td>4</td>\n",
       "      <td>10/11/2016 12:39:00 PM</td>\n",
       "      <td>10/11/2016 12:39:00 PM</td>\n",
       "      <td>DSNY</td>\n",
       "      <td>NaN</td>\n",
       "      <td>QUEENS</td>\n",
       "      <td>NaN</td>\n",
       "      <td>NaN</td>\n",
       "    </tr>\n",
       "    <tr>\n",
       "      <th>4</th>\n",
       "      <td>5</td>\n",
       "      <td>10/11/2016 12:18:00 PM</td>\n",
       "      <td>10/11/2016 12:18:00 PM</td>\n",
       "      <td>DSNY</td>\n",
       "      <td>NaN</td>\n",
       "      <td>QUEENS</td>\n",
       "      <td>NaN</td>\n",
       "      <td>NaN</td>\n",
       "    </tr>\n",
       "    <tr>\n",
       "      <th>...</th>\n",
       "      <td>...</td>\n",
       "      <td>...</td>\n",
       "      <td>...</td>\n",
       "      <td>...</td>\n",
       "      <td>...</td>\n",
       "      <td>...</td>\n",
       "      <td>...</td>\n",
       "      <td>...</td>\n",
       "    </tr>\n",
       "    <tr>\n",
       "      <th>971058</th>\n",
       "      <td>971059</td>\n",
       "      <td>09/20/2016 03:02:25 PM</td>\n",
       "      <td>09/24/2016 09:33:13 AM</td>\n",
       "      <td>HPD</td>\n",
       "      <td>10469.0</td>\n",
       "      <td>BRONX</td>\n",
       "      <td>40.877527</td>\n",
       "      <td>-73.847712</td>\n",
       "    </tr>\n",
       "    <tr>\n",
       "      <th>971059</th>\n",
       "      <td>971060</td>\n",
       "      <td>09/20/2016 11:36:47 AM</td>\n",
       "      <td>10/21/2016 08:02:42 PM</td>\n",
       "      <td>HPD</td>\n",
       "      <td>10029.0</td>\n",
       "      <td>MANHATTAN</td>\n",
       "      <td>40.791709</td>\n",
       "      <td>-73.937064</td>\n",
       "    </tr>\n",
       "    <tr>\n",
       "      <th>971060</th>\n",
       "      <td>971061</td>\n",
       "      <td>09/20/2016 04:41:40 PM</td>\n",
       "      <td>09/24/2016 09:41:28 AM</td>\n",
       "      <td>HPD</td>\n",
       "      <td>10460.0</td>\n",
       "      <td>BRONX</td>\n",
       "      <td>40.833706</td>\n",
       "      <td>-73.895943</td>\n",
       "    </tr>\n",
       "    <tr>\n",
       "      <th>971061</th>\n",
       "      <td>971062</td>\n",
       "      <td>09/20/2016 11:36:46 AM</td>\n",
       "      <td>10/21/2016 08:02:41 PM</td>\n",
       "      <td>HPD</td>\n",
       "      <td>10029.0</td>\n",
       "      <td>MANHATTAN</td>\n",
       "      <td>40.791709</td>\n",
       "      <td>-73.937064</td>\n",
       "    </tr>\n",
       "    <tr>\n",
       "      <th>971062</th>\n",
       "      <td>971063</td>\n",
       "      <td>09/20/2016 01:41:33 PM</td>\n",
       "      <td>10/11/2016 02:04:05 AM</td>\n",
       "      <td>HPD</td>\n",
       "      <td>11432.0</td>\n",
       "      <td>QUEENS</td>\n",
       "      <td>40.711279</td>\n",
       "      <td>-73.788951</td>\n",
       "    </tr>\n",
       "  </tbody>\n",
       "</table>\n",
       "<p>971063 rows × 8 columns</p>\n",
       "</div>"
      ],
      "text/plain": [
       "        Unique Key            Created Date             Closed Date Agency  \\\n",
       "0                1  10/11/2016 11:53:00 AM  10/11/2016 12:00:00 PM   DSNY   \n",
       "1                2  10/11/2016 11:36:00 AM  10/11/2016 12:00:00 PM   DSNY   \n",
       "2                3  10/11/2016 11:36:00 AM  10/11/2016 12:00:00 PM   DSNY   \n",
       "3                4  10/11/2016 12:39:00 PM  10/11/2016 12:39:00 PM   DSNY   \n",
       "4                5  10/11/2016 12:18:00 PM  10/11/2016 12:18:00 PM   DSNY   \n",
       "...            ...                     ...                     ...    ...   \n",
       "971058      971059  09/20/2016 03:02:25 PM  09/24/2016 09:33:13 AM    HPD   \n",
       "971059      971060  09/20/2016 11:36:47 AM  10/21/2016 08:02:42 PM    HPD   \n",
       "971060      971061  09/20/2016 04:41:40 PM  09/24/2016 09:41:28 AM    HPD   \n",
       "971061      971062  09/20/2016 11:36:46 AM  10/21/2016 08:02:41 PM    HPD   \n",
       "971062      971063  09/20/2016 01:41:33 PM  10/11/2016 02:04:05 AM    HPD   \n",
       "\n",
       "       Incident Zip    Borough   Latitude  Longitude  \n",
       "0               NaN     QUEENS        NaN        NaN  \n",
       "1               NaN     QUEENS        NaN        NaN  \n",
       "2               NaN     QUEENS        NaN        NaN  \n",
       "3               NaN     QUEENS        NaN        NaN  \n",
       "4               NaN     QUEENS        NaN        NaN  \n",
       "...             ...        ...        ...        ...  \n",
       "971058      10469.0      BRONX  40.877527 -73.847712  \n",
       "971059      10029.0  MANHATTAN  40.791709 -73.937064  \n",
       "971060      10460.0      BRONX  40.833706 -73.895943  \n",
       "971061      10029.0  MANHATTAN  40.791709 -73.937064  \n",
       "971062      11432.0     QUEENS  40.711279 -73.788951  \n",
       "\n",
       "[971063 rows x 8 columns]"
      ]
     },
     "execution_count": 43,
     "metadata": {},
     "output_type": "execute_result"
    }
   ],
   "source": [
    "df = pd.read_csv(datafile)\n",
    "df"
   ]
  },
  {
   "cell_type": "code",
   "execution_count": 45,
   "metadata": {},
   "outputs": [
    {
     "data": {
      "text/plain": [
       "str"
      ]
     },
     "execution_count": 45,
     "metadata": {},
     "output_type": "execute_result"
    }
   ],
   "source": [
    "type(df['Created Date'][1])"
   ]
  },
  {
   "cell_type": "markdown",
   "metadata": {},
   "source": [
    "<h4>Let's examine our data</h4>"
   ]
  },
  {
   "cell_type": "code",
   "execution_count": 46,
   "metadata": {},
   "outputs": [
    {
     "name": "stdout",
     "output_type": "stream",
     "text": [
      "<class 'pandas.core.frame.DataFrame'>\n",
      "RangeIndex: 971063 entries, 0 to 971062\n",
      "Data columns (total 8 columns):\n",
      " #   Column        Non-Null Count   Dtype  \n",
      "---  ------        --------------   -----  \n",
      " 0   Unique Key    971063 non-null  int64  \n",
      " 1   Created Date  971063 non-null  object \n",
      " 2   Closed Date   882944 non-null  object \n",
      " 3   Agency        971063 non-null  object \n",
      " 4   Incident Zip  911140 non-null  object \n",
      " 5   Borough       971063 non-null  object \n",
      " 6   Latitude      887284 non-null  float64\n",
      " 7   Longitude     887284 non-null  float64\n",
      "dtypes: float64(2), int64(1), object(5)\n",
      "memory usage: 59.3+ MB\n"
     ]
    }
   ],
   "source": [
    "df.info()  # dataframe.info() gives you basic info about the dataset such as the number of non-null values, data type, etc."
   ]
  },
  {
   "cell_type": "markdown",
   "metadata": {},
   "source": [
    "<h4>Looks like Unique Key really is a unique key and can serve as an index</h4>"
   ]
  },
  {
   "cell_type": "code",
   "execution_count": 47,
   "metadata": {},
   "outputs": [
    {
     "name": "stderr",
     "output_type": "stream",
     "text": [
      "/Users/josephhigh/ml/my_env/lib/python3.8/site-packages/IPython/core/interactiveshell.py:3062: DtypeWarning: Columns (4) have mixed types.Specify dtype option on import or set low_memory=False.\n",
      "  has_raised = await self.run_ast_nodes(code_ast.body, cell_name,\n"
     ]
    }
   ],
   "source": [
    "df = pd.read_csv(datafile,index_col='Unique Key')"
   ]
  },
  {
   "cell_type": "code",
   "execution_count": 48,
   "metadata": {},
   "outputs": [
    {
     "data": {
      "text/html": [
       "<div>\n",
       "<style scoped>\n",
       "    .dataframe tbody tr th:only-of-type {\n",
       "        vertical-align: middle;\n",
       "    }\n",
       "\n",
       "    .dataframe tbody tr th {\n",
       "        vertical-align: top;\n",
       "    }\n",
       "\n",
       "    .dataframe thead th {\n",
       "        text-align: right;\n",
       "    }\n",
       "</style>\n",
       "<table border=\"1\" class=\"dataframe\">\n",
       "  <thead>\n",
       "    <tr style=\"text-align: right;\">\n",
       "      <th></th>\n",
       "      <th>Created Date</th>\n",
       "      <th>Closed Date</th>\n",
       "      <th>Agency</th>\n",
       "      <th>Incident Zip</th>\n",
       "      <th>Borough</th>\n",
       "      <th>Latitude</th>\n",
       "      <th>Longitude</th>\n",
       "    </tr>\n",
       "    <tr>\n",
       "      <th>Unique Key</th>\n",
       "      <th></th>\n",
       "      <th></th>\n",
       "      <th></th>\n",
       "      <th></th>\n",
       "      <th></th>\n",
       "      <th></th>\n",
       "      <th></th>\n",
       "    </tr>\n",
       "  </thead>\n",
       "  <tbody>\n",
       "    <tr>\n",
       "      <th>1</th>\n",
       "      <td>10/11/2016 11:53:00 AM</td>\n",
       "      <td>10/11/2016 12:00:00 PM</td>\n",
       "      <td>DSNY</td>\n",
       "      <td>NaN</td>\n",
       "      <td>QUEENS</td>\n",
       "      <td>NaN</td>\n",
       "      <td>NaN</td>\n",
       "    </tr>\n",
       "    <tr>\n",
       "      <th>2</th>\n",
       "      <td>10/11/2016 11:36:00 AM</td>\n",
       "      <td>10/11/2016 12:00:00 PM</td>\n",
       "      <td>DSNY</td>\n",
       "      <td>NaN</td>\n",
       "      <td>QUEENS</td>\n",
       "      <td>NaN</td>\n",
       "      <td>NaN</td>\n",
       "    </tr>\n",
       "    <tr>\n",
       "      <th>3</th>\n",
       "      <td>10/11/2016 11:36:00 AM</td>\n",
       "      <td>10/11/2016 12:00:00 PM</td>\n",
       "      <td>DSNY</td>\n",
       "      <td>NaN</td>\n",
       "      <td>QUEENS</td>\n",
       "      <td>NaN</td>\n",
       "      <td>NaN</td>\n",
       "    </tr>\n",
       "    <tr>\n",
       "      <th>4</th>\n",
       "      <td>10/11/2016 12:39:00 PM</td>\n",
       "      <td>10/11/2016 12:39:00 PM</td>\n",
       "      <td>DSNY</td>\n",
       "      <td>NaN</td>\n",
       "      <td>QUEENS</td>\n",
       "      <td>NaN</td>\n",
       "      <td>NaN</td>\n",
       "    </tr>\n",
       "    <tr>\n",
       "      <th>5</th>\n",
       "      <td>10/11/2016 12:18:00 PM</td>\n",
       "      <td>10/11/2016 12:18:00 PM</td>\n",
       "      <td>DSNY</td>\n",
       "      <td>NaN</td>\n",
       "      <td>QUEENS</td>\n",
       "      <td>NaN</td>\n",
       "      <td>NaN</td>\n",
       "    </tr>\n",
       "    <tr>\n",
       "      <th>6</th>\n",
       "      <td>10/11/2016 11:36:00 AM</td>\n",
       "      <td>10/11/2016 12:00:00 PM</td>\n",
       "      <td>DSNY</td>\n",
       "      <td>NaN</td>\n",
       "      <td>QUEENS</td>\n",
       "      <td>NaN</td>\n",
       "      <td>NaN</td>\n",
       "    </tr>\n",
       "    <tr>\n",
       "      <th>7</th>\n",
       "      <td>10/11/2016 12:39:00 PM</td>\n",
       "      <td>10/11/2016 12:39:00 PM</td>\n",
       "      <td>DSNY</td>\n",
       "      <td>NaN</td>\n",
       "      <td>QUEENS</td>\n",
       "      <td>NaN</td>\n",
       "      <td>NaN</td>\n",
       "    </tr>\n",
       "    <tr>\n",
       "      <th>8</th>\n",
       "      <td>10/11/2016 11:44:00 AM</td>\n",
       "      <td>NaN</td>\n",
       "      <td>DSNY</td>\n",
       "      <td>NaN</td>\n",
       "      <td>QUEENS</td>\n",
       "      <td>NaN</td>\n",
       "      <td>NaN</td>\n",
       "    </tr>\n",
       "    <tr>\n",
       "      <th>9</th>\n",
       "      <td>10/11/2016 12:35:00 PM</td>\n",
       "      <td>10/11/2016 12:35:00 PM</td>\n",
       "      <td>DSNY</td>\n",
       "      <td>NaN</td>\n",
       "      <td>QUEENS</td>\n",
       "      <td>NaN</td>\n",
       "      <td>NaN</td>\n",
       "    </tr>\n",
       "    <tr>\n",
       "      <th>10</th>\n",
       "      <td>10/11/2016 11:26:00 AM</td>\n",
       "      <td>05/27/2016 12:00:00 PM</td>\n",
       "      <td>DSNY</td>\n",
       "      <td>NaN</td>\n",
       "      <td>QUEENS</td>\n",
       "      <td>NaN</td>\n",
       "      <td>NaN</td>\n",
       "    </tr>\n",
       "  </tbody>\n",
       "</table>\n",
       "</div>"
      ],
      "text/plain": [
       "                      Created Date             Closed Date Agency  \\\n",
       "Unique Key                                                          \n",
       "1           10/11/2016 11:53:00 AM  10/11/2016 12:00:00 PM   DSNY   \n",
       "2           10/11/2016 11:36:00 AM  10/11/2016 12:00:00 PM   DSNY   \n",
       "3           10/11/2016 11:36:00 AM  10/11/2016 12:00:00 PM   DSNY   \n",
       "4           10/11/2016 12:39:00 PM  10/11/2016 12:39:00 PM   DSNY   \n",
       "5           10/11/2016 12:18:00 PM  10/11/2016 12:18:00 PM   DSNY   \n",
       "6           10/11/2016 11:36:00 AM  10/11/2016 12:00:00 PM   DSNY   \n",
       "7           10/11/2016 12:39:00 PM  10/11/2016 12:39:00 PM   DSNY   \n",
       "8           10/11/2016 11:44:00 AM                     NaN   DSNY   \n",
       "9           10/11/2016 12:35:00 PM  10/11/2016 12:35:00 PM   DSNY   \n",
       "10          10/11/2016 11:26:00 AM  05/27/2016 12:00:00 PM   DSNY   \n",
       "\n",
       "           Incident Zip Borough  Latitude  Longitude  \n",
       "Unique Key                                            \n",
       "1                   NaN  QUEENS       NaN        NaN  \n",
       "2                   NaN  QUEENS       NaN        NaN  \n",
       "3                   NaN  QUEENS       NaN        NaN  \n",
       "4                   NaN  QUEENS       NaN        NaN  \n",
       "5                   NaN  QUEENS       NaN        NaN  \n",
       "6                   NaN  QUEENS       NaN        NaN  \n",
       "7                   NaN  QUEENS       NaN        NaN  \n",
       "8                   NaN  QUEENS       NaN        NaN  \n",
       "9                   NaN  QUEENS       NaN        NaN  \n",
       "10                  NaN  QUEENS       NaN        NaN  "
      ]
     },
     "execution_count": 48,
     "metadata": {},
     "output_type": "execute_result"
    }
   ],
   "source": [
    "df.iloc[:10]"
   ]
  },
  {
   "cell_type": "markdown",
   "metadata": {},
   "source": [
    "<h4>Columns 4 has mixed types</h4>"
   ]
  },
  {
   "cell_type": "markdown",
   "metadata": {},
   "source": [
    "<h4>Column 4 is incident zip</h4>\n",
    "Let's examine it<br>\n",
    "The unique() function returns unique values in a column"
   ]
  },
  {
   "cell_type": "code",
   "execution_count": 49,
   "metadata": {},
   "outputs": [
    {
     "data": {
      "text/plain": [
       "array([nan, '10001', '11691', '11211', '10027', '10452', '11428', '11101',\n",
       "       '10075', '11215', '11210', '11231', '11217', '10457', '10033',\n",
       "       '11209', '11201', '11367', '10029', '10021', '10028', '10034',\n",
       "       '10032', '10039', '11414', '10461', '11229', '10462', '11223',\n",
       "       '10023', '10453', '11225', '11219', '10451', '11234', '10014',\n",
       "       '11354', '11361', '10468', '11233', '10466', '11204', '11413',\n",
       "       '11224', '11375', '11040', '11232', '11203', '11205', '11434',\n",
       "       '10011', '10003', '10025', '10013', '10036', '11237', '11355',\n",
       "       '11368', '10454', '10456', '10463', '11222', '11228', '11216',\n",
       "       '10128', '11435', '11419', '11358', '11421', '10019', '11238',\n",
       "       '11213', '11235', '11420', '10038', '11226', '10472', '10016',\n",
       "       '11221', '11236', '11436', '11214', '11377', '11385', '11365',\n",
       "       '10312', '11426', '11373', '11218', '10005', '11230', '10026',\n",
       "       '10473', '10280', '10301', '10309', '10310', '10009', '10002',\n",
       "       '11433', '10020', '11357', '10030', '11378', '11249', '11432',\n",
       "       '11212', '10024', '10035', '11429', '11206', '11372', '10471',\n",
       "       '10119', '10307', '11364', '11103', '10017', '10012', '11105',\n",
       "       '10458', '10018', '11374', '10459', '10314', '10037', '10302',\n",
       "       '10040', '11411', '11692', '10303', '11418', '10031', '11220',\n",
       "       '11427', '10465', '10306', '10010', '10460', '10305', '11207',\n",
       "       '11208', '10474', '11417', '10475', '10455', '11416', '10065',\n",
       "       '11363', '11693', '10308', '11356', '10469', '11369', '10470',\n",
       "       '10467', '10007', '10304', '11366', '11694', '11102', '11423',\n",
       "       '11422', '19044', '11412', '10022', '11379', '11251', '30374-0283',\n",
       "       '11004', '11104', '10004', '11362', '11360', '11109', '07047',\n",
       "       '11590', '11001', '11430', '11106', '10464', '43216', '11370',\n",
       "       '10271', '11239', '11415', '10006', '10121', '10177', '11030-3409',\n",
       "       '10069', '07302', '0000', '10044', '10282', '10000', '11743',\n",
       "       '10178', '07114', '07410', '13851', '10169', '11697', '10168',\n",
       "       '10538', '10123', '11516', '10174', '10278', '11598', '10112',\n",
       "       '10605', 'UNKNOWN', '10172', '11570', '07105', '11561', '11576',\n",
       "       '10162', '10281', '10151', '220194', '99999', '00083', '44087',\n",
       "       '10472.0', '10039.0', '10471.0', '11372.0', '11377.0', '11354.0',\n",
       "       '10453.0', '10304.0', '11235.0', '10307.0', '11361.0', '11218.0',\n",
       "       '11219.0', '10302.0', '10035.0', '11233.0', '10019.0', '10037.0',\n",
       "       '11385.0', '10075.0', '10040.0', '10458.0', '11223.0', '10462.0',\n",
       "       '11104.0', '11420.0', '10474.0', '11229.0', '11226.0', '10456.0',\n",
       "       '10468.0', '10467.0', '10002.0', '11208.0', '10460.0', '11212.0',\n",
       "       '10032.0', '11204.0', '11207.0', '11214.0', '11363.0', '11422.0',\n",
       "       '11434.0', '10457.0', '10028.0', '10452.0', '10009.0', '11432.0',\n",
       "       '11213.0', '10465.0', '11209.0', '10033.0', '11379.0', '11216.0',\n",
       "       '11249.0', '10031.0', '11418.0', '11414.0', '10034.0', '11230.0',\n",
       "       '11692.0', '11210.0', '11217.0', '11201.0', '10128.0', '10010.0',\n",
       "       '11215.0', '11211.0', '11375.0', '11419.0', '10469.0', '11423.0',\n",
       "       '11106.0', '11220.0', '10069.0', '10306.0', '10301.0', '11369.0',\n",
       "       '10027.0', '10312.0', '10309.0', '11427.0', '11691.0', '11417.0',\n",
       "       '11416.0', '11234.0', '11236.0', '10455.0', '11105.0', '11228.0',\n",
       "       '10029.0', '10011.0', '10007.0', '11237.0', '11231.0', '10303.0',\n",
       "       '11357.0', '11415.0', '10001.0', '11203.0', '10451.0', '10314.0',\n",
       "       '10021.0', '11225.0', '10463.0', '11426.0', '11206.0', '11103.0',\n",
       "       '11222.0', '10461.0', '10030.0', '10470.0', '11373.0', '10466.0',\n",
       "       '11412.0', '10026.0', '10308.0', '10012.0', '10025.0', '11238.0',\n",
       "       '11366.0', '10459.0', '10005.0', '11364.0', '11368.0', '10473.0',\n",
       "       '11232.0', '11378.0', '10305.0', '10454.0', '10282.0', '11101.0',\n",
       "       '11221.0', '10014.0', '10016.0', '11356.0', '10003.0', '11429.0',\n",
       "       '11413.0', '10022.0', '10013.0', '11365.0', '11367.0', '11694.0',\n",
       "       '11411.0', '11433.0', '11355.0', '11421.0', '10036.0', '10065.0',\n",
       "       '11224.0', '11374.0', '11358.0', '10023.0', '10475.0', '10017.0',\n",
       "       '10024.0', '11370.0', '11693.0', '11362.0', '11004.0', '11205.0',\n",
       "       '11102.0', '10004.0', '10038.0', '11435.0', '10006.0', '11360.0',\n",
       "       '11428.0', '10018.0', '11436.0', '10464.0', '10310.0', '10044.0',\n",
       "       '10280.0', '11239.0', '11001.0', '10020.0', '10112.0', '10172.0',\n",
       "       '10168.0', '7114.0', '11030.0', '10278.0', '11109.0', '10000.0',\n",
       "       '11697.0', '11040.0', '11725.0', '10111.0', '11005.0', '10162.0',\n",
       "       '10281.0', '10169.0', '11803.0', '11430.0', '10119.0', '90274.0',\n",
       "       '11520.0', '7112.0', '10041.0', '11570.0', '10167.0', '10107.0',\n",
       "       '10174.0', '10120.0', '10177.0', '7073.0', '10154.0', '10165.0',\n",
       "       '11550', '11701', '33134', '07628', '10532', '10703', '11371',\n",
       "       '10105', '18773', '11580', '11725-9030', '10158', '07722',\n",
       "       '11779.0', '10271.0', '11359.0', '10153.0', '10604.0', '10279.0',\n",
       "       '29601.0', '10538.0', '30006.0', '11792.0', '11747.0', '10118.0',\n",
       "       '83.0', '11566.0', '11776.0', '12344.0', '10121.0', '11550.0',\n",
       "       '11576.0', '10103.0', '10801.0', '11509.0', '10701.0', '10105.0',\n",
       "       '10913.0', '0.0', '11518.0', '11002.0', '10573.0', '10158.0',\n",
       "       '10601.0', '11581.0', '11710.0', '42101.0', '10803.0', '10123.0',\n",
       "       '11050.0', '3358.0', '8876.0', '10179.0', '12222.0', '11003',\n",
       "       '10154', '10110', '10153', 'UNKOWN', '11636', '11005', '98057',\n",
       "       '10801', '10550', '07310', '10115.0', '60179.0', '11003.0',\n",
       "       '7093.0', '7306.0', '10170.0', '61702.0', '10804.0', '11791.0',\n",
       "       '11743.0', '7013.0', '11042.0', '11371.0', '07024', '29616-0759',\n",
       "       '14094', '11040-4204', '55433', '33033', '10118', '11501', '11514',\n",
       "       '11021', '02241-5789', '91711', '11735', '07104', '48393-0824',\n",
       "       '30353-0949', '10173', '02298', '11050', '33433', '33309',\n",
       "       '10110.0', '10106.0', '10045.0', '7101.0', '07307', '10041',\n",
       "       '01581', '10279', '10179', '11244', '10604', '07086', '?', '10111',\n",
       "       '10165', '11530', '10573', 11433.0, 11213.0, 10037.0, 10030.0,\n",
       "       10462.0, 10035.0, 10458.0, 11377.0, 11691.0, 10036.0, 10002.0,\n",
       "       11355.0, 11419.0, 11209.0, 10460.0, 11226.0, 10011.0, 11233.0,\n",
       "       10033.0, 10009.0, 10463.0, 10459.0, 10031.0, 10034.0, 10472.0,\n",
       "       11372.0, 10025.0, 10301.0, 11357.0, 11216.0, 11230.0, 10302.0,\n",
       "       10452.0, 11234.0, 10003.0, 10453.0, 10456.0, 10473.0, 11238.0,\n",
       "       10027.0, 10451.0, 11218.0, 11208.0, 11220.0, 10032.0, 11366.0,\n",
       "       11214.0, 11236.0, 11223.0, 10303.0, 11207.0, 11378.0, 10466.0,\n",
       "       11212.0, 11219.0, 10028.0, 11201.0, 11373.0, 10023.0, 10468.0,\n",
       "       11105.0, 11222.0, 10304.0, 11413.0, 10467.0, 10039.0, 11420.0,\n",
       "       10457.0, 10016.0, 11414.0, 11104.0, 11221.0, 10040.0, 11435.0,\n",
       "       11385.0, 10026.0, 11368.0, 11215.0, 11412.0, 11001.0, 10010.0,\n",
       "       10306.0, 11101.0, 11415.0, 11375.0, 10465.0, 10024.0, 10021.0,\n",
       "       11237.0, 10014.0, 11229.0, 11217.0, 10310.0, 10461.0, 10012.0,\n",
       "       11356.0, 11228.0, 11205.0, 10001.0, 11210.0, 10455.0, 11411.0,\n",
       "       10005.0, 11418.0, 11232.0, 10471.0, 10029.0, 10308.0, 11225.0,\n",
       "       10019.0, 11422.0, 10006.0, 11224.0, 11354.0, 11249.0, 11434.0,\n",
       "       10282.0, 11374.0, 10128.0, 10013.0, 11367.0, 10065.0, 11231.0,\n",
       "       11211.0, 11432.0, 11692.0, 11235.0, 11204.0, 11361.0, 10017.0,\n",
       "       11103.0, 10020.0, 10312.0, 11365.0, 10018.0, 11206.0, 11416.0,\n",
       "       10305.0, 11370.0, 11203.0, 11379.0, 11369.0, 10469.0, 10314.0,\n",
       "       10075.0, 11436.0, 11429.0, 10022.0, 11428.0, 10470.0, 10474.0,\n",
       "       11358.0, 11102.0, 11427.0, 10454.0, 10309.0, 11421.0, 11423.0,\n",
       "       11106.0, 11362.0, 10307.0, 10464.0, 11360.0, 10038.0, 11426.0,\n",
       "       10112.0, 11239.0, 11004.0, 11417.0, 11693.0, 11364.0, 11021.0,\n",
       "       7114.0, 11694.0, 10475.0, 10007.0, 10280.0, 10069.0, 8861.0,\n",
       "       10279.0, 10044.0, 8817.0, 10004.0, 11363.0, 11005.0, 11697.0,\n",
       "       10281.0, 10111.0, 11040.0, 11430.0, 10118.0, 10121.0, 7302.0,\n",
       "       11251.0, 10803.0, 10119.0, 10580.0, 11109.0, 11749.0, 19053.0,\n",
       "       10708.0, 10165.0, 10122.0, 10176.0, 10000.0, 10178.0, 11520.0,\n",
       "       10583.0, 10048.0, 10168.0, 10177.0, 83.0, 8901.0, 10110.0, 10169.0,\n",
       "       7310.0, 8512.0, 97062.0, 10167.0, 11743.0, 11371.0, 80014.0,\n",
       "       11722.0, 10155.0, 11554.0, 10123.0, 6870.0, 10103.0, 12222.0,\n",
       "       10041.0, 10106.0, 7086.0, 1749.0, 11042.0, 11719.0, 11024.0,\n",
       "       11801.0, 10162.0, 7208.0, 97114.0, 11571.0, 10278.0, 19034.0,\n",
       "       11695.0, 11968.0, 11010.0, 0.0, '10707.0', '10173.0', '11251.0',\n",
       "       '10155.0', '10580.0', '11241.0', '11553.0', '10176.0', '11510.0',\n",
       "       '11802-9060', '11779', '11757', '19040.0', '11758.0', '11746.0',\n",
       "       '30346.0', '11590.0', '7410.0', '10550.0', '11695.0', '11580.0',\n",
       "       '11516.0', '11575.0', '11572.0', '10178.0', '10960.0', '10710',\n",
       "       '00000', '18901', '42301', '11695', '32752-9963', '10170', '10705',\n",
       "       '11557.0', '3830.0', '10134.0', '11021.0', '7029.0', '10055',\n",
       "       '10106', '12222', '10704', '11558', '07960', '12209', '10176',\n",
       "       '07712', '10103', '11797', '11520', '10115', '10601', '14624',\n",
       "       '10048', '14222', '19962', '19399', '02346', '11756-0215', '11111',\n",
       "       '10155', '07608', '10530', '07103-4154', '11801', '10583', '11793',\n",
       "       '10166', '10045', 'NJ 07114', '06601', '10023-6349', '10805',\n",
       "       '877.0', '11701.0', '7302.0', '07660', '11563', '9153',\n",
       "       '14231-9054', '11729.0', '11559.0', '11431.0', '11530.0', '07747',\n",
       "       '11359', '07040', '11579', '10152', '92131', '19123', '11791',\n",
       "       '90054-0807', '08876', '55486-0102', '37909.0', '11561.0',\n",
       "       '10543.0', '11706.0', '7030.0', '91942', '14450', '07090', '12550',\n",
       "       '12553', '10567.0', '10259.0', '11797.0', '10151.0', '11552.0',\n",
       "       '92193.0', '1757.0', '10055.0', '11554.0', '10989', '11219-0283',\n",
       "       '07070', '37214', '17108-0988', '43218', '02114', '10553',\n",
       "       '43218-2118', '32256', '7640.0', '7087.0', 11561.0, 10154.0,\n",
       "       11359.0, 11530.0, 10977.0, 10173.0, 7108.0, 10271.0, 6902.0,\n",
       "       10120.0, 10153.0, 10158.0, 11590.0, 99999.0, 7030.0, 10591.0,\n",
       "       8043.0, 10174.0, 105457.0, 10604.0, 7304.0, 10573.0, '10120',\n",
       "       '07093', '10801-6393', '20705.0', '33128.0', '7105.0', '14228.0',\n",
       "       '11582.0', '10008.0', '7310.0', '7094.0', '11577.0', '7086.0',\n",
       "       '7201.0', '10122.0', '32256.0', '29615.0', '19047.0', '2062.0',\n",
       "       '12205.0', '99999.0', '11704.0', '7047.0', '11242.0', '07073',\n",
       "       '11797-9001', '10129', 'JFK', '01853', '7040.0', '10532.0',\n",
       "       '19044.0', '10704.0', '11768.0'], dtype=object)"
      ]
     },
     "execution_count": 49,
     "metadata": {},
     "output_type": "execute_result"
    }
   ],
   "source": [
    "df['Incident Zip'].unique()  ## pulls out every distinct value in the 'Incident Zip' column."
   ]
  },
  {
   "cell_type": "markdown",
   "metadata": {},
   "source": [
    "<h4>Some issues</h4>\n",
    "<li>Sometimes zip is a float, other times it is an str\n",
    "<li>Zipcodes that are represented as floats and start with 0 are missing the first digit (8817)\n",
    "<li>Some zipcodes have the 4 digit extension added. Comparison becomes tough\n",
    "<li>What the heck is zip 0?\n",
    "<li>What about the missing (nan) values? The ? (question mark)? \"UNKNOWN\"?"
   ]
  },
  {
   "cell_type": "markdown",
   "metadata": {},
   "source": [
    "<h2>Clean the data</h2>\n",
    "<li>Decide what to do with \"bad\" data (\"JFK\", \"UNKNOWN\", etc.). Convert to Nan or delete the record.\n",
    "<li>Make sure all data in a column is in the correct format (convert floats to strings, get rid of the 4 digit extension)\n",
    "<li>Decide what to do with missing values (NaNs)"
   ]
  },
  {
   "cell_type": "markdown",
   "metadata": {},
   "source": [
    "<h3>for \"Incident Zip\"</h3>\n",
    "<li>we'll drop rows with NaN or bad data\n",
    "<li>get rid of the 4 digit extension\n",
    "<li>remove zips less than 10000 and greater than 12000\n",
    "<li>Let's write a function that fixes zips\n",
    "<li>Convert everything to str because zips are not really numbers"
   ]
  },
  {
   "cell_type": "code",
   "execution_count": null,
   "metadata": {},
   "outputs": [],
   "source": []
  },
  {
   "cell_type": "code",
   "execution_count": 50,
   "metadata": {},
   "outputs": [],
   "source": [
    "def fix_zip(input_zip):\n",
    "    try:\n",
    "        input_zip = int(float(input_zip))    ## First, it tries to convert the zip code to a float then convert that to an int.\n",
    "    except:                                  ## This isn't going to work for all of them though, so using a try-except statement.\n",
    "        try:\n",
    "            input_zip = int(input_zip.split('-')[0])   ## splits on the dash (-) and takes the first element of the resulting array\n",
    "        except:\n",
    "            return np.NaN     \n",
    "    if input_zip < 10000 or input_zip > 12000:\n",
    "        return np.NaN\n",
    "    return str(input_zip)\n",
    "        "
   ]
  },
  {
   "cell_type": "markdown",
   "metadata": {},
   "source": [
    "<h4>And test it</h4>"
   ]
  },
  {
   "cell_type": "code",
   "execution_count": 51,
   "metadata": {},
   "outputs": [
    {
     "data": {
      "text/plain": [
       "'11555'"
      ]
     },
     "execution_count": 51,
     "metadata": {},
     "output_type": "execute_result"
    }
   ],
   "source": [
    "# fix_zip('10817.00')\n",
    "# fix_zip('10001-9999')\n",
    "# fix_zip('jfk')\n",
    "fix_zip('11555-8677')"
   ]
  },
  {
   "cell_type": "code",
   "execution_count": null,
   "metadata": {},
   "outputs": [],
   "source": []
  },
  {
   "cell_type": "markdown",
   "metadata": {},
   "source": [
    "<h3>Apply the function to input zip</h3>\n",
    "<li>The pandas function <span style=\"color:blue\">apply</span> applies a function to each element in a df column\n"
   ]
  },
  {
   "cell_type": "code",
   "execution_count": 52,
   "metadata": {},
   "outputs": [],
   "source": [
    "df['Incident Zip'] = df['Incident Zip'].apply(fix_zip)   # df.apply() applies a function to every row OR column in the dataframe or series object.\n",
    "                                                         # You don't need to pass the arguments to the function when using the apply function.\n",
    "                                                         # The apply function is given a single argument which is the index."
   ]
  },
  {
   "cell_type": "code",
   "execution_count": 53,
   "metadata": {},
   "outputs": [
    {
     "data": {
      "text/plain": [
       "array([nan, '10001', '11691', '11211', '10027', '10452', '11428', '11101',\n",
       "       '10075', '11215', '11210', '11231', '11217', '10457', '10033',\n",
       "       '11209', '11201', '11367', '10029', '10021', '10028', '10034',\n",
       "       '10032', '10039', '11414', '10461', '11229', '10462', '11223',\n",
       "       '10023', '10453', '11225', '11219', '10451', '11234', '10014',\n",
       "       '11354', '11361', '10468', '11233', '10466', '11204', '11413',\n",
       "       '11224', '11375', '11040', '11232', '11203', '11205', '11434',\n",
       "       '10011', '10003', '10025', '10013', '10036', '11237', '11355',\n",
       "       '11368', '10454', '10456', '10463', '11222', '11228', '11216',\n",
       "       '10128', '11435', '11419', '11358', '11421', '10019', '11238',\n",
       "       '11213', '11235', '11420', '10038', '11226', '10472', '10016',\n",
       "       '11221', '11236', '11436', '11214', '11377', '11385', '11365',\n",
       "       '10312', '11426', '11373', '11218', '10005', '11230', '10026',\n",
       "       '10473', '10280', '10301', '10309', '10310', '10009', '10002',\n",
       "       '11433', '10020', '11357', '10030', '11378', '11249', '11432',\n",
       "       '11212', '10024', '10035', '11429', '11206', '11372', '10471',\n",
       "       '10119', '10307', '11364', '11103', '10017', '10012', '11105',\n",
       "       '10458', '10018', '11374', '10459', '10314', '10037', '10302',\n",
       "       '10040', '11411', '11692', '10303', '11418', '10031', '11220',\n",
       "       '11427', '10465', '10306', '10010', '10460', '10305', '11207',\n",
       "       '11208', '10474', '11417', '10475', '10455', '11416', '10065',\n",
       "       '11363', '11693', '10308', '11356', '10469', '11369', '10470',\n",
       "       '10467', '10007', '10304', '11366', '11694', '11102', '11423',\n",
       "       '11422', '11412', '10022', '11379', '11251', '11004', '11104',\n",
       "       '10004', '11362', '11360', '11109', '11590', '11001', '11430',\n",
       "       '11106', '10464', '11370', '10271', '11239', '11415', '10006',\n",
       "       '10121', '10177', '11030', '10069', '10044', '10282', '10000',\n",
       "       '11743', '10178', '10169', '11697', '10168', '10538', '10123',\n",
       "       '11516', '10174', '10278', '11598', '10112', '10605', '10172',\n",
       "       '11570', '11561', '11576', '10162', '10281', '10151', '11725',\n",
       "       '10111', '11005', '11803', '11520', '10041', '10167', '10107',\n",
       "       '10120', '10154', '10165', '11550', '11701', '10532', '10703',\n",
       "       '11371', '10105', '11580', '10158', '11779', '11359', '10153',\n",
       "       '10604', '10279', '11792', '11747', '10118', '11566', '11776',\n",
       "       '10103', '10801', '11509', '10701', '10913', '11518', '11002',\n",
       "       '10573', '10601', '11581', '11710', '10803', '11050', '10179',\n",
       "       '11003', '10110', '11636', '10550', '10115', '10170', '10804',\n",
       "       '11791', '11042', '11501', '11514', '11021', '11735', '10173',\n",
       "       '10106', '10045', '11244', '11530', '10580', '11749', '10708',\n",
       "       '10122', '10176', '10583', '10048', '11722', '10155', '11554',\n",
       "       '11719', '11024', '11801', '11571', '11695', '11968', '11010',\n",
       "       '10707', '11241', '11553', '11510', '11802', '11757', '11758',\n",
       "       '11746', '11575', '11572', '10960', '10710', '10705', '11557',\n",
       "       '10134', '10055', '10704', '11558', '11797', '11756', '11111',\n",
       "       '10530', '11793', '10166', '10805', '11563', '11729', '11559',\n",
       "       '11431', '11579', '10152', '10543', '11706', '10567', '10259',\n",
       "       '11552', '10989', '10553', '10977', '10591', '11582', '10008',\n",
       "       '11577', '11704', '11242', '10129', '11768'], dtype=object)"
      ]
     },
     "execution_count": 53,
     "metadata": {},
     "output_type": "execute_result"
    }
   ],
   "source": [
    "df['Incident Zip'].unique()   ## now, all values should be valid zip codes (besides the NaN values) since we've cleaned/filtered the data"
   ]
  },
  {
   "cell_type": "markdown",
   "metadata": {},
   "source": [
    "<h3>Drop all rows that have zip == Nan</h3>\n",
    "<li>We don't have to, that's just a choice we're making</li>\n",
    "<li>Alternatively, we could just give them a special code</li>\n",
    "<li>Or vary the code depending on some other factor (Borough? department?)"
   ]
  },
  {
   "cell_type": "code",
   "execution_count": 54,
   "metadata": {},
   "outputs": [],
   "source": [
    "df = df[df['Incident Zip'].notnull()]"
   ]
  },
  {
   "cell_type": "code",
   "execution_count": 55,
   "metadata": {},
   "outputs": [
    {
     "data": {
      "text/html": [
       "<div>\n",
       "<style scoped>\n",
       "    .dataframe tbody tr th:only-of-type {\n",
       "        vertical-align: middle;\n",
       "    }\n",
       "\n",
       "    .dataframe tbody tr th {\n",
       "        vertical-align: top;\n",
       "    }\n",
       "\n",
       "    .dataframe thead th {\n",
       "        text-align: right;\n",
       "    }\n",
       "</style>\n",
       "<table border=\"1\" class=\"dataframe\">\n",
       "  <thead>\n",
       "    <tr style=\"text-align: right;\">\n",
       "      <th></th>\n",
       "      <th>Created Date</th>\n",
       "      <th>Closed Date</th>\n",
       "      <th>Agency</th>\n",
       "      <th>Incident Zip</th>\n",
       "      <th>Borough</th>\n",
       "      <th>Latitude</th>\n",
       "      <th>Longitude</th>\n",
       "    </tr>\n",
       "    <tr>\n",
       "      <th>Unique Key</th>\n",
       "      <th></th>\n",
       "      <th></th>\n",
       "      <th></th>\n",
       "      <th></th>\n",
       "      <th></th>\n",
       "      <th></th>\n",
       "      <th></th>\n",
       "    </tr>\n",
       "  </thead>\n",
       "  <tbody>\n",
       "    <tr>\n",
       "      <th>11</th>\n",
       "      <td>09/01/2016 12:33:42 AM</td>\n",
       "      <td>09/16/2016 01:06:56 AM</td>\n",
       "      <td>DCA</td>\n",
       "      <td>10001</td>\n",
       "      <td>MANHATTAN</td>\n",
       "      <td>40.744790</td>\n",
       "      <td>-73.988834</td>\n",
       "    </tr>\n",
       "    <tr>\n",
       "      <th>12</th>\n",
       "      <td>09/01/2016 08:16:24 PM</td>\n",
       "      <td>09/10/2016 06:08:25 PM</td>\n",
       "      <td>HPD</td>\n",
       "      <td>11691</td>\n",
       "      <td>QUEENS</td>\n",
       "      <td>40.600554</td>\n",
       "      <td>-73.750704</td>\n",
       "    </tr>\n",
       "    <tr>\n",
       "      <th>13</th>\n",
       "      <td>09/01/2016 12:17:00 PM</td>\n",
       "      <td>09/07/2016 12:00:00 PM</td>\n",
       "      <td>DSNY</td>\n",
       "      <td>11211</td>\n",
       "      <td>BROOKLYN</td>\n",
       "      <td>40.704925</td>\n",
       "      <td>-73.962007</td>\n",
       "    </tr>\n",
       "    <tr>\n",
       "      <th>14</th>\n",
       "      <td>09/01/2016 12:10:22 PM</td>\n",
       "      <td>09/10/2016 02:23:44 PM</td>\n",
       "      <td>HPD</td>\n",
       "      <td>10027</td>\n",
       "      <td>MANHATTAN</td>\n",
       "      <td>40.812322</td>\n",
       "      <td>-73.955338</td>\n",
       "    </tr>\n",
       "    <tr>\n",
       "      <th>15</th>\n",
       "      <td>09/01/2016 12:32:32 PM</td>\n",
       "      <td>09/11/2016 02:03:37 AM</td>\n",
       "      <td>HPD</td>\n",
       "      <td>10452</td>\n",
       "      <td>BRONX</td>\n",
       "      <td>40.839529</td>\n",
       "      <td>-73.922534</td>\n",
       "    </tr>\n",
       "    <tr>\n",
       "      <th>...</th>\n",
       "      <td>...</td>\n",
       "      <td>...</td>\n",
       "      <td>...</td>\n",
       "      <td>...</td>\n",
       "      <td>...</td>\n",
       "      <td>...</td>\n",
       "      <td>...</td>\n",
       "    </tr>\n",
       "    <tr>\n",
       "      <th>971059</th>\n",
       "      <td>09/20/2016 03:02:25 PM</td>\n",
       "      <td>09/24/2016 09:33:13 AM</td>\n",
       "      <td>HPD</td>\n",
       "      <td>10469</td>\n",
       "      <td>BRONX</td>\n",
       "      <td>40.877527</td>\n",
       "      <td>-73.847712</td>\n",
       "    </tr>\n",
       "    <tr>\n",
       "      <th>971060</th>\n",
       "      <td>09/20/2016 11:36:47 AM</td>\n",
       "      <td>10/21/2016 08:02:42 PM</td>\n",
       "      <td>HPD</td>\n",
       "      <td>10029</td>\n",
       "      <td>MANHATTAN</td>\n",
       "      <td>40.791709</td>\n",
       "      <td>-73.937064</td>\n",
       "    </tr>\n",
       "    <tr>\n",
       "      <th>971061</th>\n",
       "      <td>09/20/2016 04:41:40 PM</td>\n",
       "      <td>09/24/2016 09:41:28 AM</td>\n",
       "      <td>HPD</td>\n",
       "      <td>10460</td>\n",
       "      <td>BRONX</td>\n",
       "      <td>40.833706</td>\n",
       "      <td>-73.895943</td>\n",
       "    </tr>\n",
       "    <tr>\n",
       "      <th>971062</th>\n",
       "      <td>09/20/2016 11:36:46 AM</td>\n",
       "      <td>10/21/2016 08:02:41 PM</td>\n",
       "      <td>HPD</td>\n",
       "      <td>10029</td>\n",
       "      <td>MANHATTAN</td>\n",
       "      <td>40.791709</td>\n",
       "      <td>-73.937064</td>\n",
       "    </tr>\n",
       "    <tr>\n",
       "      <th>971063</th>\n",
       "      <td>09/20/2016 01:41:33 PM</td>\n",
       "      <td>10/11/2016 02:04:05 AM</td>\n",
       "      <td>HPD</td>\n",
       "      <td>11432</td>\n",
       "      <td>QUEENS</td>\n",
       "      <td>40.711279</td>\n",
       "      <td>-73.788951</td>\n",
       "    </tr>\n",
       "  </tbody>\n",
       "</table>\n",
       "<p>910874 rows × 7 columns</p>\n",
       "</div>"
      ],
      "text/plain": [
       "                      Created Date             Closed Date Agency  \\\n",
       "Unique Key                                                          \n",
       "11          09/01/2016 12:33:42 AM  09/16/2016 01:06:56 AM    DCA   \n",
       "12          09/01/2016 08:16:24 PM  09/10/2016 06:08:25 PM    HPD   \n",
       "13          09/01/2016 12:17:00 PM  09/07/2016 12:00:00 PM   DSNY   \n",
       "14          09/01/2016 12:10:22 PM  09/10/2016 02:23:44 PM    HPD   \n",
       "15          09/01/2016 12:32:32 PM  09/11/2016 02:03:37 AM    HPD   \n",
       "...                            ...                     ...    ...   \n",
       "971059      09/20/2016 03:02:25 PM  09/24/2016 09:33:13 AM    HPD   \n",
       "971060      09/20/2016 11:36:47 AM  10/21/2016 08:02:42 PM    HPD   \n",
       "971061      09/20/2016 04:41:40 PM  09/24/2016 09:41:28 AM    HPD   \n",
       "971062      09/20/2016 11:36:46 AM  10/21/2016 08:02:41 PM    HPD   \n",
       "971063      09/20/2016 01:41:33 PM  10/11/2016 02:04:05 AM    HPD   \n",
       "\n",
       "           Incident Zip    Borough   Latitude  Longitude  \n",
       "Unique Key                                                \n",
       "11                10001  MANHATTAN  40.744790 -73.988834  \n",
       "12                11691     QUEENS  40.600554 -73.750704  \n",
       "13                11211   BROOKLYN  40.704925 -73.962007  \n",
       "14                10027  MANHATTAN  40.812322 -73.955338  \n",
       "15                10452      BRONX  40.839529 -73.922534  \n",
       "...                 ...        ...        ...        ...  \n",
       "971059            10469      BRONX  40.877527 -73.847712  \n",
       "971060            10029  MANHATTAN  40.791709 -73.937064  \n",
       "971061            10460      BRONX  40.833706 -73.895943  \n",
       "971062            10029  MANHATTAN  40.791709 -73.937064  \n",
       "971063            11432     QUEENS  40.711279 -73.788951  \n",
       "\n",
       "[910874 rows x 7 columns]"
      ]
     },
     "execution_count": 55,
     "metadata": {},
     "output_type": "execute_result"
    }
   ],
   "source": [
    "df"
   ]
  },
  {
   "cell_type": "markdown",
   "metadata": {},
   "source": [
    "<h3>Let's take a look at the columns again</h3>"
   ]
  },
  {
   "cell_type": "code",
   "execution_count": 56,
   "metadata": {},
   "outputs": [
    {
     "name": "stdout",
     "output_type": "stream",
     "text": [
      "<class 'pandas.core.frame.DataFrame'>\n",
      "Int64Index: 910874 entries, 11 to 971063\n",
      "Data columns (total 7 columns):\n",
      " #   Column        Non-Null Count   Dtype  \n",
      "---  ------        --------------   -----  \n",
      " 0   Created Date  910874 non-null  object \n",
      " 1   Closed Date   829425 non-null  object \n",
      " 2   Agency        910874 non-null  object \n",
      " 3   Incident Zip  910874 non-null  object \n",
      " 4   Borough       910874 non-null  object \n",
      " 5   Latitude      887168 non-null  float64\n",
      " 6   Longitude     887168 non-null  float64\n",
      "dtypes: float64(2), object(5)\n",
      "memory usage: 55.6+ MB\n"
     ]
    }
   ],
   "source": [
    "df.info()"
   ]
  },
  {
   "cell_type": "markdown",
   "metadata": {},
   "source": [
    "<h3>Closed Date, Latitude and Longitude all have missing values</h3>\n",
    "<h3>Let's get rid of them</h3>"
   ]
  },
  {
   "cell_type": "code",
   "execution_count": 57,
   "metadata": {},
   "outputs": [],
   "source": [
    "df = df[(df['Latitude'].notnull()) & (df['Longitude'].notnull())  & (df['Closed Date'].notnull())]  ## filter other columns from null values"
   ]
  },
  {
   "cell_type": "code",
   "execution_count": 58,
   "metadata": {},
   "outputs": [
    {
     "name": "stdout",
     "output_type": "stream",
     "text": [
      "<class 'pandas.core.frame.DataFrame'>\n",
      "Int64Index: 806561 entries, 11 to 971063\n",
      "Data columns (total 7 columns):\n",
      " #   Column        Non-Null Count   Dtype  \n",
      "---  ------        --------------   -----  \n",
      " 0   Created Date  806561 non-null  object \n",
      " 1   Closed Date   806561 non-null  object \n",
      " 2   Agency        806561 non-null  object \n",
      " 3   Incident Zip  806561 non-null  object \n",
      " 4   Borough       806561 non-null  object \n",
      " 5   Latitude      806561 non-null  float64\n",
      " 6   Longitude     806561 non-null  float64\n",
      "dtypes: float64(2), object(5)\n",
      "memory usage: 49.2+ MB\n"
     ]
    }
   ],
   "source": [
    "df.info()   ## now all values are non-null values"
   ]
  },
  {
   "cell_type": "markdown",
   "metadata": {},
   "source": [
    "<h4>Let's take a look at Borough data</h4>"
   ]
  },
  {
   "cell_type": "code",
   "execution_count": 59,
   "metadata": {},
   "outputs": [
    {
     "data": {
      "text/plain": [
       "array(['MANHATTAN', 'QUEENS', 'BROOKLYN', 'BRONX', 'STATEN ISLAND',\n",
       "       'Unspecified'], dtype=object)"
      ]
     },
     "execution_count": 59,
     "metadata": {},
     "output_type": "execute_result"
    }
   ],
   "source": [
    "df['Borough'].unique()"
   ]
  },
  {
   "cell_type": "markdown",
   "metadata": {},
   "source": [
    "<h4>Unspecified</h4>\n",
    "<li>Could be a problem if our analysis focuses on boroughs"
   ]
  },
  {
   "cell_type": "code",
   "execution_count": 60,
   "metadata": {},
   "outputs": [
    {
     "data": {
      "text/html": [
       "<div>\n",
       "<style scoped>\n",
       "    .dataframe tbody tr th:only-of-type {\n",
       "        vertical-align: middle;\n",
       "    }\n",
       "\n",
       "    .dataframe tbody tr th {\n",
       "        vertical-align: top;\n",
       "    }\n",
       "\n",
       "    .dataframe thead th {\n",
       "        text-align: right;\n",
       "    }\n",
       "</style>\n",
       "<table border=\"1\" class=\"dataframe\">\n",
       "  <thead>\n",
       "    <tr style=\"text-align: right;\">\n",
       "      <th></th>\n",
       "      <th>Agency</th>\n",
       "      <th>Incident Zip</th>\n",
       "    </tr>\n",
       "    <tr>\n",
       "      <th>Unique Key</th>\n",
       "      <th></th>\n",
       "      <th></th>\n",
       "    </tr>\n",
       "  </thead>\n",
       "  <tbody>\n",
       "    <tr>\n",
       "      <th>28854</th>\n",
       "      <td>NYPD</td>\n",
       "      <td>10312</td>\n",
       "    </tr>\n",
       "    <tr>\n",
       "      <th>29525</th>\n",
       "      <td>NYPD</td>\n",
       "      <td>11368</td>\n",
       "    </tr>\n",
       "    <tr>\n",
       "      <th>29559</th>\n",
       "      <td>NYPD</td>\n",
       "      <td>11422</td>\n",
       "    </tr>\n",
       "    <tr>\n",
       "      <th>29607</th>\n",
       "      <td>NYPD</td>\n",
       "      <td>10454</td>\n",
       "    </tr>\n",
       "    <tr>\n",
       "      <th>48565</th>\n",
       "      <td>NYPD</td>\n",
       "      <td>11209</td>\n",
       "    </tr>\n",
       "    <tr>\n",
       "      <th>...</th>\n",
       "      <td>...</td>\n",
       "      <td>...</td>\n",
       "    </tr>\n",
       "    <tr>\n",
       "      <th>188649</th>\n",
       "      <td>NYPD</td>\n",
       "      <td>11373</td>\n",
       "    </tr>\n",
       "    <tr>\n",
       "      <th>188650</th>\n",
       "      <td>NYPD</td>\n",
       "      <td>10468</td>\n",
       "    </tr>\n",
       "    <tr>\n",
       "      <th>188651</th>\n",
       "      <td>NYPD</td>\n",
       "      <td>11218</td>\n",
       "    </tr>\n",
       "    <tr>\n",
       "      <th>214971</th>\n",
       "      <td>NYPD</td>\n",
       "      <td>11233</td>\n",
       "    </tr>\n",
       "    <tr>\n",
       "      <th>235626</th>\n",
       "      <td>NYPD</td>\n",
       "      <td>11249</td>\n",
       "    </tr>\n",
       "  </tbody>\n",
       "</table>\n",
       "<p>819 rows × 2 columns</p>\n",
       "</div>"
      ],
      "text/plain": [
       "           Agency Incident Zip\n",
       "Unique Key                    \n",
       "28854        NYPD        10312\n",
       "29525        NYPD        11368\n",
       "29559        NYPD        11422\n",
       "29607        NYPD        10454\n",
       "48565        NYPD        11209\n",
       "...           ...          ...\n",
       "188649       NYPD        11373\n",
       "188650       NYPD        10468\n",
       "188651       NYPD        11218\n",
       "214971       NYPD        11233\n",
       "235626       NYPD        11249\n",
       "\n",
       "[819 rows x 2 columns]"
      ]
     },
     "execution_count": 60,
     "metadata": {},
     "output_type": "execute_result"
    }
   ],
   "source": [
    "df[df['Borough']=='Unspecified'][['Agency','Incident Zip']]  ## return only rows where df['Borough'] = 'Unspecified', and then for that subset\n",
    "                                                             ## just pull out the 'Agency' and 'Incident Zip' columns. \n",
    "                                                             ## We're taking a vertical cross-section of the data. We are trying to determine\n",
    "                                                             ## the impact, in terms of agency: are we going to lose a lot of data for one specific\n",
    "                                                             ## agency, or is it going to be uniformly spread across all agencies."
   ]
  },
  {
   "cell_type": "code",
   "execution_count": 61,
   "metadata": {},
   "outputs": [],
   "source": [
    "## Turns out that it's only 0.1% of the data"
   ]
  },
  {
   "cell_type": "markdown",
   "metadata": {},
   "source": [
    "<h3>Possible fixes</h3>\n",
    "<li>Map zips to boroughs using external data\n",
    "<li>Map zips to boroughs using data from the data frame\n",
    "<li>Delve into the data to see whether unspecified makes sense"
   ]
  },
  {
   "cell_type": "markdown",
   "metadata": {},
   "source": [
    "<h4>So we get to use our groupby function</h4>"
   ]
  },
  {
   "cell_type": "code",
   "execution_count": 62,
   "metadata": {},
   "outputs": [
    {
     "data": {
      "text/html": [
       "<div>\n",
       "<style scoped>\n",
       "    .dataframe tbody tr th:only-of-type {\n",
       "        vertical-align: middle;\n",
       "    }\n",
       "\n",
       "    .dataframe tbody tr th {\n",
       "        vertical-align: top;\n",
       "    }\n",
       "\n",
       "    .dataframe thead th {\n",
       "        text-align: right;\n",
       "    }\n",
       "</style>\n",
       "<table border=\"1\" class=\"dataframe\">\n",
       "  <thead>\n",
       "    <tr style=\"text-align: right;\">\n",
       "      <th></th>\n",
       "      <th>Created Date</th>\n",
       "      <th>Closed Date</th>\n",
       "      <th>Incident Zip</th>\n",
       "      <th>Borough</th>\n",
       "      <th>Latitude</th>\n",
       "      <th>Longitude</th>\n",
       "    </tr>\n",
       "    <tr>\n",
       "      <th>Agency</th>\n",
       "      <th></th>\n",
       "      <th></th>\n",
       "      <th></th>\n",
       "      <th></th>\n",
       "      <th></th>\n",
       "      <th></th>\n",
       "    </tr>\n",
       "  </thead>\n",
       "  <tbody>\n",
       "    <tr>\n",
       "      <th>3-1-1</th>\n",
       "      <td>1</td>\n",
       "      <td>1</td>\n",
       "      <td>1</td>\n",
       "      <td>1</td>\n",
       "      <td>1</td>\n",
       "      <td>1</td>\n",
       "    </tr>\n",
       "    <tr>\n",
       "      <th>DHS</th>\n",
       "      <td>67</td>\n",
       "      <td>67</td>\n",
       "      <td>67</td>\n",
       "      <td>67</td>\n",
       "      <td>67</td>\n",
       "      <td>67</td>\n",
       "    </tr>\n",
       "    <tr>\n",
       "      <th>DOE</th>\n",
       "      <td>1</td>\n",
       "      <td>1</td>\n",
       "      <td>1</td>\n",
       "      <td>1</td>\n",
       "      <td>1</td>\n",
       "      <td>1</td>\n",
       "    </tr>\n",
       "    <tr>\n",
       "      <th>DOF</th>\n",
       "      <td>3</td>\n",
       "      <td>3</td>\n",
       "      <td>3</td>\n",
       "      <td>3</td>\n",
       "      <td>3</td>\n",
       "      <td>3</td>\n",
       "    </tr>\n",
       "    <tr>\n",
       "      <th>DOT</th>\n",
       "      <td>13</td>\n",
       "      <td>13</td>\n",
       "      <td>13</td>\n",
       "      <td>13</td>\n",
       "      <td>13</td>\n",
       "      <td>13</td>\n",
       "    </tr>\n",
       "    <tr>\n",
       "      <th>DPR</th>\n",
       "      <td>2</td>\n",
       "      <td>2</td>\n",
       "      <td>2</td>\n",
       "      <td>2</td>\n",
       "      <td>2</td>\n",
       "      <td>2</td>\n",
       "    </tr>\n",
       "    <tr>\n",
       "      <th>FDNY</th>\n",
       "      <td>1</td>\n",
       "      <td>1</td>\n",
       "      <td>1</td>\n",
       "      <td>1</td>\n",
       "      <td>1</td>\n",
       "      <td>1</td>\n",
       "    </tr>\n",
       "    <tr>\n",
       "      <th>NYPD</th>\n",
       "      <td>725</td>\n",
       "      <td>725</td>\n",
       "      <td>725</td>\n",
       "      <td>725</td>\n",
       "      <td>725</td>\n",
       "      <td>725</td>\n",
       "    </tr>\n",
       "    <tr>\n",
       "      <th>TLC</th>\n",
       "      <td>6</td>\n",
       "      <td>6</td>\n",
       "      <td>6</td>\n",
       "      <td>6</td>\n",
       "      <td>6</td>\n",
       "      <td>6</td>\n",
       "    </tr>\n",
       "  </tbody>\n",
       "</table>\n",
       "</div>"
      ],
      "text/plain": [
       "        Created Date  Closed Date  Incident Zip  Borough  Latitude  Longitude\n",
       "Agency                                                                       \n",
       "3-1-1              1            1             1        1         1          1\n",
       "DHS               67           67            67       67        67         67\n",
       "DOE                1            1             1        1         1          1\n",
       "DOF                3            3             3        3         3          3\n",
       "DOT               13           13            13       13        13         13\n",
       "DPR                2            2             2        2         2          2\n",
       "FDNY               1            1             1        1         1          1\n",
       "NYPD             725          725           725      725       725        725\n",
       "TLC                6            6             6        6         6          6"
      ]
     },
     "execution_count": 62,
     "metadata": {},
     "output_type": "execute_result"
    }
   ],
   "source": [
    "df[df['Borough']=='Unspecified'].groupby('Agency').count()   # Here, we can see how the 'Unspecified' values are spread about the data w.r.t. \n",
    "                                                             # the Agency. We see that the count for NYPD is 725, indicating that NYPD is impacted\n",
    "                                                             # the most. However, it could be the case that data is composed of a lot more rows\n",
    "                                                             # of data with NYPD as the agency."
   ]
  },
  {
   "cell_type": "markdown",
   "metadata": {},
   "source": [
    "<li>Unspecified appears to have a systematic bias toward NYPD\n",
    "<li>Though only a small proportion of NYPD complaints (see below)\n",
    "<li>We have to decide whether to keep them or lose them!"
   ]
  },
  {
   "cell_type": "code",
   "execution_count": 63,
   "metadata": {},
   "outputs": [
    {
     "name": "stdout",
     "output_type": "stream",
     "text": [
      "0.26%\n"
     ]
    }
   ],
   "source": [
    "nypd_complaints_total = df[df['Agency']=='NYPD']['Borough'].count()\n",
    "nypd_unspecified = df[(df['Borough']=='Unspecified') & (df['Agency']==\"NYPD\")]['Borough'].count()\n",
    "percentage = nypd_unspecified/nypd_complaints_total*100\n",
    "print(\"%1.2f%%\"%percentage)"
   ]
  },
  {
   "cell_type": "code",
   "execution_count": 64,
   "metadata": {},
   "outputs": [],
   "source": [
    "# That is, the proportion of Unspecified NYPD data is negligible w.r.t. the entire dataset (only 0.26%), \n",
    "# so we can get rid of it since we won't lose a lot of data."
   ]
  },
  {
   "cell_type": "markdown",
   "metadata": {},
   "source": [
    "<h4>For now, we'll get rid of them. Unspecified will be hard to explain!</h4>"
   ]
  },
  {
   "cell_type": "code",
   "execution_count": 65,
   "metadata": {},
   "outputs": [],
   "source": [
    "df = df[df['Borough'] != 'Unspecified']   # getting rid of all rows with 'Unspecified'"
   ]
  },
  {
   "cell_type": "markdown",
   "metadata": {},
   "source": [
    "<h2>Dealing with time</h2>\n",
    "<li>Dates and times are best converted to datetime\n",
    "<li>That way they will be useful for analysis because we can compute timedelta objects"
   ]
  },
  {
   "cell_type": "markdown",
   "metadata": {},
   "source": [
    "<h2>Digression: The datetime library</h2>"
   ]
  },
  {
   "cell_type": "code",
   "execution_count": 66,
   "metadata": {},
   "outputs": [],
   "source": [
    "# df.info()"
   ]
  },
  {
   "cell_type": "markdown",
   "metadata": {},
   "source": [
    "<h4>And we get to use lambda functions!</h4>"
   ]
  },
  {
   "cell_type": "code",
   "execution_count": 67,
   "metadata": {},
   "outputs": [],
   "source": [
    "import datetime\n",
    "df['Created Date'] = df['Created Date'].apply(lambda x:datetime.datetime.strptime(x,'%m/%d/%Y %I:%M:%S %p'))\n",
    "# Takes a formatted date string and converts it into a datetime object.\n",
    "# It returns string representing the date, controlled by an explicit format string.\n",
    "# %m ~ 2 digits for month, %d ~ 2 digits for the day, %Y ~ 4 digits for the year.\n",
    "# %I ~ 2 digits for hours, %M ~ 2 digits for minutes, %S ~ 2 digits for seconds, %p ~ AM/PM\n",
    "# https://docs.python.org/3/library/datetime.html#strftime-strptime-behavior"
   ]
  },
  {
   "cell_type": "code",
   "execution_count": 68,
   "metadata": {},
   "outputs": [
    {
     "data": {
      "text/plain": [
       "Unique Key\n",
       "11   2016-09-01 00:33:42\n",
       "12   2016-09-01 20:16:24\n",
       "13   2016-09-01 12:17:00\n",
       "14   2016-09-01 12:10:22\n",
       "15   2016-09-01 12:32:32\n",
       "16   2016-09-01 20:16:24\n",
       "17   2016-09-01 08:35:00\n",
       "18   2016-09-01 13:19:42\n",
       "19   2016-09-01 11:00:00\n",
       "20   2016-09-01 11:45:00\n",
       "21   2016-09-01 10:11:45\n",
       "22   2016-09-01 08:22:53\n",
       "23   2016-09-01 17:31:04\n",
       "24   2016-09-01 08:50:41\n",
       "25   2016-09-01 14:19:21\n",
       "26   2016-09-01 12:46:35\n",
       "27   2016-09-01 13:33:58\n",
       "28   2016-09-01 13:51:10\n",
       "30   2016-09-01 12:34:41\n",
       "31   2016-09-01 07:03:00\n",
       "Name: Created Date, dtype: datetime64[ns]"
      ]
     },
     "execution_count": 68,
     "metadata": {},
     "output_type": "execute_result"
    }
   ],
   "source": [
    "df['Created Date'][0:20]"
   ]
  },
  {
   "cell_type": "code",
   "execution_count": 70,
   "metadata": {},
   "outputs": [],
   "source": [
    "df['Closed Date'] = df['Closed Date'].apply(lambda x:datetime.datetime.strptime(x,'%m/%d/%Y %I:%M:%S %p'))\n"
   ]
  },
  {
   "cell_type": "code",
   "execution_count": 71,
   "metadata": {},
   "outputs": [
    {
     "data": {
      "text/html": [
       "<div>\n",
       "<style scoped>\n",
       "    .dataframe tbody tr th:only-of-type {\n",
       "        vertical-align: middle;\n",
       "    }\n",
       "\n",
       "    .dataframe tbody tr th {\n",
       "        vertical-align: top;\n",
       "    }\n",
       "\n",
       "    .dataframe thead th {\n",
       "        text-align: right;\n",
       "    }\n",
       "</style>\n",
       "<table border=\"1\" class=\"dataframe\">\n",
       "  <thead>\n",
       "    <tr style=\"text-align: right;\">\n",
       "      <th></th>\n",
       "      <th>Created Date</th>\n",
       "      <th>Closed Date</th>\n",
       "      <th>Agency</th>\n",
       "      <th>Incident Zip</th>\n",
       "      <th>Borough</th>\n",
       "      <th>Latitude</th>\n",
       "      <th>Longitude</th>\n",
       "    </tr>\n",
       "    <tr>\n",
       "      <th>Unique Key</th>\n",
       "      <th></th>\n",
       "      <th></th>\n",
       "      <th></th>\n",
       "      <th></th>\n",
       "      <th></th>\n",
       "      <th></th>\n",
       "      <th></th>\n",
       "    </tr>\n",
       "  </thead>\n",
       "  <tbody>\n",
       "    <tr>\n",
       "      <th>11</th>\n",
       "      <td>2016-09-01 00:33:42</td>\n",
       "      <td>2016-09-16 01:06:56</td>\n",
       "      <td>DCA</td>\n",
       "      <td>10001</td>\n",
       "      <td>MANHATTAN</td>\n",
       "      <td>40.744790</td>\n",
       "      <td>-73.988834</td>\n",
       "    </tr>\n",
       "    <tr>\n",
       "      <th>12</th>\n",
       "      <td>2016-09-01 20:16:24</td>\n",
       "      <td>2016-09-10 18:08:25</td>\n",
       "      <td>HPD</td>\n",
       "      <td>11691</td>\n",
       "      <td>QUEENS</td>\n",
       "      <td>40.600554</td>\n",
       "      <td>-73.750704</td>\n",
       "    </tr>\n",
       "    <tr>\n",
       "      <th>13</th>\n",
       "      <td>2016-09-01 12:17:00</td>\n",
       "      <td>2016-09-07 12:00:00</td>\n",
       "      <td>DSNY</td>\n",
       "      <td>11211</td>\n",
       "      <td>BROOKLYN</td>\n",
       "      <td>40.704925</td>\n",
       "      <td>-73.962007</td>\n",
       "    </tr>\n",
       "    <tr>\n",
       "      <th>14</th>\n",
       "      <td>2016-09-01 12:10:22</td>\n",
       "      <td>2016-09-10 14:23:44</td>\n",
       "      <td>HPD</td>\n",
       "      <td>10027</td>\n",
       "      <td>MANHATTAN</td>\n",
       "      <td>40.812322</td>\n",
       "      <td>-73.955338</td>\n",
       "    </tr>\n",
       "    <tr>\n",
       "      <th>15</th>\n",
       "      <td>2016-09-01 12:32:32</td>\n",
       "      <td>2016-09-11 02:03:37</td>\n",
       "      <td>HPD</td>\n",
       "      <td>10452</td>\n",
       "      <td>BRONX</td>\n",
       "      <td>40.839529</td>\n",
       "      <td>-73.922534</td>\n",
       "    </tr>\n",
       "    <tr>\n",
       "      <th>...</th>\n",
       "      <td>...</td>\n",
       "      <td>...</td>\n",
       "      <td>...</td>\n",
       "      <td>...</td>\n",
       "      <td>...</td>\n",
       "      <td>...</td>\n",
       "      <td>...</td>\n",
       "    </tr>\n",
       "    <tr>\n",
       "      <th>971059</th>\n",
       "      <td>2016-09-20 15:02:25</td>\n",
       "      <td>2016-09-24 09:33:13</td>\n",
       "      <td>HPD</td>\n",
       "      <td>10469</td>\n",
       "      <td>BRONX</td>\n",
       "      <td>40.877527</td>\n",
       "      <td>-73.847712</td>\n",
       "    </tr>\n",
       "    <tr>\n",
       "      <th>971060</th>\n",
       "      <td>2016-09-20 11:36:47</td>\n",
       "      <td>2016-10-21 20:02:42</td>\n",
       "      <td>HPD</td>\n",
       "      <td>10029</td>\n",
       "      <td>MANHATTAN</td>\n",
       "      <td>40.791709</td>\n",
       "      <td>-73.937064</td>\n",
       "    </tr>\n",
       "    <tr>\n",
       "      <th>971061</th>\n",
       "      <td>2016-09-20 16:41:40</td>\n",
       "      <td>2016-09-24 09:41:28</td>\n",
       "      <td>HPD</td>\n",
       "      <td>10460</td>\n",
       "      <td>BRONX</td>\n",
       "      <td>40.833706</td>\n",
       "      <td>-73.895943</td>\n",
       "    </tr>\n",
       "    <tr>\n",
       "      <th>971062</th>\n",
       "      <td>2016-09-20 11:36:46</td>\n",
       "      <td>2016-10-21 20:02:41</td>\n",
       "      <td>HPD</td>\n",
       "      <td>10029</td>\n",
       "      <td>MANHATTAN</td>\n",
       "      <td>40.791709</td>\n",
       "      <td>-73.937064</td>\n",
       "    </tr>\n",
       "    <tr>\n",
       "      <th>971063</th>\n",
       "      <td>2016-09-20 13:41:33</td>\n",
       "      <td>2016-10-11 02:04:05</td>\n",
       "      <td>HPD</td>\n",
       "      <td>11432</td>\n",
       "      <td>QUEENS</td>\n",
       "      <td>40.711279</td>\n",
       "      <td>-73.788951</td>\n",
       "    </tr>\n",
       "  </tbody>\n",
       "</table>\n",
       "<p>805742 rows × 7 columns</p>\n",
       "</div>"
      ],
      "text/plain": [
       "                  Created Date         Closed Date Agency Incident Zip  \\\n",
       "Unique Key                                                               \n",
       "11         2016-09-01 00:33:42 2016-09-16 01:06:56    DCA        10001   \n",
       "12         2016-09-01 20:16:24 2016-09-10 18:08:25    HPD        11691   \n",
       "13         2016-09-01 12:17:00 2016-09-07 12:00:00   DSNY        11211   \n",
       "14         2016-09-01 12:10:22 2016-09-10 14:23:44    HPD        10027   \n",
       "15         2016-09-01 12:32:32 2016-09-11 02:03:37    HPD        10452   \n",
       "...                        ...                 ...    ...          ...   \n",
       "971059     2016-09-20 15:02:25 2016-09-24 09:33:13    HPD        10469   \n",
       "971060     2016-09-20 11:36:47 2016-10-21 20:02:42    HPD        10029   \n",
       "971061     2016-09-20 16:41:40 2016-09-24 09:41:28    HPD        10460   \n",
       "971062     2016-09-20 11:36:46 2016-10-21 20:02:41    HPD        10029   \n",
       "971063     2016-09-20 13:41:33 2016-10-11 02:04:05    HPD        11432   \n",
       "\n",
       "              Borough   Latitude  Longitude  \n",
       "Unique Key                                   \n",
       "11          MANHATTAN  40.744790 -73.988834  \n",
       "12             QUEENS  40.600554 -73.750704  \n",
       "13           BROOKLYN  40.704925 -73.962007  \n",
       "14          MANHATTAN  40.812322 -73.955338  \n",
       "15              BRONX  40.839529 -73.922534  \n",
       "...               ...        ...        ...  \n",
       "971059          BRONX  40.877527 -73.847712  \n",
       "971060      MANHATTAN  40.791709 -73.937064  \n",
       "971061          BRONX  40.833706 -73.895943  \n",
       "971062      MANHATTAN  40.791709 -73.937064  \n",
       "971063         QUEENS  40.711279 -73.788951  \n",
       "\n",
       "[805742 rows x 7 columns]"
      ]
     },
     "execution_count": 71,
     "metadata": {},
     "output_type": "execute_result"
    }
   ],
   "source": [
    "df\n"
   ]
  },
  {
   "cell_type": "code",
   "execution_count": 72,
   "metadata": {},
   "outputs": [
    {
     "name": "stdout",
     "output_type": "stream",
     "text": [
      "<class 'pandas.core.frame.DataFrame'>\n",
      "Int64Index: 805742 entries, 11 to 971063\n",
      "Data columns (total 7 columns):\n",
      " #   Column        Non-Null Count   Dtype         \n",
      "---  ------        --------------   -----         \n",
      " 0   Created Date  805742 non-null  datetime64[ns]\n",
      " 1   Closed Date   805742 non-null  datetime64[ns]\n",
      " 2   Agency        805742 non-null  object        \n",
      " 3   Incident Zip  805742 non-null  object        \n",
      " 4   Borough       805742 non-null  object        \n",
      " 5   Latitude      805742 non-null  float64       \n",
      " 6   Longitude     805742 non-null  float64       \n",
      "dtypes: datetime64[ns](2), float64(2), object(3)\n",
      "memory usage: 49.2+ MB\n"
     ]
    }
   ],
   "source": [
    "# Verifying that Created Date and Closed Date columns are indeed datetime objects.\n",
    "df.info()"
   ]
  },
  {
   "cell_type": "markdown",
   "metadata": {},
   "source": [
    "<h3>We can create a new column that tracks the time it takes to close a complaint</h3>"
   ]
  },
  {
   "cell_type": "code",
   "execution_count": 73,
   "metadata": {},
   "outputs": [],
   "source": [
    "df['processing_time'] =  df['Closed Date'] - df['Created Date']"
   ]
  },
  {
   "cell_type": "code",
   "execution_count": 74,
   "metadata": {},
   "outputs": [
    {
     "data": {
      "text/plain": [
       "count                     805742\n",
       "mean      5 days 00:05:11.538976\n",
       "std      12 days 06:08:17.201098\n",
       "min          -134 days +00:00:00\n",
       "25%              0 days 02:34:46\n",
       "50%       0 days 21:10:44.500000\n",
       "75%       4 days 14:29:59.750000\n",
       "max            148 days 13:10:54\n",
       "Name: processing_time, dtype: object"
      ]
     },
     "execution_count": 74,
     "metadata": {},
     "output_type": "execute_result"
    }
   ],
   "source": [
    "#And look at summary statistics\n",
    "df['processing_time'].describe()  # Notice that the min is a negative value, which doesn't make any sense here.\n"
   ]
  },
  {
   "cell_type": "code",
   "execution_count": 75,
   "metadata": {},
   "outputs": [
    {
     "data": {
      "text/plain": [
       "Timestamp('2016-09-01 00:00:00')"
      ]
     },
     "execution_count": 75,
     "metadata": {},
     "output_type": "execute_result"
    }
   ],
   "source": [
    "df['Created Date'].min()"
   ]
  },
  {
   "cell_type": "markdown",
   "metadata": {},
   "source": [
    "<h4>There is some odd stuff here</h4>\n",
    "<li>Negative processing time?\n",
    "<li>Since our data is for five months, a max of 148 days worth checking out"
   ]
  },
  {
   "cell_type": "markdown",
   "metadata": {},
   "source": [
    "<h3>Let's examine the negative processing time data</h3>"
   ]
  },
  {
   "cell_type": "code",
   "execution_count": 76,
   "metadata": {},
   "outputs": [
    {
     "data": {
      "text/html": [
       "<div>\n",
       "<style scoped>\n",
       "    .dataframe tbody tr th:only-of-type {\n",
       "        vertical-align: middle;\n",
       "    }\n",
       "\n",
       "    .dataframe tbody tr th {\n",
       "        vertical-align: top;\n",
       "    }\n",
       "\n",
       "    .dataframe thead th {\n",
       "        text-align: right;\n",
       "    }\n",
       "</style>\n",
       "<table border=\"1\" class=\"dataframe\">\n",
       "  <thead>\n",
       "    <tr style=\"text-align: right;\">\n",
       "      <th></th>\n",
       "      <th>Created Date</th>\n",
       "      <th>Closed Date</th>\n",
       "      <th>Agency</th>\n",
       "      <th>Incident Zip</th>\n",
       "      <th>Borough</th>\n",
       "      <th>Latitude</th>\n",
       "      <th>Longitude</th>\n",
       "      <th>processing_time</th>\n",
       "    </tr>\n",
       "    <tr>\n",
       "      <th>Unique Key</th>\n",
       "      <th></th>\n",
       "      <th></th>\n",
       "      <th></th>\n",
       "      <th></th>\n",
       "      <th></th>\n",
       "      <th></th>\n",
       "      <th></th>\n",
       "      <th></th>\n",
       "    </tr>\n",
       "  </thead>\n",
       "  <tbody>\n",
       "    <tr>\n",
       "      <th>3972</th>\n",
       "      <td>2016-09-16 14:24:00</td>\n",
       "      <td>2016-09-15 14:23:00</td>\n",
       "      <td>DOT</td>\n",
       "      <td>10314</td>\n",
       "      <td>STATEN ISLAND</td>\n",
       "      <td>40.597868</td>\n",
       "      <td>-74.140537</td>\n",
       "      <td>-2 days +23:59:00</td>\n",
       "    </tr>\n",
       "    <tr>\n",
       "      <th>5223</th>\n",
       "      <td>2016-09-20 14:03:00</td>\n",
       "      <td>2016-09-16 14:03:00</td>\n",
       "      <td>DOT</td>\n",
       "      <td>11220</td>\n",
       "      <td>BROOKLYN</td>\n",
       "      <td>40.630682</td>\n",
       "      <td>-74.010970</td>\n",
       "      <td>-4 days +00:00:00</td>\n",
       "    </tr>\n",
       "    <tr>\n",
       "      <th>6084</th>\n",
       "      <td>2016-10-20 11:24:00</td>\n",
       "      <td>2016-10-19 01:24:00</td>\n",
       "      <td>DOT</td>\n",
       "      <td>11412</td>\n",
       "      <td>QUEENS</td>\n",
       "      <td>40.696186</td>\n",
       "      <td>-73.751966</td>\n",
       "      <td>-2 days +14:00:00</td>\n",
       "    </tr>\n",
       "    <tr>\n",
       "      <th>6085</th>\n",
       "      <td>2016-10-20 16:40:00</td>\n",
       "      <td>2016-10-19 16:39:00</td>\n",
       "      <td>DOT</td>\n",
       "      <td>10306</td>\n",
       "      <td>STATEN ISLAND</td>\n",
       "      <td>40.580343</td>\n",
       "      <td>-74.103262</td>\n",
       "      <td>-2 days +23:59:00</td>\n",
       "    </tr>\n",
       "    <tr>\n",
       "      <th>6086</th>\n",
       "      <td>2016-10-20 12:19:00</td>\n",
       "      <td>2016-10-19 12:18:00</td>\n",
       "      <td>DOT</td>\n",
       "      <td>11209</td>\n",
       "      <td>BROOKLYN</td>\n",
       "      <td>40.634865</td>\n",
       "      <td>-74.026381</td>\n",
       "      <td>-2 days +23:59:00</td>\n",
       "    </tr>\n",
       "    <tr>\n",
       "      <th>...</th>\n",
       "      <td>...</td>\n",
       "      <td>...</td>\n",
       "      <td>...</td>\n",
       "      <td>...</td>\n",
       "      <td>...</td>\n",
       "      <td>...</td>\n",
       "      <td>...</td>\n",
       "      <td>...</td>\n",
       "    </tr>\n",
       "    <tr>\n",
       "      <th>968181</th>\n",
       "      <td>2016-09-15 13:59:00</td>\n",
       "      <td>2016-09-14 13:58:00</td>\n",
       "      <td>DOT</td>\n",
       "      <td>10473</td>\n",
       "      <td>BRONX</td>\n",
       "      <td>40.819163</td>\n",
       "      <td>-73.879813</td>\n",
       "      <td>-2 days +23:59:00</td>\n",
       "    </tr>\n",
       "    <tr>\n",
       "      <th>969890</th>\n",
       "      <td>2016-09-08 12:33:00</td>\n",
       "      <td>2016-09-06 12:33:00</td>\n",
       "      <td>DOT</td>\n",
       "      <td>11219</td>\n",
       "      <td>BROOKLYN</td>\n",
       "      <td>40.641815</td>\n",
       "      <td>-73.995813</td>\n",
       "      <td>-2 days +00:00:00</td>\n",
       "    </tr>\n",
       "    <tr>\n",
       "      <th>970636</th>\n",
       "      <td>2016-09-12 12:24:00</td>\n",
       "      <td>2016-09-09 22:28:00</td>\n",
       "      <td>DOT</td>\n",
       "      <td>10314</td>\n",
       "      <td>STATEN ISLAND</td>\n",
       "      <td>40.598331</td>\n",
       "      <td>-74.127146</td>\n",
       "      <td>-3 days +10:04:00</td>\n",
       "    </tr>\n",
       "    <tr>\n",
       "      <th>971003</th>\n",
       "      <td>2016-09-20 14:19:00</td>\n",
       "      <td>2016-09-16 14:19:00</td>\n",
       "      <td>DOT</td>\n",
       "      <td>11207</td>\n",
       "      <td>BROOKLYN</td>\n",
       "      <td>40.690455</td>\n",
       "      <td>-73.911748</td>\n",
       "      <td>-4 days +00:00:00</td>\n",
       "    </tr>\n",
       "    <tr>\n",
       "      <th>971051</th>\n",
       "      <td>2016-09-20 11:47:00</td>\n",
       "      <td>2016-09-16 11:47:00</td>\n",
       "      <td>DOT</td>\n",
       "      <td>11414</td>\n",
       "      <td>QUEENS</td>\n",
       "      <td>40.648070</td>\n",
       "      <td>-73.844823</td>\n",
       "      <td>-4 days +00:00:00</td>\n",
       "    </tr>\n",
       "  </tbody>\n",
       "</table>\n",
       "<p>6419 rows × 8 columns</p>\n",
       "</div>"
      ],
      "text/plain": [
       "                  Created Date         Closed Date Agency Incident Zip  \\\n",
       "Unique Key                                                               \n",
       "3972       2016-09-16 14:24:00 2016-09-15 14:23:00    DOT        10314   \n",
       "5223       2016-09-20 14:03:00 2016-09-16 14:03:00    DOT        11220   \n",
       "6084       2016-10-20 11:24:00 2016-10-19 01:24:00    DOT        11412   \n",
       "6085       2016-10-20 16:40:00 2016-10-19 16:39:00    DOT        10306   \n",
       "6086       2016-10-20 12:19:00 2016-10-19 12:18:00    DOT        11209   \n",
       "...                        ...                 ...    ...          ...   \n",
       "968181     2016-09-15 13:59:00 2016-09-14 13:58:00    DOT        10473   \n",
       "969890     2016-09-08 12:33:00 2016-09-06 12:33:00    DOT        11219   \n",
       "970636     2016-09-12 12:24:00 2016-09-09 22:28:00    DOT        10314   \n",
       "971003     2016-09-20 14:19:00 2016-09-16 14:19:00    DOT        11207   \n",
       "971051     2016-09-20 11:47:00 2016-09-16 11:47:00    DOT        11414   \n",
       "\n",
       "                  Borough   Latitude  Longitude   processing_time  \n",
       "Unique Key                                                         \n",
       "3972        STATEN ISLAND  40.597868 -74.140537 -2 days +23:59:00  \n",
       "5223             BROOKLYN  40.630682 -74.010970 -4 days +00:00:00  \n",
       "6084               QUEENS  40.696186 -73.751966 -2 days +14:00:00  \n",
       "6085        STATEN ISLAND  40.580343 -74.103262 -2 days +23:59:00  \n",
       "6086             BROOKLYN  40.634865 -74.026381 -2 days +23:59:00  \n",
       "...                   ...        ...        ...               ...  \n",
       "968181              BRONX  40.819163 -73.879813 -2 days +23:59:00  \n",
       "969890           BROOKLYN  40.641815 -73.995813 -2 days +00:00:00  \n",
       "970636      STATEN ISLAND  40.598331 -74.127146 -3 days +10:04:00  \n",
       "971003           BROOKLYN  40.690455 -73.911748 -4 days +00:00:00  \n",
       "971051             QUEENS  40.648070 -73.844823 -4 days +00:00:00  \n",
       "\n",
       "[6419 rows x 8 columns]"
      ]
     },
     "execution_count": 76,
     "metadata": {},
     "output_type": "execute_result"
    }
   ],
   "source": [
    "df[df['processing_time']<datetime.timedelta(0,0,0)]   # processing_time is in timedelta units since you took the difference\n",
    "                                                      # timedelta(0,0,0) denotes a zero in timedelta units.\n",
    "                                                      # This code lists all processing times less than 0 days, 0 hours, 0 minutes.\n",
    "                                                      # We want to see which ones and how many are negative w.r.t. to the timedelta zero"
   ]
  },
  {
   "cell_type": "code",
   "execution_count": 77,
   "metadata": {},
   "outputs": [
    {
     "data": {
      "text/plain": [
       "Created Date       6419\n",
       "Closed Date        6419\n",
       "Agency             6419\n",
       "Incident Zip       6419\n",
       "Borough            6419\n",
       "Latitude           6419\n",
       "Longitude          6419\n",
       "processing_time    6419\n",
       "dtype: int64"
      ]
     },
     "execution_count": 77,
     "metadata": {},
     "output_type": "execute_result"
    }
   ],
   "source": [
    "df[df['processing_time']<datetime.timedelta(0,0,0)].count()"
   ]
  },
  {
   "cell_type": "markdown",
   "metadata": {},
   "source": [
    "<h4>Possibilities</h4>\n",
    "<li>Data entry errors\n",
    "<li>Created Date and Closed Date got switched\n"
   ]
  },
  {
   "cell_type": "markdown",
   "metadata": {},
   "source": [
    "<h3>And the large processing times as well</h3>"
   ]
  },
  {
   "cell_type": "code",
   "execution_count": 78,
   "metadata": {},
   "outputs": [
    {
     "data": {
      "text/html": [
       "<div>\n",
       "<style scoped>\n",
       "    .dataframe tbody tr th:only-of-type {\n",
       "        vertical-align: middle;\n",
       "    }\n",
       "\n",
       "    .dataframe tbody tr th {\n",
       "        vertical-align: top;\n",
       "    }\n",
       "\n",
       "    .dataframe thead th {\n",
       "        text-align: right;\n",
       "    }\n",
       "</style>\n",
       "<table border=\"1\" class=\"dataframe\">\n",
       "  <thead>\n",
       "    <tr style=\"text-align: right;\">\n",
       "      <th></th>\n",
       "      <th>Created Date</th>\n",
       "      <th>Closed Date</th>\n",
       "      <th>Agency</th>\n",
       "      <th>Incident Zip</th>\n",
       "      <th>Borough</th>\n",
       "      <th>Latitude</th>\n",
       "      <th>Longitude</th>\n",
       "      <th>processing_time</th>\n",
       "    </tr>\n",
       "    <tr>\n",
       "      <th>Unique Key</th>\n",
       "      <th></th>\n",
       "      <th></th>\n",
       "      <th></th>\n",
       "      <th></th>\n",
       "      <th></th>\n",
       "      <th></th>\n",
       "      <th></th>\n",
       "      <th></th>\n",
       "    </tr>\n",
       "  </thead>\n",
       "  <tbody>\n",
       "    <tr>\n",
       "      <th>155818</th>\n",
       "      <td>2016-09-01 10:49:06</td>\n",
       "      <td>2017-01-28 00:00:00</td>\n",
       "      <td>DOB</td>\n",
       "      <td>11691</td>\n",
       "      <td>QUEENS</td>\n",
       "      <td>40.597741</td>\n",
       "      <td>-73.775975</td>\n",
       "      <td>148 days 13:10:54</td>\n",
       "    </tr>\n",
       "    <tr>\n",
       "      <th>156523</th>\n",
       "      <td>2016-09-01 09:04:14</td>\n",
       "      <td>2017-01-27 14:12:22</td>\n",
       "      <td>DOT</td>\n",
       "      <td>11357</td>\n",
       "      <td>QUEENS</td>\n",
       "      <td>40.791344</td>\n",
       "      <td>-73.827361</td>\n",
       "      <td>148 days 05:08:08</td>\n",
       "    </tr>\n",
       "  </tbody>\n",
       "</table>\n",
       "</div>"
      ],
      "text/plain": [
       "                  Created Date         Closed Date Agency Incident Zip  \\\n",
       "Unique Key                                                               \n",
       "155818     2016-09-01 10:49:06 2017-01-28 00:00:00    DOB        11691   \n",
       "156523     2016-09-01 09:04:14 2017-01-27 14:12:22    DOT        11357   \n",
       "\n",
       "           Borough   Latitude  Longitude   processing_time  \n",
       "Unique Key                                                  \n",
       "155818      QUEENS  40.597741 -73.775975 148 days 13:10:54  \n",
       "156523      QUEENS  40.791344 -73.827361 148 days 05:08:08  "
      ]
     },
     "execution_count": 78,
     "metadata": {},
     "output_type": "execute_result"
    }
   ],
   "source": [
    "df[df['processing_time']>datetime.timedelta(148,0,0)]  # list all processing times that are greater than 148 days"
   ]
  },
  {
   "cell_type": "code",
   "execution_count": 79,
   "metadata": {},
   "outputs": [
    {
     "data": {
      "text/plain": [
       "Created Date       2\n",
       "Closed Date        2\n",
       "Agency             2\n",
       "Incident Zip       2\n",
       "Borough            2\n",
       "Latitude           2\n",
       "Longitude          2\n",
       "processing_time    2\n",
       "dtype: int64"
      ]
     },
     "execution_count": 79,
     "metadata": {},
     "output_type": "execute_result"
    }
   ],
   "source": [
    "df[df['processing_time']>datetime.timedelta(148,0,0)].count()"
   ]
  },
  {
   "cell_type": "markdown",
   "metadata": {},
   "source": [
    "<li>Looks like the upper end makes sense but the negative times don't\n",
    "<li>Though we need to explore this more, we'll get rid of negative times for now"
   ]
  },
  {
   "cell_type": "code",
   "execution_count": 80,
   "metadata": {},
   "outputs": [],
   "source": [
    "df = df[df['processing_time']>=datetime.timedelta(0,0,0)]   # filter data to get rid of all entries/rows with negative processing times"
   ]
  },
  {
   "cell_type": "markdown",
   "metadata": {},
   "source": [
    "<h2>Finally, let's write a function that incorporates all our changes</h2>"
   ]
  },
  {
   "cell_type": "code",
   "execution_count": 81,
   "metadata": {},
   "outputs": [],
   "source": [
    "def read_311_data(datafile):\n",
    "    import pandas as pd\n",
    "    import numpy as np\n",
    "    #Add the fix_zip function\n",
    "    def fix_zip(input_zip):\n",
    "        try:\n",
    "            input_zip = int(float(input_zip))\n",
    "        except:\n",
    "            try:\n",
    "                input_zip = int(input_zip.split('-')[0])\n",
    "            except:\n",
    "                return np.NaN\n",
    "        if input_zip < 10000 or input_zip > 19999:\n",
    "            return np.NaN\n",
    "        return str(input_zip)\n",
    "    \n",
    "    #Read the file\n",
    "    df = pd.read_csv(datafile,index_col='Unique Key')\n",
    "    \n",
    "    #fix the zip\n",
    "    df['Incident Zip'] = df['Incident Zip'].apply(fix_zip)\n",
    "    \n",
    "    #drop all rows that have any nans in them (note the easier syntax!)\n",
    "    \n",
    "    df = df.dropna(how='any')\n",
    "    \n",
    "    #get rid of unspecified boroughs\n",
    "    df = df[df['Borough'] != 'Unspecified']\n",
    "    \n",
    "    #Convert times to datetime and create a processing time column\n",
    "    \n",
    "    import datetime\n",
    "    df['Created Date'] = df['Created Date'].apply(lambda x:datetime.datetime.strptime(x,'%m/%d/%Y %I:%M:%S %p'))\n",
    "    df['Closed Date'] = df['Closed Date'].apply(lambda x:datetime.datetime.strptime(x,'%m/%d/%Y %I:%M:%S %p'))\n",
    "    df['processing_time'] =  df['Closed Date'] - df['Created Date']\n",
    "    \n",
    "    #Finally, get rid of negative processing times and return the final data frame\n",
    "    \n",
    "    df = df[df['processing_time']>=datetime.timedelta(0,0,0)]\n",
    "    \n",
    "    return df\n",
    "    "
   ]
  },
  {
   "cell_type": "code",
   "execution_count": 82,
   "metadata": {},
   "outputs": [
    {
     "name": "stderr",
     "output_type": "stream",
     "text": [
      "/Users/josephhigh/ml/my_env/lib/python3.8/site-packages/IPython/core/interactiveshell.py:3254: DtypeWarning: Columns (4) have mixed types.Specify dtype option on import or set low_memory=False.\n",
      "  if (await self.run_code(code, result,  async_=asy)):\n"
     ]
    },
    {
     "name": "stdout",
     "output_type": "stream",
     "text": [
      "<class 'pandas.core.frame.DataFrame'>\n",
      "Int64Index: 799323 entries, 11 to 971063\n",
      "Data columns (total 8 columns):\n",
      " #   Column           Non-Null Count   Dtype          \n",
      "---  ------           --------------   -----          \n",
      " 0   Created Date     799323 non-null  datetime64[ns] \n",
      " 1   Closed Date      799323 non-null  datetime64[ns] \n",
      " 2   Agency           799323 non-null  object         \n",
      " 3   Incident Zip     799323 non-null  object         \n",
      " 4   Borough          799323 non-null  object         \n",
      " 5   Latitude         799323 non-null  float64        \n",
      " 6   Longitude        799323 non-null  float64        \n",
      " 7   processing_time  799323 non-null  timedelta64[ns]\n",
      "dtypes: datetime64[ns](2), float64(2), object(3), timedelta64[ns](1)\n",
      "memory usage: 54.9+ MB\n"
     ]
    }
   ],
   "source": [
    "df = read_311_data('nyc_311_data_subset_small.csv')\n",
    "df.info()"
   ]
  },
  {
   "cell_type": "markdown",
   "metadata": {
    "collapsed": true
   },
   "source": [
    "<h1>Summary</h1>\n",
    "<li>We read the data using read_csv\n",
    "<li>Cleaned Incident Zip\n",
    "<li>Converted Dates to datetime\n",
    "<li>Created a new column containing processing times\n"
   ]
  },
  {
   "cell_type": "markdown",
   "metadata": {},
   "source": [
    "<h3>The data is ready!</h3>"
   ]
  },
  {
   "cell_type": "code",
   "execution_count": null,
   "metadata": {},
   "outputs": [],
   "source": []
  }
 ],
 "metadata": {
  "anaconda-cloud": {},
  "kernelspec": {
   "display_name": "Python 3",
   "language": "python",
   "name": "python3"
  },
  "language_info": {
   "codemirror_mode": {
    "name": "ipython",
    "version": 3
   },
   "file_extension": ".py",
   "mimetype": "text/x-python",
   "name": "python",
   "nbconvert_exporter": "python",
   "pygments_lexer": "ipython3",
   "version": "3.8.8"
  }
 },
 "nbformat": 4,
 "nbformat_minor": 1
}
