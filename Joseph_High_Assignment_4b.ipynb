{
 "cells": [
  {
   "cell_type": "markdown",
   "metadata": {},
   "source": [
    "<h1>Problem 1: Factorials using numpy</h1>\n",
    "<li><b>prod</b> A numpy function that returns the product of all elements in an array\n",
    "<li><b>cumprod</b> A numpy function on an ndarray of size n that returns an array of size n where each element i is the product of all elements from 0 to i\n"
   ]
  },
  {
   "cell_type": "code",
   "execution_count": 1,
   "metadata": {},
   "outputs": [],
   "source": [
    "\"\"\"\n",
    "Replace pass with the code that uses ndarray, prod and cumprod \n",
    "to calculate the factorial of n\n",
    "\n",
    "The function should take an integer as an argument and return an integer\n",
    "\n",
    "\"\"\"\n",
    "def factorial(n):\n",
    "    import numpy as np\n",
    "    n = int(n)         # Assure that input is an integer in case input incorrectly.\n",
    "    n_factorial = 1    # initialize as output as 1 in case the input is 0 (since 0! = 1).\n",
    "    \n",
    "    if(n==0):\n",
    "        n_factorial = n_factorial   # Since 0! = 1 \n",
    "    elif(n<0):\n",
    "        return print(ValueError,'Undefined; the argument n must be a nonnegative integer.')\n",
    "    else:\n",
    "        n_array = np.arange(n+1)\n",
    "        #n_array = np.array(n_array,'int')  \n",
    "        n_array = n_array[1:n+1]   ## remove 0 from the array (o.w., product will collapse to 0)\n",
    "        n_factorial = np.prod(n_array)\n",
    "    \n",
    "    return n_factorial\n",
    "\n"
   ]
  },
  {
   "cell_type": "code",
   "execution_count": 2,
   "metadata": {},
   "outputs": [
    {
     "name": "stdout",
     "output_type": "stream",
     "text": [
      "0! =  1\n",
      "1! =  1\n",
      "2! =  2\n",
      "3! =  6\n",
      "4! =  24\n",
      "5! =  120\n"
     ]
    }
   ],
   "source": [
    "## Testing the function to verify it returns the correct answer for varying input values\n",
    "print(\"0! = \",factorial(0))\n",
    "print(\"1! = \",factorial(1))\n",
    "print(\"2! = \",factorial(2))\n",
    "print(\"3! = \",factorial(3))\n",
    "print(\"4! = \",factorial(4))\n",
    "print(\"5! = \",factorial(5))"
   ]
  },
  {
   "cell_type": "code",
   "execution_count": 3,
   "metadata": {},
   "outputs": [
    {
     "name": "stdout",
     "output_type": "stream",
     "text": [
      "<class 'ValueError'> Undefined; the argument n must be a nonnegative integer.\n"
     ]
    }
   ],
   "source": [
    " ## Verifying error message is returned when input is a negative integer.\n",
    "factorial(-1)  "
   ]
  },
  {
   "cell_type": "code",
   "execution_count": 4,
   "metadata": {},
   "outputs": [],
   "source": [
    "\"\"\"\n",
    "Replace pass with the code that uses ndarray, prod and cumprod to \n",
    "calculate the factorials of all values from 1 to n\n",
    "\n",
    "The function should take an integer as an argument and return an ndarray\n",
    "of size n \n",
    "\n",
    "\"\"\"\n",
    "\n",
    "def all_factorials(n):\n",
    "    import numpy as np\n",
    "    if(n==0):\n",
    "        array_factorial = 1   # Since 0! = 1 \n",
    "    elif(n<0):\n",
    "        return print('Undefined; the argument n must be a nonnegative integer.')\n",
    "    else:\n",
    "        n_array = np.arange(n+1)\n",
    "        n_array = np.array(n_array,'int') # Assure that input is an integer in case input incorrectly.\n",
    "        n_array = n_array[1:n+1]          # remove 0 from the array (o.w., product will collapse to 0)\n",
    "        array_factorial = np.cumprod(n_array)\n",
    "    \n",
    "    return array_factorial\n"
   ]
  },
  {
   "cell_type": "code",
   "execution_count": 5,
   "metadata": {},
   "outputs": [
    {
     "data": {
      "text/plain": [
       "array([  1,   2,   6,  24, 120])"
      ]
     },
     "execution_count": 5,
     "metadata": {},
     "output_type": "execute_result"
    }
   ],
   "source": [
    "# Testing function to verify\n",
    "\n",
    "all_factorials(5)"
   ]
  },
  {
   "cell_type": "markdown",
   "metadata": {},
   "source": [
    "<h1>Problem 2: Percent changes</h1>\n",
    "Write a function that constructs an ndarray from data in a file and \n",
    "returns a 1-period percent change on an ndarray after removing any nan values. Your function must make use of the following functions:\n",
    "<li>np.genfromtxt: https://docs.scipy.org/doc/numpy-1.13.0/reference/generated/numpy.genfromtxt.html\n",
    "<li>np.diff: https://docs.scipy.org/doc/numpy-1.13.0/reference/generated/numpy.diff.html\n",
    "<li>np.isnan: https://docs.scipy.org/doc/numpy-1.13.0/reference/generated/numpy.isnan.html\n",
    "\n",
    "<p>Test your function out using the attached apple.csv file. Your function can assume that the file structure is (date,price)\n",
    "\n",
    "<p>Note that percent change is defined as (p(t)-p(t-1))/p(t-1)\n",
    "\n",
    "<b>Example:</b><br>\n",
    "If the data array is: np.array([1,2,np.NaN,4,8,np.NAN])\n",
    "<br>\n",
    "The output array should be<br>\n",
    "array([ 1.,  1.,  1.])\n"
   ]
  },
  {
   "cell_type": "code",
   "execution_count": 6,
   "metadata": {},
   "outputs": [],
   "source": [
    "def get_pct_changes(file_name):\n",
    "    import numpy as np\n",
    "    \n",
    "    raw_data = np.genfromtxt(file_name,delimiter=\",\")\n",
    "    missing_data = np.isnan(raw_data)\n",
    "    clean_data = raw_data[~(missing_data)]\n",
    "    diff = np.diff(clean_data)\n",
    "    N = len(clean_data)\n",
    "    percent_change = diff/clean_data[:N-1]\n",
    "    \n",
    "    return percent_change"
   ]
  },
  {
   "cell_type": "code",
   "execution_count": 7,
   "metadata": {},
   "outputs": [
    {
     "data": {
      "text/plain": [
       "array([-0.05217305, -0.07339571,  0.02475207, ..., -0.00977899,\n",
       "       -0.00882215,  0.01720356])"
      ]
     },
     "execution_count": 7,
     "metadata": {},
     "output_type": "execute_result"
    }
   ],
   "source": [
    "## Testing function on the apple.csv file\n",
    "\n",
    "get_pct_changes('apple.csv')"
   ]
  },
  {
   "cell_type": "markdown",
   "metadata": {},
   "source": [
    "<h1>Problem 3: Pandas Grouping</h1>\n",
    "Write a program that reads timeseries pricing data from a file into a pandas dataframe and then groups the data as follows:\n",
    "<li>Adds a column, one-day percent change to the file \n",
    "<li>Groups the data into four categories:\n",
    "<ul>\n",
    "<li>\"High+\" if the percent change is greater than 2.5%\n",
    "<li>\"Low+\" if the percent change is positive and less than or equal to 2.5% \n",
    "<li>\"Low-\" if the percent change is negative but greater than or equal to -2.5%\n",
    "<li>\"High-\" if the percent change is less than -2.5%\n",
    "</ul>\n",
    "<li>Report the size and the mean of each of the groups\n",
    "\n"
   ]
  },
  {
   "cell_type": "code",
   "execution_count": 8,
   "metadata": {},
   "outputs": [
    {
     "name": "stdout",
     "output_type": "stream",
     "text": [
      "High+    1391\n",
      "High-    1210\n",
      "Low+     3170\n",
      "Low-     3140\n",
      "dtype: int64\n",
      "       Adj Close  One-Day Percent Change\n",
      "High+   8.652295                0.045705\n",
      "High-   8.289065               -0.044220\n",
      "Low+   26.292799                0.011020\n",
      "Low-   24.183470               -0.011171\n"
     ]
    }
   ],
   "source": [
    "datafile = \"apple.csv\"\n",
    "import pandas as pd\n",
    "df = pd.read_csv('apple.csv',na_values='null')\n",
    "\n",
    "# Adding one-day percent change column to dataframe\n",
    "df['One-Day Percent Change'] = df['Adj Close'].pct_change()\n",
    "\n",
    "# Functional grouping into four categories\n",
    "def GroupData(df,ind,col):\n",
    "    #df['One-Day Percent Change'] = df[col].pct_change()\n",
    "    \n",
    "    if df[col].loc[ind] > 0.025:      \n",
    "        return 'High+'\n",
    "    elif (df[col].loc[ind] > 0) and (df[col].loc[ind] <= 0.025):\n",
    "        return 'Low+'\n",
    "    elif (df[col].loc[ind] < 0) and (df[col].loc[ind] >= -0.025):\n",
    "        return 'Low-'\n",
    "    elif df[col].loc[ind] < -0.025:\n",
    "        return 'High-'\n",
    "    else:\n",
    "        return None\n",
    "\n",
    "grouped_data = df.groupby(lambda x: GroupData(df, x, 'One-Day Percent Change'))\n",
    "\n",
    "grouped_data\n",
    "print(grouped_data.size())\n",
    "print(grouped_data.mean())"
   ]
  },
  {
   "cell_type": "code",
   "execution_count": null,
   "metadata": {},
   "outputs": [],
   "source": []
  }
 ],
 "metadata": {
  "kernelspec": {
   "display_name": "Python 3",
   "language": "python",
   "name": "python3"
  },
  "language_info": {
   "codemirror_mode": {
    "name": "ipython",
    "version": 3
   },
   "file_extension": ".py",
   "mimetype": "text/x-python",
   "name": "python",
   "nbconvert_exporter": "python",
   "pygments_lexer": "ipython3",
   "version": "3.8.2"
  }
 },
 "nbformat": 4,
 "nbformat_minor": 4
}
