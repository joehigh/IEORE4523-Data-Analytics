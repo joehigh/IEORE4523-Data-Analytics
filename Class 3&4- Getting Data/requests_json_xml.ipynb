{
 "cells": [
  {
   "cell_type": "markdown",
   "metadata": {},
   "source": [
    "<h1>Sources of data</h1>\n",
    "<li><b>local files</b>csv, xls, txt, pdf</li>\n",
    "<li><b>database servers</b>\n",
    "<ul>\n",
    "<li>Relational databases\n",
    "<li>NoSQL databases\n",
    "</ul>\n",
    "<li><b>On the web</b>\n",
    "<ul>\n",
    "<li>html\n",
    "<li>JSON\n",
    "<li>XML\n",
    "</ul>"
   ]
  },
  {
   "cell_type": "markdown",
   "metadata": {},
   "source": [
    "<h2>Getting data from the Internet</h2>\n",
    "<li>Accessing the data is through APIs or web scraping\n",
    "<li>Data usually arrives in either JSON, XML or HTML \n",
    "<li>Python has libraries to help getting the data as well as extracting \"useful\" data"
   ]
  },
  {
   "cell_type": "markdown",
   "metadata": {},
   "source": [
    "<h2>The <i>requests</i> library</h2>\n",
    "<li>The primary mechanism for sending an API request or accessing a web server"
   ]
  },
  {
   "cell_type": "markdown",
   "metadata": {},
   "source": [
    "<h3>Step 1: Import the requests library</h3>"
   ]
  },
  {
   "cell_type": "code",
   "execution_count": 1,
   "metadata": {},
   "outputs": [],
   "source": [
    "import requests"
   ]
  },
  {
   "cell_type": "markdown",
   "metadata": {},
   "source": [
    "<h3>Step 2: Send an HTTP request, get the response, and save in a variable</h3>"
   ]
  },
  {
   "cell_type": "code",
   "execution_count": 2,
   "metadata": {},
   "outputs": [],
   "source": [
    "response = requests.get(\"http://www.epicurious.com/search/Tofu+Chili\")"
   ]
  },
  {
   "cell_type": "code",
   "execution_count": 3,
   "metadata": {},
   "outputs": [
    {
     "data": {
      "text/plain": [
       "200"
      ]
     },
     "execution_count": 3,
     "metadata": {},
     "output_type": "execute_result"
    }
   ],
   "source": [
    "response.status_code"
   ]
  },
  {
   "cell_type": "markdown",
   "metadata": {},
   "source": [
    "<h3>Step 3: Check the response status code to see if everything went as planned</h3>\n",
    "<li>status code 200: the request response cycle was successful\n",
    "<li>any other status code: it didn't work as expected (e.g., 404 = page not found)"
   ]
  },
  {
   "cell_type": "code",
   "execution_count": 4,
   "metadata": {},
   "outputs": [
    {
     "name": "stdout",
     "output_type": "stream",
     "text": [
      "200\n"
     ]
    }
   ],
   "source": [
    "print(response.status_code)"
   ]
  },
  {
   "cell_type": "code",
   "execution_count": 5,
   "metadata": {},
   "outputs": [
    {
     "data": {
      "text/plain": [
       "bytes"
      ]
     },
     "execution_count": 5,
     "metadata": {},
     "output_type": "execute_result"
    }
   ],
   "source": [
    "type(response.content)"
   ]
  },
  {
   "cell_type": "markdown",
   "metadata": {},
   "source": [
    "<h3>WWW data is usually encoded</h3>\n",
    "<li>The b' in front of the response content indicates an encoded byte string\n",
    "<li>The <meta charset=\"utf-8\"> indicates that the page is using \"utf-8\" encoding\n",
    "<li>utf-8 == <i>Unicode</i> variable length character encoding system\n",
    "<li>Data received from the world wide web is usually in utf-8\n",
    "<li>Python strings are \"plain\" (unencoded) character sequences\n",
    "<li><b>Corollary!</b> We need to convert the utf-8 string into a python str"
   ]
  },
  {
   "cell_type": "markdown",
   "metadata": {},
   "source": [
    "<a href=\"http://www.diveintopython3.net/strings.html\">Click here!</a> if you want to know all about strings and character encoding"
   ]
  },
  {
   "cell_type": "code",
   "execution_count": 6,
   "metadata": {},
   "outputs": [
    {
     "name": "stdout",
     "output_type": "stream",
     "text": [
      "<class 'bytes'>\n",
      "<class 'str'>\n"
     ]
    }
   ],
   "source": [
    "print(type(response.content))\n",
    "print(type(response.content.decode('utf-8')))"
   ]
  },
  {
   "cell_type": "code",
   "execution_count": 7,
   "metadata": {},
   "outputs": [
    {
     "data": {
      "text/plain": [
       "'utf-8'"
      ]
     },
     "execution_count": 7,
     "metadata": {},
     "output_type": "execute_result"
    }
   ],
   "source": [
    "response.encoding"
   ]
  },
  {
   "cell_type": "markdown",
   "metadata": {},
   "source": [
    "<h3>Step 4: Get the content of the response</h3>\n",
    "<li>Convert to utf-8 if necessary"
   ]
  },
  {
   "cell_type": "code",
   "execution_count": 8,
   "metadata": {},
   "outputs": [
    {
     "data": {
      "text/plain": [
       "str"
      ]
     },
     "execution_count": 8,
     "metadata": {},
     "output_type": "execute_result"
    }
   ],
   "source": [
    "type(response.content.decode('utf-8'))"
   ]
  },
  {
   "cell_type": "markdown",
   "metadata": {},
   "source": [
    "<h3>In-class problem</h3>\n",
    "<li>Get the contents of Wikipedia's main page and look for the string \"Did you know\" in it\n",
    "<li>At what location is it on the page?"
   ]
  },
  {
   "cell_type": "code",
   "execution_count": 9,
   "metadata": {},
   "outputs": [],
   "source": [
    "url = \"https://en.wikipedia.org/wiki/main_page\"\n",
    "#The rest of your code should go below this line\n",
    "#import\n"
   ]
  },
  {
   "cell_type": "markdown",
   "metadata": {},
   "source": [
    "<h1>JSON: JavaScript Object Notation</h1>\n",
    "\n",
    "<li>Standard for \"serializing\" data objects for storage or transmission \n",
    "<li>Human-readable, useful for data interchange\n",
    "<li>Also useful for representing and storing semistructured data\n",
    "<li>Stored as plain (byte strings or utf-8 strings) text\n",
    "<li>Contains data type information"
   ]
  },
  {
   "cell_type": "markdown",
   "metadata": {},
   "source": [
    "<h2>json</h2>\n",
    "<li>The python library - json - deals with converting text to and from JSON\n"
   ]
  },
  {
   "cell_type": "markdown",
   "metadata": {},
   "source": [
    "<h2>Python and JSON data types</h2>\n",
    "<table align=\"left\">\n",
    "<tr><td>JSON</td><td>Python</td></tr>\n",
    "<tr><td>number</td>\t<td>int,float</td></tr>\n",
    "<tr><td>string</td>\t<td>str</td></tr>\n",
    "<tr><td>Null</td>\t<td>None</td></tr>\n",
    "<tr><td>true/false</td>\t<td>True/False</td></tr>\n",
    "<tr><td>Object</td>\t<td>dict</td></tr>\n",
    "<tr><td>Array</td>\t<td>list</td></tr>\n",
    "</table>"
   ]
  },
  {
   "cell_type": "markdown",
   "metadata": {},
   "source": [
    "<b>json.loads converts a json object into a python data object</b>"
   ]
  },
  {
   "cell_type": "code",
   "execution_count": 10,
   "metadata": {},
   "outputs": [
    {
     "data": {
      "text/plain": [
       "list"
      ]
     },
     "execution_count": 10,
     "metadata": {},
     "output_type": "execute_result"
    }
   ],
   "source": [
    "import json\n",
    "data_string = '[{\"b\": [2, 4], \"3.0\": \"c\", \"a\": \"A\"},34]'\n",
    "python_data = json.loads(data_string)\n",
    "type(python_data)\n",
    "# data_string\n",
    "# print(type(python_data))"
   ]
  },
  {
   "cell_type": "markdown",
   "metadata": {},
   "source": [
    "<h3>json.loads recursively decodes a string in JSON format into equivalent python objects</h3>\n",
    "<li>data_string's outermost element is converted into a python list (in the example!)\n",
    "<li>the first element of that list is converted into a dictionary\n",
    "<li>the key of that dictionary is converted into a string\n",
    "<li>the value of that dictionary is converted into a list of two integer elements"
   ]
  },
  {
   "cell_type": "code",
   "execution_count": 11,
   "metadata": {},
   "outputs": [
    {
     "name": "stdout",
     "output_type": "stream",
     "text": [
      "<class 'str'> <class 'list'>\n",
      "<class 'dict'> {'b': [2, 4], '3.0': 'c', 'a': 'A'}\n",
      "<class 'list'> [2, 4]\n"
     ]
    }
   ],
   "source": [
    "print(type(data_string),type(python_data))\n",
    "print(type(python_data[0]),python_data[0])\n",
    "print(type(python_data[0]['b']),python_data[0]['b'])"
   ]
  },
  {
   "cell_type": "code",
   "execution_count": 12,
   "metadata": {},
   "outputs": [
    {
     "data": {
      "text/plain": [
       "[2, 4]"
      ]
     },
     "execution_count": 12,
     "metadata": {},
     "output_type": "execute_result"
    }
   ],
   "source": [
    "python_data[0]['b']"
   ]
  },
  {
   "cell_type": "markdown",
   "metadata": {},
   "source": [
    "<h3>json.loads will throw an exception if the format is incorrect</h3>"
   ]
  },
  {
   "cell_type": "code",
   "execution_count": 13,
   "metadata": {},
   "outputs": [
    {
     "data": {
      "text/plain": [
       "'Hello'"
      ]
     },
     "execution_count": 13,
     "metadata": {},
     "output_type": "execute_result"
    }
   ],
   "source": [
    "#Wrong. WHY?\n",
    "json.loads('\"Hello\"')\n",
    "#Correct\n"
   ]
  },
  {
   "cell_type": "markdown",
   "metadata": {},
   "source": [
    "<h3>json.dumps creates a json string from a python data object</h3>"
   ]
  },
  {
   "cell_type": "code",
   "execution_count": 14,
   "metadata": {},
   "outputs": [
    {
     "name": "stdout",
     "output_type": "stream",
     "text": [
      "<class 'str'>\n",
      "[{\"b\": [2, 4], \"3.0\": \"c\", \"a\": \"A\"}, 34]\n"
     ]
    },
    {
     "data": {
      "text/plain": [
       "'[{\"b\": [2, 4], \"3.0\": \"c\", \"a\": \"A\"}, 34]'"
      ]
     },
     "execution_count": 14,
     "metadata": {},
     "output_type": "execute_result"
    }
   ],
   "source": [
    "import json\n",
    "data_string = json.dumps(python_data)\n",
    "print(type(data_string))\n",
    "print(data_string)\n",
    "data_string"
   ]
  },
  {
   "cell_type": "markdown",
   "metadata": {},
   "source": [
    "<h1>API: Application Programming Interface</h1>\n",
    "<li>A protocal containing a set of commands or functions that allow one piece of software  to talk to another \n",
    "<li>Data from the web is often gotten through an API\n",
    "<li>Web APIs usually consist of two parts:\n",
    "<ul>\n",
    "<li><b>request</b> an well-formed HTTP request to a server\n",
    "<li><b>response</b> a response from the server, usually either an html page or a JSON object\n",
    "</ul>"
   ]
  },
  {
   "cell_type": "markdown",
   "metadata": {},
   "source": [
    "<h2>The HTTP request</h2>\n",
    "<li>Contains a url\n",
    "<li>Contains a set of parameters required by the server to figure out what data to send back\n",
    "<li>Often, a parameter is a unique <b>access key</b> that the server uses to keep track of who is requesting the data"
   ]
  },
  {
   "cell_type": "markdown",
   "metadata": {},
   "source": [
    "<h1>API example: Google Geocoding API</h1>\n",
    "<li><a href=\"https://developers.google.com/maps/documentation/geocoding/start\">Documentation</a>\n",
    "<li>Google has a large number of map and location related APIs\n",
    "<li>You need an account and an API key to use these APIs\n",
    "<li>To set up an account and get a key:\n",
    "<ul>\n",
    "<li>go to <a href=\"https://cloud.google.com/\">google cloud</a>\n",
    "<li>click \"go to console\" or \"try gcp for free\"\n",
    "<li>if creating a new account, enter all details \n",
    "<li>go to API and services\n",
    "<li>click \"Enable APIs\" and search for geocoding api\n",
    "<li>click on credentials and create an API key\n"
   ]
  },
  {
   "cell_type": "markdown",
   "metadata": {},
   "source": [
    "<h2>requests library and API requests</h2>"
   ]
  },
  {
   "cell_type": "code",
   "execution_count": 15,
   "metadata": {},
   "outputs": [],
   "source": [
    "#My api_key\n",
    "with open(\"/home/uday/Documents/Columbia_University/API_Keys/geocoding_key.txt\",'r') as f:\n",
    "    api_key = f.read().strip()\n"
   ]
  },
  {
   "cell_type": "code",
   "execution_count": 16,
   "metadata": {},
   "outputs": [
    {
     "name": "stdout",
     "output_type": "stream",
     "text": [
      "<class 'requests.models.Response'>\n"
     ]
    }
   ],
   "source": [
    "address=\"Columbia University, New York, NY\"\n",
    "address=address.replace(' ','_')\n",
    "#api_key=\"\"\n",
    "url=\"https://maps.googleapis.com/maps/api/geocode/json?address=%s&key=%s\" % (address,api_key)\n",
    "response = requests.get(url)\n",
    "print(type(response))\n"
   ]
  },
  {
   "cell_type": "code",
   "execution_count": 34,
   "metadata": {},
   "outputs": [
    {
     "data": {
      "text/plain": [
       "'UTF-8'"
      ]
     },
     "execution_count": 34,
     "metadata": {},
     "output_type": "execute_result"
    }
   ],
   "source": [
    "response.encoding"
   ]
  },
  {
   "cell_type": "markdown",
   "metadata": {},
   "source": [
    "<h4>requests can automatically decode and convert a json response into a python object"
   ]
  },
  {
   "cell_type": "code",
   "execution_count": 35,
   "metadata": {},
   "outputs": [
    {
     "data": {
      "text/plain": [
       "{'results': [{'address_components': [{'long_name': 'New York',\n",
       "     'short_name': 'New York',\n",
       "     'types': ['locality', 'political']},\n",
       "    {'long_name': 'Manhattan',\n",
       "     'short_name': 'Manhattan',\n",
       "     'types': ['political', 'sublocality', 'sublocality_level_1']},\n",
       "    {'long_name': 'New York County',\n",
       "     'short_name': 'New York County',\n",
       "     'types': ['administrative_area_level_2', 'political']},\n",
       "    {'long_name': 'New York',\n",
       "     'short_name': 'NY',\n",
       "     'types': ['administrative_area_level_1', 'political']},\n",
       "    {'long_name': 'United States',\n",
       "     'short_name': 'US',\n",
       "     'types': ['country', 'political']},\n",
       "    {'long_name': '10027', 'short_name': '10027', 'types': ['postal_code']}],\n",
       "   'formatted_address': 'New York, NY 10027, USA',\n",
       "   'geometry': {'location': {'lat': 40.8075355, 'lng': -73.9625727},\n",
       "    'location_type': 'GEOMETRIC_CENTER',\n",
       "    'viewport': {'northeast': {'lat': 40.8088844802915,\n",
       "      'lng': -73.96122371970849},\n",
       "     'southwest': {'lat': 40.8061865197085, 'lng': -73.9639216802915}}},\n",
       "   'place_id': 'ChIJyQ3Tlj72wokRUCflR_kzeVc',\n",
       "   'plus_code': {'compound_code': 'R25P+2X New York, NY, USA',\n",
       "    'global_code': '87G8R25P+2X'},\n",
       "   'types': ['establishment', 'point_of_interest', 'university']}],\n",
       " 'status': 'OK'}"
      ]
     },
     "execution_count": 35,
     "metadata": {},
     "output_type": "execute_result"
    }
   ],
   "source": [
    "response.json()"
   ]
  },
  {
   "cell_type": "markdown",
   "metadata": {},
   "source": [
    "<h3>Exception checking!</h3>\n",
    "<li>Ideally, we should always check if the data grab has been successful\n",
    "<li>Especially if we are incorporating our results into a \"live\" analysis"
   ]
  },
  {
   "cell_type": "code",
   "execution_count": 19,
   "metadata": {},
   "outputs": [
    {
     "name": "stdout",
     "output_type": "stream",
     "text": [
      "<class 'dict'>\n",
      "{'results': [{'address_components': [{'long_name': 'New York', 'short_name': 'New York', 'types': ['locality', 'political']}, {'long_name': 'Manhattan', 'short_name': 'Manhattan', 'types': ['political', 'sublocality', 'sublocality_level_1']}, {'long_name': 'New York County', 'short_name': 'New York County', 'types': ['administrative_area_level_2', 'political']}, {'long_name': 'New York', 'short_name': 'NY', 'types': ['administrative_area_level_1', 'political']}, {'long_name': 'United States', 'short_name': 'US', 'types': ['country', 'political']}, {'long_name': '10027', 'short_name': '10027', 'types': ['postal_code']}], 'formatted_address': 'New York, NY 10027, USA', 'geometry': {'location': {'lat': 40.8075355, 'lng': -73.9625727}, 'location_type': 'GEOMETRIC_CENTER', 'viewport': {'northeast': {'lat': 40.8088844802915, 'lng': -73.96122371970849}, 'southwest': {'lat': 40.8061865197085, 'lng': -73.9639216802915}}}, 'place_id': 'ChIJyQ3Tlj72wokRUCflR_kzeVc', 'plus_code': {'compound_code': 'R25P+2X New York, NY, USA', 'global_code': '87G8R25P+2X'}, 'types': ['establishment', 'point_of_interest', 'university']}], 'status': 'OK'}\n"
     ]
    }
   ],
   "source": [
    "response_data = ''\n",
    "address=\"Columbia University, New York, NY\"\n",
    "url=\"https://maps.googleapis.com/maps/api/geocode/json?address=%s&key=%s\" % (address,api_key)\n",
    "try:\n",
    "    response = requests.get(url)\n",
    "    if not response.status_code == 200:\n",
    "        print(\"HTTP error\",response.status_code)\n",
    "    else:\n",
    "        try:\n",
    "            response_data = response.json()\n",
    "        except:\n",
    "            print(\"Response not in valid JSON format\")\n",
    "except:\n",
    "    print(\"Something went wrong with requests.get\")\n",
    "print(type(response_data))\n",
    "print(response_data)"
   ]
  },
  {
   "cell_type": "markdown",
   "metadata": {},
   "source": [
    "<b>Try this</b>: Write a function that takes an address as an argument and returns a (latitude, longitude) tuple</h2>"
   ]
  },
  {
   "cell_type": "code",
   "execution_count": 20,
   "metadata": {},
   "outputs": [],
   "source": [
    "# def get_lat_lng(address_string,api_key):\n",
    "\n",
    "#     return (lat,lng)\n",
    "    \n",
    "# get_lat_lng(\"Columbia University\",api_key)"
   ]
  },
  {
   "cell_type": "code",
   "execution_count": 21,
   "metadata": {},
   "outputs": [],
   "source": [
    "# get_lat_lng(\"London Business School\",api_key)"
   ]
  },
  {
   "cell_type": "code",
   "execution_count": 22,
   "metadata": {},
   "outputs": [],
   "source": [
    "# get_lat_lng(\"Monash University\",api_key)"
   ]
  },
  {
   "cell_type": "markdown",
   "metadata": {},
   "source": [
    "<h1>XML</h1>\n",
    "<li>eXtensible Markup Language\n",
    "<li>data is stored in a tree\n",
    "<li>data items are \"tagged\" with named values\n",
    "<li>html is (loosely) similar to XML (both are based on SGML)\n",
    "<li>The python library - lxml - deals with converting an xml string to python objects and vice versa</li>"
   ]
  },
  {
   "cell_type": "code",
   "execution_count": 23,
   "metadata": {},
   "outputs": [],
   "source": [
    "data_string = \"\"\"\n",
    "<Bookstore>\n",
    "   <Book ISBN=\"ISBN-13:978-1599620787\" Price=\"15.23\" Weight=\"1.5\">\n",
    "      <Title>New York Deco</Title>\n",
    "      <Authors>\n",
    "         <Author Residence=\"New York City\">\n",
    "            <First_Name>Richard</First_Name>\n",
    "            <Last_Name>Berenholtz</Last_Name>\n",
    "         </Author>\n",
    "      </Authors>\n",
    "   </Book>\n",
    "   <Book ISBN=\"ISBN-13:978-1579128562\" Price=\"15.80\">\n",
    "      <Remark>\n",
    "      Five Hundred Buildings of New York and over one million other books are available for Amazon Kindle.\n",
    "      </Remark>\n",
    "      <Title>Five Hundred Buildings of New York</Title>\n",
    "      <Authors>\n",
    "         <Author Residence=\"Beijing\">\n",
    "            <First_Name>Bill</First_Name>\n",
    "            <Last_Name>Harris</Last_Name>\n",
    "         </Author>\n",
    "         <Author Residence=\"New York City\">\n",
    "            <First_Name>Jorg</First_Name>\n",
    "            <Last_Name>Brockmann</Last_Name>\n",
    "         </Author>\n",
    "      </Authors>\n",
    "   </Book>\n",
    "</Bookstore>\n",
    "\"\"\""
   ]
  },
  {
   "cell_type": "code",
   "execution_count": 36,
   "metadata": {},
   "outputs": [
    {
     "data": {
      "text/plain": [
       "<Element Bookstore at 0x7f50d44e1c80>"
      ]
     },
     "execution_count": 36,
     "metadata": {},
     "output_type": "execute_result"
    }
   ],
   "source": [
    "from lxml import etree\n",
    "root = etree.XML(data_string)\n",
    "# print(root.tag,type(root.tag))\n",
    "root"
   ]
  },
  {
   "cell_type": "markdown",
   "metadata": {},
   "source": [
    "<h4>XML trees are stored as utf-8 byte strings</h4>"
   ]
  },
  {
   "cell_type": "code",
   "execution_count": 25,
   "metadata": {},
   "outputs": [
    {
     "name": "stdout",
     "output_type": "stream",
     "text": [
      "b'<Bookstore>\\n   <Book ISBN=\"ISBN-13:978-1599620787\" Price=\"15.23\" Weight=\"1.5\">\\n      <Title>New York Deco</Title>\\n      <Authors>\\n         <Author Residence=\"New York City\">\\n            <First_Name>Richard</First_Name>\\n            <Last_Name>Berenholtz</Last_Name>\\n         </Author>\\n      </Authors>\\n   </Book>\\n   <Book ISBN=\"ISBN-13:978-1579128562\" Price=\"15.80\">\\n      <Remark>\\n      Five Hundred Buildings of New York and over one million other books are available for Amazon Kindle.\\n      </Remark>\\n      <Title>Five Hundred Buildings of New York</Title>\\n      <Authors>\\n         <Author Residence=\"Beijing\">\\n            <First_Name>Bill</First_Name>\\n            <Last_Name>Harris</Last_Name>\\n         </Author>\\n         <Author Residence=\"New York City\">\\n            <First_Name>Jorg</First_Name>\\n            <Last_Name>Brockmann</Last_Name>\\n         </Author>\\n      </Authors>\\n   </Book>\\n</Bookstore>\\n'\n"
     ]
    }
   ],
   "source": [
    "print(etree.tostring(root, pretty_print=True))"
   ]
  },
  {
   "cell_type": "code",
   "execution_count": 26,
   "metadata": {
    "scrolled": true
   },
   "outputs": [
    {
     "name": "stdout",
     "output_type": "stream",
     "text": [
      "<Bookstore>\n",
      "   <Book ISBN=\"ISBN-13:978-1599620787\" Price=\"15.23\" Weight=\"1.5\">\n",
      "      <Title>New York Deco</Title>\n",
      "      <Authors>\n",
      "         <Author Residence=\"New York City\">\n",
      "            <First_Name>Richard</First_Name>\n",
      "            <Last_Name>Berenholtz</Last_Name>\n",
      "         </Author>\n",
      "      </Authors>\n",
      "   </Book>\n",
      "   <Book ISBN=\"ISBN-13:978-1579128562\" Price=\"15.80\">\n",
      "      <Remark>\n",
      "      Five Hundred Buildings of New York and over one million other books are available for Amazon Kindle.\n",
      "      </Remark>\n",
      "      <Title>Five Hundred Buildings of New York</Title>\n",
      "      <Authors>\n",
      "         <Author Residence=\"Beijing\">\n",
      "            <First_Name>Bill</First_Name>\n",
      "            <Last_Name>Harris</Last_Name>\n",
      "         </Author>\n",
      "         <Author Residence=\"New York City\">\n",
      "            <First_Name>Jorg</First_Name>\n",
      "            <Last_Name>Brockmann</Last_Name>\n",
      "         </Author>\n",
      "      </Authors>\n",
      "   </Book>\n",
      "</Bookstore>\n",
      "\n"
     ]
    }
   ],
   "source": [
    "print(etree.tostring(root, pretty_print=True).decode(\"utf-8\"))"
   ]
  },
  {
   "cell_type": "markdown",
   "metadata": {},
   "source": [
    "<h3>Iterating over an XML tree</h3>\n",
    "<li>Use an iterator. \n",
    "<li>The iterator will generate every tree element for a given subtree"
   ]
  },
  {
   "cell_type": "code",
   "execution_count": 27,
   "metadata": {},
   "outputs": [
    {
     "name": "stdout",
     "output_type": "stream",
     "text": [
      "<Element Bookstore at 0x7f50d5ceeac0>\n",
      "<Element Book at 0x7f50d53f2dc0>\n",
      "<Element Title at 0x7f50d5c62540>\n",
      "<Element Authors at 0x7f50d53f2c00>\n",
      "<Element Author at 0x7f50d53f2c80>\n",
      "<Element First_Name at 0x7f50d53f2dc0>\n",
      "<Element Last_Name at 0x7f50d53f2c00>\n",
      "<Element Book at 0x7f50d53f2c80>\n",
      "<Element Remark at 0x7f50d53f2dc0>\n",
      "<Element Title at 0x7f50d53f2c00>\n",
      "<Element Authors at 0x7f50d53f2c80>\n",
      "<Element Author at 0x7f50d53f2dc0>\n",
      "<Element First_Name at 0x7f50d53f2c00>\n",
      "<Element Last_Name at 0x7f50d53f2c80>\n",
      "<Element Author at 0x7f50d53f2dc0>\n",
      "<Element First_Name at 0x7f50d53f2c00>\n",
      "<Element Last_Name at 0x7f50d53f2c80>\n"
     ]
    }
   ],
   "source": [
    "for element in root.iter():\n",
    "    print(element)"
   ]
  },
  {
   "cell_type": "markdown",
   "metadata": {},
   "source": [
    "<h4>Or just use the child in subtree construction"
   ]
  },
  {
   "cell_type": "code",
   "execution_count": 28,
   "metadata": {},
   "outputs": [
    {
     "name": "stdout",
     "output_type": "stream",
     "text": [
      "<Element Title at 0x7f50d53fbcc0>\n",
      "<Element Authors at 0x7f50d53fbd40>\n",
      "<Element Remark at 0x7f50d53fbc80>\n",
      "<Element Title at 0x7f50d53fbcc0>\n",
      "<Element Authors at 0x7f50d53fbd40>\n"
     ]
    }
   ],
   "source": [
    "for child in root:\n",
    "    for thing in child:\n",
    "        print(thing)"
   ]
  },
  {
   "cell_type": "markdown",
   "metadata": {},
   "source": [
    "<h4>Accessing the tag</h4>\n"
   ]
  },
  {
   "cell_type": "code",
   "execution_count": 29,
   "metadata": {},
   "outputs": [
    {
     "name": "stdout",
     "output_type": "stream",
     "text": [
      "Book\n",
      "Book\n"
     ]
    }
   ],
   "source": [
    "for child in root:\n",
    "    print(child.tag)"
   ]
  },
  {
   "cell_type": "markdown",
   "metadata": {},
   "source": [
    "<h4>Using the iterator to get specific tags<h4>\n",
    "<li>In the below example, only the author tags are accessed\n",
    "<li>For each author tag, the .find function accesses the First_Name and Last_Name tags\n",
    "<li>The .find function only looks at the children, not other descendants, so be careful!\n",
    "<li>The .text attribute prints the text in a leaf node"
   ]
  },
  {
   "cell_type": "code",
   "execution_count": 30,
   "metadata": {},
   "outputs": [
    {
     "name": "stdout",
     "output_type": "stream",
     "text": [
      "Richard Berenholtz\n",
      "Bill Harris\n",
      "Jorg Brockmann\n"
     ]
    }
   ],
   "source": [
    "for element in root.iter(\"Author\"):\n",
    "    #print(element)\n",
    "    print(element.find('First_Name').text,element.find('Last_Name').text)"
   ]
  },
  {
   "cell_type": "code",
   "execution_count": 31,
   "metadata": {},
   "outputs": [
    {
     "name": "stdout",
     "output_type": "stream",
     "text": [
      "Richard\n",
      "Bill\n",
      "Jorg\n"
     ]
    }
   ],
   "source": [
    "for element in root.findall('Book/Authors/Author/First_Name'):\n",
    "    print(element.text)"
   ]
  },
  {
   "cell_type": "markdown",
   "metadata": {},
   "source": [
    "<h4>Problem: Find the last names of all authors in the tree “root” using xpath</h4>"
   ]
  },
  {
   "cell_type": "code",
   "execution_count": 32,
   "metadata": {},
   "outputs": [
    {
     "name": "stdout",
     "output_type": "stream",
     "text": [
      "Berenholtz\n",
      "Harris\n",
      "Brockmann\n"
     ]
    }
   ],
   "source": [
    "for element in root.findall('Book/Authors/Author/Last_Name'):\n",
    "    print(element.text)"
   ]
  },
  {
   "cell_type": "markdown",
   "metadata": {},
   "source": [
    "<h4>Using values of attributes as filters</h4>\n",
    "<li>Example: Find the first name of the author of a book that weighs 1.5 oz"
   ]
  },
  {
   "cell_type": "code",
   "execution_count": 33,
   "metadata": {},
   "outputs": [
    {
     "data": {
      "text/plain": [
       "'Richard'"
      ]
     },
     "execution_count": 33,
     "metadata": {},
     "output_type": "execute_result"
    }
   ],
   "source": [
    "root.find('Book[@Weight=\"1.5\"]/Authors/Author/First_Name').text"
   ]
  },
  {
   "cell_type": "markdown",
   "metadata": {},
   "source": [
    "<b>Try This</b>: Print first and last names of all authors who live in New York City"
   ]
  },
  {
   "cell_type": "code",
   "execution_count": null,
   "metadata": {},
   "outputs": [],
   "source": []
  },
  {
   "cell_type": "code",
   "execution_count": null,
   "metadata": {},
   "outputs": [],
   "source": []
  }
 ],
 "metadata": {
  "anaconda-cloud": {},
  "kernelspec": {
   "display_name": "Python 3",
   "language": "python",
   "name": "python3"
  },
  "language_info": {
   "codemirror_mode": {
    "name": "ipython",
    "version": 3
   },
   "file_extension": ".py",
   "mimetype": "text/x-python",
   "name": "python",
   "nbconvert_exporter": "python",
   "pygments_lexer": "ipython3",
   "version": "3.8.5"
  }
 },
 "nbformat": 4,
 "nbformat_minor": 2
}
