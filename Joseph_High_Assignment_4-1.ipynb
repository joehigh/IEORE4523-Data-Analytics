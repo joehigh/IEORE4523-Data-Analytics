{
 "cells": [
  {
   "cell_type": "markdown",
   "metadata": {},
   "source": [
    "<h1>Numpy and Pandas Home Assignment</h1>\n",
    "In this assignment, we will use pandas and numpy to do some fairly basic analysis on equities."
   ]
  },
  {
   "cell_type": "markdown",
   "metadata": {},
   "source": [
    "<h3>Imports</h3>"
   ]
  },
  {
   "cell_type": "code",
   "execution_count": 1,
   "metadata": {},
   "outputs": [],
   "source": [
    "import datetime\n",
    "import numpy as np\n",
    "import pandas as pd\n",
    "%matplotlib inline\n",
    "import pandas_datareader.data as web\n",
    "#import fix_yahoo_finance as yf\n",
    "import yfinance as yf"
   ]
  },
  {
   "cell_type": "markdown",
   "metadata": {},
   "source": [
    "<h3>Get data on the following four stocks from yahoo finance</h3>\n",
    "<li>MS, GS, JPM, C\n",
    "<li>Use the date range 2013/1/1/ to 2018/9/24"
   ]
  },
  {
   "cell_type": "code",
   "execution_count": 2,
   "metadata": {},
   "outputs": [
    {
     "name": "stdout",
     "output_type": "stream",
     "text": [
      "Symbols            MS          GS         JPM          C\n",
      "Date                                                    \n",
      "2013-01-02  19.620001  131.660004   44.660000  41.250000\n",
      "2013-01-03  19.580000  130.940002   44.570000  41.389999\n",
      "2013-01-04  20.190001  134.509995   45.360001  42.430000\n",
      "2013-01-07  19.799999  134.259995   45.410000  42.470001\n",
      "2013-01-08  19.650000  133.050003   45.500000  42.459999\n",
      "...               ...         ...         ...        ...\n",
      "2018-09-18  47.849998  228.889999  114.300003  71.360001\n",
      "2018-09-19  49.099998  235.580002  117.620003  73.720001\n",
      "2018-09-20  49.880001  237.399994  118.629997  74.790001\n",
      "2018-09-21  49.410000  235.339996  117.849998  74.150002\n",
      "2018-09-24  48.560001  232.899994  116.720001  73.839996\n",
      "\n",
      "[1443 rows x 4 columns]\n"
     ]
    }
   ],
   "source": [
    "start = datetime.datetime(2013,1,1)\n",
    "end = datetime.datetime(2018,9,24)\n",
    "stocks_df = web.DataReader(['MS','GS','JPM','C'],'yahoo', start,end)['Close']\n",
    "print(stocks_df)"
   ]
  },
  {
   "cell_type": "markdown",
   "metadata": {},
   "source": [
    "<h3>Compute the cross correlation coefficients on the stocks</h3>\n",
    "<li>Create a df 'rets' with the one day percentage changes\n",
    "<li>Calculate cross correlations on the rets df"
   ]
  },
  {
   "cell_type": "code",
   "execution_count": 3,
   "metadata": {},
   "outputs": [
    {
     "name": "stdout",
     "output_type": "stream",
     "text": [
      "Symbols        MS        GS       JPM         C\n",
      "Symbols                                        \n",
      "MS       1.000000  0.844340  0.801232  0.809949\n",
      "GS       0.844340  1.000000  0.813289  0.792073\n",
      "JPM      0.801232  0.813289  1.000000  0.849607\n",
      "C        0.809949  0.792073  0.849607  1.000000\n"
     ]
    }
   ],
   "source": [
    "rets = stocks_df.pct_change()\n",
    "stocks_corr = rets.corr()\n",
    "\n",
    "print(stocks_corr)"
   ]
  },
  {
   "cell_type": "markdown",
   "metadata": {},
   "source": [
    "<h3>Select a pair of stocks to trade</h3>\n",
    "<li>Choose the pair with the highest correlation\n",
    "<li>You can just eyeball the result and pick the highest correlation pairs\n",
    "<li>Create a new df 'pairs' with the returns columns of the highest correlation pairs"
   ]
  },
  {
   "cell_type": "code",
   "execution_count": 4,
   "metadata": {},
   "outputs": [
    {
     "name": "stdout",
     "output_type": "stream",
     "text": [
      "Symbols          JPM         C\n",
      "Date                          \n",
      "2013-01-02       NaN       NaN\n",
      "2013-01-03 -0.002015  0.003394\n",
      "2013-01-04  0.017725  0.025127\n",
      "2013-01-07  0.001102  0.000943\n",
      "2013-01-08  0.001982 -0.000236\n",
      "...              ...       ...\n",
      "2018-09-18  0.004041  0.006772\n",
      "2018-09-19  0.029046  0.033072\n",
      "2018-09-20  0.008587  0.014514\n",
      "2018-09-21 -0.006575 -0.008557\n",
      "2018-09-24 -0.009588 -0.004181\n",
      "\n",
      "[1443 rows x 2 columns]\n"
     ]
    }
   ],
   "source": [
    "# Pair of stocks with greatest correlation coefficient: JPM and C\n",
    "\n",
    "pairs = rets[['JPM','C']]\n",
    "print(pairs)"
   ]
  },
  {
   "cell_type": "markdown",
   "metadata": {},
   "source": [
    "<h3>Calculate the mean and std dev of the columns (returns of the two stocks)</h3>\n",
    "<li>Note that line 1 contains a NaN. You'll have to get rid of this line\n",
    "<li>df.describe() returns summary stats for all cols in a dataframe. You can use this to extract means and standard deviations"
   ]
  },
  {
   "cell_type": "code",
   "execution_count": 5,
   "metadata": {},
   "outputs": [
    {
     "data": {
      "text/html": [
       "<div>\n",
       "<style scoped>\n",
       "    .dataframe tbody tr th:only-of-type {\n",
       "        vertical-align: middle;\n",
       "    }\n",
       "\n",
       "    .dataframe tbody tr th {\n",
       "        vertical-align: top;\n",
       "    }\n",
       "\n",
       "    .dataframe thead th {\n",
       "        text-align: right;\n",
       "    }\n",
       "</style>\n",
       "<table border=\"1\" class=\"dataframe\">\n",
       "  <thead>\n",
       "    <tr style=\"text-align: right;\">\n",
       "      <th>Symbols</th>\n",
       "      <th>C</th>\n",
       "      <th>JPM</th>\n",
       "    </tr>\n",
       "    <tr>\n",
       "      <th>Date</th>\n",
       "      <th></th>\n",
       "      <th></th>\n",
       "    </tr>\n",
       "  </thead>\n",
       "  <tbody>\n",
       "    <tr>\n",
       "      <th>2013-01-03</th>\n",
       "      <td>0.003394</td>\n",
       "      <td>-0.002015</td>\n",
       "    </tr>\n",
       "    <tr>\n",
       "      <th>2013-01-04</th>\n",
       "      <td>0.025127</td>\n",
       "      <td>0.017725</td>\n",
       "    </tr>\n",
       "    <tr>\n",
       "      <th>2013-01-07</th>\n",
       "      <td>0.000943</td>\n",
       "      <td>0.001102</td>\n",
       "    </tr>\n",
       "    <tr>\n",
       "      <th>2013-01-08</th>\n",
       "      <td>-0.000236</td>\n",
       "      <td>0.001982</td>\n",
       "    </tr>\n",
       "    <tr>\n",
       "      <th>2013-01-09</th>\n",
       "      <td>-0.009892</td>\n",
       "      <td>-0.000659</td>\n",
       "    </tr>\n",
       "    <tr>\n",
       "      <th>...</th>\n",
       "      <td>...</td>\n",
       "      <td>...</td>\n",
       "    </tr>\n",
       "    <tr>\n",
       "      <th>2018-09-18</th>\n",
       "      <td>0.006772</td>\n",
       "      <td>0.004041</td>\n",
       "    </tr>\n",
       "    <tr>\n",
       "      <th>2018-09-19</th>\n",
       "      <td>0.033072</td>\n",
       "      <td>0.029046</td>\n",
       "    </tr>\n",
       "    <tr>\n",
       "      <th>2018-09-20</th>\n",
       "      <td>0.014514</td>\n",
       "      <td>0.008587</td>\n",
       "    </tr>\n",
       "    <tr>\n",
       "      <th>2018-09-21</th>\n",
       "      <td>-0.008557</td>\n",
       "      <td>-0.006575</td>\n",
       "    </tr>\n",
       "    <tr>\n",
       "      <th>2018-09-24</th>\n",
       "      <td>-0.004181</td>\n",
       "      <td>-0.009588</td>\n",
       "    </tr>\n",
       "  </tbody>\n",
       "</table>\n",
       "<p>1442 rows × 2 columns</p>\n",
       "</div>"
      ],
      "text/plain": [
       "Symbols            C       JPM\n",
       "Date                          \n",
       "2013-01-03  0.003394 -0.002015\n",
       "2013-01-04  0.025127  0.017725\n",
       "2013-01-07  0.000943  0.001102\n",
       "2013-01-08 -0.000236  0.001982\n",
       "2013-01-09 -0.009892 -0.000659\n",
       "...              ...       ...\n",
       "2018-09-18  0.006772  0.004041\n",
       "2018-09-19  0.033072  0.029046\n",
       "2018-09-20  0.014514  0.008587\n",
       "2018-09-21 -0.008557 -0.006575\n",
       "2018-09-24 -0.004181 -0.009588\n",
       "\n",
       "[1442 rows x 2 columns]"
      ]
     },
     "execution_count": 5,
     "metadata": {},
     "output_type": "execute_result"
    }
   ],
   "source": [
    "new_df = rets[['C','JPM']].iloc[1:]\n",
    "\n",
    "c_std = new_df.describe()['C']['std']\n",
    "j_std = new_df.describe()['JPM']['std']\n",
    "c_mean = new_df.describe()['C']['mean']\n",
    "j_mean = new_df.describe()['JPM']['mean']\n",
    "\n",
    "new_df"
   ]
  },
  {
   "cell_type": "markdown",
   "metadata": {},
   "source": [
    "<h3>Create a new column \"Long_JPM_Short_C\"</h3>\n",
    "<li>If the return of C is greater than its mean + 0.25* std\n",
    "<li> AND\n",
    "<li>If the return of JPM is less than its mean - 0.25*std\n",
    "<li>The value in this col should be True or False"
   ]
  },
  {
   "cell_type": "code",
   "execution_count": 6,
   "metadata": {},
   "outputs": [
    {
     "name": "stdout",
     "output_type": "stream",
     "text": [
      "Symbols            C       JPM  Long_JPM_Short_C\n",
      "Date                                            \n",
      "2013-01-03  0.003394 -0.002015             False\n",
      "2013-01-04  0.025127  0.017725             False\n",
      "2013-01-07  0.000943  0.001102             False\n",
      "2013-01-08 -0.000236  0.001982             False\n",
      "2013-01-09 -0.009892 -0.000659             False\n",
      "...              ...       ...               ...\n",
      "2018-09-18  0.006772  0.004041             False\n",
      "2018-09-19  0.033072  0.029046             False\n",
      "2018-09-20  0.014514  0.008587             False\n",
      "2018-09-21 -0.008557 -0.006575             False\n",
      "2018-09-24 -0.004181 -0.009588             False\n",
      "\n",
      "[1442 rows x 3 columns]\n"
     ]
    }
   ],
   "source": [
    "c_lb = c_mean+0.25*c_std\n",
    "jpm_ub = j_mean-0.25*j_std\n",
    "\n",
    "new_df['Long_JPM_Short_C'] = np.where((new_df['C']>c_lb) & (new_df['JPM']<jpm_ub),True,False) \n",
    "new_df['Long_JPM_Short_C'].shift(periods=1)\n",
    "print(new_df)"
   ]
  },
  {
   "cell_type": "markdown",
   "metadata": {},
   "source": [
    "<h3>Create a new column \"Long_C_Short_JPM\"</h3>\n",
    "<li>If the return of JPM is greater than its mean + 0.25* std\n",
    "<li> AND\n",
    "<li>If the return of C is less than its mean - 0.25*std\n",
    "<li>The value in this col should be True or False"
   ]
  },
  {
   "cell_type": "code",
   "execution_count": 7,
   "metadata": {},
   "outputs": [
    {
     "name": "stdout",
     "output_type": "stream",
     "text": [
      "Symbols            C       JPM  Long_JPM_Short_C  Long_C_Short_JPM\n",
      "Date                                                              \n",
      "2013-01-03  0.003394 -0.002015             False             False\n",
      "2013-01-04  0.025127  0.017725             False             False\n",
      "2013-01-07  0.000943  0.001102             False             False\n",
      "2013-01-08 -0.000236  0.001982             False             False\n",
      "2013-01-09 -0.009892 -0.000659             False             False\n",
      "...              ...       ...               ...               ...\n",
      "2018-09-18  0.006772  0.004041             False             False\n",
      "2018-09-19  0.033072  0.029046             False             False\n",
      "2018-09-20  0.014514  0.008587             False             False\n",
      "2018-09-21 -0.008557 -0.006575             False             False\n",
      "2018-09-24 -0.004181 -0.009588             False             False\n",
      "\n",
      "[1442 rows x 4 columns]\n"
     ]
    }
   ],
   "source": [
    "jpm_lb = j_mean+0.25*j_std\n",
    "c_ub = c_mean-0.25*c_std\n",
    "\n",
    "new_df['Long_C_Short_JPM'] = np.where((new_df['JPM']>jpm_lb) & (new_df['C']<c_ub),True,False) \n",
    "new_df['Long_C_Short_JPM'].shift(periods=1)\n",
    "print(new_df)"
   ]
  },
  {
   "cell_type": "markdown",
   "metadata": {},
   "source": [
    "<h3>Create a new column \"Trade_return\"</h3>\n",
    "<li>If Long_JPM_Short_C is True and Long_C_Short_JPM is False, the value of this column should be the return on JPM minus the return on C\n",
    "<li>If Long_JPM_Short_C is False and Long_C_Short_JPM is True, the value of this column should be the return on C minus the return on JPM\n",
    "<li>Otherwise the value should be zero"
   ]
  },
  {
   "cell_type": "code",
   "execution_count": 8,
   "metadata": {},
   "outputs": [],
   "source": [
    "# new_df['Trade_return']= np.zeros_like(new_df['JPM'])\n",
    "\n",
    "# new_df.loc[((new_df['Long_JPM_Short_C'] == True) \n",
    "#             & (new_df['Long_C_Short_JPM'] == False)),'Trade_return'] = new_df['JPM'] - new_df['C']\n",
    "\n",
    "# new_df.loc[((new_df['Long_JPM_Short_C'] == False) \n",
    "#             & (new_df['Long_C_Short_JPM'] == True)),'Trade_return'] = new_df['C'] - new_df['JPM']"
   ]
  },
  {
   "cell_type": "code",
   "execution_count": 9,
   "metadata": {},
   "outputs": [
    {
     "data": {
      "text/html": [
       "<div>\n",
       "<style scoped>\n",
       "    .dataframe tbody tr th:only-of-type {\n",
       "        vertical-align: middle;\n",
       "    }\n",
       "\n",
       "    .dataframe tbody tr th {\n",
       "        vertical-align: top;\n",
       "    }\n",
       "\n",
       "    .dataframe thead th {\n",
       "        text-align: right;\n",
       "    }\n",
       "</style>\n",
       "<table border=\"1\" class=\"dataframe\">\n",
       "  <thead>\n",
       "    <tr style=\"text-align: right;\">\n",
       "      <th>Symbols</th>\n",
       "      <th>C</th>\n",
       "      <th>JPM</th>\n",
       "      <th>Long_JPM_Short_C</th>\n",
       "      <th>Long_C_Short_JPM</th>\n",
       "      <th>Trade_return</th>\n",
       "    </tr>\n",
       "    <tr>\n",
       "      <th>Date</th>\n",
       "      <th></th>\n",
       "      <th></th>\n",
       "      <th></th>\n",
       "      <th></th>\n",
       "      <th></th>\n",
       "    </tr>\n",
       "  </thead>\n",
       "  <tbody>\n",
       "    <tr>\n",
       "      <th>2013-01-03</th>\n",
       "      <td>0.003394</td>\n",
       "      <td>-0.002015</td>\n",
       "      <td>False</td>\n",
       "      <td>False</td>\n",
       "      <td>0.0</td>\n",
       "    </tr>\n",
       "    <tr>\n",
       "      <th>2013-01-04</th>\n",
       "      <td>0.025127</td>\n",
       "      <td>0.017725</td>\n",
       "      <td>False</td>\n",
       "      <td>False</td>\n",
       "      <td>0.0</td>\n",
       "    </tr>\n",
       "    <tr>\n",
       "      <th>2013-01-07</th>\n",
       "      <td>0.000943</td>\n",
       "      <td>0.001102</td>\n",
       "      <td>False</td>\n",
       "      <td>False</td>\n",
       "      <td>0.0</td>\n",
       "    </tr>\n",
       "    <tr>\n",
       "      <th>2013-01-08</th>\n",
       "      <td>-0.000236</td>\n",
       "      <td>0.001982</td>\n",
       "      <td>False</td>\n",
       "      <td>False</td>\n",
       "      <td>0.0</td>\n",
       "    </tr>\n",
       "    <tr>\n",
       "      <th>2013-01-09</th>\n",
       "      <td>-0.009892</td>\n",
       "      <td>-0.000659</td>\n",
       "      <td>False</td>\n",
       "      <td>False</td>\n",
       "      <td>0.0</td>\n",
       "    </tr>\n",
       "    <tr>\n",
       "      <th>...</th>\n",
       "      <td>...</td>\n",
       "      <td>...</td>\n",
       "      <td>...</td>\n",
       "      <td>...</td>\n",
       "      <td>...</td>\n",
       "    </tr>\n",
       "    <tr>\n",
       "      <th>2018-09-18</th>\n",
       "      <td>0.006772</td>\n",
       "      <td>0.004041</td>\n",
       "      <td>False</td>\n",
       "      <td>False</td>\n",
       "      <td>0.0</td>\n",
       "    </tr>\n",
       "    <tr>\n",
       "      <th>2018-09-19</th>\n",
       "      <td>0.033072</td>\n",
       "      <td>0.029046</td>\n",
       "      <td>False</td>\n",
       "      <td>False</td>\n",
       "      <td>0.0</td>\n",
       "    </tr>\n",
       "    <tr>\n",
       "      <th>2018-09-20</th>\n",
       "      <td>0.014514</td>\n",
       "      <td>0.008587</td>\n",
       "      <td>False</td>\n",
       "      <td>False</td>\n",
       "      <td>0.0</td>\n",
       "    </tr>\n",
       "    <tr>\n",
       "      <th>2018-09-21</th>\n",
       "      <td>-0.008557</td>\n",
       "      <td>-0.006575</td>\n",
       "      <td>False</td>\n",
       "      <td>False</td>\n",
       "      <td>0.0</td>\n",
       "    </tr>\n",
       "    <tr>\n",
       "      <th>2018-09-24</th>\n",
       "      <td>-0.004181</td>\n",
       "      <td>-0.009588</td>\n",
       "      <td>False</td>\n",
       "      <td>False</td>\n",
       "      <td>0.0</td>\n",
       "    </tr>\n",
       "  </tbody>\n",
       "</table>\n",
       "<p>1442 rows × 5 columns</p>\n",
       "</div>"
      ],
      "text/plain": [
       "Symbols            C       JPM  Long_JPM_Short_C  Long_C_Short_JPM  \\\n",
       "Date                                                                 \n",
       "2013-01-03  0.003394 -0.002015             False             False   \n",
       "2013-01-04  0.025127  0.017725             False             False   \n",
       "2013-01-07  0.000943  0.001102             False             False   \n",
       "2013-01-08 -0.000236  0.001982             False             False   \n",
       "2013-01-09 -0.009892 -0.000659             False             False   \n",
       "...              ...       ...               ...               ...   \n",
       "2018-09-18  0.006772  0.004041             False             False   \n",
       "2018-09-19  0.033072  0.029046             False             False   \n",
       "2018-09-20  0.014514  0.008587             False             False   \n",
       "2018-09-21 -0.008557 -0.006575             False             False   \n",
       "2018-09-24 -0.004181 -0.009588             False             False   \n",
       "\n",
       "Symbols     Trade_return  \n",
       "Date                      \n",
       "2013-01-03           0.0  \n",
       "2013-01-04           0.0  \n",
       "2013-01-07           0.0  \n",
       "2013-01-08           0.0  \n",
       "2013-01-09           0.0  \n",
       "...                  ...  \n",
       "2018-09-18           0.0  \n",
       "2018-09-19           0.0  \n",
       "2018-09-20           0.0  \n",
       "2018-09-21           0.0  \n",
       "2018-09-24           0.0  \n",
       "\n",
       "[1442 rows x 5 columns]"
      ]
     },
     "execution_count": 9,
     "metadata": {},
     "output_type": "execute_result"
    }
   ],
   "source": [
    "new_df['Trade_return'] = np.where(((new_df['Long_JPM_Short_C']==True) \n",
    "                                 & (new_df['Long_C_Short_JPM']==False)), new_df['JPM']-new_df['C'], 0)\n",
    "\n",
    "new_df['Trade_return'] += np.where(((new_df['Long_C_Short_JPM']==True) \n",
    "                                 & (new_df['Long_JPM_Short_C']==False)), new_df['C']-new_df['JPM'], 0)\n",
    "new_df"
   ]
  },
  {
   "cell_type": "markdown",
   "metadata": {},
   "source": [
    "<h3>Calculate the sum of this new column</h3>\n",
    "<li>Are you going to get rich?"
   ]
  },
  {
   "cell_type": "code",
   "execution_count": 10,
   "metadata": {},
   "outputs": [
    {
     "data": {
      "text/plain": [
       "-0.6793516982785628"
      ]
     },
     "execution_count": 10,
     "metadata": {},
     "output_type": "execute_result"
    }
   ],
   "source": [
    "payoff = sum(new_df['Trade_return'])\n",
    "payoff"
   ]
  },
  {
   "cell_type": "code",
   "execution_count": 11,
   "metadata": {},
   "outputs": [],
   "source": [
    "## No, I will get rich, since the total return is negative. ##"
   ]
  },
  {
   "cell_type": "markdown",
   "metadata": {},
   "source": [
    "### Because the overall trade return is negative, we will NOT get rich if we were to invest in both JPM and C between January 1, 2013 and September 24, 2018 using the strategies Long_JPM_Short_C and Long_C_Short_JPM."
   ]
  },
  {
   "cell_type": "code",
   "execution_count": 12,
   "metadata": {},
   "outputs": [],
   "source": [
    "# new_df['Trade_return']= np.zeros_like(new_df['JPM'])\n",
    "\n",
    "# for i in new_df.index:\n",
    "#     if (new_df['Long_JPM_Short_C'][i]==True) and (new_df['Long_C_Short_JPM'][i]==False):\n",
    "#         new_df['Trade_return'][i] = new_df['JPM'][i]-new_df['C'][i]\n",
    "#     elif new_df['Long_JPM_Short_C'][i]==False and new_df['Long_C_Short_JPM'][i]==True:\n",
    "#         new_df['Trade_return'][i] = new_df['C'][i]-new_df['JPM'][i]\n",
    "#     else:\n",
    "#         new_df['Trade_return'][i] = 0"
   ]
  }
 ],
 "metadata": {
  "kernelspec": {
   "display_name": "Python 3",
   "language": "python",
   "name": "python3"
  },
  "language_info": {
   "codemirror_mode": {
    "name": "ipython",
    "version": 3
   },
   "file_extension": ".py",
   "mimetype": "text/x-python",
   "name": "python",
   "nbconvert_exporter": "python",
   "pygments_lexer": "ipython3",
   "version": "3.7.4"
  }
 },
 "nbformat": 4,
 "nbformat_minor": 2
}
