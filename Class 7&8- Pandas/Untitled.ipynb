{
 "cells": [
  {
   "cell_type": "code",
   "execution_count": 1,
   "id": "8c5156ef-7de8-4725-861b-c48e25482d9f",
   "metadata": {},
   "outputs": [],
   "source": [
    "import pandas as pd\n",
    "import numpy as np\n",
    "df = pd.DataFrame({'A' : ['1', 'one', 'uno', 'une'],\n",
    "                   'B' : ['2', 'two', 'duo', 'deux'],\n",
    "                   'C' : ['3', 'three', 'tres', 'trois'],\n",
    "                   'D' : ['4', 'four', 'quatro', 'quatre']})\n",
    "header = ['Numeral','English','Spanish','French']\n",
    "\n",
    "def is_group1(word):\n",
    "    if len(word) <= 4 :\n",
    "        return True\n",
    "    return False\n",
    "\n",
    "def is_group1_group(df,ind,col):\n",
    "    try:\n",
    "        if is_group1(df[col].loc[ind]):\n",
    "            return 'Group 1'\n",
    "    except:\n",
    "        pass\n",
    "    return 'Group 2'\n",
    "\n",
    "grouped = df.groupby(lambda x: is_group1_group(df,x,'C'))"
   ]
  },
  {
   "cell_type": "code",
   "execution_count": 2,
   "id": "addde657-6382-4de4-bf56-c12a2462603c",
   "metadata": {},
   "outputs": [
    {
     "data": {
      "text/plain": [
       "<pandas.core.groupby.generic.DataFrameGroupBy object at 0x10cc2dfa0>"
      ]
     },
     "execution_count": 2,
     "metadata": {},
     "output_type": "execute_result"
    }
   ],
   "source": [
    "grouped"
   ]
  },
  {
   "cell_type": "code",
   "execution_count": 3,
   "id": "1db5c969-ad34-4c9d-b97d-b7f91605c6a0",
   "metadata": {},
   "outputs": [
    {
     "data": {
      "text/plain": [
       "2"
      ]
     },
     "execution_count": 3,
     "metadata": {},
     "output_type": "execute_result"
    }
   ],
   "source": [
    "grouped.count()['A'].iloc[0] "
   ]
  },
  {
   "cell_type": "code",
   "execution_count": 4,
   "id": "99bdb927-708d-46f5-b557-b0ed606a344c",
   "metadata": {},
   "outputs": [
    {
     "data": {
      "text/html": [
       "<div>\n",
       "<style scoped>\n",
       "    .dataframe tbody tr th:only-of-type {\n",
       "        vertical-align: middle;\n",
       "    }\n",
       "\n",
       "    .dataframe tbody tr th {\n",
       "        vertical-align: top;\n",
       "    }\n",
       "\n",
       "    .dataframe thead th {\n",
       "        text-align: right;\n",
       "    }\n",
       "</style>\n",
       "<table border=\"1\" class=\"dataframe\">\n",
       "  <thead>\n",
       "    <tr style=\"text-align: right;\">\n",
       "      <th></th>\n",
       "      <th>A</th>\n",
       "      <th>B</th>\n",
       "      <th>C</th>\n",
       "      <th>D</th>\n",
       "    </tr>\n",
       "  </thead>\n",
       "  <tbody>\n",
       "    <tr>\n",
       "      <th>Group 1</th>\n",
       "      <td>2</td>\n",
       "      <td>2</td>\n",
       "      <td>2</td>\n",
       "      <td>2</td>\n",
       "    </tr>\n",
       "    <tr>\n",
       "      <th>Group 2</th>\n",
       "      <td>2</td>\n",
       "      <td>2</td>\n",
       "      <td>2</td>\n",
       "      <td>2</td>\n",
       "    </tr>\n",
       "  </tbody>\n",
       "</table>\n",
       "</div>"
      ],
      "text/plain": [
       "         A  B  C  D\n",
       "Group 1  2  2  2  2\n",
       "Group 2  2  2  2  2"
      ]
     },
     "execution_count": 4,
     "metadata": {},
     "output_type": "execute_result"
    }
   ],
   "source": [
    "grouped.count()"
   ]
  },
  {
   "cell_type": "code",
   "execution_count": 5,
   "id": "cc8879c8-f581-41fc-810f-a7f556d546fc",
   "metadata": {},
   "outputs": [
    {
     "data": {
      "text/plain": [
       "Group 1    2\n",
       "Group 2    2\n",
       "Name: A, dtype: int64"
      ]
     },
     "execution_count": 5,
     "metadata": {},
     "output_type": "execute_result"
    }
   ],
   "source": [
    "grouped.count()['A']"
   ]
  },
  {
   "cell_type": "code",
   "execution_count": 6,
   "id": "9602ab55-8418-49eb-8dd8-8392b2169eef",
   "metadata": {},
   "outputs": [
    {
     "data": {
      "text/plain": [
       "4"
      ]
     },
     "execution_count": 6,
     "metadata": {},
     "output_type": "execute_result"
    }
   ],
   "source": [
    "len('four')"
   ]
  },
  {
   "cell_type": "code",
   "execution_count": null,
   "id": "8450484f-53e3-4026-a4dc-03fc5f2f52df",
   "metadata": {},
   "outputs": [],
   "source": []
  }
 ],
 "metadata": {
  "kernelspec": {
   "display_name": "Python 3",
   "language": "python",
   "name": "python3"
  },
  "language_info": {
   "codemirror_mode": {
    "name": "ipython",
    "version": 3
   },
   "file_extension": ".py",
   "mimetype": "text/x-python",
   "name": "python",
   "nbconvert_exporter": "python",
   "pygments_lexer": "ipython3",
   "version": "3.8.2"
  }
 },
 "nbformat": 4,
 "nbformat_minor": 5
}
