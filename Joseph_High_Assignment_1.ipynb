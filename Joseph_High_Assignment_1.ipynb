{
 "cells": [
  {
   "cell_type": "markdown",
   "metadata": {},
   "source": [
    "$\\hspace{17cm} \\textrm{Joseph High (jph2185)}$"
   ]
  },
  {
   "cell_type": "markdown",
   "metadata": {},
   "source": [
    "<h1>Problem 1: Part 1</h1>"
   ]
  },
  {
   "cell_type": "code",
   "execution_count": 1,
   "metadata": {},
   "outputs": [],
   "source": [
    "def preceding(char):\n",
    "    coded_char = '' #Your code will figure out what the value of coded_char should be\n",
    "    \n",
    "    if char == 'a' or char == 'A':\n",
    "        update_ord = ord(char) + 25\n",
    "        coded_char = chr(update_ord)\n",
    "    elif (ord('b') <= ord(char) <= ord('z')) or (ord('B') <= ord(char) <= ord('Z')):\n",
    "        update_ord = ord(char) - 1\n",
    "        coded_char = chr(update_ord)\n",
    "    else:\n",
    "        coded_char = chr(ord(char))\n",
    "\n",
    "    return coded_char"
   ]
  },
  {
   "cell_type": "code",
   "execution_count": 2,
   "metadata": {
    "scrolled": true
   },
   "outputs": [
    {
     "name": "stdout",
     "output_type": "stream",
     "text": [
      "z\n",
      "a\n",
      "!\n"
     ]
    }
   ],
   "source": [
    "print(preceding('a')) #Should print z\n",
    "print(preceding('b')) #Should print a\n",
    "print(preceding('!')) #Should print !"
   ]
  },
  {
   "cell_type": "markdown",
   "metadata": {},
   "source": [
    "<h1>Problem 1: Part 2</h1>\n"
   ]
  },
  {
   "cell_type": "code",
   "execution_count": 3,
   "metadata": {},
   "outputs": [],
   "source": [
    "def succeeding(char):\n",
    "    coded_char = '' #Your code will figure out what the value of coded_char should be\n",
    "    \n",
    "    if char == 'z' or char == 'Z':\n",
    "        update_ord = ord(char) - 25\n",
    "        coded_char = chr(update_ord)\n",
    "    elif (ord('a') <= ord(char) <= ord('y')) or (ord('A') <= ord(char) <= ord('Y')):\n",
    "        update_ord = ord(char) + 1\n",
    "        coded_char = chr(update_ord)\n",
    "    else:\n",
    "        coded_char = chr(ord(char))\n",
    "    \n",
    "    return coded_char    "
   ]
  },
  {
   "cell_type": "code",
   "execution_count": 4,
   "metadata": {},
   "outputs": [
    {
     "name": "stdout",
     "output_type": "stream",
     "text": [
      "a\n",
      "c\n",
      "!\n"
     ]
    }
   ],
   "source": [
    "print(succeeding('z')) #Should print a\n",
    "print(succeeding('b')) #Should print c\n",
    "print(succeeding('!')) #Should print !"
   ]
  },
  {
   "cell_type": "markdown",
   "metadata": {},
   "source": [
    "<h1>Problem 1: Part 3</h1>"
   ]
  },
  {
   "cell_type": "code",
   "execution_count": 5,
   "metadata": {},
   "outputs": [],
   "source": [
    "def message_coder(message_string,function):\n",
    "    coded_message = ''\n",
    "    if function == preceding:\n",
    "        for char in message_string:\n",
    "            new_char = preceding(char)\n",
    "            coded_message += new_char\n",
    "        \n",
    "    elif function == succeeding:\n",
    "        for char in message_string:\n",
    "            new_char = succeeding(char)\n",
    "            coded_message += new_char\n",
    "    \n",
    "    return coded_message"
   ]
  },
  {
   "cell_type": "markdown",
   "metadata": {},
   "source": [
    "<h3>Test <b>preceding</b> and <b>succeeding</b> and <b>message_coder</h3>"
   ]
  },
  {
   "cell_type": "code",
   "execution_count": 6,
   "metadata": {},
   "outputs": [
    {
     "name": "stdout",
     "output_type": "stream",
     "text": [
      "gdkkn cnkkx ydaqz!\n",
      "ifmmp epmmz afcsb!\n"
     ]
    }
   ],
   "source": [
    "print(message_coder('hello dolly zebra!',preceding))# prints 'gdkkn cnkkx ydaqz!’\n",
    "\n",
    "print(message_coder('hello dolly zebra!',succeeding))# prints 'ifmmp epmmz afcsb!’\n"
   ]
  },
  {
   "cell_type": "markdown",
   "metadata": {},
   "source": [
    "<h1>Problem 2: Word Count</h2>"
   ]
  },
  {
   "cell_type": "code",
   "execution_count": 7,
   "metadata": {},
   "outputs": [],
   "source": [
    "def word_distribution(text_string,word_list=[]):\n",
    "    frequency_dict = dict()\n",
    "    \n",
    "    text_lc = text_string.lower() #lower case version of string\n",
    "    text_list = text_lc.split() \n",
    "        \n",
    "    #Eliminating punctuation at the end of each word\n",
    "    text_list_2 = []  #create new (empty) list\n",
    "    for word in text_list:\n",
    "        if ord(word[-1]) not in range(ord('A'), ord('Z')+1) and ord(word[-1]) not in range(ord('a'), ord('z')+1):\n",
    "            word = word[:-1]\n",
    "            text_list_2.append(word)\n",
    "        else:\n",
    "            word = word\n",
    "            text_list_2.append(word)\n",
    "        \n",
    "    #Adding each word and frequency to dictionary\n",
    "    for word in text_list_2:\n",
    "        if word not in frequency_dict:\n",
    "            frequency_dict[word] = 1\n",
    "        else:\n",
    "            frequency_dict[word] = frequency_dict[word] + 1\n",
    "            \n",
    "    new_dict = dict()\n",
    "    if word_list == []:\n",
    "        new_dict = frequency_dict\n",
    "        \n",
    "    else:\n",
    "        lc_list = []\n",
    "        for word in word_list:\n",
    "            lc_word = word.lower()\n",
    "            lc_list.append(lc_word)\n",
    "            \n",
    "        #Eliminating punctuation at the end of each word\n",
    "        new_list = []\n",
    "        for word in lc_list:\n",
    "            if ord(word[-1]) not in range(ord('A'), ord('Z')+1) and ord(word[-1]) not in range(ord('a'), ord('z')+1):\n",
    "                word = word[:-1]\n",
    "                new_list.append(word)\n",
    "            else:\n",
    "                word = word\n",
    "                new_list.append(word)\n",
    "        \n",
    "        for word in new_list:\n",
    "            if word not in frequency_dict:\n",
    "                new_dict[word] = 0\n",
    "            else:\n",
    "                new_dict[word] = frequency_dict[word]\n",
    "                \n",
    "    return new_dict"
   ]
  },
  {
   "cell_type": "markdown",
   "metadata": {},
   "source": [
    "<h3>Test <b>word_distribution</b></h3>\n"
   ]
  },
  {
   "cell_type": "code",
   "execution_count": 8,
   "metadata": {},
   "outputs": [
    {
     "name": "stdout",
     "output_type": "stream",
     "text": [
      "{'hello': 2, 'how': 1, 'are': 1, 'you': 2, 'please': 1, 'say': 1, 'if': 1, 'don’t': 1, 'love': 1, 'me': 1}\n"
     ]
    }
   ],
   "source": [
    "text_string = \"Hello. How are you? Please say hello if you don’t love me!\"\n",
    "print(word_distribution(text_string)) #should print {‘hello’: 2, ‘how’:1, ‘are’:1, ‘you’:2,’please’:1, “don’t”: 1 …}\n"
   ]
  },
  {
   "cell_type": "code",
   "execution_count": 9,
   "metadata": {},
   "outputs": [
    {
     "name": "stdout",
     "output_type": "stream",
     "text": [
      "{'i': 3, 'saw': 1, 'britain': 0}\n"
     ]
    }
   ],
   "source": [
    "text_string = 'I came, I saw, I conquered!'\n",
    "print(word_distribution(text_string,word_list=['I','saw','Britain'])) # prints {‘i’:3,’saw’:1,’britain':0}\n"
   ]
  },
  {
   "cell_type": "code",
   "execution_count": null,
   "metadata": {},
   "outputs": [],
   "source": []
  }
 ],
 "metadata": {
  "kernelspec": {
   "display_name": "Python 3",
   "language": "python",
   "name": "python3"
  },
  "language_info": {
   "codemirror_mode": {
    "name": "ipython",
    "version": 3
   },
   "file_extension": ".py",
   "mimetype": "text/x-python",
   "name": "python",
   "nbconvert_exporter": "python",
   "pygments_lexer": "ipython3",
   "version": "3.8.2"
  }
 },
 "nbformat": 4,
 "nbformat_minor": 2
}
